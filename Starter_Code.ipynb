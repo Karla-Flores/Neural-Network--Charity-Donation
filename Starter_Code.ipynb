{
  "nbformat": 4,
  "nbformat_minor": 0,
  "metadata": {
    "kernelspec": {
      "display_name": "Python 3",
      "language": "python",
      "name": "python3"
    },
    "language_info": {
      "codemirror_mode": {
        "name": "ipython",
        "version": 3
      },
      "file_extension": ".py",
      "mimetype": "text/x-python",
      "name": "python",
      "nbconvert_exporter": "python",
      "pygments_lexer": "ipython3",
      "version": "3.7.6"
    },
    "colab": {
      "name": "Starter_Code.ipynb",
      "provenance": [],
      "include_colab_link": true
    }
  },
  "cells": [
    {
      "cell_type": "markdown",
      "metadata": {
        "id": "view-in-github",
        "colab_type": "text"
      },
      "source": [
        "<a href=\"https://colab.research.google.com/github/Karla-Flores/Neural-Network--Charity-Donation/blob/main/Starter_Code.ipynb\" target=\"_parent\"><img src=\"https://colab.research.google.com/assets/colab-badge.svg\" alt=\"Open In Colab\"/></a>"
      ]
    },
    {
      "cell_type": "markdown",
      "metadata": {
        "id": "Lwo5h_UH1jIy"
      },
      "source": [
        "## Preprocessing"
      ]
    },
    {
      "cell_type": "code",
      "metadata": {
        "colab": {
          "resources": {
            "http://localhost:8080/nbextensions/google.colab/files.js": {
              "data": "Ly8gQ29weXJpZ2h0IDIwMTcgR29vZ2xlIExMQwovLwovLyBMaWNlbnNlZCB1bmRlciB0aGUgQXBhY2hlIExpY2Vuc2UsIFZlcnNpb24gMi4wICh0aGUgIkxpY2Vuc2UiKTsKLy8geW91IG1heSBub3QgdXNlIHRoaXMgZmlsZSBleGNlcHQgaW4gY29tcGxpYW5jZSB3aXRoIHRoZSBMaWNlbnNlLgovLyBZb3UgbWF5IG9idGFpbiBhIGNvcHkgb2YgdGhlIExpY2Vuc2UgYXQKLy8KLy8gICAgICBodHRwOi8vd3d3LmFwYWNoZS5vcmcvbGljZW5zZXMvTElDRU5TRS0yLjAKLy8KLy8gVW5sZXNzIHJlcXVpcmVkIGJ5IGFwcGxpY2FibGUgbGF3IG9yIGFncmVlZCB0byBpbiB3cml0aW5nLCBzb2Z0d2FyZQovLyBkaXN0cmlidXRlZCB1bmRlciB0aGUgTGljZW5zZSBpcyBkaXN0cmlidXRlZCBvbiBhbiAiQVMgSVMiIEJBU0lTLAovLyBXSVRIT1VUIFdBUlJBTlRJRVMgT1IgQ09ORElUSU9OUyBPRiBBTlkgS0lORCwgZWl0aGVyIGV4cHJlc3Mgb3IgaW1wbGllZC4KLy8gU2VlIHRoZSBMaWNlbnNlIGZvciB0aGUgc3BlY2lmaWMgbGFuZ3VhZ2UgZ292ZXJuaW5nIHBlcm1pc3Npb25zIGFuZAovLyBsaW1pdGF0aW9ucyB1bmRlciB0aGUgTGljZW5zZS4KCi8qKgogKiBAZmlsZW92ZXJ2aWV3IEhlbHBlcnMgZm9yIGdvb2dsZS5jb2xhYiBQeXRob24gbW9kdWxlLgogKi8KKGZ1bmN0aW9uKHNjb3BlKSB7CmZ1bmN0aW9uIHNwYW4odGV4dCwgc3R5bGVBdHRyaWJ1dGVzID0ge30pIHsKICBjb25zdCBlbGVtZW50ID0gZG9jdW1lbnQuY3JlYXRlRWxlbWVudCgnc3BhbicpOwogIGVsZW1lbnQudGV4dENvbnRlbnQgPSB0ZXh0OwogIGZvciAoY29uc3Qga2V5IG9mIE9iamVjdC5rZXlzKHN0eWxlQXR0cmlidXRlcykpIHsKICAgIGVsZW1lbnQuc3R5bGVba2V5XSA9IHN0eWxlQXR0cmlidXRlc1trZXldOwogIH0KICByZXR1cm4gZWxlbWVudDsKfQoKLy8gTWF4IG51bWJlciBvZiBieXRlcyB3aGljaCB3aWxsIGJlIHVwbG9hZGVkIGF0IGEgdGltZS4KY29uc3QgTUFYX1BBWUxPQURfU0laRSA9IDEwMCAqIDEwMjQ7CgpmdW5jdGlvbiBfdXBsb2FkRmlsZXMoaW5wdXRJZCwgb3V0cHV0SWQpIHsKICBjb25zdCBzdGVwcyA9IHVwbG9hZEZpbGVzU3RlcChpbnB1dElkLCBvdXRwdXRJZCk7CiAgY29uc3Qgb3V0cHV0RWxlbWVudCA9IGRvY3VtZW50LmdldEVsZW1lbnRCeUlkKG91dHB1dElkKTsKICAvLyBDYWNoZSBzdGVwcyBvbiB0aGUgb3V0cHV0RWxlbWVudCB0byBtYWtlIGl0IGF2YWlsYWJsZSBmb3IgdGhlIG5leHQgY2FsbAogIC8vIHRvIHVwbG9hZEZpbGVzQ29udGludWUgZnJvbSBQeXRob24uCiAgb3V0cHV0RWxlbWVudC5zdGVwcyA9IHN0ZXBzOwoKICByZXR1cm4gX3VwbG9hZEZpbGVzQ29udGludWUob3V0cHV0SWQpOwp9CgovLyBUaGlzIGlzIHJvdWdobHkgYW4gYXN5bmMgZ2VuZXJhdG9yIChub3Qgc3VwcG9ydGVkIGluIHRoZSBicm93c2VyIHlldCksCi8vIHdoZXJlIHRoZXJlIGFyZSBtdWx0aXBsZSBhc3luY2hyb25vdXMgc3RlcHMgYW5kIHRoZSBQeXRob24gc2lkZSBpcyBnb2luZwovLyB0byBwb2xsIGZvciBjb21wbGV0aW9uIG9mIGVhY2ggc3RlcC4KLy8gVGhpcyB1c2VzIGEgUHJvbWlzZSB0byBibG9jayB0aGUgcHl0aG9uIHNpZGUgb24gY29tcGxldGlvbiBvZiBlYWNoIHN0ZXAsCi8vIHRoZW4gcGFzc2VzIHRoZSByZXN1bHQgb2YgdGhlIHByZXZpb3VzIHN0ZXAgYXMgdGhlIGlucHV0IHRvIHRoZSBuZXh0IHN0ZXAuCmZ1bmN0aW9uIF91cGxvYWRGaWxlc0NvbnRpbnVlKG91dHB1dElkKSB7CiAgY29uc3Qgb3V0cHV0RWxlbWVudCA9IGRvY3VtZW50LmdldEVsZW1lbnRCeUlkKG91dHB1dElkKTsKICBjb25zdCBzdGVwcyA9IG91dHB1dEVsZW1lbnQuc3RlcHM7CgogIGNvbnN0IG5leHQgPSBzdGVwcy5uZXh0KG91dHB1dEVsZW1lbnQubGFzdFByb21pc2VWYWx1ZSk7CiAgcmV0dXJuIFByb21pc2UucmVzb2x2ZShuZXh0LnZhbHVlLnByb21pc2UpLnRoZW4oKHZhbHVlKSA9PiB7CiAgICAvLyBDYWNoZSB0aGUgbGFzdCBwcm9taXNlIHZhbHVlIHRvIG1ha2UgaXQgYXZhaWxhYmxlIHRvIHRoZSBuZXh0CiAgICAvLyBzdGVwIG9mIHRoZSBnZW5lcmF0b3IuCiAgICBvdXRwdXRFbGVtZW50Lmxhc3RQcm9taXNlVmFsdWUgPSB2YWx1ZTsKICAgIHJldHVybiBuZXh0LnZhbHVlLnJlc3BvbnNlOwogIH0pOwp9CgovKioKICogR2VuZXJhdG9yIGZ1bmN0aW9uIHdoaWNoIGlzIGNhbGxlZCBiZXR3ZWVuIGVhY2ggYXN5bmMgc3RlcCBvZiB0aGUgdXBsb2FkCiAqIHByb2Nlc3MuCiAqIEBwYXJhbSB7c3RyaW5nfSBpbnB1dElkIEVsZW1lbnQgSUQgb2YgdGhlIGlucHV0IGZpbGUgcGlja2VyIGVsZW1lbnQuCiAqIEBwYXJhbSB7c3RyaW5nfSBvdXRwdXRJZCBFbGVtZW50IElEIG9mIHRoZSBvdXRwdXQgZGlzcGxheS4KICogQHJldHVybiB7IUl0ZXJhYmxlPCFPYmplY3Q+fSBJdGVyYWJsZSBvZiBuZXh0IHN0ZXBzLgogKi8KZnVuY3Rpb24qIHVwbG9hZEZpbGVzU3RlcChpbnB1dElkLCBvdXRwdXRJZCkgewogIGNvbnN0IGlucHV0RWxlbWVudCA9IGRvY3VtZW50LmdldEVsZW1lbnRCeUlkKGlucHV0SWQpOwogIGlucHV0RWxlbWVudC5kaXNhYmxlZCA9IGZhbHNlOwoKICBjb25zdCBvdXRwdXRFbGVtZW50ID0gZG9jdW1lbnQuZ2V0RWxlbWVudEJ5SWQob3V0cHV0SWQpOwogIG91dHB1dEVsZW1lbnQuaW5uZXJIVE1MID0gJyc7CgogIGNvbnN0IHBpY2tlZFByb21pc2UgPSBuZXcgUHJvbWlzZSgocmVzb2x2ZSkgPT4gewogICAgaW5wdXRFbGVtZW50LmFkZEV2ZW50TGlzdGVuZXIoJ2NoYW5nZScsIChlKSA9PiB7CiAgICAgIHJlc29sdmUoZS50YXJnZXQuZmlsZXMpOwogICAgfSk7CiAgfSk7CgogIGNvbnN0IGNhbmNlbCA9IGRvY3VtZW50LmNyZWF0ZUVsZW1lbnQoJ2J1dHRvbicpOwogIGlucHV0RWxlbWVudC5wYXJlbnRFbGVtZW50LmFwcGVuZENoaWxkKGNhbmNlbCk7CiAgY2FuY2VsLnRleHRDb250ZW50ID0gJ0NhbmNlbCB1cGxvYWQnOwogIGNvbnN0IGNhbmNlbFByb21pc2UgPSBuZXcgUHJvbWlzZSgocmVzb2x2ZSkgPT4gewogICAgY2FuY2VsLm9uY2xpY2sgPSAoKSA9PiB7CiAgICAgIHJlc29sdmUobnVsbCk7CiAgICB9OwogIH0pOwoKICAvLyBXYWl0IGZvciB0aGUgdXNlciB0byBwaWNrIHRoZSBmaWxlcy4KICBjb25zdCBmaWxlcyA9IHlpZWxkIHsKICAgIHByb21pc2U6IFByb21pc2UucmFjZShbcGlja2VkUHJvbWlzZSwgY2FuY2VsUHJvbWlzZV0pLAogICAgcmVzcG9uc2U6IHsKICAgICAgYWN0aW9uOiAnc3RhcnRpbmcnLAogICAgfQogIH07CgogIGNhbmNlbC5yZW1vdmUoKTsKCiAgLy8gRGlzYWJsZSB0aGUgaW5wdXQgZWxlbWVudCBzaW5jZSBmdXJ0aGVyIHBpY2tzIGFyZSBub3QgYWxsb3dlZC4KICBpbnB1dEVsZW1lbnQuZGlzYWJsZWQgPSB0cnVlOwoKICBpZiAoIWZpbGVzKSB7CiAgICByZXR1cm4gewogICAgICByZXNwb25zZTogewogICAgICAgIGFjdGlvbjogJ2NvbXBsZXRlJywKICAgICAgfQogICAgfTsKICB9CgogIGZvciAoY29uc3QgZmlsZSBvZiBmaWxlcykgewogICAgY29uc3QgbGkgPSBkb2N1bWVudC5jcmVhdGVFbGVtZW50KCdsaScpOwogICAgbGkuYXBwZW5kKHNwYW4oZmlsZS5uYW1lLCB7Zm9udFdlaWdodDogJ2JvbGQnfSkpOwogICAgbGkuYXBwZW5kKHNwYW4oCiAgICAgICAgYCgke2ZpbGUudHlwZSB8fCAnbi9hJ30pIC0gJHtmaWxlLnNpemV9IGJ5dGVzLCBgICsKICAgICAgICBgbGFzdCBtb2RpZmllZDogJHsKICAgICAgICAgICAgZmlsZS5sYXN0TW9kaWZpZWREYXRlID8gZmlsZS5sYXN0TW9kaWZpZWREYXRlLnRvTG9jYWxlRGF0ZVN0cmluZygpIDoKICAgICAgICAgICAgICAgICAgICAgICAgICAgICAgICAgICAgJ24vYSd9IC0gYCkpOwogICAgY29uc3QgcGVyY2VudCA9IHNwYW4oJzAlIGRvbmUnKTsKICAgIGxpLmFwcGVuZENoaWxkKHBlcmNlbnQpOwoKICAgIG91dHB1dEVsZW1lbnQuYXBwZW5kQ2hpbGQobGkpOwoKICAgIGNvbnN0IGZpbGVEYXRhUHJvbWlzZSA9IG5ldyBQcm9taXNlKChyZXNvbHZlKSA9PiB7CiAgICAgIGNvbnN0IHJlYWRlciA9IG5ldyBGaWxlUmVhZGVyKCk7CiAgICAgIHJlYWRlci5vbmxvYWQgPSAoZSkgPT4gewogICAgICAgIHJlc29sdmUoZS50YXJnZXQucmVzdWx0KTsKICAgICAgfTsKICAgICAgcmVhZGVyLnJlYWRBc0FycmF5QnVmZmVyKGZpbGUpOwogICAgfSk7CiAgICAvLyBXYWl0IGZvciB0aGUgZGF0YSB0byBiZSByZWFkeS4KICAgIGxldCBmaWxlRGF0YSA9IHlpZWxkIHsKICAgICAgcHJvbWlzZTogZmlsZURhdGFQcm9taXNlLAogICAgICByZXNwb25zZTogewogICAgICAgIGFjdGlvbjogJ2NvbnRpbnVlJywKICAgICAgfQogICAgfTsKCiAgICAvLyBVc2UgYSBjaHVua2VkIHNlbmRpbmcgdG8gYXZvaWQgbWVzc2FnZSBzaXplIGxpbWl0cy4gU2VlIGIvNjIxMTU2NjAuCiAgICBsZXQgcG9zaXRpb24gPSAwOwogICAgZG8gewogICAgICBjb25zdCBsZW5ndGggPSBNYXRoLm1pbihmaWxlRGF0YS5ieXRlTGVuZ3RoIC0gcG9zaXRpb24sIE1BWF9QQVlMT0FEX1NJWkUpOwogICAgICBjb25zdCBjaHVuayA9IG5ldyBVaW50OEFycmF5KGZpbGVEYXRhLCBwb3NpdGlvbiwgbGVuZ3RoKTsKICAgICAgcG9zaXRpb24gKz0gbGVuZ3RoOwoKICAgICAgY29uc3QgYmFzZTY0ID0gYnRvYShTdHJpbmcuZnJvbUNoYXJDb2RlLmFwcGx5KG51bGwsIGNodW5rKSk7CiAgICAgIHlpZWxkIHsKICAgICAgICByZXNwb25zZTogewogICAgICAgICAgYWN0aW9uOiAnYXBwZW5kJywKICAgICAgICAgIGZpbGU6IGZpbGUubmFtZSwKICAgICAgICAgIGRhdGE6IGJhc2U2NCwKICAgICAgICB9LAogICAgICB9OwoKICAgICAgbGV0IHBlcmNlbnREb25lID0gZmlsZURhdGEuYnl0ZUxlbmd0aCA9PT0gMCA/CiAgICAgICAgICAxMDAgOgogICAgICAgICAgTWF0aC5yb3VuZCgocG9zaXRpb24gLyBmaWxlRGF0YS5ieXRlTGVuZ3RoKSAqIDEwMCk7CiAgICAgIHBlcmNlbnQudGV4dENvbnRlbnQgPSBgJHtwZXJjZW50RG9uZX0lIGRvbmVgOwoKICAgIH0gd2hpbGUgKHBvc2l0aW9uIDwgZmlsZURhdGEuYnl0ZUxlbmd0aCk7CiAgfQoKICAvLyBBbGwgZG9uZS4KICB5aWVsZCB7CiAgICByZXNwb25zZTogewogICAgICBhY3Rpb246ICdjb21wbGV0ZScsCiAgICB9CiAgfTsKfQoKc2NvcGUuZ29vZ2xlID0gc2NvcGUuZ29vZ2xlIHx8IHt9OwpzY29wZS5nb29nbGUuY29sYWIgPSBzY29wZS5nb29nbGUuY29sYWIgfHwge307CnNjb3BlLmdvb2dsZS5jb2xhYi5fZmlsZXMgPSB7CiAgX3VwbG9hZEZpbGVzLAogIF91cGxvYWRGaWxlc0NvbnRpbnVlLAp9Owp9KShzZWxmKTsK",
              "ok": true,
              "headers": [
                [
                  "content-type",
                  "application/javascript"
                ]
              ],
              "status": 200,
              "status_text": ""
            }
          },
          "base_uri": "https://localhost:8080/",
          "height": 72
        },
        "id": "MKEyB0hE4f7q",
        "outputId": "50e1262d-20c0-4536-b5c7-eb2e0a029bb6"
      },
      "source": [
        "from google.colab import files\n",
        "uploaded = files.upload()"
      ],
      "execution_count": 3,
      "outputs": [
        {
          "output_type": "display_data",
          "data": {
            "text/html": [
              "\n",
              "     <input type=\"file\" id=\"files-a04d3671-bc63-43c4-b1c2-49ec564964c5\" name=\"files[]\" multiple disabled\n",
              "        style=\"border:none\" />\n",
              "     <output id=\"result-a04d3671-bc63-43c4-b1c2-49ec564964c5\">\n",
              "      Upload widget is only available when the cell has been executed in the\n",
              "      current browser session. Please rerun this cell to enable.\n",
              "      </output>\n",
              "      <script src=\"/nbextensions/google.colab/files.js\"></script> "
            ],
            "text/plain": [
              "<IPython.core.display.HTML object>"
            ]
          },
          "metadata": {}
        },
        {
          "output_type": "stream",
          "name": "stdout",
          "text": [
            "Saving charity_data.csv to charity_data.csv\n"
          ]
        }
      ]
    },
    {
      "cell_type": "code",
      "metadata": {
        "colab": {
          "base_uri": "https://localhost:8080/",
          "height": 204
        },
        "id": "21kRfveu5cM1",
        "outputId": "2cd18f07-780e-482a-f061-d40b78fef404"
      },
      "source": [
        "# Import our dependencies\n",
        "from sklearn.model_selection import train_test_split\n",
        "from sklearn.preprocessing import StandardScaler\n",
        "import pandas as pd\n",
        "import tensorflow as tf\n",
        "import matplotlib.pyplot as plt\n",
        "\n",
        "#  Import and read the charity_data.csv.\n",
        "import pandas as pd \n",
        "# application_df = pd.read_csv(\"../Resources/charity_data.csv\")\n",
        "application_df = pd.read_csv('charity_data.csv')\n",
        "application_df.head()"
      ],
      "execution_count": 174,
      "outputs": [
        {
          "output_type": "execute_result",
          "data": {
            "text/html": [
              "<div>\n",
              "<style scoped>\n",
              "    .dataframe tbody tr th:only-of-type {\n",
              "        vertical-align: middle;\n",
              "    }\n",
              "\n",
              "    .dataframe tbody tr th {\n",
              "        vertical-align: top;\n",
              "    }\n",
              "\n",
              "    .dataframe thead th {\n",
              "        text-align: right;\n",
              "    }\n",
              "</style>\n",
              "<table border=\"1\" class=\"dataframe\">\n",
              "  <thead>\n",
              "    <tr style=\"text-align: right;\">\n",
              "      <th></th>\n",
              "      <th>EIN</th>\n",
              "      <th>NAME</th>\n",
              "      <th>APPLICATION_TYPE</th>\n",
              "      <th>AFFILIATION</th>\n",
              "      <th>CLASSIFICATION</th>\n",
              "      <th>USE_CASE</th>\n",
              "      <th>ORGANIZATION</th>\n",
              "      <th>STATUS</th>\n",
              "      <th>INCOME_AMT</th>\n",
              "      <th>SPECIAL_CONSIDERATIONS</th>\n",
              "      <th>ASK_AMT</th>\n",
              "      <th>IS_SUCCESSFUL</th>\n",
              "    </tr>\n",
              "  </thead>\n",
              "  <tbody>\n",
              "    <tr>\n",
              "      <th>0</th>\n",
              "      <td>10520599</td>\n",
              "      <td>BLUE KNIGHTS MOTORCYCLE CLUB</td>\n",
              "      <td>T10</td>\n",
              "      <td>Independent</td>\n",
              "      <td>C1000</td>\n",
              "      <td>ProductDev</td>\n",
              "      <td>Association</td>\n",
              "      <td>1</td>\n",
              "      <td>0</td>\n",
              "      <td>N</td>\n",
              "      <td>5000</td>\n",
              "      <td>1</td>\n",
              "    </tr>\n",
              "    <tr>\n",
              "      <th>1</th>\n",
              "      <td>10531628</td>\n",
              "      <td>AMERICAN CHESAPEAKE CLUB CHARITABLE TR</td>\n",
              "      <td>T3</td>\n",
              "      <td>Independent</td>\n",
              "      <td>C2000</td>\n",
              "      <td>Preservation</td>\n",
              "      <td>Co-operative</td>\n",
              "      <td>1</td>\n",
              "      <td>1-9999</td>\n",
              "      <td>N</td>\n",
              "      <td>108590</td>\n",
              "      <td>1</td>\n",
              "    </tr>\n",
              "    <tr>\n",
              "      <th>2</th>\n",
              "      <td>10547893</td>\n",
              "      <td>ST CLOUD PROFESSIONAL FIREFIGHTERS</td>\n",
              "      <td>T5</td>\n",
              "      <td>CompanySponsored</td>\n",
              "      <td>C3000</td>\n",
              "      <td>ProductDev</td>\n",
              "      <td>Association</td>\n",
              "      <td>1</td>\n",
              "      <td>0</td>\n",
              "      <td>N</td>\n",
              "      <td>5000</td>\n",
              "      <td>0</td>\n",
              "    </tr>\n",
              "    <tr>\n",
              "      <th>3</th>\n",
              "      <td>10553066</td>\n",
              "      <td>SOUTHSIDE ATHLETIC ASSOCIATION</td>\n",
              "      <td>T3</td>\n",
              "      <td>CompanySponsored</td>\n",
              "      <td>C2000</td>\n",
              "      <td>Preservation</td>\n",
              "      <td>Trust</td>\n",
              "      <td>1</td>\n",
              "      <td>10000-24999</td>\n",
              "      <td>N</td>\n",
              "      <td>6692</td>\n",
              "      <td>1</td>\n",
              "    </tr>\n",
              "    <tr>\n",
              "      <th>4</th>\n",
              "      <td>10556103</td>\n",
              "      <td>GENETIC RESEARCH INSTITUTE OF THE DESERT</td>\n",
              "      <td>T3</td>\n",
              "      <td>Independent</td>\n",
              "      <td>C1000</td>\n",
              "      <td>Heathcare</td>\n",
              "      <td>Trust</td>\n",
              "      <td>1</td>\n",
              "      <td>100000-499999</td>\n",
              "      <td>N</td>\n",
              "      <td>142590</td>\n",
              "      <td>1</td>\n",
              "    </tr>\n",
              "  </tbody>\n",
              "</table>\n",
              "</div>"
            ],
            "text/plain": [
              "        EIN                                      NAME  ... ASK_AMT IS_SUCCESSFUL\n",
              "0  10520599              BLUE KNIGHTS MOTORCYCLE CLUB  ...    5000             1\n",
              "1  10531628    AMERICAN CHESAPEAKE CLUB CHARITABLE TR  ...  108590             1\n",
              "2  10547893        ST CLOUD PROFESSIONAL FIREFIGHTERS  ...    5000             0\n",
              "3  10553066            SOUTHSIDE ATHLETIC ASSOCIATION  ...    6692             1\n",
              "4  10556103  GENETIC RESEARCH INSTITUTE OF THE DESERT  ...  142590             1\n",
              "\n",
              "[5 rows x 12 columns]"
            ]
          },
          "metadata": {},
          "execution_count": 174
        }
      ]
    },
    {
      "cell_type": "code",
      "metadata": {
        "colab": {
          "base_uri": "https://localhost:8080/"
        },
        "id": "5g3IfC8C56Rz",
        "outputId": "c1470a83-1ff0-40d2-ba11-c8dc64c60d2b"
      },
      "source": [
        "application_df.shape"
      ],
      "execution_count": 5,
      "outputs": [
        {
          "output_type": "execute_result",
          "data": {
            "text/plain": [
              "(34299, 12)"
            ]
          },
          "metadata": {},
          "execution_count": 5
        }
      ]
    },
    {
      "cell_type": "code",
      "metadata": {
        "colab": {
          "base_uri": "https://localhost:8080/"
        },
        "id": "d7V6M_0P1jI3",
        "outputId": "071c7cff-2c34-463f-a579-4ea30e1258d5"
      },
      "source": [
        "# Drop the non-beneficial ID columns, 'EIN' and 'NAME'.\n",
        "application_df = application_df.drop(columns=['EIN','NAME'],axis=1)\n",
        "application_df.shape"
      ],
      "execution_count": 6,
      "outputs": [
        {
          "output_type": "execute_result",
          "data": {
            "text/plain": [
              "(34299, 10)"
            ]
          },
          "metadata": {},
          "execution_count": 6
        }
      ]
    },
    {
      "cell_type": "code",
      "metadata": {
        "colab": {
          "base_uri": "https://localhost:8080/"
        },
        "id": "eeZqEnyq1jI4",
        "outputId": "1e0f923f-0329-49e8-f2d5-7f124a81412a"
      },
      "source": [
        "# Determine the number of unique values in each column.\n",
        "application_df.nunique()"
      ],
      "execution_count": 7,
      "outputs": [
        {
          "output_type": "execute_result",
          "data": {
            "text/plain": [
              "APPLICATION_TYPE            17\n",
              "AFFILIATION                  6\n",
              "CLASSIFICATION              71\n",
              "USE_CASE                     5\n",
              "ORGANIZATION                 4\n",
              "STATUS                       2\n",
              "INCOME_AMT                   9\n",
              "SPECIAL_CONSIDERATIONS       2\n",
              "ASK_AMT                   8747\n",
              "IS_SUCCESSFUL                2\n",
              "dtype: int64"
            ]
          },
          "metadata": {},
          "execution_count": 7
        }
      ]
    },
    {
      "cell_type": "code",
      "metadata": {
        "colab": {
          "base_uri": "https://localhost:8080/"
        },
        "id": "4YpoUx021jI4",
        "outputId": "122530c7-3eed-4266-98b0-a762c3ec1761"
      },
      "source": [
        "# Look at APPLICATION_TYPE value counts for binning\n",
        "application_value = application_df.loc[:, 'APPLICATION_TYPE'].value_counts()\n",
        "application_value"
      ],
      "execution_count": 8,
      "outputs": [
        {
          "output_type": "execute_result",
          "data": {
            "text/plain": [
              "T3     27037\n",
              "T4      1542\n",
              "T6      1216\n",
              "T5      1173\n",
              "T19     1065\n",
              "T8       737\n",
              "T7       725\n",
              "T10      528\n",
              "T9       156\n",
              "T13       66\n",
              "T12       27\n",
              "T2        16\n",
              "T25        3\n",
              "T14        3\n",
              "T29        2\n",
              "T15        2\n",
              "T17        1\n",
              "Name: APPLICATION_TYPE, dtype: int64"
            ]
          },
          "metadata": {},
          "execution_count": 8
        }
      ]
    },
    {
      "cell_type": "code",
      "metadata": {
        "colab": {
          "base_uri": "https://localhost:8080/"
        },
        "id": "oGkzfpso1jI5",
        "outputId": "95d85541-2d1b-4c0f-9ae9-7a46dc324ed9"
      },
      "source": [
        "# Look at CLASSIFICATION value counts for binning\n",
        "classification_value = application_df.loc[:, 'CLASSIFICATION'].value_counts()\n",
        "classification_value"
      ],
      "execution_count": 9,
      "outputs": [
        {
          "output_type": "execute_result",
          "data": {
            "text/plain": [
              "C1000    17326\n",
              "C2000     6074\n",
              "C1200     4837\n",
              "C3000     1918\n",
              "C2100     1883\n",
              "         ...  \n",
              "C4120        1\n",
              "C8210        1\n",
              "C4500        1\n",
              "C6100        1\n",
              "C1728        1\n",
              "Name: CLASSIFICATION, Length: 71, dtype: int64"
            ]
          },
          "metadata": {},
          "execution_count": 9
        }
      ]
    },
    {
      "cell_type": "code",
      "metadata": {
        "colab": {
          "base_uri": "https://localhost:8080/"
        },
        "id": "kQvgVZ771jI5",
        "outputId": "b70d02d9-0c7a-401b-a9c8-d611f50a461d"
      },
      "source": [
        "# Choose a cutoff value and create a list of application types to be replaced\n",
        "# use the variable name `application_types_to_replace`\n",
        "application_types_to_replace = list(application_value[application_value<200].index)\n",
        "\n",
        "# Replace in dataframe\n",
        "for app in application_types_to_replace:\n",
        "    application_df['APPLICATION_TYPE'] = application_df['APPLICATION_TYPE'].replace(app,\"Other\")\n",
        "\n",
        "# Check to make sure binning was successful\n",
        "application_df['APPLICATION_TYPE'].value_counts()"
      ],
      "execution_count": 10,
      "outputs": [
        {
          "output_type": "execute_result",
          "data": {
            "text/plain": [
              "T3       27037\n",
              "T4        1542\n",
              "T6        1216\n",
              "T5        1173\n",
              "T19       1065\n",
              "T8         737\n",
              "T7         725\n",
              "T10        528\n",
              "Other      276\n",
              "Name: APPLICATION_TYPE, dtype: int64"
            ]
          },
          "metadata": {},
          "execution_count": 10
        }
      ]
    },
    {
      "cell_type": "code",
      "metadata": {
        "colab": {
          "base_uri": "https://localhost:8080/",
          "height": 283
        },
        "id": "7OdwpsaX1jI6",
        "outputId": "c7eac0bc-1b7b-429a-ee12-9a2f32fd0889"
      },
      "source": [
        "# You may find it helpful to look at CLASSIFICATION value counts >1\n",
        "classification_value.plot(kind='density')"
      ],
      "execution_count": 11,
      "outputs": [
        {
          "output_type": "execute_result",
          "data": {
            "text/plain": [
              "<matplotlib.axes._subplots.AxesSubplot at 0x7f8a951504d0>"
            ]
          },
          "metadata": {},
          "execution_count": 11
        },
        {
          "output_type": "display_data",
          "data": {
            "image/png": "[encoded data removed]",
            "text/plain": [
              "<Figure size 432x288 with 1 Axes>"
            ]
          },
          "metadata": {
            "needs_background": "light"
          }
        }
      ]
    },
    {
      "cell_type": "code",
      "metadata": {
        "id": "H7MuvQXo1jI7",
        "colab": {
          "base_uri": "https://localhost:8080/"
        },
        "outputId": "b6a7d8f0-4f6f-4ae3-f5fc-c8d7c343e9b6"
      },
      "source": [
        "# Choose a cutoff value and create a list of classifications to be replaced\n",
        "# use the variable name `classifications_to_replace`\n",
        "classifications_to_replace = list(classification_value[classification_value<1000].index)\n",
        "\n",
        "# Replace in dataframe\n",
        "for cls in classifications_to_replace:\n",
        "    application_df['CLASSIFICATION'] = application_df['CLASSIFICATION'].replace(cls,\"Other\")\n",
        "    \n",
        "# Check to make sure binning was successful\n",
        "application_df['CLASSIFICATION'].value_counts()"
      ],
      "execution_count": 12,
      "outputs": [
        {
          "output_type": "execute_result",
          "data": {
            "text/plain": [
              "C1000    17326\n",
              "C2000     6074\n",
              "C1200     4837\n",
              "Other     2261\n",
              "C3000     1918\n",
              "C2100     1883\n",
              "Name: CLASSIFICATION, dtype: int64"
            ]
          },
          "metadata": {},
          "execution_count": 12
        }
      ]
    },
    {
      "cell_type": "code",
      "metadata": {
        "colab": {
          "base_uri": "https://localhost:8080/",
          "height": 419
        },
        "id": "1hsTTF7DNITV",
        "outputId": "2d8a3e6a-63f1-40fd-d668-10a76efe7fa4"
      },
      "source": [
        "application_df"
      ],
      "execution_count": 13,
      "outputs": [
        {
          "output_type": "execute_result",
          "data": {
            "text/html": [
              "<div>\n",
              "<style scoped>\n",
              "    .dataframe tbody tr th:only-of-type {\n",
              "        vertical-align: middle;\n",
              "    }\n",
              "\n",
              "    .dataframe tbody tr th {\n",
              "        vertical-align: top;\n",
              "    }\n",
              "\n",
              "    .dataframe thead th {\n",
              "        text-align: right;\n",
              "    }\n",
              "</style>\n",
              "<table border=\"1\" class=\"dataframe\">\n",
              "  <thead>\n",
              "    <tr style=\"text-align: right;\">\n",
              "      <th></th>\n",
              "      <th>APPLICATION_TYPE</th>\n",
              "      <th>AFFILIATION</th>\n",
              "      <th>CLASSIFICATION</th>\n",
              "      <th>USE_CASE</th>\n",
              "      <th>ORGANIZATION</th>\n",
              "      <th>STATUS</th>\n",
              "      <th>INCOME_AMT</th>\n",
              "      <th>SPECIAL_CONSIDERATIONS</th>\n",
              "      <th>ASK_AMT</th>\n",
              "      <th>IS_SUCCESSFUL</th>\n",
              "    </tr>\n",
              "  </thead>\n",
              "  <tbody>\n",
              "    <tr>\n",
              "      <th>0</th>\n",
              "      <td>T10</td>\n",
              "      <td>Independent</td>\n",
              "      <td>C1000</td>\n",
              "      <td>ProductDev</td>\n",
              "      <td>Association</td>\n",
              "      <td>1</td>\n",
              "      <td>0</td>\n",
              "      <td>N</td>\n",
              "      <td>5000</td>\n",
              "      <td>1</td>\n",
              "    </tr>\n",
              "    <tr>\n",
              "      <th>1</th>\n",
              "      <td>T3</td>\n",
              "      <td>Independent</td>\n",
              "      <td>C2000</td>\n",
              "      <td>Preservation</td>\n",
              "      <td>Co-operative</td>\n",
              "      <td>1</td>\n",
              "      <td>1-9999</td>\n",
              "      <td>N</td>\n",
              "      <td>108590</td>\n",
              "      <td>1</td>\n",
              "    </tr>\n",
              "    <tr>\n",
              "      <th>2</th>\n",
              "      <td>T5</td>\n",
              "      <td>CompanySponsored</td>\n",
              "      <td>C3000</td>\n",
              "      <td>ProductDev</td>\n",
              "      <td>Association</td>\n",
              "      <td>1</td>\n",
              "      <td>0</td>\n",
              "      <td>N</td>\n",
              "      <td>5000</td>\n",
              "      <td>0</td>\n",
              "    </tr>\n",
              "    <tr>\n",
              "      <th>3</th>\n",
              "      <td>T3</td>\n",
              "      <td>CompanySponsored</td>\n",
              "      <td>C2000</td>\n",
              "      <td>Preservation</td>\n",
              "      <td>Trust</td>\n",
              "      <td>1</td>\n",
              "      <td>10000-24999</td>\n",
              "      <td>N</td>\n",
              "      <td>6692</td>\n",
              "      <td>1</td>\n",
              "    </tr>\n",
              "    <tr>\n",
              "      <th>4</th>\n",
              "      <td>T3</td>\n",
              "      <td>Independent</td>\n",
              "      <td>C1000</td>\n",
              "      <td>Heathcare</td>\n",
              "      <td>Trust</td>\n",
              "      <td>1</td>\n",
              "      <td>100000-499999</td>\n",
              "      <td>N</td>\n",
              "      <td>142590</td>\n",
              "      <td>1</td>\n",
              "    </tr>\n",
              "    <tr>\n",
              "      <th>...</th>\n",
              "      <td>...</td>\n",
              "      <td>...</td>\n",
              "      <td>...</td>\n",
              "      <td>...</td>\n",
              "      <td>...</td>\n",
              "      <td>...</td>\n",
              "      <td>...</td>\n",
              "      <td>...</td>\n",
              "      <td>...</td>\n",
              "      <td>...</td>\n",
              "    </tr>\n",
              "    <tr>\n",
              "      <th>34294</th>\n",
              "      <td>T4</td>\n",
              "      <td>Independent</td>\n",
              "      <td>C1000</td>\n",
              "      <td>ProductDev</td>\n",
              "      <td>Association</td>\n",
              "      <td>1</td>\n",
              "      <td>0</td>\n",
              "      <td>N</td>\n",
              "      <td>5000</td>\n",
              "      <td>0</td>\n",
              "    </tr>\n",
              "    <tr>\n",
              "      <th>34295</th>\n",
              "      <td>T4</td>\n",
              "      <td>CompanySponsored</td>\n",
              "      <td>C3000</td>\n",
              "      <td>ProductDev</td>\n",
              "      <td>Association</td>\n",
              "      <td>1</td>\n",
              "      <td>0</td>\n",
              "      <td>N</td>\n",
              "      <td>5000</td>\n",
              "      <td>0</td>\n",
              "    </tr>\n",
              "    <tr>\n",
              "      <th>34296</th>\n",
              "      <td>T3</td>\n",
              "      <td>CompanySponsored</td>\n",
              "      <td>C2000</td>\n",
              "      <td>Preservation</td>\n",
              "      <td>Association</td>\n",
              "      <td>1</td>\n",
              "      <td>0</td>\n",
              "      <td>N</td>\n",
              "      <td>5000</td>\n",
              "      <td>0</td>\n",
              "    </tr>\n",
              "    <tr>\n",
              "      <th>34297</th>\n",
              "      <td>T5</td>\n",
              "      <td>Independent</td>\n",
              "      <td>C3000</td>\n",
              "      <td>ProductDev</td>\n",
              "      <td>Association</td>\n",
              "      <td>1</td>\n",
              "      <td>0</td>\n",
              "      <td>N</td>\n",
              "      <td>5000</td>\n",
              "      <td>1</td>\n",
              "    </tr>\n",
              "    <tr>\n",
              "      <th>34298</th>\n",
              "      <td>T3</td>\n",
              "      <td>Independent</td>\n",
              "      <td>C1000</td>\n",
              "      <td>Preservation</td>\n",
              "      <td>Co-operative</td>\n",
              "      <td>1</td>\n",
              "      <td>1M-5M</td>\n",
              "      <td>N</td>\n",
              "      <td>36500179</td>\n",
              "      <td>0</td>\n",
              "    </tr>\n",
              "  </tbody>\n",
              "</table>\n",
              "<p>34299 rows × 10 columns</p>\n",
              "</div>"
            ],
            "text/plain": [
              "      APPLICATION_TYPE       AFFILIATION  ...   ASK_AMT IS_SUCCESSFUL\n",
              "0                  T10       Independent  ...      5000             1\n",
              "1                   T3       Independent  ...    108590             1\n",
              "2                   T5  CompanySponsored  ...      5000             0\n",
              "3                   T3  CompanySponsored  ...      6692             1\n",
              "4                   T3       Independent  ...    142590             1\n",
              "...                ...               ...  ...       ...           ...\n",
              "34294               T4       Independent  ...      5000             0\n",
              "34295               T4  CompanySponsored  ...      5000             0\n",
              "34296               T3  CompanySponsored  ...      5000             0\n",
              "34297               T5       Independent  ...      5000             1\n",
              "34298               T3       Independent  ...  36500179             0\n",
              "\n",
              "[34299 rows x 10 columns]"
            ]
          },
          "metadata": {},
          "execution_count": 13
        }
      ]
    },
    {
      "cell_type": "code",
      "metadata": {
        "id": "qgHZyWz81jI7",
        "colab": {
          "base_uri": "https://localhost:8080/",
          "height": 456
        },
        "outputId": "a4adceeb-f06e-44d4-a7b8-fa2c54741e0c"
      },
      "source": [
        "# Convert categorical data to numeric with `pd.get_dummies`\n",
        "application_df = pd.get_dummies(application_df, dtype=float)\n",
        "application_df"
      ],
      "execution_count": 14,
      "outputs": [
        {
          "output_type": "execute_result",
          "data": {
            "text/html": [
              "<div>\n",
              "<style scoped>\n",
              "    .dataframe tbody tr th:only-of-type {\n",
              "        vertical-align: middle;\n",
              "    }\n",
              "\n",
              "    .dataframe tbody tr th {\n",
              "        vertical-align: top;\n",
              "    }\n",
              "\n",
              "    .dataframe thead th {\n",
              "        text-align: right;\n",
              "    }\n",
              "</style>\n",
              "<table border=\"1\" class=\"dataframe\">\n",
              "  <thead>\n",
              "    <tr style=\"text-align: right;\">\n",
              "      <th></th>\n",
              "      <th>STATUS</th>\n",
              "      <th>ASK_AMT</th>\n",
              "      <th>IS_SUCCESSFUL</th>\n",
              "      <th>APPLICATION_TYPE_Other</th>\n",
              "      <th>APPLICATION_TYPE_T10</th>\n",
              "      <th>APPLICATION_TYPE_T19</th>\n",
              "      <th>APPLICATION_TYPE_T3</th>\n",
              "      <th>APPLICATION_TYPE_T4</th>\n",
              "      <th>APPLICATION_TYPE_T5</th>\n",
              "      <th>APPLICATION_TYPE_T6</th>\n",
              "      <th>APPLICATION_TYPE_T7</th>\n",
              "      <th>APPLICATION_TYPE_T8</th>\n",
              "      <th>AFFILIATION_CompanySponsored</th>\n",
              "      <th>AFFILIATION_Family/Parent</th>\n",
              "      <th>AFFILIATION_Independent</th>\n",
              "      <th>AFFILIATION_National</th>\n",
              "      <th>AFFILIATION_Other</th>\n",
              "      <th>AFFILIATION_Regional</th>\n",
              "      <th>CLASSIFICATION_C1000</th>\n",
              "      <th>CLASSIFICATION_C1200</th>\n",
              "      <th>CLASSIFICATION_C2000</th>\n",
              "      <th>CLASSIFICATION_C2100</th>\n",
              "      <th>CLASSIFICATION_C3000</th>\n",
              "      <th>CLASSIFICATION_Other</th>\n",
              "      <th>USE_CASE_CommunityServ</th>\n",
              "      <th>USE_CASE_Heathcare</th>\n",
              "      <th>USE_CASE_Other</th>\n",
              "      <th>USE_CASE_Preservation</th>\n",
              "      <th>USE_CASE_ProductDev</th>\n",
              "      <th>ORGANIZATION_Association</th>\n",
              "      <th>ORGANIZATION_Co-operative</th>\n",
              "      <th>ORGANIZATION_Corporation</th>\n",
              "      <th>ORGANIZATION_Trust</th>\n",
              "      <th>INCOME_AMT_0</th>\n",
              "      <th>INCOME_AMT_1-9999</th>\n",
              "      <th>INCOME_AMT_10000-24999</th>\n",
              "      <th>INCOME_AMT_100000-499999</th>\n",
              "      <th>INCOME_AMT_10M-50M</th>\n",
              "      <th>INCOME_AMT_1M-5M</th>\n",
              "      <th>INCOME_AMT_25000-99999</th>\n",
              "      <th>INCOME_AMT_50M+</th>\n",
              "      <th>INCOME_AMT_5M-10M</th>\n",
              "      <th>SPECIAL_CONSIDERATIONS_N</th>\n",
              "      <th>SPECIAL_CONSIDERATIONS_Y</th>\n",
              "    </tr>\n",
              "  </thead>\n",
              "  <tbody>\n",
              "    <tr>\n",
              "      <th>0</th>\n",
              "      <td>1</td>\n",
              "      <td>5000</td>\n",
              "      <td>1</td>\n",
              "      <td>0.0</td>\n",
              "      <td>1.0</td>\n",
              "      <td>0.0</td>\n",
              "      <td>0.0</td>\n",
              "      <td>0.0</td>\n",
              "      <td>0.0</td>\n",
              "      <td>0.0</td>\n",
              "      <td>0.0</td>\n",
              "      <td>0.0</td>\n",
              "      <td>0.0</td>\n",
              "      <td>0.0</td>\n",
              "      <td>1.0</td>\n",
              "      <td>0.0</td>\n",
              "      <td>0.0</td>\n",
              "      <td>0.0</td>\n",
              "      <td>1.0</td>\n",
              "      <td>0.0</td>\n",
              "      <td>0.0</td>\n",
              "      <td>0.0</td>\n",
              "      <td>0.0</td>\n",
              "      <td>0.0</td>\n",
              "      <td>0.0</td>\n",
              "      <td>0.0</td>\n",
              "      <td>0.0</td>\n",
              "      <td>0.0</td>\n",
              "      <td>1.0</td>\n",
              "      <td>1.0</td>\n",
              "      <td>0.0</td>\n",
              "      <td>0.0</td>\n",
              "      <td>0.0</td>\n",
              "      <td>1.0</td>\n",
              "      <td>0.0</td>\n",
              "      <td>0.0</td>\n",
              "      <td>0.0</td>\n",
              "      <td>0.0</td>\n",
              "      <td>0.0</td>\n",
              "      <td>0.0</td>\n",
              "      <td>0.0</td>\n",
              "      <td>0.0</td>\n",
              "      <td>1.0</td>\n",
              "      <td>0.0</td>\n",
              "    </tr>\n",
              "    <tr>\n",
              "      <th>1</th>\n",
              "      <td>1</td>\n",
              "      <td>108590</td>\n",
              "      <td>1</td>\n",
              "      <td>0.0</td>\n",
              "      <td>0.0</td>\n",
              "      <td>0.0</td>\n",
              "      <td>1.0</td>\n",
              "      <td>0.0</td>\n",
              "      <td>0.0</td>\n",
              "      <td>0.0</td>\n",
              "      <td>0.0</td>\n",
              "      <td>0.0</td>\n",
              "      <td>0.0</td>\n",
              "      <td>0.0</td>\n",
              "      <td>1.0</td>\n",
              "      <td>0.0</td>\n",
              "      <td>0.0</td>\n",
              "      <td>0.0</td>\n",
              "      <td>0.0</td>\n",
              "      <td>0.0</td>\n",
              "      <td>1.0</td>\n",
              "      <td>0.0</td>\n",
              "      <td>0.0</td>\n",
              "      <td>0.0</td>\n",
              "      <td>0.0</td>\n",
              "      <td>0.0</td>\n",
              "      <td>0.0</td>\n",
              "      <td>1.0</td>\n",
              "      <td>0.0</td>\n",
              "      <td>0.0</td>\n",
              "      <td>1.0</td>\n",
              "      <td>0.0</td>\n",
              "      <td>0.0</td>\n",
              "      <td>0.0</td>\n",
              "      <td>1.0</td>\n",
              "      <td>0.0</td>\n",
              "      <td>0.0</td>\n",
              "      <td>0.0</td>\n",
              "      <td>0.0</td>\n",
              "      <td>0.0</td>\n",
              "      <td>0.0</td>\n",
              "      <td>0.0</td>\n",
              "      <td>1.0</td>\n",
              "      <td>0.0</td>\n",
              "    </tr>\n",
              "    <tr>\n",
              "      <th>2</th>\n",
              "      <td>1</td>\n",
              "      <td>5000</td>\n",
              "      <td>0</td>\n",
              "      <td>0.0</td>\n",
              "      <td>0.0</td>\n",
              "      <td>0.0</td>\n",
              "      <td>0.0</td>\n",
              "      <td>0.0</td>\n",
              "      <td>1.0</td>\n",
              "      <td>0.0</td>\n",
              "      <td>0.0</td>\n",
              "      <td>0.0</td>\n",
              "      <td>1.0</td>\n",
              "      <td>0.0</td>\n",
              "      <td>0.0</td>\n",
              "      <td>0.0</td>\n",
              "      <td>0.0</td>\n",
              "      <td>0.0</td>\n",
              "      <td>0.0</td>\n",
              "      <td>0.0</td>\n",
              "      <td>0.0</td>\n",
              "      <td>0.0</td>\n",
              "      <td>1.0</td>\n",
              "      <td>0.0</td>\n",
              "      <td>0.0</td>\n",
              "      <td>0.0</td>\n",
              "      <td>0.0</td>\n",
              "      <td>0.0</td>\n",
              "      <td>1.0</td>\n",
              "      <td>1.0</td>\n",
              "      <td>0.0</td>\n",
              "      <td>0.0</td>\n",
              "      <td>0.0</td>\n",
              "      <td>1.0</td>\n",
              "      <td>0.0</td>\n",
              "      <td>0.0</td>\n",
              "      <td>0.0</td>\n",
              "      <td>0.0</td>\n",
              "      <td>0.0</td>\n",
              "      <td>0.0</td>\n",
              "      <td>0.0</td>\n",
              "      <td>0.0</td>\n",
              "      <td>1.0</td>\n",
              "      <td>0.0</td>\n",
              "    </tr>\n",
              "    <tr>\n",
              "      <th>3</th>\n",
              "      <td>1</td>\n",
              "      <td>6692</td>\n",
              "      <td>1</td>\n",
              "      <td>0.0</td>\n",
              "      <td>0.0</td>\n",
              "      <td>0.0</td>\n",
              "      <td>1.0</td>\n",
              "      <td>0.0</td>\n",
              "      <td>0.0</td>\n",
              "      <td>0.0</td>\n",
              "      <td>0.0</td>\n",
              "      <td>0.0</td>\n",
              "      <td>1.0</td>\n",
              "      <td>0.0</td>\n",
              "      <td>0.0</td>\n",
              "      <td>0.0</td>\n",
              "      <td>0.0</td>\n",
              "      <td>0.0</td>\n",
              "      <td>0.0</td>\n",
              "      <td>0.0</td>\n",
              "      <td>1.0</td>\n",
              "      <td>0.0</td>\n",
              "      <td>0.0</td>\n",
              "      <td>0.0</td>\n",
              "      <td>0.0</td>\n",
              "      <td>0.0</td>\n",
              "      <td>0.0</td>\n",
              "      <td>1.0</td>\n",
              "      <td>0.0</td>\n",
              "      <td>0.0</td>\n",
              "      <td>0.0</td>\n",
              "      <td>0.0</td>\n",
              "      <td>1.0</td>\n",
              "      <td>0.0</td>\n",
              "      <td>0.0</td>\n",
              "      <td>1.0</td>\n",
              "      <td>0.0</td>\n",
              "      <td>0.0</td>\n",
              "      <td>0.0</td>\n",
              "      <td>0.0</td>\n",
              "      <td>0.0</td>\n",
              "      <td>0.0</td>\n",
              "      <td>1.0</td>\n",
              "      <td>0.0</td>\n",
              "    </tr>\n",
              "    <tr>\n",
              "      <th>4</th>\n",
              "      <td>1</td>\n",
              "      <td>142590</td>\n",
              "      <td>1</td>\n",
              "      <td>0.0</td>\n",
              "      <td>0.0</td>\n",
              "      <td>0.0</td>\n",
              "      <td>1.0</td>\n",
              "      <td>0.0</td>\n",
              "      <td>0.0</td>\n",
              "      <td>0.0</td>\n",
              "      <td>0.0</td>\n",
              "      <td>0.0</td>\n",
              "      <td>0.0</td>\n",
              "      <td>0.0</td>\n",
              "      <td>1.0</td>\n",
              "      <td>0.0</td>\n",
              "      <td>0.0</td>\n",
              "      <td>0.0</td>\n",
              "      <td>1.0</td>\n",
              "      <td>0.0</td>\n",
              "      <td>0.0</td>\n",
              "      <td>0.0</td>\n",
              "      <td>0.0</td>\n",
              "      <td>0.0</td>\n",
              "      <td>0.0</td>\n",
              "      <td>1.0</td>\n",
              "      <td>0.0</td>\n",
              "      <td>0.0</td>\n",
              "      <td>0.0</td>\n",
              "      <td>0.0</td>\n",
              "      <td>0.0</td>\n",
              "      <td>0.0</td>\n",
              "      <td>1.0</td>\n",
              "      <td>0.0</td>\n",
              "      <td>0.0</td>\n",
              "      <td>0.0</td>\n",
              "      <td>1.0</td>\n",
              "      <td>0.0</td>\n",
              "      <td>0.0</td>\n",
              "      <td>0.0</td>\n",
              "      <td>0.0</td>\n",
              "      <td>0.0</td>\n",
              "      <td>1.0</td>\n",
              "      <td>0.0</td>\n",
              "    </tr>\n",
              "    <tr>\n",
              "      <th>...</th>\n",
              "      <td>...</td>\n",
              "      <td>...</td>\n",
              "      <td>...</td>\n",
              "      <td>...</td>\n",
              "      <td>...</td>\n",
              "      <td>...</td>\n",
              "      <td>...</td>\n",
              "      <td>...</td>\n",
              "      <td>...</td>\n",
              "      <td>...</td>\n",
              "      <td>...</td>\n",
              "      <td>...</td>\n",
              "      <td>...</td>\n",
              "      <td>...</td>\n",
              "      <td>...</td>\n",
              "      <td>...</td>\n",
              "      <td>...</td>\n",
              "      <td>...</td>\n",
              "      <td>...</td>\n",
              "      <td>...</td>\n",
              "      <td>...</td>\n",
              "      <td>...</td>\n",
              "      <td>...</td>\n",
              "      <td>...</td>\n",
              "      <td>...</td>\n",
              "      <td>...</td>\n",
              "      <td>...</td>\n",
              "      <td>...</td>\n",
              "      <td>...</td>\n",
              "      <td>...</td>\n",
              "      <td>...</td>\n",
              "      <td>...</td>\n",
              "      <td>...</td>\n",
              "      <td>...</td>\n",
              "      <td>...</td>\n",
              "      <td>...</td>\n",
              "      <td>...</td>\n",
              "      <td>...</td>\n",
              "      <td>...</td>\n",
              "      <td>...</td>\n",
              "      <td>...</td>\n",
              "      <td>...</td>\n",
              "      <td>...</td>\n",
              "      <td>...</td>\n",
              "    </tr>\n",
              "    <tr>\n",
              "      <th>34294</th>\n",
              "      <td>1</td>\n",
              "      <td>5000</td>\n",
              "      <td>0</td>\n",
              "      <td>0.0</td>\n",
              "      <td>0.0</td>\n",
              "      <td>0.0</td>\n",
              "      <td>0.0</td>\n",
              "      <td>1.0</td>\n",
              "      <td>0.0</td>\n",
              "      <td>0.0</td>\n",
              "      <td>0.0</td>\n",
              "      <td>0.0</td>\n",
              "      <td>0.0</td>\n",
              "      <td>0.0</td>\n",
              "      <td>1.0</td>\n",
              "      <td>0.0</td>\n",
              "      <td>0.0</td>\n",
              "      <td>0.0</td>\n",
              "      <td>1.0</td>\n",
              "      <td>0.0</td>\n",
              "      <td>0.0</td>\n",
              "      <td>0.0</td>\n",
              "      <td>0.0</td>\n",
              "      <td>0.0</td>\n",
              "      <td>0.0</td>\n",
              "      <td>0.0</td>\n",
              "      <td>0.0</td>\n",
              "      <td>0.0</td>\n",
              "      <td>1.0</td>\n",
              "      <td>1.0</td>\n",
              "      <td>0.0</td>\n",
              "      <td>0.0</td>\n",
              "      <td>0.0</td>\n",
              "      <td>1.0</td>\n",
              "      <td>0.0</td>\n",
              "      <td>0.0</td>\n",
              "      <td>0.0</td>\n",
              "      <td>0.0</td>\n",
              "      <td>0.0</td>\n",
              "      <td>0.0</td>\n",
              "      <td>0.0</td>\n",
              "      <td>0.0</td>\n",
              "      <td>1.0</td>\n",
              "      <td>0.0</td>\n",
              "    </tr>\n",
              "    <tr>\n",
              "      <th>34295</th>\n",
              "      <td>1</td>\n",
              "      <td>5000</td>\n",
              "      <td>0</td>\n",
              "      <td>0.0</td>\n",
              "      <td>0.0</td>\n",
              "      <td>0.0</td>\n",
              "      <td>0.0</td>\n",
              "      <td>1.0</td>\n",
              "      <td>0.0</td>\n",
              "      <td>0.0</td>\n",
              "      <td>0.0</td>\n",
              "      <td>0.0</td>\n",
              "      <td>1.0</td>\n",
              "      <td>0.0</td>\n",
              "      <td>0.0</td>\n",
              "      <td>0.0</td>\n",
              "      <td>0.0</td>\n",
              "      <td>0.0</td>\n",
              "      <td>0.0</td>\n",
              "      <td>0.0</td>\n",
              "      <td>0.0</td>\n",
              "      <td>0.0</td>\n",
              "      <td>1.0</td>\n",
              "      <td>0.0</td>\n",
              "      <td>0.0</td>\n",
              "      <td>0.0</td>\n",
              "      <td>0.0</td>\n",
              "      <td>0.0</td>\n",
              "      <td>1.0</td>\n",
              "      <td>1.0</td>\n",
              "      <td>0.0</td>\n",
              "      <td>0.0</td>\n",
              "      <td>0.0</td>\n",
              "      <td>1.0</td>\n",
              "      <td>0.0</td>\n",
              "      <td>0.0</td>\n",
              "      <td>0.0</td>\n",
              "      <td>0.0</td>\n",
              "      <td>0.0</td>\n",
              "      <td>0.0</td>\n",
              "      <td>0.0</td>\n",
              "      <td>0.0</td>\n",
              "      <td>1.0</td>\n",
              "      <td>0.0</td>\n",
              "    </tr>\n",
              "    <tr>\n",
              "      <th>34296</th>\n",
              "      <td>1</td>\n",
              "      <td>5000</td>\n",
              "      <td>0</td>\n",
              "      <td>0.0</td>\n",
              "      <td>0.0</td>\n",
              "      <td>0.0</td>\n",
              "      <td>1.0</td>\n",
              "      <td>0.0</td>\n",
              "      <td>0.0</td>\n",
              "      <td>0.0</td>\n",
              "      <td>0.0</td>\n",
              "      <td>0.0</td>\n",
              "      <td>1.0</td>\n",
              "      <td>0.0</td>\n",
              "      <td>0.0</td>\n",
              "      <td>0.0</td>\n",
              "      <td>0.0</td>\n",
              "      <td>0.0</td>\n",
              "      <td>0.0</td>\n",
              "      <td>0.0</td>\n",
              "      <td>1.0</td>\n",
              "      <td>0.0</td>\n",
              "      <td>0.0</td>\n",
              "      <td>0.0</td>\n",
              "      <td>0.0</td>\n",
              "      <td>0.0</td>\n",
              "      <td>0.0</td>\n",
              "      <td>1.0</td>\n",
              "      <td>0.0</td>\n",
              "      <td>1.0</td>\n",
              "      <td>0.0</td>\n",
              "      <td>0.0</td>\n",
              "      <td>0.0</td>\n",
              "      <td>1.0</td>\n",
              "      <td>0.0</td>\n",
              "      <td>0.0</td>\n",
              "      <td>0.0</td>\n",
              "      <td>0.0</td>\n",
              "      <td>0.0</td>\n",
              "      <td>0.0</td>\n",
              "      <td>0.0</td>\n",
              "      <td>0.0</td>\n",
              "      <td>1.0</td>\n",
              "      <td>0.0</td>\n",
              "    </tr>\n",
              "    <tr>\n",
              "      <th>34297</th>\n",
              "      <td>1</td>\n",
              "      <td>5000</td>\n",
              "      <td>1</td>\n",
              "      <td>0.0</td>\n",
              "      <td>0.0</td>\n",
              "      <td>0.0</td>\n",
              "      <td>0.0</td>\n",
              "      <td>0.0</td>\n",
              "      <td>1.0</td>\n",
              "      <td>0.0</td>\n",
              "      <td>0.0</td>\n",
              "      <td>0.0</td>\n",
              "      <td>0.0</td>\n",
              "      <td>0.0</td>\n",
              "      <td>1.0</td>\n",
              "      <td>0.0</td>\n",
              "      <td>0.0</td>\n",
              "      <td>0.0</td>\n",
              "      <td>0.0</td>\n",
              "      <td>0.0</td>\n",
              "      <td>0.0</td>\n",
              "      <td>0.0</td>\n",
              "      <td>1.0</td>\n",
              "      <td>0.0</td>\n",
              "      <td>0.0</td>\n",
              "      <td>0.0</td>\n",
              "      <td>0.0</td>\n",
              "      <td>0.0</td>\n",
              "      <td>1.0</td>\n",
              "      <td>1.0</td>\n",
              "      <td>0.0</td>\n",
              "      <td>0.0</td>\n",
              "      <td>0.0</td>\n",
              "      <td>1.0</td>\n",
              "      <td>0.0</td>\n",
              "      <td>0.0</td>\n",
              "      <td>0.0</td>\n",
              "      <td>0.0</td>\n",
              "      <td>0.0</td>\n",
              "      <td>0.0</td>\n",
              "      <td>0.0</td>\n",
              "      <td>0.0</td>\n",
              "      <td>1.0</td>\n",
              "      <td>0.0</td>\n",
              "    </tr>\n",
              "    <tr>\n",
              "      <th>34298</th>\n",
              "      <td>1</td>\n",
              "      <td>36500179</td>\n",
              "      <td>0</td>\n",
              "      <td>0.0</td>\n",
              "      <td>0.0</td>\n",
              "      <td>0.0</td>\n",
              "      <td>1.0</td>\n",
              "      <td>0.0</td>\n",
              "      <td>0.0</td>\n",
              "      <td>0.0</td>\n",
              "      <td>0.0</td>\n",
              "      <td>0.0</td>\n",
              "      <td>0.0</td>\n",
              "      <td>0.0</td>\n",
              "      <td>1.0</td>\n",
              "      <td>0.0</td>\n",
              "      <td>0.0</td>\n",
              "      <td>0.0</td>\n",
              "      <td>1.0</td>\n",
              "      <td>0.0</td>\n",
              "      <td>0.0</td>\n",
              "      <td>0.0</td>\n",
              "      <td>0.0</td>\n",
              "      <td>0.0</td>\n",
              "      <td>0.0</td>\n",
              "      <td>0.0</td>\n",
              "      <td>0.0</td>\n",
              "      <td>1.0</td>\n",
              "      <td>0.0</td>\n",
              "      <td>0.0</td>\n",
              "      <td>1.0</td>\n",
              "      <td>0.0</td>\n",
              "      <td>0.0</td>\n",
              "      <td>0.0</td>\n",
              "      <td>0.0</td>\n",
              "      <td>0.0</td>\n",
              "      <td>0.0</td>\n",
              "      <td>0.0</td>\n",
              "      <td>1.0</td>\n",
              "      <td>0.0</td>\n",
              "      <td>0.0</td>\n",
              "      <td>0.0</td>\n",
              "      <td>1.0</td>\n",
              "      <td>0.0</td>\n",
              "    </tr>\n",
              "  </tbody>\n",
              "</table>\n",
              "<p>34299 rows × 44 columns</p>\n",
              "</div>"
            ],
            "text/plain": [
              "       STATUS   ASK_AMT  ...  SPECIAL_CONSIDERATIONS_N  SPECIAL_CONSIDERATIONS_Y\n",
              "0           1      5000  ...                       1.0                       0.0\n",
              "1           1    108590  ...                       1.0                       0.0\n",
              "2           1      5000  ...                       1.0                       0.0\n",
              "3           1      6692  ...                       1.0                       0.0\n",
              "4           1    142590  ...                       1.0                       0.0\n",
              "...       ...       ...  ...                       ...                       ...\n",
              "34294       1      5000  ...                       1.0                       0.0\n",
              "34295       1      5000  ...                       1.0                       0.0\n",
              "34296       1      5000  ...                       1.0                       0.0\n",
              "34297       1      5000  ...                       1.0                       0.0\n",
              "34298       1  36500179  ...                       1.0                       0.0\n",
              "\n",
              "[34299 rows x 44 columns]"
            ]
          },
          "metadata": {},
          "execution_count": 14
        }
      ]
    },
    {
      "cell_type": "code",
      "metadata": {
        "id": "hMZgRSa4tf5h",
        "outputId": "6f20d026-f572-4921-cb56-f75ae4b2db1b",
        "colab": {
          "base_uri": "https://localhost:8080/"
        }
      },
      "source": [
        "application_df.dtypes"
      ],
      "execution_count": 15,
      "outputs": [
        {
          "output_type": "execute_result",
          "data": {
            "text/plain": [
              "STATUS                            int64\n",
              "ASK_AMT                           int64\n",
              "IS_SUCCESSFUL                     int64\n",
              "APPLICATION_TYPE_Other          float64\n",
              "APPLICATION_TYPE_T10            float64\n",
              "APPLICATION_TYPE_T19            float64\n",
              "APPLICATION_TYPE_T3             float64\n",
              "APPLICATION_TYPE_T4             float64\n",
              "APPLICATION_TYPE_T5             float64\n",
              "APPLICATION_TYPE_T6             float64\n",
              "APPLICATION_TYPE_T7             float64\n",
              "APPLICATION_TYPE_T8             float64\n",
              "AFFILIATION_CompanySponsored    float64\n",
              "AFFILIATION_Family/Parent       float64\n",
              "AFFILIATION_Independent         float64\n",
              "AFFILIATION_National            float64\n",
              "AFFILIATION_Other               float64\n",
              "AFFILIATION_Regional            float64\n",
              "CLASSIFICATION_C1000            float64\n",
              "CLASSIFICATION_C1200            float64\n",
              "CLASSIFICATION_C2000            float64\n",
              "CLASSIFICATION_C2100            float64\n",
              "CLASSIFICATION_C3000            float64\n",
              "CLASSIFICATION_Other            float64\n",
              "USE_CASE_CommunityServ          float64\n",
              "USE_CASE_Heathcare              float64\n",
              "USE_CASE_Other                  float64\n",
              "USE_CASE_Preservation           float64\n",
              "USE_CASE_ProductDev             float64\n",
              "ORGANIZATION_Association        float64\n",
              "ORGANIZATION_Co-operative       float64\n",
              "ORGANIZATION_Corporation        float64\n",
              "ORGANIZATION_Trust              float64\n",
              "INCOME_AMT_0                    float64\n",
              "INCOME_AMT_1-9999               float64\n",
              "INCOME_AMT_10000-24999          float64\n",
              "INCOME_AMT_100000-499999        float64\n",
              "INCOME_AMT_10M-50M              float64\n",
              "INCOME_AMT_1M-5M                float64\n",
              "INCOME_AMT_25000-99999          float64\n",
              "INCOME_AMT_50M+                 float64\n",
              "INCOME_AMT_5M-10M               float64\n",
              "SPECIAL_CONSIDERATIONS_N        float64\n",
              "SPECIAL_CONSIDERATIONS_Y        float64\n",
              "dtype: object"
            ]
          },
          "metadata": {},
          "execution_count": 15
        }
      ]
    },
    {
      "cell_type": "code",
      "metadata": {
        "id": "saKVSK7u1jI8"
      },
      "source": [
        "# Split our preprocessed data into our features and target arrays\n",
        "y = application_df.IS_SUCCESSFUL.values\n",
        "X = application_df.drop('IS_SUCCESSFUL', axis=1).values\n",
        "\n",
        "# Split the preprocessed data into a training and\n",
        "# testing dataset\n",
        "X_train, X_test, y_train, y_test = train_test_split(X,y,random_state= 42)"
      ],
      "execution_count": 16,
      "outputs": []
    },
    {
      "cell_type": "code",
      "metadata": {
        "id": "CW9XH8z21jI8"
      },
      "source": [
        "# Create a StandardScaler instances\n",
        "scaler = StandardScaler()\n",
        "\n",
        "# Fit the StandardScaler\n",
        "X_scaler = scaler.fit(X_train)\n",
        "\n",
        "# Scale the data\n",
        "X_train_scaled = X_scaler.transform(X_train)\n",
        "X_test_scaled = X_scaler.transform(X_test)"
      ],
      "execution_count": 17,
      "outputs": []
    },
    {
      "cell_type": "code",
      "metadata": {
        "colab": {
          "base_uri": "https://localhost:8080/"
        },
        "id": "CXt0y8JGe6wG",
        "outputId": "9d3492ed-024e-4c03-bdde-6ffdef271a86"
      },
      "source": [
        "X_train.shape"
      ],
      "execution_count": 18,
      "outputs": [
        {
          "output_type": "execute_result",
          "data": {
            "text/plain": [
              "(25724, 43)"
            ]
          },
          "metadata": {},
          "execution_count": 18
        }
      ]
    },
    {
      "cell_type": "markdown",
      "metadata": {
        "id": "BXdoy6oa1jI8"
      },
      "source": [
        "## Compile, Train and Evaluate the Model"
      ]
    },
    {
      "cell_type": "code",
      "metadata": {
        "id": "U1cyTXIf_QNu",
        "colab": {
          "base_uri": "https://localhost:8080/"
        },
        "outputId": "954e40b1-3e75-4aae-9249-ea575eae0654"
      },
      "source": [
        "X_train"
      ],
      "execution_count": 19,
      "outputs": [
        {
          "output_type": "execute_result",
          "data": {
            "text/plain": [
              "array([[1.e+00, 5.e+03, 0.e+00, ..., 0.e+00, 1.e+00, 0.e+00],\n",
              "       [1.e+00, 5.e+03, 0.e+00, ..., 0.e+00, 1.e+00, 0.e+00],\n",
              "       [1.e+00, 5.e+03, 0.e+00, ..., 0.e+00, 1.e+00, 0.e+00],\n",
              "       ...,\n",
              "       [1.e+00, 5.e+03, 0.e+00, ..., 0.e+00, 1.e+00, 0.e+00],\n",
              "       [1.e+00, 5.e+03, 0.e+00, ..., 0.e+00, 1.e+00, 0.e+00],\n",
              "       [1.e+00, 5.e+03, 0.e+00, ..., 0.e+00, 1.e+00, 0.e+00]])"
            ]
          },
          "metadata": {},
          "execution_count": 19
        }
      ]
    },
    {
      "cell_type": "code",
      "metadata": {
        "id": "YorzL4SnsC9i",
        "outputId": "bc55f14b-56cf-4cac-fd51-ba0996ecad14",
        "colab": {
          "base_uri": "https://localhost:8080/"
        }
      },
      "source": [
        "len(X_train[0])"
      ],
      "execution_count": 20,
      "outputs": [
        {
          "output_type": "execute_result",
          "data": {
            "text/plain": [
              "43"
            ]
          },
          "metadata": {},
          "execution_count": 20
        }
      ]
    },
    {
      "cell_type": "code",
      "metadata": {
        "id": "mpBhm9EF_Mk-",
        "colab": {
          "base_uri": "https://localhost:8080/"
        },
        "outputId": "2bd9f26c-17de-4de2-86b4-cc85128ac0f7"
      },
      "source": [
        "len(X_train_scaled[0])"
      ],
      "execution_count": 21,
      "outputs": [
        {
          "output_type": "execute_result",
          "data": {
            "text/plain": [
              "43"
            ]
          },
          "metadata": {},
          "execution_count": 21
        }
      ]
    },
    {
      "cell_type": "markdown",
      "metadata": {
        "id": "8HozuEPbC4Eh"
      },
      "source": [
        "# Model Evaluation 1"
      ]
    },
    {
      "cell_type": "code",
      "metadata": {
        "id": "-Y4n0uD01jI9",
        "colab": {
          "base_uri": "https://localhost:8080/"
        },
        "outputId": "f1e02a3e-106d-4a1a-f047-0dff101a32d1"
      },
      "source": [
        "# Define the model - deep neural net, i.e., the number of input features and hidden nodes for each layer.\n",
        "number_input_features = len( X_train_scaled[0])\n",
        "hidden_nodes_layer1=80\n",
        "hidden_nodes_layer2=30\n",
        "\n",
        "nn_model = tf.keras.models.Sequential()\n",
        "\n",
        "# First hidden layer\n",
        "nn_model.add(tf.keras.layers.Dense(units=hidden_nodes_layer1, input_dim=number_input_features, activation='relu'))\n",
        "\n",
        "# Second hidden layer\n",
        "nn_model.add(tf.keras.layers.Dense(units=hidden_nodes_layer2, activation='relu'))\n",
        "\n",
        "# Output layer\n",
        "nn_model.add(tf.keras.layers.Dense(units=1, activation='sigmoid'))\n",
        "\n",
        "# Check the structure of the model\n",
        "nn_model.summary()"
      ],
      "execution_count": 22,
      "outputs": [
        {
          "output_type": "stream",
          "name": "stdout",
          "text": [
            "Model: \"sequential\"\n",
            "_________________________________________________________________\n",
            "Layer (type)                 Output Shape              Param #   \n",
            "=================================================================\n",
            "dense (Dense)                (None, 80)                3520      \n",
            "_________________________________________________________________\n",
            "dense_1 (Dense)              (None, 30)                2430      \n",
            "_________________________________________________________________\n",
            "dense_2 (Dense)              (None, 1)                 31        \n",
            "=================================================================\n",
            "Total params: 5,981\n",
            "Trainable params: 5,981\n",
            "Non-trainable params: 0\n",
            "_________________________________________________________________\n"
          ]
        }
      ]
    },
    {
      "cell_type": "code",
      "metadata": {
        "id": "biizZk3J1jI9"
      },
      "source": [
        "# Compile the model\n",
        "nn_model.compile(loss = 'binary_crossentropy', optimizer = 'adam', metrics=['accuracy', tf.keras.metrics.Recall()])"
      ],
      "execution_count": 23,
      "outputs": []
    },
    {
      "cell_type": "code",
      "metadata": {
        "id": "0h4pMQLZ1jI9",
        "colab": {
          "base_uri": "https://localhost:8080/"
        },
        "outputId": "023e9306-dd16-483f-a45d-de3568b2c78f"
      },
      "source": [
        "fit_model = nn_model.fit(X_train_scaled,y_train, epochs=100)"
      ],
      "execution_count": 24,
      "outputs": [
        {
          "output_type": "stream",
          "name": "stdout",
          "text": [
            "Epoch 1/100\n",
            "804/804 [==============================] - 2s 1ms/step - loss: 0.5701 - accuracy: 0.7213 - recall: 0.7847\n",
            "Epoch 2/100\n",
            "804/804 [==============================] - 1s 1ms/step - loss: 0.5547 - accuracy: 0.7290 - recall: 0.7832\n",
            "Epoch 3/100\n",
            "804/804 [==============================] - 1s 1ms/step - loss: 0.5516 - accuracy: 0.7301 - recall: 0.7867\n",
            "Epoch 4/100\n",
            "804/804 [==============================] - 1s 1ms/step - loss: 0.5495 - accuracy: 0.7313 - recall: 0.7878\n",
            "Epoch 5/100\n",
            "804/804 [==============================] - 1s 1ms/step - loss: 0.5489 - accuracy: 0.7316 - recall: 0.7914\n",
            "Epoch 6/100\n",
            "804/804 [==============================] - 1s 1ms/step - loss: 0.5480 - accuracy: 0.7297 - recall: 0.7857\n",
            "Epoch 7/100\n",
            "804/804 [==============================] - 1s 1ms/step - loss: 0.5472 - accuracy: 0.7320 - recall: 0.7949\n",
            "Epoch 8/100\n",
            "804/804 [==============================] - 1s 1ms/step - loss: 0.5467 - accuracy: 0.7325 - recall: 0.7900\n",
            "Epoch 9/100\n",
            "804/804 [==============================] - 1s 1ms/step - loss: 0.5459 - accuracy: 0.7333 - recall: 0.7921\n",
            "Epoch 10/100\n",
            "804/804 [==============================] - 1s 1ms/step - loss: 0.5465 - accuracy: 0.7328 - recall: 0.7974\n",
            "Epoch 11/100\n",
            "804/804 [==============================] - 1s 1ms/step - loss: 0.5452 - accuracy: 0.7327 - recall: 0.7925\n",
            "Epoch 12/100\n",
            "804/804 [==============================] - 1s 1ms/step - loss: 0.5446 - accuracy: 0.7349 - recall: 0.8022\n",
            "Epoch 13/100\n",
            "804/804 [==============================] - 1s 1ms/step - loss: 0.5446 - accuracy: 0.7339 - recall: 0.7907\n",
            "Epoch 14/100\n",
            "804/804 [==============================] - 1s 1ms/step - loss: 0.5437 - accuracy: 0.7349 - recall: 0.7945\n",
            "Epoch 15/100\n",
            "804/804 [==============================] - 1s 1ms/step - loss: 0.5437 - accuracy: 0.7353 - recall: 0.7911\n",
            "Epoch 16/100\n",
            "804/804 [==============================] - 1s 1ms/step - loss: 0.5432 - accuracy: 0.7344 - recall: 0.7933\n",
            "Epoch 17/100\n",
            "804/804 [==============================] - 1s 1ms/step - loss: 0.5430 - accuracy: 0.7336 - recall: 0.7967\n",
            "Epoch 18/100\n",
            "804/804 [==============================] - 1s 1ms/step - loss: 0.5426 - accuracy: 0.7356 - recall: 0.7955\n",
            "Epoch 19/100\n",
            "804/804 [==============================] - 1s 1ms/step - loss: 0.5420 - accuracy: 0.7354 - recall: 0.7955\n",
            "Epoch 20/100\n",
            "804/804 [==============================] - 1s 1ms/step - loss: 0.5423 - accuracy: 0.7350 - recall: 0.7940\n",
            "Epoch 21/100\n",
            "804/804 [==============================] - 1s 1ms/step - loss: 0.5415 - accuracy: 0.7348 - recall: 0.7963\n",
            "Epoch 22/100\n",
            "804/804 [==============================] - 1s 1ms/step - loss: 0.5415 - accuracy: 0.7363 - recall: 0.7929\n",
            "Epoch 23/100\n",
            "804/804 [==============================] - 1s 1ms/step - loss: 0.5413 - accuracy: 0.7354 - recall: 0.7974\n",
            "Epoch 24/100\n",
            "804/804 [==============================] - 1s 1ms/step - loss: 0.5413 - accuracy: 0.7371 - recall: 0.7949\n",
            "Epoch 25/100\n",
            "804/804 [==============================] - 1s 1ms/step - loss: 0.5409 - accuracy: 0.7357 - recall: 0.7946\n",
            "Epoch 26/100\n",
            "804/804 [==============================] - 1s 1ms/step - loss: 0.5407 - accuracy: 0.7361 - recall: 0.7982\n",
            "Epoch 27/100\n",
            "804/804 [==============================] - 1s 1ms/step - loss: 0.5401 - accuracy: 0.7364 - recall: 0.8025\n",
            "Epoch 28/100\n",
            "804/804 [==============================] - 1s 1ms/step - loss: 0.5404 - accuracy: 0.7375 - recall: 0.7985\n",
            "Epoch 29/100\n",
            "804/804 [==============================] - 1s 1ms/step - loss: 0.5399 - accuracy: 0.7366 - recall: 0.7960\n",
            "Epoch 30/100\n",
            "804/804 [==============================] - 1s 1ms/step - loss: 0.5398 - accuracy: 0.7362 - recall: 0.7941\n",
            "Epoch 31/100\n",
            "804/804 [==============================] - 1s 1ms/step - loss: 0.5400 - accuracy: 0.7368 - recall: 0.7948\n",
            "Epoch 32/100\n",
            "804/804 [==============================] - 1s 1ms/step - loss: 0.5398 - accuracy: 0.7368 - recall: 0.7953\n",
            "Epoch 33/100\n",
            "804/804 [==============================] - 1s 1ms/step - loss: 0.5394 - accuracy: 0.7367 - recall: 0.7933\n",
            "Epoch 34/100\n",
            "804/804 [==============================] - 1s 1ms/step - loss: 0.5394 - accuracy: 0.7369 - recall: 0.7975\n",
            "Epoch 35/100\n",
            "804/804 [==============================] - 1s 1ms/step - loss: 0.5391 - accuracy: 0.7366 - recall: 0.7936\n",
            "Epoch 36/100\n",
            "804/804 [==============================] - 1s 1ms/step - loss: 0.5392 - accuracy: 0.7386 - recall: 0.7922\n",
            "Epoch 37/100\n",
            "804/804 [==============================] - 1s 1ms/step - loss: 0.5388 - accuracy: 0.7376 - recall: 0.7974\n",
            "Epoch 38/100\n",
            "804/804 [==============================] - 1s 1ms/step - loss: 0.5389 - accuracy: 0.7385 - recall: 0.7981\n",
            "Epoch 39/100\n",
            "804/804 [==============================] - 1s 1ms/step - loss: 0.5385 - accuracy: 0.7381 - recall: 0.7954\n",
            "Epoch 40/100\n",
            "804/804 [==============================] - 1s 1ms/step - loss: 0.5388 - accuracy: 0.7366 - recall: 0.7942\n",
            "Epoch 41/100\n",
            "804/804 [==============================] - 1s 1ms/step - loss: 0.5386 - accuracy: 0.7385 - recall: 0.7939\n",
            "Epoch 42/100\n",
            "804/804 [==============================] - 1s 1ms/step - loss: 0.5378 - accuracy: 0.7361 - recall: 0.7966\n",
            "Epoch 43/100\n",
            "804/804 [==============================] - 1s 1ms/step - loss: 0.5380 - accuracy: 0.7376 - recall: 0.7957\n",
            "Epoch 44/100\n",
            "804/804 [==============================] - 1s 1ms/step - loss: 0.5380 - accuracy: 0.7390 - recall: 0.7955\n",
            "Epoch 45/100\n",
            "804/804 [==============================] - 1s 1ms/step - loss: 0.5374 - accuracy: 0.7386 - recall: 0.7954\n",
            "Epoch 46/100\n",
            "804/804 [==============================] - 1s 1ms/step - loss: 0.5378 - accuracy: 0.7379 - recall: 0.7947\n",
            "Epoch 47/100\n",
            "804/804 [==============================] - 1s 1ms/step - loss: 0.5377 - accuracy: 0.7386 - recall: 0.7939\n",
            "Epoch 48/100\n",
            "804/804 [==============================] - 1s 1ms/step - loss: 0.5374 - accuracy: 0.7371 - recall: 0.7923\n",
            "Epoch 49/100\n",
            "804/804 [==============================] - 1s 1ms/step - loss: 0.5377 - accuracy: 0.7383 - recall: 0.7971\n",
            "Epoch 50/100\n",
            "804/804 [==============================] - 1s 1ms/step - loss: 0.5373 - accuracy: 0.7388 - recall: 0.7957\n",
            "Epoch 51/100\n",
            "804/804 [==============================] - 1s 1ms/step - loss: 0.5373 - accuracy: 0.7382 - recall: 0.7903\n",
            "Epoch 52/100\n",
            "804/804 [==============================] - 1s 1ms/step - loss: 0.5369 - accuracy: 0.7389 - recall: 0.7950\n",
            "Epoch 53/100\n",
            "804/804 [==============================] - 1s 1ms/step - loss: 0.5371 - accuracy: 0.7388 - recall: 0.7943\n",
            "Epoch 54/100\n",
            "804/804 [==============================] - 1s 1ms/step - loss: 0.5374 - accuracy: 0.7381 - recall: 0.7900\n",
            "Epoch 55/100\n",
            "804/804 [==============================] - 1s 1ms/step - loss: 0.5366 - accuracy: 0.7384 - recall: 0.7899\n",
            "Epoch 56/100\n",
            "804/804 [==============================] - 1s 1ms/step - loss: 0.5370 - accuracy: 0.7384 - recall: 0.7928\n",
            "Epoch 57/100\n",
            "804/804 [==============================] - 1s 1ms/step - loss: 0.5367 - accuracy: 0.7391 - recall: 0.7998\n",
            "Epoch 58/100\n",
            "804/804 [==============================] - 1s 1ms/step - loss: 0.5364 - accuracy: 0.7379 - recall: 0.7952\n",
            "Epoch 59/100\n",
            "804/804 [==============================] - 1s 1ms/step - loss: 0.5367 - accuracy: 0.7384 - recall: 0.7937\n",
            "Epoch 60/100\n",
            "804/804 [==============================] - 1s 1ms/step - loss: 0.5366 - accuracy: 0.7387 - recall: 0.7990\n",
            "Epoch 61/100\n",
            "804/804 [==============================] - 1s 1ms/step - loss: 0.5366 - accuracy: 0.7383 - recall: 0.7895\n",
            "Epoch 62/100\n",
            "804/804 [==============================] - 1s 1ms/step - loss: 0.5364 - accuracy: 0.7384 - recall: 0.7916\n",
            "Epoch 63/100\n",
            "804/804 [==============================] - 1s 1ms/step - loss: 0.5365 - accuracy: 0.7391 - recall: 0.7947\n",
            "Epoch 64/100\n",
            "804/804 [==============================] - 1s 1ms/step - loss: 0.5363 - accuracy: 0.7382 - recall: 0.7900\n",
            "Epoch 65/100\n",
            "804/804 [==============================] - 1s 1ms/step - loss: 0.5363 - accuracy: 0.7383 - recall: 0.7901\n",
            "Epoch 66/100\n",
            "804/804 [==============================] - 1s 1ms/step - loss: 0.5362 - accuracy: 0.7383 - recall: 0.7966\n",
            "Epoch 67/100\n",
            "804/804 [==============================] - 1s 1ms/step - loss: 0.5363 - accuracy: 0.7386 - recall: 0.7952\n",
            "Epoch 68/100\n",
            "804/804 [==============================] - 1s 1ms/step - loss: 0.5358 - accuracy: 0.7382 - recall: 0.7954\n",
            "Epoch 69/100\n",
            "804/804 [==============================] - 1s 1ms/step - loss: 0.5361 - accuracy: 0.7385 - recall: 0.7944\n",
            "Epoch 70/100\n",
            "804/804 [==============================] - 1s 1ms/step - loss: 0.5358 - accuracy: 0.7386 - recall: 0.7933\n",
            "Epoch 71/100\n",
            "804/804 [==============================] - 1s 1ms/step - loss: 0.5357 - accuracy: 0.7383 - recall: 0.7995\n",
            "Epoch 72/100\n",
            "804/804 [==============================] - 1s 1ms/step - loss: 0.5364 - accuracy: 0.7386 - recall: 0.7951\n",
            "Epoch 73/100\n",
            "804/804 [==============================] - 1s 1ms/step - loss: 0.5357 - accuracy: 0.7392 - recall: 0.7933\n",
            "Epoch 74/100\n",
            "804/804 [==============================] - 1s 1ms/step - loss: 0.5352 - accuracy: 0.7387 - recall: 0.7919\n",
            "Epoch 75/100\n",
            "804/804 [==============================] - 1s 1ms/step - loss: 0.5362 - accuracy: 0.7393 - recall: 0.7958\n",
            "Epoch 76/100\n",
            "804/804 [==============================] - 1s 1ms/step - loss: 0.5353 - accuracy: 0.7386 - recall: 0.7887\n",
            "Epoch 77/100\n",
            "804/804 [==============================] - 1s 1ms/step - loss: 0.5351 - accuracy: 0.7403 - recall: 0.7931\n",
            "Epoch 78/100\n",
            "804/804 [==============================] - 1s 1ms/step - loss: 0.5356 - accuracy: 0.7389 - recall: 0.7912\n",
            "Epoch 79/100\n",
            "804/804 [==============================] - 1s 1ms/step - loss: 0.5356 - accuracy: 0.7395 - recall: 0.7940\n",
            "Epoch 80/100\n",
            "804/804 [==============================] - 1s 1ms/step - loss: 0.5350 - accuracy: 0.7382 - recall: 0.7895\n",
            "Epoch 81/100\n",
            "804/804 [==============================] - 1s 1ms/step - loss: 0.5352 - accuracy: 0.7385 - recall: 0.7913\n",
            "Epoch 82/100\n",
            "804/804 [==============================] - 1s 1ms/step - loss: 0.5349 - accuracy: 0.7395 - recall: 0.7946\n",
            "Epoch 83/100\n",
            "804/804 [==============================] - 1s 1ms/step - loss: 0.5352 - accuracy: 0.7392 - recall: 0.7946\n",
            "Epoch 84/100\n",
            "804/804 [==============================] - 1s 1ms/step - loss: 0.5344 - accuracy: 0.7399 - recall: 0.7927\n",
            "Epoch 85/100\n",
            "804/804 [==============================] - 1s 1ms/step - loss: 0.5349 - accuracy: 0.7388 - recall: 0.7946\n",
            "Epoch 86/100\n",
            "804/804 [==============================] - 1s 1ms/step - loss: 0.5353 - accuracy: 0.7387 - recall: 0.7898\n",
            "Epoch 87/100\n",
            "804/804 [==============================] - 1s 1ms/step - loss: 0.5348 - accuracy: 0.7402 - recall: 0.7982\n",
            "Epoch 88/100\n",
            "804/804 [==============================] - 1s 1ms/step - loss: 0.5348 - accuracy: 0.7391 - recall: 0.7895\n",
            "Epoch 89/100\n",
            "804/804 [==============================] - 1s 1ms/step - loss: 0.5347 - accuracy: 0.7387 - recall: 0.7925\n",
            "Epoch 90/100\n",
            "804/804 [==============================] - 1s 1ms/step - loss: 0.5346 - accuracy: 0.7397 - recall: 0.7944\n",
            "Epoch 91/100\n",
            "804/804 [==============================] - 1s 1ms/step - loss: 0.5345 - accuracy: 0.7403 - recall: 0.7923\n",
            "Epoch 92/100\n",
            "804/804 [==============================] - 1s 1ms/step - loss: 0.5347 - accuracy: 0.7391 - recall: 0.7946\n",
            "Epoch 93/100\n",
            "804/804 [==============================] - 1s 1ms/step - loss: 0.5350 - accuracy: 0.7406 - recall: 0.7940\n",
            "Epoch 94/100\n",
            "804/804 [==============================] - 1s 1ms/step - loss: 0.5343 - accuracy: 0.7396 - recall: 0.7938\n",
            "Epoch 95/100\n",
            "804/804 [==============================] - 1s 1ms/step - loss: 0.5345 - accuracy: 0.7387 - recall: 0.7931\n",
            "Epoch 96/100\n",
            "804/804 [==============================] - 1s 1ms/step - loss: 0.5344 - accuracy: 0.7393 - recall: 0.7914\n",
            "Epoch 97/100\n",
            "804/804 [==============================] - 1s 1ms/step - loss: 0.5351 - accuracy: 0.7398 - recall: 0.7940\n",
            "Epoch 98/100\n",
            "804/804 [==============================] - 1s 1ms/step - loss: 0.5343 - accuracy: 0.7401 - recall: 0.7982\n",
            "Epoch 99/100\n",
            "804/804 [==============================] - 1s 1ms/step - loss: 0.5346 - accuracy: 0.7392 - recall: 0.7938\n",
            "Epoch 100/100\n",
            "804/804 [==============================] - 1s 1ms/step - loss: 0.5341 - accuracy: 0.7394 - recall: 0.7949\n"
          ]
        }
      ]
    },
    {
      "cell_type": "code",
      "metadata": {
        "id": "k8fYkswE1jI-",
        "colab": {
          "base_uri": "https://localhost:8080/"
        },
        "outputId": "96e5012d-4f23-4983-ff5e-6b21375668b6"
      },
      "source": [
        "# Evaluate the model using the test data\n",
        "model_loss, model_accuracy, model_Recall= nn_model.evaluate(X_test_scaled,y_test,verbose=2)\n",
        "print(f\"Loss: {model_loss}, Accuracy: {model_accuracy}\")"
      ],
      "execution_count": 25,
      "outputs": [
        {
          "output_type": "stream",
          "name": "stdout",
          "text": [
            "268/268 - 0s - loss: 0.5624 - accuracy: 0.7287 - recall: 0.7870\n",
            "Loss: 0.5623584985733032, Accuracy: 0.7287463545799255\n"
          ]
        }
      ]
    },
    {
      "cell_type": "code",
      "metadata": {
        "id": "E9vmvJXJ1jI-",
        "outputId": "986cda1a-693c-459f-c22c-b4bea557fd80",
        "colab": {
          "base_uri": "https://localhost:8080/",
          "height": 17
        }
      },
      "source": [
        "# Export our model to HDF5 file\n",
        "from google.colab import files\n",
        "\n",
        "nn_model.save('/content/Alphabet_Soup_model1.h5')\n",
        "files.download('/content/Alphabet_Soup_model1.h5')"
      ],
      "execution_count": 26,
      "outputs": [
        {
          "output_type": "display_data",
          "data": {
            "application/javascript": [
              "\n",
              "    async function download(id, filename, size) {\n",
              "      if (!google.colab.kernel.accessAllowed) {\n",
              "        return;\n",
              "      }\n",
              "      const div = document.createElement('div');\n",
              "      const label = document.createElement('label');\n",
              "      label.textContent = `Downloading \"${filename}\": `;\n",
              "      div.appendChild(label);\n",
              "      const progress = document.createElement('progress');\n",
              "      progress.max = size;\n",
              "      div.appendChild(progress);\n",
              "      document.body.appendChild(div);\n",
              "\n",
              "      const buffers = [];\n",
              "      let downloaded = 0;\n",
              "\n",
              "      const channel = await google.colab.kernel.comms.open(id);\n",
              "      // Send a message to notify the kernel that we're ready.\n",
              "      channel.send({})\n",
              "\n",
              "      for await (const message of channel.messages) {\n",
              "        // Send a message to notify the kernel that we're ready.\n",
              "        channel.send({})\n",
              "        if (message.buffers) {\n",
              "          for (const buffer of message.buffers) {\n",
              "            buffers.push(buffer);\n",
              "            downloaded += buffer.byteLength;\n",
              "            progress.value = downloaded;\n",
              "          }\n",
              "        }\n",
              "      }\n",
              "      const blob = new Blob(buffers, {type: 'application/binary'});\n",
              "      const a = document.createElement('a');\n",
              "      a.href = window.URL.createObjectURL(blob);\n",
              "      a.download = filename;\n",
              "      div.appendChild(a);\n",
              "      a.click();\n",
              "      div.remove();\n",
              "    }\n",
              "  "
            ],
            "text/plain": [
              "<IPython.core.display.Javascript object>"
            ]
          },
          "metadata": {}
        },
        {
          "output_type": "display_data",
          "data": {
            "application/javascript": [
              "download(\"download_56762ccb-5012-489a-be4a-7fe5d19366fd\", \"Alphabet_Soup_model1.h5\", 103352)"
            ],
            "text/plain": [
              "<IPython.core.display.Javascript object>"
            ]
          },
          "metadata": {}
        }
      ]
    },
    {
      "cell_type": "markdown",
      "metadata": {
        "id": "It0pLk1aDD_K"
      },
      "source": [
        "# Model Evaluation 2"
      ]
    },
    {
      "cell_type": "code",
      "metadata": {
        "id": "yIqz_wAEDFo9",
        "colab": {
          "base_uri": "https://localhost:8080/"
        },
        "outputId": "0673a4ce-c40c-4492-aad3-fb421137d87d"
      },
      "source": [
        "# Define the model - deep neural net, i.e., the number of input features and hidden nodes for each layer.\n",
        "number_input_features = len( X_train_scaled[0])\n",
        "hidden_nodes_layer1=60\n",
        "hidden_nodes_layer2=40\n",
        "\n",
        "nn_model = tf.keras.models.Sequential()\n",
        "\n",
        "# First hidden layer\n",
        "nn_model.add(tf.keras.layers.Dense(units=hidden_nodes_layer1, input_dim=number_input_features, activation='relu'))\n",
        "\n",
        "# Second hidden layer\n",
        "nn_model.add(tf.keras.layers.Dense(units=hidden_nodes_layer2, activation='relu'))\n",
        "\n",
        "# Output layer\n",
        "nn_model.add(tf.keras.layers.Dense(units=1, activation='sigmoid'))\n",
        "\n",
        "# Check the structure of the model\n",
        "nn_model.summary()"
      ],
      "execution_count": 27,
      "outputs": [
        {
          "output_type": "stream",
          "name": "stdout",
          "text": [
            "Model: \"sequential_1\"\n",
            "_________________________________________________________________\n",
            "Layer (type)                 Output Shape              Param #   \n",
            "=================================================================\n",
            "dense_3 (Dense)              (None, 60)                2640      \n",
            "_________________________________________________________________\n",
            "dense_4 (Dense)              (None, 40)                2440      \n",
            "_________________________________________________________________\n",
            "dense_5 (Dense)              (None, 1)                 41        \n",
            "=================================================================\n",
            "Total params: 5,121\n",
            "Trainable params: 5,121\n",
            "Non-trainable params: 0\n",
            "_________________________________________________________________\n"
          ]
        }
      ]
    },
    {
      "cell_type": "code",
      "metadata": {
        "id": "M9zqjrf8DRDm"
      },
      "source": [
        "# Compile the model\n",
        "nn_model.compile(loss = 'binary_crossentropy', optimizer = 'adam', metrics=['accuracy', tf.keras.metrics.Recall()])"
      ],
      "execution_count": 28,
      "outputs": []
    },
    {
      "cell_type": "code",
      "metadata": {
        "id": "tIC2jHSoDRnj",
        "colab": {
          "base_uri": "https://localhost:8080/"
        },
        "outputId": "6d653dd3-ac23-4cbd-9899-2cd72e04d1fd"
      },
      "source": [
        "fit_model = nn_model.fit(X_train_scaled,y_train, epochs=100)"
      ],
      "execution_count": 29,
      "outputs": [
        {
          "output_type": "stream",
          "name": "stdout",
          "text": [
            "Epoch 1/100\n",
            "804/804 [==============================] - 1s 1ms/step - loss: 0.5749 - accuracy: 0.7180 - recall_1: 0.7691\n",
            "Epoch 2/100\n",
            "804/804 [==============================] - 1s 1ms/step - loss: 0.5556 - accuracy: 0.7275 - recall_1: 0.7843\n",
            "Epoch 3/100\n",
            "804/804 [==============================] - 1s 1ms/step - loss: 0.5530 - accuracy: 0.7275 - recall_1: 0.7851\n",
            "Epoch 4/100\n",
            "804/804 [==============================] - 1s 1ms/step - loss: 0.5506 - accuracy: 0.7321 - recall_1: 0.7863\n",
            "Epoch 5/100\n",
            "804/804 [==============================] - 1s 1ms/step - loss: 0.5499 - accuracy: 0.7295 - recall_1: 0.7843\n",
            "Epoch 6/100\n",
            "804/804 [==============================] - 1s 1ms/step - loss: 0.5481 - accuracy: 0.7314 - recall_1: 0.7875\n",
            "Epoch 7/100\n",
            "804/804 [==============================] - 1s 1ms/step - loss: 0.5480 - accuracy: 0.7332 - recall_1: 0.7870\n",
            "Epoch 8/100\n",
            "804/804 [==============================] - 1s 1ms/step - loss: 0.5473 - accuracy: 0.7312 - recall_1: 0.7844\n",
            "Epoch 9/100\n",
            "804/804 [==============================] - 1s 1ms/step - loss: 0.5462 - accuracy: 0.7330 - recall_1: 0.7896\n",
            "Epoch 10/100\n",
            "804/804 [==============================] - 1s 1ms/step - loss: 0.5459 - accuracy: 0.7329 - recall_1: 0.7817\n",
            "Epoch 11/100\n",
            "804/804 [==============================] - 1s 1ms/step - loss: 0.5454 - accuracy: 0.7332 - recall_1: 0.7916\n",
            "Epoch 12/100\n",
            "804/804 [==============================] - 1s 1ms/step - loss: 0.5449 - accuracy: 0.7335 - recall_1: 0.7909\n",
            "Epoch 13/100\n",
            "804/804 [==============================] - 1s 1ms/step - loss: 0.5450 - accuracy: 0.7343 - recall_1: 0.7882\n",
            "Epoch 14/100\n",
            "804/804 [==============================] - 1s 1ms/step - loss: 0.5440 - accuracy: 0.7360 - recall_1: 0.7913\n",
            "Epoch 15/100\n",
            "804/804 [==============================] - 1s 1ms/step - loss: 0.5439 - accuracy: 0.7341 - recall_1: 0.7928\n",
            "Epoch 16/100\n",
            "804/804 [==============================] - 1s 1ms/step - loss: 0.5431 - accuracy: 0.7357 - recall_1: 0.7897\n",
            "Epoch 17/100\n",
            "804/804 [==============================] - 1s 1ms/step - loss: 0.5429 - accuracy: 0.7362 - recall_1: 0.7908\n",
            "Epoch 18/100\n",
            "804/804 [==============================] - 1s 1ms/step - loss: 0.5430 - accuracy: 0.7356 - recall_1: 0.7858\n",
            "Epoch 19/100\n",
            "804/804 [==============================] - 1s 1ms/step - loss: 0.5424 - accuracy: 0.7375 - recall_1: 0.7898\n",
            "Epoch 20/100\n",
            "804/804 [==============================] - 1s 1ms/step - loss: 0.5419 - accuracy: 0.7368 - recall_1: 0.7933\n",
            "Epoch 21/100\n",
            "804/804 [==============================] - 1s 1ms/step - loss: 0.5418 - accuracy: 0.7367 - recall_1: 0.7905\n",
            "Epoch 22/100\n",
            "804/804 [==============================] - 1s 1ms/step - loss: 0.5419 - accuracy: 0.7367 - recall_1: 0.7881\n",
            "Epoch 23/100\n",
            "804/804 [==============================] - 1s 1ms/step - loss: 0.5413 - accuracy: 0.7364 - recall_1: 0.7933\n",
            "Epoch 24/100\n",
            "804/804 [==============================] - 1s 1ms/step - loss: 0.5414 - accuracy: 0.7361 - recall_1: 0.7913\n",
            "Epoch 25/100\n",
            "804/804 [==============================] - 1s 1ms/step - loss: 0.5415 - accuracy: 0.7360 - recall_1: 0.7900\n",
            "Epoch 26/100\n",
            "804/804 [==============================] - 1s 1ms/step - loss: 0.5412 - accuracy: 0.7362 - recall_1: 0.7917\n",
            "Epoch 27/100\n",
            "804/804 [==============================] - 1s 1ms/step - loss: 0.5406 - accuracy: 0.7367 - recall_1: 0.7886\n",
            "Epoch 28/100\n",
            "804/804 [==============================] - 1s 1ms/step - loss: 0.5405 - accuracy: 0.7385 - recall_1: 0.7925\n",
            "Epoch 29/100\n",
            "804/804 [==============================] - 1s 1ms/step - loss: 0.5404 - accuracy: 0.7368 - recall_1: 0.7876\n",
            "Epoch 30/100\n",
            "804/804 [==============================] - 1s 1ms/step - loss: 0.5403 - accuracy: 0.7367 - recall_1: 0.7853\n",
            "Epoch 31/100\n",
            "804/804 [==============================] - 1s 1ms/step - loss: 0.5396 - accuracy: 0.7376 - recall_1: 0.7944\n",
            "Epoch 32/100\n",
            "804/804 [==============================] - 1s 1ms/step - loss: 0.5399 - accuracy: 0.7371 - recall_1: 0.7908\n",
            "Epoch 33/100\n",
            "804/804 [==============================] - 1s 1ms/step - loss: 0.5399 - accuracy: 0.7364 - recall_1: 0.7914\n",
            "Epoch 34/100\n",
            "804/804 [==============================] - 1s 1ms/step - loss: 0.5393 - accuracy: 0.7378 - recall_1: 0.7903\n",
            "Epoch 35/100\n",
            "804/804 [==============================] - 1s 1ms/step - loss: 0.5393 - accuracy: 0.7380 - recall_1: 0.7917\n",
            "Epoch 36/100\n",
            "804/804 [==============================] - 1s 1ms/step - loss: 0.5397 - accuracy: 0.7376 - recall_1: 0.7892\n",
            "Epoch 37/100\n",
            "804/804 [==============================] - 1s 1ms/step - loss: 0.5395 - accuracy: 0.7378 - recall_1: 0.7892\n",
            "Epoch 38/100\n",
            "804/804 [==============================] - 1s 1ms/step - loss: 0.5388 - accuracy: 0.7380 - recall_1: 0.7930\n",
            "Epoch 39/100\n",
            "804/804 [==============================] - 1s 1ms/step - loss: 0.5390 - accuracy: 0.7368 - recall_1: 0.7922\n",
            "Epoch 40/100\n",
            "804/804 [==============================] - 1s 1ms/step - loss: 0.5390 - accuracy: 0.7376 - recall_1: 0.7887\n",
            "Epoch 41/100\n",
            "804/804 [==============================] - 1s 1ms/step - loss: 0.5385 - accuracy: 0.7390 - recall_1: 0.7920\n",
            "Epoch 42/100\n",
            "804/804 [==============================] - 1s 1ms/step - loss: 0.5384 - accuracy: 0.7390 - recall_1: 0.7939\n",
            "Epoch 43/100\n",
            "804/804 [==============================] - 1s 1ms/step - loss: 0.5379 - accuracy: 0.7388 - recall_1: 0.7911\n",
            "Epoch 44/100\n",
            "804/804 [==============================] - 1s 1ms/step - loss: 0.5389 - accuracy: 0.7393 - recall_1: 0.7912\n",
            "Epoch 45/100\n",
            "804/804 [==============================] - 1s 1ms/step - loss: 0.5380 - accuracy: 0.7383 - recall_1: 0.7907\n",
            "Epoch 46/100\n",
            "804/804 [==============================] - 1s 1ms/step - loss: 0.5384 - accuracy: 0.7380 - recall_1: 0.7925\n",
            "Epoch 47/100\n",
            "804/804 [==============================] - 1s 1ms/step - loss: 0.5380 - accuracy: 0.7385 - recall_1: 0.7905\n",
            "Epoch 48/100\n",
            "804/804 [==============================] - 1s 1ms/step - loss: 0.5377 - accuracy: 0.7381 - recall_1: 0.7923\n",
            "Epoch 49/100\n",
            "804/804 [==============================] - 1s 1ms/step - loss: 0.5379 - accuracy: 0.7393 - recall_1: 0.7892\n",
            "Epoch 50/100\n",
            "804/804 [==============================] - 1s 1ms/step - loss: 0.5380 - accuracy: 0.7382 - recall_1: 0.7923\n",
            "Epoch 51/100\n",
            "804/804 [==============================] - 1s 1ms/step - loss: 0.5376 - accuracy: 0.7385 - recall_1: 0.7922\n",
            "Epoch 52/100\n",
            "804/804 [==============================] - 1s 1ms/step - loss: 0.5375 - accuracy: 0.7388 - recall_1: 0.7949\n",
            "Epoch 53/100\n",
            "804/804 [==============================] - 1s 1ms/step - loss: 0.5372 - accuracy: 0.7373 - recall_1: 0.7892\n",
            "Epoch 54/100\n",
            "804/804 [==============================] - 1s 1ms/step - loss: 0.5373 - accuracy: 0.7391 - recall_1: 0.7945\n",
            "Epoch 55/100\n",
            "804/804 [==============================] - 1s 1ms/step - loss: 0.5372 - accuracy: 0.7388 - recall_1: 0.7920\n",
            "Epoch 56/100\n",
            "804/804 [==============================] - 1s 1ms/step - loss: 0.5371 - accuracy: 0.7387 - recall_1: 0.7944\n",
            "Epoch 57/100\n",
            "804/804 [==============================] - 1s 1ms/step - loss: 0.5372 - accuracy: 0.7383 - recall_1: 0.7903\n",
            "Epoch 58/100\n",
            "804/804 [==============================] - 1s 1ms/step - loss: 0.5370 - accuracy: 0.7390 - recall_1: 0.7951\n",
            "Epoch 59/100\n",
            "804/804 [==============================] - 1s 1ms/step - loss: 0.5368 - accuracy: 0.7388 - recall_1: 0.7898\n",
            "Epoch 60/100\n",
            "804/804 [==============================] - 1s 1ms/step - loss: 0.5367 - accuracy: 0.7383 - recall_1: 0.7937\n",
            "Epoch 61/100\n",
            "804/804 [==============================] - 1s 1ms/step - loss: 0.5365 - accuracy: 0.7387 - recall_1: 0.7949\n",
            "Epoch 62/100\n",
            "804/804 [==============================] - 1s 1ms/step - loss: 0.5364 - accuracy: 0.7386 - recall_1: 0.7927\n",
            "Epoch 63/100\n",
            "804/804 [==============================] - 1s 1ms/step - loss: 0.5364 - accuracy: 0.7390 - recall_1: 0.7932\n",
            "Epoch 64/100\n",
            "804/804 [==============================] - 1s 1ms/step - loss: 0.5359 - accuracy: 0.7391 - recall_1: 0.7955\n",
            "Epoch 65/100\n",
            "804/804 [==============================] - 1s 1ms/step - loss: 0.5362 - accuracy: 0.7383 - recall_1: 0.7906\n",
            "Epoch 66/100\n",
            "804/804 [==============================] - 1s 1ms/step - loss: 0.5363 - accuracy: 0.7395 - recall_1: 0.7917\n",
            "Epoch 67/100\n",
            "804/804 [==============================] - 1s 1ms/step - loss: 0.5360 - accuracy: 0.7393 - recall_1: 0.7961\n",
            "Epoch 68/100\n",
            "804/804 [==============================] - 1s 1ms/step - loss: 0.5355 - accuracy: 0.7381 - recall_1: 0.7922\n",
            "Epoch 69/100\n",
            "804/804 [==============================] - 1s 1ms/step - loss: 0.5359 - accuracy: 0.7388 - recall_1: 0.7943\n",
            "Epoch 70/100\n",
            "804/804 [==============================] - 1s 1ms/step - loss: 0.5359 - accuracy: 0.7400 - recall_1: 0.7930\n",
            "Epoch 71/100\n",
            "804/804 [==============================] - 1s 1ms/step - loss: 0.5355 - accuracy: 0.7393 - recall_1: 0.7922\n",
            "Epoch 72/100\n",
            "804/804 [==============================] - 1s 1ms/step - loss: 0.5358 - accuracy: 0.7390 - recall_1: 0.7936\n",
            "Epoch 73/100\n",
            "804/804 [==============================] - 1s 1ms/step - loss: 0.5356 - accuracy: 0.7395 - recall_1: 0.7928\n",
            "Epoch 74/100\n",
            "804/804 [==============================] - 1s 1ms/step - loss: 0.5354 - accuracy: 0.7398 - recall_1: 0.7965\n",
            "Epoch 75/100\n",
            "804/804 [==============================] - 1s 1ms/step - loss: 0.5353 - accuracy: 0.7388 - recall_1: 0.7954\n",
            "Epoch 76/100\n",
            "804/804 [==============================] - 1s 1ms/step - loss: 0.5354 - accuracy: 0.7394 - recall_1: 0.8002\n",
            "Epoch 77/100\n",
            "804/804 [==============================] - 1s 1ms/step - loss: 0.5350 - accuracy: 0.7406 - recall_1: 0.7885\n",
            "Epoch 78/100\n",
            "804/804 [==============================] - 1s 1ms/step - loss: 0.5350 - accuracy: 0.7402 - recall_1: 0.7983\n",
            "Epoch 79/100\n",
            "804/804 [==============================] - 1s 1ms/step - loss: 0.5355 - accuracy: 0.7394 - recall_1: 0.7925\n",
            "Epoch 80/100\n",
            "804/804 [==============================] - 1s 1ms/step - loss: 0.5349 - accuracy: 0.7393 - recall_1: 0.7925\n",
            "Epoch 81/100\n",
            "804/804 [==============================] - 1s 1ms/step - loss: 0.5349 - accuracy: 0.7405 - recall_1: 0.7951\n",
            "Epoch 82/100\n",
            "804/804 [==============================] - 1s 1ms/step - loss: 0.5355 - accuracy: 0.7389 - recall_1: 0.7900\n",
            "Epoch 83/100\n",
            "804/804 [==============================] - 1s 1ms/step - loss: 0.5352 - accuracy: 0.7397 - recall_1: 0.7968\n",
            "Epoch 84/100\n",
            "804/804 [==============================] - 1s 1ms/step - loss: 0.5344 - accuracy: 0.7403 - recall_1: 0.7951\n",
            "Epoch 85/100\n",
            "804/804 [==============================] - 1s 1ms/step - loss: 0.5347 - accuracy: 0.7408 - recall_1: 0.7930\n",
            "Epoch 86/100\n",
            "804/804 [==============================] - 1s 1ms/step - loss: 0.5349 - accuracy: 0.7399 - recall_1: 0.7975\n",
            "Epoch 87/100\n",
            "804/804 [==============================] - 1s 1ms/step - loss: 0.5347 - accuracy: 0.7389 - recall_1: 0.7960\n",
            "Epoch 88/100\n",
            "804/804 [==============================] - 1s 1ms/step - loss: 0.5350 - accuracy: 0.7400 - recall_1: 0.7944\n",
            "Epoch 89/100\n",
            "804/804 [==============================] - 1s 1ms/step - loss: 0.5346 - accuracy: 0.7385 - recall_1: 0.7915\n",
            "Epoch 90/100\n",
            "804/804 [==============================] - 1s 1ms/step - loss: 0.5347 - accuracy: 0.7400 - recall_1: 0.8034\n",
            "Epoch 91/100\n",
            "804/804 [==============================] - 1s 1ms/step - loss: 0.5347 - accuracy: 0.7402 - recall_1: 0.7917\n",
            "Epoch 92/100\n",
            "804/804 [==============================] - 1s 1ms/step - loss: 0.5347 - accuracy: 0.7400 - recall_1: 0.7953\n",
            "Epoch 93/100\n",
            "804/804 [==============================] - 1s 1ms/step - loss: 0.5345 - accuracy: 0.7402 - recall_1: 0.7922\n",
            "Epoch 94/100\n",
            "804/804 [==============================] - 1s 1ms/step - loss: 0.5343 - accuracy: 0.7395 - recall_1: 0.7920\n",
            "Epoch 95/100\n",
            "804/804 [==============================] - 1s 1ms/step - loss: 0.5344 - accuracy: 0.7398 - recall_1: 0.7971\n",
            "Epoch 96/100\n",
            "804/804 [==============================] - 1s 1ms/step - loss: 0.5344 - accuracy: 0.7395 - recall_1: 0.7921\n",
            "Epoch 97/100\n",
            "804/804 [==============================] - 1s 1ms/step - loss: 0.5345 - accuracy: 0.7398 - recall_1: 0.7905\n",
            "Epoch 98/100\n",
            "804/804 [==============================] - 1s 1ms/step - loss: 0.5339 - accuracy: 0.7403 - recall_1: 0.7948\n",
            "Epoch 99/100\n",
            "804/804 [==============================] - 1s 1ms/step - loss: 0.5344 - accuracy: 0.7397 - recall_1: 0.7931\n",
            "Epoch 100/100\n",
            "804/804 [==============================] - 1s 1ms/step - loss: 0.5338 - accuracy: 0.7395 - recall_1: 0.7939\n"
          ]
        }
      ]
    },
    {
      "cell_type": "code",
      "metadata": {
        "id": "ASt0xBh9DVYZ",
        "colab": {
          "base_uri": "https://localhost:8080/"
        },
        "outputId": "29c72c07-e26c-4b71-fd8f-db9375984209"
      },
      "source": [
        "# Evaluate the model using the test data\n",
        "model_loss, model_accuracy, model_Recall= nn_model.evaluate(X_test_scaled,y_test,verbose=2)\n",
        "print(f\"Loss: {model_loss}, Accuracy: {model_accuracy}\")"
      ],
      "execution_count": 30,
      "outputs": [
        {
          "output_type": "stream",
          "name": "stdout",
          "text": [
            "268/268 - 0s - loss: 0.5631 - accuracy: 0.7289 - recall_1: 0.7861\n",
            "Loss: 0.5630723237991333, Accuracy: 0.728863000869751\n"
          ]
        }
      ]
    },
    {
      "cell_type": "code",
      "metadata": {
        "id": "e1wBVvmMDXcF",
        "outputId": "838bfdb4-cf35-498b-abf1-b4c730db1134",
        "colab": {
          "base_uri": "https://localhost:8080/",
          "height": 17
        }
      },
      "source": [
        "# Export our model to HDF5 file\n",
        "from google.colab import files\n",
        "\n",
        "nn_model.save('/content/Alphabet_Soup_model2.h5')\n",
        "files.download('/content/Alphabet_Soup_model2.h5')"
      ],
      "execution_count": 31,
      "outputs": [
        {
          "output_type": "display_data",
          "data": {
            "application/javascript": [
              "\n",
              "    async function download(id, filename, size) {\n",
              "      if (!google.colab.kernel.accessAllowed) {\n",
              "        return;\n",
              "      }\n",
              "      const div = document.createElement('div');\n",
              "      const label = document.createElement('label');\n",
              "      label.textContent = `Downloading \"${filename}\": `;\n",
              "      div.appendChild(label);\n",
              "      const progress = document.createElement('progress');\n",
              "      progress.max = size;\n",
              "      div.appendChild(progress);\n",
              "      document.body.appendChild(div);\n",
              "\n",
              "      const buffers = [];\n",
              "      let downloaded = 0;\n",
              "\n",
              "      const channel = await google.colab.kernel.comms.open(id);\n",
              "      // Send a message to notify the kernel that we're ready.\n",
              "      channel.send({})\n",
              "\n",
              "      for await (const message of channel.messages) {\n",
              "        // Send a message to notify the kernel that we're ready.\n",
              "        channel.send({})\n",
              "        if (message.buffers) {\n",
              "          for (const buffer of message.buffers) {\n",
              "            buffers.push(buffer);\n",
              "            downloaded += buffer.byteLength;\n",
              "            progress.value = downloaded;\n",
              "          }\n",
              "        }\n",
              "      }\n",
              "      const blob = new Blob(buffers, {type: 'application/binary'});\n",
              "      const a = document.createElement('a');\n",
              "      a.href = window.URL.createObjectURL(blob);\n",
              "      a.download = filename;\n",
              "      div.appendChild(a);\n",
              "      a.click();\n",
              "      div.remove();\n",
              "    }\n",
              "  "
            ],
            "text/plain": [
              "<IPython.core.display.Javascript object>"
            ]
          },
          "metadata": {}
        },
        {
          "output_type": "display_data",
          "data": {
            "application/javascript": [
              "download(\"download_87adad9b-e1dd-4c09-9bcc-4fc84c874c3e\", \"Alphabet_Soup_model2.h5\", 93032)"
            ],
            "text/plain": [
              "<IPython.core.display.Javascript object>"
            ]
          },
          "metadata": {}
        }
      ]
    },
    {
      "cell_type": "markdown",
      "metadata": {
        "id": "Q3Qz-crSHTHM"
      },
      "source": [
        "# Model Evaluation 3"
      ]
    },
    {
      "cell_type": "code",
      "metadata": {
        "id": "yQ2MHXVTDb2a",
        "colab": {
          "base_uri": "https://localhost:8080/"
        },
        "outputId": "8b8249b1-e8c2-46cb-b7eb-83a9421c4ea6"
      },
      "source": [
        "# Define the model - deep neural net, i.e., the number of input features and hidden nodes for each layer.\n",
        "number_input_features = len( X_train_scaled[0])\n",
        "hidden_nodes_layer1=200\n",
        "hidden_nodes_layer2=95\n",
        "hidden_nodes_layer3=70\n",
        "\n",
        "nn_model = tf.keras.models.Sequential()\n",
        "\n",
        "# First hidden layer\n",
        "nn_model.add(tf.keras.layers.Dense(units=hidden_nodes_layer1, input_dim=number_input_features, activation='relu'))\n",
        "\n",
        "# Second hidden layer\n",
        "nn_model.add(tf.keras.layers.Dense(units=hidden_nodes_layer2, activation='sigmoid'))\n",
        "\n",
        "# 3 hidden layer\n",
        "nn_model.add(tf.keras.layers.Dense(units=hidden_nodes_layer3, activation='sigmoid'))\n",
        "\n",
        "# Output layer\n",
        "nn_model.add(tf.keras.layers.Dense(units=1, activation='sigmoid'))\n",
        "\n",
        "# Check the structure of the model\n",
        "nn_model.summary()"
      ],
      "execution_count": 212,
      "outputs": [
        {
          "output_type": "stream",
          "name": "stdout",
          "text": [
            "Model: \"sequential_39\"\n",
            "_________________________________________________________________\n",
            "Layer (type)                 Output Shape              Param #   \n",
            "=================================================================\n",
            "dense_154 (Dense)            (None, 200)               8800      \n",
            "_________________________________________________________________\n",
            "dense_155 (Dense)            (None, 95)                19095     \n",
            "_________________________________________________________________\n",
            "dense_156 (Dense)            (None, 70)                6720      \n",
            "_________________________________________________________________\n",
            "dense_157 (Dense)            (None, 1)                 71        \n",
            "=================================================================\n",
            "Total params: 34,686\n",
            "Trainable params: 34,686\n",
            "Non-trainable params: 0\n",
            "_________________________________________________________________\n"
          ]
        }
      ]
    },
    {
      "cell_type": "code",
      "metadata": {
        "id": "3dhAy5ZRHZ-A"
      },
      "source": [
        "# Compile the model\n",
        "nn_model.compile(loss = 'binary_crossentropy', optimizer = 'adam', metrics=['accuracy', tf.keras.metrics.Recall()])"
      ],
      "execution_count": 213,
      "outputs": []
    },
    {
      "cell_type": "code",
      "metadata": {
        "id": "vwok5whqHtaI",
        "colab": {
          "base_uri": "https://localhost:8080/"
        },
        "outputId": "70fbf6db-2b1a-47da-8248-fdc5d8996276"
      },
      "source": [
        "fit_model = nn_model.fit(X_train_scaled,y_train, epochs=200)"
      ],
      "execution_count": 214,
      "outputs": [
        {
          "output_type": "stream",
          "name": "stdout",
          "text": [
            "Epoch 1/200\n",
            "804/804 [==============================] - 2s 2ms/step - loss: 0.5736 - accuracy: 0.7151 - recall_36: 0.7810\n",
            "Epoch 2/200\n",
            "804/804 [==============================] - 1s 2ms/step - loss: 0.5563 - accuracy: 0.7278 - recall_36: 0.7850\n",
            "Epoch 3/200\n",
            "804/804 [==============================] - 1s 2ms/step - loss: 0.5544 - accuracy: 0.7284 - recall_36: 0.7914\n",
            "Epoch 4/200\n",
            "804/804 [==============================] - 1s 2ms/step - loss: 0.5515 - accuracy: 0.7317 - recall_36: 0.7940\n",
            "Epoch 5/200\n",
            "804/804 [==============================] - 1s 2ms/step - loss: 0.5512 - accuracy: 0.7296 - recall_36: 0.7931\n",
            "Epoch 6/200\n",
            "804/804 [==============================] - 1s 2ms/step - loss: 0.5496 - accuracy: 0.7315 - recall_36: 0.7941\n",
            "Epoch 7/200\n",
            "804/804 [==============================] - 1s 2ms/step - loss: 0.5486 - accuracy: 0.7312 - recall_36: 0.7884\n",
            "Epoch 8/200\n",
            "804/804 [==============================] - 1s 2ms/step - loss: 0.5481 - accuracy: 0.7310 - recall_36: 0.7958\n",
            "Epoch 9/200\n",
            "804/804 [==============================] - 1s 2ms/step - loss: 0.5476 - accuracy: 0.7313 - recall_36: 0.7908\n",
            "Epoch 10/200\n",
            "804/804 [==============================] - 1s 2ms/step - loss: 0.5467 - accuracy: 0.7329 - recall_36: 0.7908\n",
            "Epoch 11/200\n",
            "804/804 [==============================] - 1s 2ms/step - loss: 0.5455 - accuracy: 0.7341 - recall_36: 0.7957\n",
            "Epoch 12/200\n",
            "804/804 [==============================] - 1s 2ms/step - loss: 0.5447 - accuracy: 0.7336 - recall_36: 0.7963\n",
            "Epoch 13/200\n",
            "804/804 [==============================] - 1s 2ms/step - loss: 0.5449 - accuracy: 0.7341 - recall_36: 0.7948\n",
            "Epoch 14/200\n",
            "804/804 [==============================] - 1s 1ms/step - loss: 0.5440 - accuracy: 0.7340 - recall_36: 0.7982\n",
            "Epoch 15/200\n",
            "804/804 [==============================] - 1s 1ms/step - loss: 0.5433 - accuracy: 0.7334 - recall_36: 0.7900\n",
            "Epoch 16/200\n",
            "804/804 [==============================] - 1s 2ms/step - loss: 0.5433 - accuracy: 0.7340 - recall_36: 0.7967\n",
            "Epoch 17/200\n",
            "804/804 [==============================] - 1s 2ms/step - loss: 0.5423 - accuracy: 0.7355 - recall_36: 0.7941\n",
            "Epoch 18/200\n",
            "804/804 [==============================] - 1s 2ms/step - loss: 0.5423 - accuracy: 0.7343 - recall_36: 0.7944\n",
            "Epoch 19/200\n",
            "804/804 [==============================] - 1s 2ms/step - loss: 0.5414 - accuracy: 0.7355 - recall_36: 0.7948\n",
            "Epoch 20/200\n",
            "804/804 [==============================] - 1s 2ms/step - loss: 0.5407 - accuracy: 0.7360 - recall_36: 0.7980\n",
            "Epoch 21/200\n",
            "804/804 [==============================] - 1s 2ms/step - loss: 0.5408 - accuracy: 0.7358 - recall_36: 0.8000\n",
            "Epoch 22/200\n",
            "804/804 [==============================] - 1s 2ms/step - loss: 0.5403 - accuracy: 0.7350 - recall_36: 0.7920\n",
            "Epoch 23/200\n",
            "804/804 [==============================] - 1s 2ms/step - loss: 0.5399 - accuracy: 0.7357 - recall_36: 0.7914\n",
            "Epoch 24/200\n",
            "804/804 [==============================] - 1s 2ms/step - loss: 0.5397 - accuracy: 0.7372 - recall_36: 0.7955\n",
            "Epoch 25/200\n",
            "804/804 [==============================] - 1s 2ms/step - loss: 0.5391 - accuracy: 0.7376 - recall_36: 0.7951\n",
            "Epoch 26/200\n",
            "804/804 [==============================] - 1s 2ms/step - loss: 0.5392 - accuracy: 0.7375 - recall_36: 0.7949\n",
            "Epoch 27/200\n",
            "804/804 [==============================] - 1s 2ms/step - loss: 0.5387 - accuracy: 0.7376 - recall_36: 0.8034\n",
            "Epoch 28/200\n",
            "804/804 [==============================] - 1s 2ms/step - loss: 0.5383 - accuracy: 0.7374 - recall_36: 0.7933\n",
            "Epoch 29/200\n",
            "804/804 [==============================] - 1s 2ms/step - loss: 0.5380 - accuracy: 0.7363 - recall_36: 0.7972\n",
            "Epoch 30/200\n",
            "804/804 [==============================] - 1s 2ms/step - loss: 0.5378 - accuracy: 0.7374 - recall_36: 0.7923\n",
            "Epoch 31/200\n",
            "804/804 [==============================] - 1s 2ms/step - loss: 0.5378 - accuracy: 0.7369 - recall_36: 0.7944\n",
            "Epoch 32/200\n",
            "804/804 [==============================] - 1s 2ms/step - loss: 0.5370 - accuracy: 0.7377 - recall_36: 0.7947\n",
            "Epoch 33/200\n",
            "804/804 [==============================] - 1s 2ms/step - loss: 0.5374 - accuracy: 0.7380 - recall_36: 0.7957\n",
            "Epoch 34/200\n",
            "804/804 [==============================] - 1s 2ms/step - loss: 0.5366 - accuracy: 0.7391 - recall_36: 0.7979\n",
            "Epoch 35/200\n",
            "804/804 [==============================] - 1s 2ms/step - loss: 0.5367 - accuracy: 0.7383 - recall_36: 0.7940\n",
            "Epoch 36/200\n",
            "804/804 [==============================] - 1s 2ms/step - loss: 0.5363 - accuracy: 0.7385 - recall_36: 0.7946\n",
            "Epoch 37/200\n",
            "804/804 [==============================] - 1s 2ms/step - loss: 0.5363 - accuracy: 0.7387 - recall_36: 0.7957\n",
            "Epoch 38/200\n",
            "804/804 [==============================] - 1s 2ms/step - loss: 0.5359 - accuracy: 0.7378 - recall_36: 0.7941\n",
            "Epoch 39/200\n",
            "804/804 [==============================] - 1s 2ms/step - loss: 0.5355 - accuracy: 0.7383 - recall_36: 0.7956\n",
            "Epoch 40/200\n",
            "804/804 [==============================] - 1s 2ms/step - loss: 0.5355 - accuracy: 0.7390 - recall_36: 0.7943\n",
            "Epoch 41/200\n",
            "804/804 [==============================] - 1s 2ms/step - loss: 0.5351 - accuracy: 0.7392 - recall_36: 0.7975\n",
            "Epoch 42/200\n",
            "804/804 [==============================] - 1s 2ms/step - loss: 0.5349 - accuracy: 0.7394 - recall_36: 0.7944\n",
            "Epoch 43/200\n",
            "804/804 [==============================] - 1s 2ms/step - loss: 0.5348 - accuracy: 0.7384 - recall_36: 0.7990\n",
            "Epoch 44/200\n",
            "804/804 [==============================] - 1s 2ms/step - loss: 0.5346 - accuracy: 0.7383 - recall_36: 0.7944\n",
            "Epoch 45/200\n",
            "804/804 [==============================] - 1s 2ms/step - loss: 0.5345 - accuracy: 0.7389 - recall_36: 0.7965\n",
            "Epoch 46/200\n",
            "804/804 [==============================] - 1s 2ms/step - loss: 0.5341 - accuracy: 0.7397 - recall_36: 0.7961\n",
            "Epoch 47/200\n",
            "804/804 [==============================] - 1s 2ms/step - loss: 0.5342 - accuracy: 0.7396 - recall_36: 0.7983\n",
            "Epoch 48/200\n",
            "804/804 [==============================] - 1s 2ms/step - loss: 0.5338 - accuracy: 0.7404 - recall_36: 0.7960\n",
            "Epoch 49/200\n",
            "804/804 [==============================] - 1s 2ms/step - loss: 0.5344 - accuracy: 0.7400 - recall_36: 0.7964\n",
            "Epoch 50/200\n",
            "804/804 [==============================] - 1s 2ms/step - loss: 0.5336 - accuracy: 0.7390 - recall_36: 0.7969\n",
            "Epoch 51/200\n",
            "804/804 [==============================] - 1s 2ms/step - loss: 0.5334 - accuracy: 0.7392 - recall_36: 0.7964\n",
            "Epoch 52/200\n",
            "804/804 [==============================] - 1s 2ms/step - loss: 0.5341 - accuracy: 0.7397 - recall_36: 0.7950\n",
            "Epoch 53/200\n",
            "804/804 [==============================] - 1s 2ms/step - loss: 0.5334 - accuracy: 0.7397 - recall_36: 0.7946\n",
            "Epoch 54/200\n",
            "804/804 [==============================] - 1s 2ms/step - loss: 0.5330 - accuracy: 0.7395 - recall_36: 0.7949\n",
            "Epoch 55/200\n",
            "804/804 [==============================] - 1s 2ms/step - loss: 0.5331 - accuracy: 0.7395 - recall_36: 0.7944\n",
            "Epoch 56/200\n",
            "804/804 [==============================] - 1s 2ms/step - loss: 0.5329 - accuracy: 0.7398 - recall_36: 0.7933\n",
            "Epoch 57/200\n",
            "804/804 [==============================] - 1s 2ms/step - loss: 0.5328 - accuracy: 0.7400 - recall_36: 0.7972\n",
            "Epoch 58/200\n",
            "804/804 [==============================] - 1s 2ms/step - loss: 0.5323 - accuracy: 0.7405 - recall_36: 0.7954\n",
            "Epoch 59/200\n",
            "804/804 [==============================] - 1s 2ms/step - loss: 0.5327 - accuracy: 0.7397 - recall_36: 0.7936\n",
            "Epoch 60/200\n",
            "804/804 [==============================] - 1s 2ms/step - loss: 0.5330 - accuracy: 0.7398 - recall_36: 0.7936\n",
            "Epoch 61/200\n",
            "804/804 [==============================] - 1s 2ms/step - loss: 0.5326 - accuracy: 0.7389 - recall_36: 0.7955\n",
            "Epoch 62/200\n",
            "804/804 [==============================] - 1s 2ms/step - loss: 0.5321 - accuracy: 0.7404 - recall_36: 0.7947\n",
            "Epoch 63/200\n",
            "804/804 [==============================] - 1s 2ms/step - loss: 0.5319 - accuracy: 0.7390 - recall_36: 0.7957\n",
            "Epoch 64/200\n",
            "804/804 [==============================] - 1s 2ms/step - loss: 0.5318 - accuracy: 0.7396 - recall_36: 0.7938\n",
            "Epoch 65/200\n",
            "804/804 [==============================] - 1s 2ms/step - loss: 0.5323 - accuracy: 0.7399 - recall_36: 0.7969\n",
            "Epoch 66/200\n",
            "804/804 [==============================] - 1s 2ms/step - loss: 0.5325 - accuracy: 0.7398 - recall_36: 0.7966\n",
            "Epoch 67/200\n",
            "804/804 [==============================] - 1s 2ms/step - loss: 0.5322 - accuracy: 0.7404 - recall_36: 0.7971\n",
            "Epoch 68/200\n",
            "804/804 [==============================] - 1s 2ms/step - loss: 0.5322 - accuracy: 0.7402 - recall_36: 0.7947\n",
            "Epoch 69/200\n",
            "804/804 [==============================] - 1s 2ms/step - loss: 0.5317 - accuracy: 0.7409 - recall_36: 0.7930\n",
            "Epoch 70/200\n",
            "804/804 [==============================] - 1s 2ms/step - loss: 0.5317 - accuracy: 0.7403 - recall_36: 0.7972\n",
            "Epoch 71/200\n",
            "804/804 [==============================] - 1s 2ms/step - loss: 0.5314 - accuracy: 0.7402 - recall_36: 0.7937\n",
            "Epoch 72/200\n",
            "804/804 [==============================] - 1s 2ms/step - loss: 0.5316 - accuracy: 0.7404 - recall_36: 0.7968\n",
            "Epoch 73/200\n",
            "804/804 [==============================] - 1s 2ms/step - loss: 0.5316 - accuracy: 0.7407 - recall_36: 0.7959\n",
            "Epoch 74/200\n",
            "804/804 [==============================] - 1s 2ms/step - loss: 0.5323 - accuracy: 0.7400 - recall_36: 0.7957\n",
            "Epoch 75/200\n",
            "804/804 [==============================] - 1s 2ms/step - loss: 0.5317 - accuracy: 0.7406 - recall_36: 0.7930\n",
            "Epoch 76/200\n",
            "804/804 [==============================] - 1s 2ms/step - loss: 0.5313 - accuracy: 0.7407 - recall_36: 0.7974\n",
            "Epoch 77/200\n",
            "804/804 [==============================] - 1s 2ms/step - loss: 0.5311 - accuracy: 0.7411 - recall_36: 0.7981\n",
            "Epoch 78/200\n",
            "804/804 [==============================] - 1s 2ms/step - loss: 0.5311 - accuracy: 0.7408 - recall_36: 0.7944\n",
            "Epoch 79/200\n",
            "804/804 [==============================] - 1s 2ms/step - loss: 0.5314 - accuracy: 0.7407 - recall_36: 0.7969\n",
            "Epoch 80/200\n",
            "804/804 [==============================] - 1s 2ms/step - loss: 0.5308 - accuracy: 0.7406 - recall_36: 0.7941\n",
            "Epoch 81/200\n",
            "804/804 [==============================] - 1s 2ms/step - loss: 0.5310 - accuracy: 0.7409 - recall_36: 0.7965\n",
            "Epoch 82/200\n",
            "804/804 [==============================] - 1s 2ms/step - loss: 0.5309 - accuracy: 0.7406 - recall_36: 0.7952\n",
            "Epoch 83/200\n",
            "804/804 [==============================] - 1s 2ms/step - loss: 0.5310 - accuracy: 0.7409 - recall_36: 0.7949\n",
            "Epoch 84/200\n",
            "804/804 [==============================] - 1s 2ms/step - loss: 0.5308 - accuracy: 0.7404 - recall_36: 0.7965\n",
            "Epoch 85/200\n",
            "804/804 [==============================] - 1s 2ms/step - loss: 0.5307 - accuracy: 0.7402 - recall_36: 0.7954\n",
            "Epoch 86/200\n",
            "804/804 [==============================] - 1s 2ms/step - loss: 0.5304 - accuracy: 0.7408 - recall_36: 0.8009\n",
            "Epoch 87/200\n",
            "804/804 [==============================] - 1s 2ms/step - loss: 0.5310 - accuracy: 0.7408 - recall_36: 0.7965\n",
            "Epoch 88/200\n",
            "804/804 [==============================] - 1s 2ms/step - loss: 0.5308 - accuracy: 0.7413 - recall_36: 0.7924\n",
            "Epoch 89/200\n",
            "804/804 [==============================] - 1s 2ms/step - loss: 0.5311 - accuracy: 0.7413 - recall_36: 0.7947\n",
            "Epoch 90/200\n",
            "804/804 [==============================] - 1s 2ms/step - loss: 0.5307 - accuracy: 0.7416 - recall_36: 0.7946\n",
            "Epoch 91/200\n",
            "804/804 [==============================] - 1s 2ms/step - loss: 0.5304 - accuracy: 0.7405 - recall_36: 0.7930\n",
            "Epoch 92/200\n",
            "804/804 [==============================] - 1s 2ms/step - loss: 0.5307 - accuracy: 0.7407 - recall_36: 0.7923\n",
            "Epoch 93/200\n",
            "804/804 [==============================] - 1s 2ms/step - loss: 0.5305 - accuracy: 0.7416 - recall_36: 0.7978\n",
            "Epoch 94/200\n",
            "804/804 [==============================] - 1s 2ms/step - loss: 0.5301 - accuracy: 0.7412 - recall_36: 0.7960\n",
            "Epoch 95/200\n",
            "804/804 [==============================] - 1s 2ms/step - loss: 0.5317 - accuracy: 0.7402 - recall_36: 0.7919\n",
            "Epoch 96/200\n",
            "804/804 [==============================] - 1s 2ms/step - loss: 0.5304 - accuracy: 0.7410 - recall_36: 0.7947\n",
            "Epoch 97/200\n",
            "804/804 [==============================] - 1s 2ms/step - loss: 0.5304 - accuracy: 0.7413 - recall_36: 0.7960\n",
            "Epoch 98/200\n",
            "804/804 [==============================] - 1s 2ms/step - loss: 0.5310 - accuracy: 0.7408 - recall_36: 0.7913\n",
            "Epoch 99/200\n",
            "804/804 [==============================] - 1s 2ms/step - loss: 0.5304 - accuracy: 0.7412 - recall_36: 0.7957\n",
            "Epoch 100/200\n",
            "804/804 [==============================] - 1s 2ms/step - loss: 0.5305 - accuracy: 0.7411 - recall_36: 0.7921\n",
            "Epoch 101/200\n",
            "804/804 [==============================] - 1s 2ms/step - loss: 0.5305 - accuracy: 0.7404 - recall_36: 0.7950\n",
            "Epoch 102/200\n",
            "804/804 [==============================] - 1s 2ms/step - loss: 0.5310 - accuracy: 0.7406 - recall_36: 0.7957\n",
            "Epoch 103/200\n",
            "804/804 [==============================] - 1s 2ms/step - loss: 0.5302 - accuracy: 0.7419 - recall_36: 0.7996\n",
            "Epoch 104/200\n",
            "804/804 [==============================] - 1s 2ms/step - loss: 0.5298 - accuracy: 0.7406 - recall_36: 0.7966\n",
            "Epoch 105/200\n",
            "804/804 [==============================] - 1s 2ms/step - loss: 0.5301 - accuracy: 0.7401 - recall_36: 0.7922\n",
            "Epoch 106/200\n",
            "804/804 [==============================] - 1s 2ms/step - loss: 0.5303 - accuracy: 0.7407 - recall_36: 0.7978\n",
            "Epoch 107/200\n",
            "804/804 [==============================] - 1s 2ms/step - loss: 0.5301 - accuracy: 0.7414 - recall_36: 0.7963\n",
            "Epoch 108/200\n",
            "804/804 [==============================] - 1s 2ms/step - loss: 0.5301 - accuracy: 0.7411 - recall_36: 0.7974\n",
            "Epoch 109/200\n",
            "804/804 [==============================] - 1s 2ms/step - loss: 0.5299 - accuracy: 0.7419 - recall_36: 0.7936\n",
            "Epoch 110/200\n",
            "804/804 [==============================] - 1s 2ms/step - loss: 0.5301 - accuracy: 0.7419 - recall_36: 0.7949\n",
            "Epoch 111/200\n",
            "804/804 [==============================] - 1s 2ms/step - loss: 0.5305 - accuracy: 0.7406 - recall_36: 0.7923\n",
            "Epoch 112/200\n",
            "804/804 [==============================] - 1s 2ms/step - loss: 0.5297 - accuracy: 0.7411 - recall_36: 0.7965\n",
            "Epoch 113/200\n",
            "804/804 [==============================] - 1s 2ms/step - loss: 0.5302 - accuracy: 0.7402 - recall_36: 0.7977\n",
            "Epoch 114/200\n",
            "804/804 [==============================] - 1s 2ms/step - loss: 0.5303 - accuracy: 0.7405 - recall_36: 0.7989\n",
            "Epoch 115/200\n",
            "804/804 [==============================] - 1s 2ms/step - loss: 0.5298 - accuracy: 0.7414 - recall_36: 0.7938\n",
            "Epoch 116/200\n",
            "804/804 [==============================] - 1s 2ms/step - loss: 0.5302 - accuracy: 0.7416 - recall_36: 0.7917\n",
            "Epoch 117/200\n",
            "804/804 [==============================] - 1s 2ms/step - loss: 0.5306 - accuracy: 0.7413 - recall_36: 0.7954\n",
            "Epoch 118/200\n",
            "804/804 [==============================] - 1s 2ms/step - loss: 0.5298 - accuracy: 0.7419 - recall_36: 0.7937\n",
            "Epoch 119/200\n",
            "804/804 [==============================] - 1s 2ms/step - loss: 0.5294 - accuracy: 0.7413 - recall_36: 0.7954\n",
            "Epoch 120/200\n",
            "804/804 [==============================] - 1s 2ms/step - loss: 0.5295 - accuracy: 0.7415 - recall_36: 0.7928\n",
            "Epoch 121/200\n",
            "804/804 [==============================] - 1s 2ms/step - loss: 0.5295 - accuracy: 0.7410 - recall_36: 0.7938\n",
            "Epoch 122/200\n",
            "804/804 [==============================] - 1s 2ms/step - loss: 0.5297 - accuracy: 0.7416 - recall_36: 0.7927\n",
            "Epoch 123/200\n",
            "804/804 [==============================] - 1s 2ms/step - loss: 0.5298 - accuracy: 0.7417 - recall_36: 0.7942\n",
            "Epoch 124/200\n",
            "804/804 [==============================] - 1s 2ms/step - loss: 0.5294 - accuracy: 0.7418 - recall_36: 0.7934\n",
            "Epoch 125/200\n",
            "804/804 [==============================] - 1s 2ms/step - loss: 0.5293 - accuracy: 0.7417 - recall_36: 0.7946\n",
            "Epoch 126/200\n",
            "804/804 [==============================] - 1s 2ms/step - loss: 0.5293 - accuracy: 0.7414 - recall_36: 0.7942\n",
            "Epoch 127/200\n",
            "804/804 [==============================] - 1s 2ms/step - loss: 0.5294 - accuracy: 0.7406 - recall_36: 0.7925\n",
            "Epoch 128/200\n",
            "804/804 [==============================] - 1s 2ms/step - loss: 0.5295 - accuracy: 0.7413 - recall_36: 0.7917\n",
            "Epoch 129/200\n",
            "804/804 [==============================] - 1s 2ms/step - loss: 0.5299 - accuracy: 0.7405 - recall_36: 0.7899\n",
            "Epoch 130/200\n",
            "804/804 [==============================] - 1s 2ms/step - loss: 0.5298 - accuracy: 0.7410 - recall_36: 0.7936\n",
            "Epoch 131/200\n",
            "804/804 [==============================] - 1s 2ms/step - loss: 0.5294 - accuracy: 0.7416 - recall_36: 0.7938\n",
            "Epoch 132/200\n",
            "804/804 [==============================] - 1s 2ms/step - loss: 0.5298 - accuracy: 0.7417 - recall_36: 0.7962\n",
            "Epoch 133/200\n",
            "804/804 [==============================] - 1s 2ms/step - loss: 0.5296 - accuracy: 0.7418 - recall_36: 0.7963\n",
            "Epoch 134/200\n",
            "804/804 [==============================] - 1s 2ms/step - loss: 0.5298 - accuracy: 0.7412 - recall_36: 0.7934\n",
            "Epoch 135/200\n",
            "804/804 [==============================] - 1s 2ms/step - loss: 0.5295 - accuracy: 0.7416 - recall_36: 0.7958\n",
            "Epoch 136/200\n",
            "804/804 [==============================] - 1s 2ms/step - loss: 0.5290 - accuracy: 0.7414 - recall_36: 0.7922\n",
            "Epoch 137/200\n",
            "804/804 [==============================] - 1s 2ms/step - loss: 0.5290 - accuracy: 0.7423 - recall_36: 0.7968\n",
            "Epoch 138/200\n",
            "804/804 [==============================] - 1s 2ms/step - loss: 0.5293 - accuracy: 0.7417 - recall_36: 0.7949\n",
            "Epoch 139/200\n",
            "804/804 [==============================] - 1s 2ms/step - loss: 0.5296 - accuracy: 0.7418 - recall_36: 0.7941\n",
            "Epoch 140/200\n",
            "804/804 [==============================] - 1s 2ms/step - loss: 0.5296 - accuracy: 0.7409 - recall_36: 0.7955\n",
            "Epoch 141/200\n",
            "804/804 [==============================] - 1s 2ms/step - loss: 0.5293 - accuracy: 0.7419 - recall_36: 0.8008\n",
            "Epoch 142/200\n",
            "804/804 [==============================] - 1s 2ms/step - loss: 0.5297 - accuracy: 0.7415 - recall_36: 0.7943\n",
            "Epoch 143/200\n",
            "804/804 [==============================] - 1s 2ms/step - loss: 0.5297 - accuracy: 0.7414 - recall_36: 0.7927\n",
            "Epoch 144/200\n",
            "804/804 [==============================] - 1s 2ms/step - loss: 0.5296 - accuracy: 0.7422 - recall_36: 0.7954\n",
            "Epoch 145/200\n",
            "804/804 [==============================] - 1s 2ms/step - loss: 0.5297 - accuracy: 0.7418 - recall_36: 0.7940\n",
            "Epoch 146/200\n",
            "804/804 [==============================] - 1s 2ms/step - loss: 0.5294 - accuracy: 0.7418 - recall_36: 0.7930\n",
            "Epoch 147/200\n",
            "804/804 [==============================] - 1s 2ms/step - loss: 0.5294 - accuracy: 0.7416 - recall_36: 0.7934\n",
            "Epoch 148/200\n",
            "804/804 [==============================] - 1s 2ms/step - loss: 0.5291 - accuracy: 0.7409 - recall_36: 0.7937\n",
            "Epoch 149/200\n",
            "804/804 [==============================] - 1s 2ms/step - loss: 0.5295 - accuracy: 0.7416 - recall_36: 0.7941\n",
            "Epoch 150/200\n",
            "804/804 [==============================] - 1s 2ms/step - loss: 0.5292 - accuracy: 0.7414 - recall_36: 0.7933\n",
            "Epoch 151/200\n",
            "804/804 [==============================] - 1s 2ms/step - loss: 0.5292 - accuracy: 0.7413 - recall_36: 0.7980\n",
            "Epoch 152/200\n",
            "804/804 [==============================] - 1s 2ms/step - loss: 0.5297 - accuracy: 0.7416 - recall_36: 0.7974\n",
            "Epoch 153/200\n",
            "804/804 [==============================] - 1s 2ms/step - loss: 0.5292 - accuracy: 0.7416 - recall_36: 0.7930\n",
            "Epoch 154/200\n",
            "804/804 [==============================] - 1s 2ms/step - loss: 0.5293 - accuracy: 0.7411 - recall_36: 0.7962\n",
            "Epoch 155/200\n",
            "804/804 [==============================] - 1s 2ms/step - loss: 0.5295 - accuracy: 0.7412 - recall_36: 0.7939\n",
            "Epoch 156/200\n",
            "804/804 [==============================] - 1s 2ms/step - loss: 0.5297 - accuracy: 0.7417 - recall_36: 0.7921\n",
            "Epoch 157/200\n",
            "804/804 [==============================] - 1s 2ms/step - loss: 0.5296 - accuracy: 0.7410 - recall_36: 0.7922\n",
            "Epoch 158/200\n",
            "804/804 [==============================] - 1s 2ms/step - loss: 0.5293 - accuracy: 0.7408 - recall_36: 0.7976\n",
            "Epoch 159/200\n",
            "804/804 [==============================] - 1s 2ms/step - loss: 0.5296 - accuracy: 0.7413 - recall_36: 0.7953\n",
            "Epoch 160/200\n",
            "804/804 [==============================] - 1s 2ms/step - loss: 0.5292 - accuracy: 0.7415 - recall_36: 0.7971\n",
            "Epoch 161/200\n",
            "804/804 [==============================] - 1s 2ms/step - loss: 0.5292 - accuracy: 0.7413 - recall_36: 0.7958\n",
            "Epoch 162/200\n",
            "804/804 [==============================] - 1s 2ms/step - loss: 0.5291 - accuracy: 0.7422 - recall_36: 0.7968\n",
            "Epoch 163/200\n",
            "804/804 [==============================] - 1s 2ms/step - loss: 0.5290 - accuracy: 0.7420 - recall_36: 0.8030\n",
            "Epoch 164/200\n",
            "804/804 [==============================] - 1s 2ms/step - loss: 0.5292 - accuracy: 0.7412 - recall_36: 0.7925\n",
            "Epoch 165/200\n",
            "804/804 [==============================] - 1s 2ms/step - loss: 0.5293 - accuracy: 0.7416 - recall_36: 0.7993\n",
            "Epoch 166/200\n",
            "804/804 [==============================] - 1s 2ms/step - loss: 0.5288 - accuracy: 0.7409 - recall_36: 0.8008\n",
            "Epoch 167/200\n",
            "804/804 [==============================] - 1s 2ms/step - loss: 0.5292 - accuracy: 0.7416 - recall_36: 0.8012\n",
            "Epoch 168/200\n",
            "804/804 [==============================] - 1s 2ms/step - loss: 0.5293 - accuracy: 0.7416 - recall_36: 0.7998\n",
            "Epoch 169/200\n",
            "804/804 [==============================] - 1s 2ms/step - loss: 0.5289 - accuracy: 0.7418 - recall_36: 0.8014\n",
            "Epoch 170/200\n",
            "804/804 [==============================] - 1s 2ms/step - loss: 0.5306 - accuracy: 0.7408 - recall_36: 0.8001\n",
            "Epoch 171/200\n",
            "804/804 [==============================] - 1s 2ms/step - loss: 0.5292 - accuracy: 0.7413 - recall_36: 0.7955\n",
            "Epoch 172/200\n",
            "804/804 [==============================] - 1s 2ms/step - loss: 0.5290 - accuracy: 0.7412 - recall_36: 0.7994\n",
            "Epoch 173/200\n",
            "804/804 [==============================] - 1s 2ms/step - loss: 0.5290 - accuracy: 0.7413 - recall_36: 0.7966\n",
            "Epoch 174/200\n",
            "804/804 [==============================] - 1s 2ms/step - loss: 0.5291 - accuracy: 0.7414 - recall_36: 0.7998\n",
            "Epoch 175/200\n",
            "804/804 [==============================] - 1s 2ms/step - loss: 0.5299 - accuracy: 0.7420 - recall_36: 0.8012\n",
            "Epoch 176/200\n",
            "804/804 [==============================] - 1s 2ms/step - loss: 0.5294 - accuracy: 0.7420 - recall_36: 0.7943\n",
            "Epoch 177/200\n",
            "804/804 [==============================] - 1s 2ms/step - loss: 0.5297 - accuracy: 0.7421 - recall_36: 0.7949\n",
            "Epoch 178/200\n",
            "804/804 [==============================] - 1s 2ms/step - loss: 0.5298 - accuracy: 0.7413 - recall_36: 0.7957\n",
            "Epoch 179/200\n",
            "804/804 [==============================] - 1s 2ms/step - loss: 0.5294 - accuracy: 0.7418 - recall_36: 0.7966\n",
            "Epoch 180/200\n",
            "804/804 [==============================] - 1s 2ms/step - loss: 0.5291 - accuracy: 0.7411 - recall_36: 0.7955\n",
            "Epoch 181/200\n",
            "804/804 [==============================] - 1s 2ms/step - loss: 0.5293 - accuracy: 0.7419 - recall_36: 0.7960\n",
            "Epoch 182/200\n",
            "804/804 [==============================] - 1s 2ms/step - loss: 0.5289 - accuracy: 0.7419 - recall_36: 0.7945\n",
            "Epoch 183/200\n",
            "804/804 [==============================] - 1s 2ms/step - loss: 0.5295 - accuracy: 0.7414 - recall_36: 0.7938\n",
            "Epoch 184/200\n",
            "804/804 [==============================] - 1s 2ms/step - loss: 0.5298 - accuracy: 0.7418 - recall_36: 0.7948\n",
            "Epoch 185/200\n",
            "804/804 [==============================] - 1s 2ms/step - loss: 0.5291 - accuracy: 0.7421 - recall_36: 0.7949\n",
            "Epoch 186/200\n",
            "804/804 [==============================] - 1s 2ms/step - loss: 0.5291 - accuracy: 0.7417 - recall_36: 0.7947\n",
            "Epoch 187/200\n",
            "804/804 [==============================] - 1s 2ms/step - loss: 0.5295 - accuracy: 0.7415 - recall_36: 0.7942\n",
            "Epoch 188/200\n",
            "804/804 [==============================] - 1s 2ms/step - loss: 0.5291 - accuracy: 0.7412 - recall_36: 0.7928\n",
            "Epoch 189/200\n",
            "804/804 [==============================] - 1s 2ms/step - loss: 0.5288 - accuracy: 0.7420 - recall_36: 0.7933\n",
            "Epoch 190/200\n",
            "804/804 [==============================] - 1s 2ms/step - loss: 0.5287 - accuracy: 0.7420 - recall_36: 0.7947\n",
            "Epoch 191/200\n",
            "804/804 [==============================] - 1s 2ms/step - loss: 0.5284 - accuracy: 0.7418 - recall_36: 0.7958\n",
            "Epoch 192/200\n",
            "804/804 [==============================] - 1s 2ms/step - loss: 0.5286 - accuracy: 0.7418 - recall_36: 0.7946\n",
            "Epoch 193/200\n",
            "804/804 [==============================] - 1s 2ms/step - loss: 0.5296 - accuracy: 0.7412 - recall_36: 0.7870\n",
            "Epoch 194/200\n",
            "804/804 [==============================] - 1s 2ms/step - loss: 0.5294 - accuracy: 0.7407 - recall_36: 0.7881\n",
            "Epoch 195/200\n",
            "804/804 [==============================] - 1s 2ms/step - loss: 0.5291 - accuracy: 0.7414 - recall_36: 0.7882\n",
            "Epoch 196/200\n",
            "804/804 [==============================] - 1s 2ms/step - loss: 0.5288 - accuracy: 0.7416 - recall_36: 0.7957\n",
            "Epoch 197/200\n",
            "804/804 [==============================] - 1s 2ms/step - loss: 0.5294 - accuracy: 0.7407 - recall_36: 0.7943\n",
            "Epoch 198/200\n",
            "804/804 [==============================] - 1s 2ms/step - loss: 0.5292 - accuracy: 0.7417 - recall_36: 0.7944\n",
            "Epoch 199/200\n",
            "804/804 [==============================] - 1s 2ms/step - loss: 0.5288 - accuracy: 0.7417 - recall_36: 0.7979\n",
            "Epoch 200/200\n",
            "804/804 [==============================] - 1s 2ms/step - loss: 0.5288 - accuracy: 0.7412 - recall_36: 0.7941\n"
          ]
        }
      ]
    },
    {
      "cell_type": "code",
      "metadata": {
        "id": "uAeEUdrHHgtT",
        "colab": {
          "base_uri": "https://localhost:8080/"
        },
        "outputId": "1b30c1b1-842a-4fa0-e694-7e9e7f864f6b"
      },
      "source": [
        "# Evaluate the model using the test data\n",
        "model_loss, model_accuracy, model_Recall= nn_model.evaluate(X_test_scaled,y_test,verbose=2)\n",
        "print(f\"Loss: {model_loss}, Accuracy: {model_accuracy}\")"
      ],
      "execution_count": 216,
      "outputs": [
        {
          "output_type": "stream",
          "name": "stdout",
          "text": [
            "268/268 - 0s - loss: 0.6036 - accuracy: 0.7285 - recall_36: 0.7857\n",
            "Loss: 0.603635847568512, Accuracy: 0.7285131216049194\n"
          ]
        }
      ]
    },
    {
      "cell_type": "code",
      "metadata": {
        "id": "xRzY-NApz_YR",
        "outputId": "bfdb7774-5965-4c2b-d03d-0225ab66340e",
        "colab": {
          "base_uri": "https://localhost:8080/",
          "height": 282
        }
      },
      "source": [
        "plt.plot(fit_model.history['accuracy'])"
      ],
      "execution_count": 209,
      "outputs": [
        {
          "output_type": "execute_result",
          "data": {
            "text/plain": [
              "[<matplotlib.lines.Line2D at 0x7f8a8d7e18d0>]"
            ]
          },
          "metadata": {},
          "execution_count": 209
        },
        {
          "output_type": "display_data",
          "data": {
            "image/png": "[encoded data removed]",
            "text/plain": [
              "<Figure size 432x288 with 1 Axes>"
            ]
          },
          "metadata": {
            "needs_background": "light"
          }
        }
      ]
    },
    {
      "cell_type": "code",
      "metadata": {
        "id": "_CzZU5Ju32Fq",
        "outputId": "0c5bdd3b-939a-4c74-8903-2581659ebdd9",
        "colab": {
          "base_uri": "https://localhost:8080/",
          "height": 282
        }
      },
      "source": [
        "plt.plot(fit_model.history['loss'])"
      ],
      "execution_count": 210,
      "outputs": [
        {
          "output_type": "execute_result",
          "data": {
            "text/plain": [
              "[<matplotlib.lines.Line2D at 0x7f8a848d4810>]"
            ]
          },
          "metadata": {},
          "execution_count": 210
        },
        {
          "output_type": "display_data",
          "data": {
            "image/png": "[encoded data removed]",
            "text/plain": [
              "<Figure size 432x288 with 1 Axes>"
            ]
          },
          "metadata": {
            "needs_background": "light"
          }
        }
      ]
    },
    {
      "cell_type": "code",
      "metadata": {
        "id": "vfXTiRXfHvPf",
        "outputId": "bf500538-e273-4eb4-afc4-fa645df74bfb",
        "colab": {
          "base_uri": "https://localhost:8080/",
          "height": 17
        }
      },
      "source": [
        "# Export our model to HDF5 file\n",
        "from google.colab import files\n",
        "\n",
        "nn_model.save('/content/Alphabet_Soup_model3.h5')\n",
        "files.download('/content/Alphabet_Soup_model3.h5')"
      ],
      "execution_count": 211,
      "outputs": [
        {
          "output_type": "display_data",
          "data": {
            "application/javascript": [
              "\n",
              "    async function download(id, filename, size) {\n",
              "      if (!google.colab.kernel.accessAllowed) {\n",
              "        return;\n",
              "      }\n",
              "      const div = document.createElement('div');\n",
              "      const label = document.createElement('label');\n",
              "      label.textContent = `Downloading \"${filename}\": `;\n",
              "      div.appendChild(label);\n",
              "      const progress = document.createElement('progress');\n",
              "      progress.max = size;\n",
              "      div.appendChild(progress);\n",
              "      document.body.appendChild(div);\n",
              "\n",
              "      const buffers = [];\n",
              "      let downloaded = 0;\n",
              "\n",
              "      const channel = await google.colab.kernel.comms.open(id);\n",
              "      // Send a message to notify the kernel that we're ready.\n",
              "      channel.send({})\n",
              "\n",
              "      for await (const message of channel.messages) {\n",
              "        // Send a message to notify the kernel that we're ready.\n",
              "        channel.send({})\n",
              "        if (message.buffers) {\n",
              "          for (const buffer of message.buffers) {\n",
              "            buffers.push(buffer);\n",
              "            downloaded += buffer.byteLength;\n",
              "            progress.value = downloaded;\n",
              "          }\n",
              "        }\n",
              "      }\n",
              "      const blob = new Blob(buffers, {type: 'application/binary'});\n",
              "      const a = document.createElement('a');\n",
              "      a.href = window.URL.createObjectURL(blob);\n",
              "      a.download = filename;\n",
              "      div.appendChild(a);\n",
              "      a.click();\n",
              "      div.remove();\n",
              "    }\n",
              "  "
            ],
            "text/plain": [
              "<IPython.core.display.Javascript object>"
            ]
          },
          "metadata": {}
        },
        {
          "output_type": "display_data",
          "data": {
            "application/javascript": [
              "download(\"download_76b70392-dd28-4966-8e5b-abc24d99d5f8\", \"Alphabet_Soup_model3.h5\", 448564)"
            ],
            "text/plain": [
              "<IPython.core.display.Javascript object>"
            ]
          },
          "metadata": {}
        }
      ]
    },
    {
      "cell_type": "code",
      "metadata": {
        "id": "Vns8lTwKHzYK"
      },
      "source": [
        ""
      ],
      "execution_count": null,
      "outputs": []
    }
  ]
}