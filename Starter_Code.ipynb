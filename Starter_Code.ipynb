{
  "nbformat": 4,
  "nbformat_minor": 0,
  "metadata": {
    "kernelspec": {
      "display_name": "Python 3",
      "language": "python",
      "name": "python3"
    },
    "language_info": {
      "codemirror_mode": {
        "name": "ipython",
        "version": 3
      },
      "file_extension": ".py",
      "mimetype": "text/x-python",
      "name": "python",
      "nbconvert_exporter": "python",
      "pygments_lexer": "ipython3",
      "version": "3.7.6"
    },
    "colab": {
      "name": "Copy of Copy of Copy of Starter_Code.ipynb",
      "provenance": [],
      "include_colab_link": true
    }
  },
  "cells": [
    {
      "cell_type": "markdown",
      "metadata": {
        "id": "view-in-github",
        "colab_type": "text"
      },
      "source": [
        "<a href=\"https://colab.research.google.com/github/Karla-Flores/Neural-Network--Charity-Donation/blob/main/Starter_Code.ipynb\" target=\"_parent\"><img src=\"https://colab.research.google.com/assets/colab-badge.svg\" alt=\"Open In Colab\"/></a>"
      ]
    },
    {
      "cell_type": "markdown",
      "metadata": {
        "id": "Lwo5h_UH1jIy"
      },
      "source": [
        "## Preprocessing"
      ]
    },
    {
      "cell_type": "code",
      "metadata": {
        "colab": {
          "resources": {
            "http://localhost:8080/nbextensions/google.colab/files.js": {
              "data": "Ly8gQ29weXJpZ2h0IDIwMTcgR29vZ2xlIExMQwovLwovLyBMaWNlbnNlZCB1bmRlciB0aGUgQXBhY2hlIExpY2Vuc2UsIFZlcnNpb24gMi4wICh0aGUgIkxpY2Vuc2UiKTsKLy8geW91IG1heSBub3QgdXNlIHRoaXMgZmlsZSBleGNlcHQgaW4gY29tcGxpYW5jZSB3aXRoIHRoZSBMaWNlbnNlLgovLyBZb3UgbWF5IG9idGFpbiBhIGNvcHkgb2YgdGhlIExpY2Vuc2UgYXQKLy8KLy8gICAgICBodHRwOi8vd3d3LmFwYWNoZS5vcmcvbGljZW5zZXMvTElDRU5TRS0yLjAKLy8KLy8gVW5sZXNzIHJlcXVpcmVkIGJ5IGFwcGxpY2FibGUgbGF3IG9yIGFncmVlZCB0byBpbiB3cml0aW5nLCBzb2Z0d2FyZQovLyBkaXN0cmlidXRlZCB1bmRlciB0aGUgTGljZW5zZSBpcyBkaXN0cmlidXRlZCBvbiBhbiAiQVMgSVMiIEJBU0lTLAovLyBXSVRIT1VUIFdBUlJBTlRJRVMgT1IgQ09ORElUSU9OUyBPRiBBTlkgS0lORCwgZWl0aGVyIGV4cHJlc3Mgb3IgaW1wbGllZC4KLy8gU2VlIHRoZSBMaWNlbnNlIGZvciB0aGUgc3BlY2lmaWMgbGFuZ3VhZ2UgZ292ZXJuaW5nIHBlcm1pc3Npb25zIGFuZAovLyBsaW1pdGF0aW9ucyB1bmRlciB0aGUgTGljZW5zZS4KCi8qKgogKiBAZmlsZW92ZXJ2aWV3IEhlbHBlcnMgZm9yIGdvb2dsZS5jb2xhYiBQeXRob24gbW9kdWxlLgogKi8KKGZ1bmN0aW9uKHNjb3BlKSB7CmZ1bmN0aW9uIHNwYW4odGV4dCwgc3R5bGVBdHRyaWJ1dGVzID0ge30pIHsKICBjb25zdCBlbGVtZW50ID0gZG9jdW1lbnQuY3JlYXRlRWxlbWVudCgnc3BhbicpOwogIGVsZW1lbnQudGV4dENvbnRlbnQgPSB0ZXh0OwogIGZvciAoY29uc3Qga2V5IG9mIE9iamVjdC5rZXlzKHN0eWxlQXR0cmlidXRlcykpIHsKICAgIGVsZW1lbnQuc3R5bGVba2V5XSA9IHN0eWxlQXR0cmlidXRlc1trZXldOwogIH0KICByZXR1cm4gZWxlbWVudDsKfQoKLy8gTWF4IG51bWJlciBvZiBieXRlcyB3aGljaCB3aWxsIGJlIHVwbG9hZGVkIGF0IGEgdGltZS4KY29uc3QgTUFYX1BBWUxPQURfU0laRSA9IDEwMCAqIDEwMjQ7CgpmdW5jdGlvbiBfdXBsb2FkRmlsZXMoaW5wdXRJZCwgb3V0cHV0SWQpIHsKICBjb25zdCBzdGVwcyA9IHVwbG9hZEZpbGVzU3RlcChpbnB1dElkLCBvdXRwdXRJZCk7CiAgY29uc3Qgb3V0cHV0RWxlbWVudCA9IGRvY3VtZW50LmdldEVsZW1lbnRCeUlkKG91dHB1dElkKTsKICAvLyBDYWNoZSBzdGVwcyBvbiB0aGUgb3V0cHV0RWxlbWVudCB0byBtYWtlIGl0IGF2YWlsYWJsZSBmb3IgdGhlIG5leHQgY2FsbAogIC8vIHRvIHVwbG9hZEZpbGVzQ29udGludWUgZnJvbSBQeXRob24uCiAgb3V0cHV0RWxlbWVudC5zdGVwcyA9IHN0ZXBzOwoKICByZXR1cm4gX3VwbG9hZEZpbGVzQ29udGludWUob3V0cHV0SWQpOwp9CgovLyBUaGlzIGlzIHJvdWdobHkgYW4gYXN5bmMgZ2VuZXJhdG9yIChub3Qgc3VwcG9ydGVkIGluIHRoZSBicm93c2VyIHlldCksCi8vIHdoZXJlIHRoZXJlIGFyZSBtdWx0aXBsZSBhc3luY2hyb25vdXMgc3RlcHMgYW5kIHRoZSBQeXRob24gc2lkZSBpcyBnb2luZwovLyB0byBwb2xsIGZvciBjb21wbGV0aW9uIG9mIGVhY2ggc3RlcC4KLy8gVGhpcyB1c2VzIGEgUHJvbWlzZSB0byBibG9jayB0aGUgcHl0aG9uIHNpZGUgb24gY29tcGxldGlvbiBvZiBlYWNoIHN0ZXAsCi8vIHRoZW4gcGFzc2VzIHRoZSByZXN1bHQgb2YgdGhlIHByZXZpb3VzIHN0ZXAgYXMgdGhlIGlucHV0IHRvIHRoZSBuZXh0IHN0ZXAuCmZ1bmN0aW9uIF91cGxvYWRGaWxlc0NvbnRpbnVlKG91dHB1dElkKSB7CiAgY29uc3Qgb3V0cHV0RWxlbWVudCA9IGRvY3VtZW50LmdldEVsZW1lbnRCeUlkKG91dHB1dElkKTsKICBjb25zdCBzdGVwcyA9IG91dHB1dEVsZW1lbnQuc3RlcHM7CgogIGNvbnN0IG5leHQgPSBzdGVwcy5uZXh0KG91dHB1dEVsZW1lbnQubGFzdFByb21pc2VWYWx1ZSk7CiAgcmV0dXJuIFByb21pc2UucmVzb2x2ZShuZXh0LnZhbHVlLnByb21pc2UpLnRoZW4oKHZhbHVlKSA9PiB7CiAgICAvLyBDYWNoZSB0aGUgbGFzdCBwcm9taXNlIHZhbHVlIHRvIG1ha2UgaXQgYXZhaWxhYmxlIHRvIHRoZSBuZXh0CiAgICAvLyBzdGVwIG9mIHRoZSBnZW5lcmF0b3IuCiAgICBvdXRwdXRFbGVtZW50Lmxhc3RQcm9taXNlVmFsdWUgPSB2YWx1ZTsKICAgIHJldHVybiBuZXh0LnZhbHVlLnJlc3BvbnNlOwogIH0pOwp9CgovKioKICogR2VuZXJhdG9yIGZ1bmN0aW9uIHdoaWNoIGlzIGNhbGxlZCBiZXR3ZWVuIGVhY2ggYXN5bmMgc3RlcCBvZiB0aGUgdXBsb2FkCiAqIHByb2Nlc3MuCiAqIEBwYXJhbSB7c3RyaW5nfSBpbnB1dElkIEVsZW1lbnQgSUQgb2YgdGhlIGlucHV0IGZpbGUgcGlja2VyIGVsZW1lbnQuCiAqIEBwYXJhbSB7c3RyaW5nfSBvdXRwdXRJZCBFbGVtZW50IElEIG9mIHRoZSBvdXRwdXQgZGlzcGxheS4KICogQHJldHVybiB7IUl0ZXJhYmxlPCFPYmplY3Q+fSBJdGVyYWJsZSBvZiBuZXh0IHN0ZXBzLgogKi8KZnVuY3Rpb24qIHVwbG9hZEZpbGVzU3RlcChpbnB1dElkLCBvdXRwdXRJZCkgewogIGNvbnN0IGlucHV0RWxlbWVudCA9IGRvY3VtZW50LmdldEVsZW1lbnRCeUlkKGlucHV0SWQpOwogIGlucHV0RWxlbWVudC5kaXNhYmxlZCA9IGZhbHNlOwoKICBjb25zdCBvdXRwdXRFbGVtZW50ID0gZG9jdW1lbnQuZ2V0RWxlbWVudEJ5SWQob3V0cHV0SWQpOwogIG91dHB1dEVsZW1lbnQuaW5uZXJIVE1MID0gJyc7CgogIGNvbnN0IHBpY2tlZFByb21pc2UgPSBuZXcgUHJvbWlzZSgocmVzb2x2ZSkgPT4gewogICAgaW5wdXRFbGVtZW50LmFkZEV2ZW50TGlzdGVuZXIoJ2NoYW5nZScsIChlKSA9PiB7CiAgICAgIHJlc29sdmUoZS50YXJnZXQuZmlsZXMpOwogICAgfSk7CiAgfSk7CgogIGNvbnN0IGNhbmNlbCA9IGRvY3VtZW50LmNyZWF0ZUVsZW1lbnQoJ2J1dHRvbicpOwogIGlucHV0RWxlbWVudC5wYXJlbnRFbGVtZW50LmFwcGVuZENoaWxkKGNhbmNlbCk7CiAgY2FuY2VsLnRleHRDb250ZW50ID0gJ0NhbmNlbCB1cGxvYWQnOwogIGNvbnN0IGNhbmNlbFByb21pc2UgPSBuZXcgUHJvbWlzZSgocmVzb2x2ZSkgPT4gewogICAgY2FuY2VsLm9uY2xpY2sgPSAoKSA9PiB7CiAgICAgIHJlc29sdmUobnVsbCk7CiAgICB9OwogIH0pOwoKICAvLyBXYWl0IGZvciB0aGUgdXNlciB0byBwaWNrIHRoZSBmaWxlcy4KICBjb25zdCBmaWxlcyA9IHlpZWxkIHsKICAgIHByb21pc2U6IFByb21pc2UucmFjZShbcGlja2VkUHJvbWlzZSwgY2FuY2VsUHJvbWlzZV0pLAogICAgcmVzcG9uc2U6IHsKICAgICAgYWN0aW9uOiAnc3RhcnRpbmcnLAogICAgfQogIH07CgogIGNhbmNlbC5yZW1vdmUoKTsKCiAgLy8gRGlzYWJsZSB0aGUgaW5wdXQgZWxlbWVudCBzaW5jZSBmdXJ0aGVyIHBpY2tzIGFyZSBub3QgYWxsb3dlZC4KICBpbnB1dEVsZW1lbnQuZGlzYWJsZWQgPSB0cnVlOwoKICBpZiAoIWZpbGVzKSB7CiAgICByZXR1cm4gewogICAgICByZXNwb25zZTogewogICAgICAgIGFjdGlvbjogJ2NvbXBsZXRlJywKICAgICAgfQogICAgfTsKICB9CgogIGZvciAoY29uc3QgZmlsZSBvZiBmaWxlcykgewogICAgY29uc3QgbGkgPSBkb2N1bWVudC5jcmVhdGVFbGVtZW50KCdsaScpOwogICAgbGkuYXBwZW5kKHNwYW4oZmlsZS5uYW1lLCB7Zm9udFdlaWdodDogJ2JvbGQnfSkpOwogICAgbGkuYXBwZW5kKHNwYW4oCiAgICAgICAgYCgke2ZpbGUudHlwZSB8fCAnbi9hJ30pIC0gJHtmaWxlLnNpemV9IGJ5dGVzLCBgICsKICAgICAgICBgbGFzdCBtb2RpZmllZDogJHsKICAgICAgICAgICAgZmlsZS5sYXN0TW9kaWZpZWREYXRlID8gZmlsZS5sYXN0TW9kaWZpZWREYXRlLnRvTG9jYWxlRGF0ZVN0cmluZygpIDoKICAgICAgICAgICAgICAgICAgICAgICAgICAgICAgICAgICAgJ24vYSd9IC0gYCkpOwogICAgY29uc3QgcGVyY2VudCA9IHNwYW4oJzAlIGRvbmUnKTsKICAgIGxpLmFwcGVuZENoaWxkKHBlcmNlbnQpOwoKICAgIG91dHB1dEVsZW1lbnQuYXBwZW5kQ2hpbGQobGkpOwoKICAgIGNvbnN0IGZpbGVEYXRhUHJvbWlzZSA9IG5ldyBQcm9taXNlKChyZXNvbHZlKSA9PiB7CiAgICAgIGNvbnN0IHJlYWRlciA9IG5ldyBGaWxlUmVhZGVyKCk7CiAgICAgIHJlYWRlci5vbmxvYWQgPSAoZSkgPT4gewogICAgICAgIHJlc29sdmUoZS50YXJnZXQucmVzdWx0KTsKICAgICAgfTsKICAgICAgcmVhZGVyLnJlYWRBc0FycmF5QnVmZmVyKGZpbGUpOwogICAgfSk7CiAgICAvLyBXYWl0IGZvciB0aGUgZGF0YSB0byBiZSByZWFkeS4KICAgIGxldCBmaWxlRGF0YSA9IHlpZWxkIHsKICAgICAgcHJvbWlzZTogZmlsZURhdGFQcm9taXNlLAogICAgICByZXNwb25zZTogewogICAgICAgIGFjdGlvbjogJ2NvbnRpbnVlJywKICAgICAgfQogICAgfTsKCiAgICAvLyBVc2UgYSBjaHVua2VkIHNlbmRpbmcgdG8gYXZvaWQgbWVzc2FnZSBzaXplIGxpbWl0cy4gU2VlIGIvNjIxMTU2NjAuCiAgICBsZXQgcG9zaXRpb24gPSAwOwogICAgZG8gewogICAgICBjb25zdCBsZW5ndGggPSBNYXRoLm1pbihmaWxlRGF0YS5ieXRlTGVuZ3RoIC0gcG9zaXRpb24sIE1BWF9QQVlMT0FEX1NJWkUpOwogICAgICBjb25zdCBjaHVuayA9IG5ldyBVaW50OEFycmF5KGZpbGVEYXRhLCBwb3NpdGlvbiwgbGVuZ3RoKTsKICAgICAgcG9zaXRpb24gKz0gbGVuZ3RoOwoKICAgICAgY29uc3QgYmFzZTY0ID0gYnRvYShTdHJpbmcuZnJvbUNoYXJDb2RlLmFwcGx5KG51bGwsIGNodW5rKSk7CiAgICAgIHlpZWxkIHsKICAgICAgICByZXNwb25zZTogewogICAgICAgICAgYWN0aW9uOiAnYXBwZW5kJywKICAgICAgICAgIGZpbGU6IGZpbGUubmFtZSwKICAgICAgICAgIGRhdGE6IGJhc2U2NCwKICAgICAgICB9LAogICAgICB9OwoKICAgICAgbGV0IHBlcmNlbnREb25lID0gZmlsZURhdGEuYnl0ZUxlbmd0aCA9PT0gMCA/CiAgICAgICAgICAxMDAgOgogICAgICAgICAgTWF0aC5yb3VuZCgocG9zaXRpb24gLyBmaWxlRGF0YS5ieXRlTGVuZ3RoKSAqIDEwMCk7CiAgICAgIHBlcmNlbnQudGV4dENvbnRlbnQgPSBgJHtwZXJjZW50RG9uZX0lIGRvbmVgOwoKICAgIH0gd2hpbGUgKHBvc2l0aW9uIDwgZmlsZURhdGEuYnl0ZUxlbmd0aCk7CiAgfQoKICAvLyBBbGwgZG9uZS4KICB5aWVsZCB7CiAgICByZXNwb25zZTogewogICAgICBhY3Rpb246ICdjb21wbGV0ZScsCiAgICB9CiAgfTsKfQoKc2NvcGUuZ29vZ2xlID0gc2NvcGUuZ29vZ2xlIHx8IHt9OwpzY29wZS5nb29nbGUuY29sYWIgPSBzY29wZS5nb29nbGUuY29sYWIgfHwge307CnNjb3BlLmdvb2dsZS5jb2xhYi5fZmlsZXMgPSB7CiAgX3VwbG9hZEZpbGVzLAogIF91cGxvYWRGaWxlc0NvbnRpbnVlLAp9Owp9KShzZWxmKTsK",
              "ok": true,
              "headers": [
                [
                  "content-type",
                  "application/javascript"
                ]
              ],
              "status": 200,
              "status_text": ""
            }
          },
          "base_uri": "https://localhost:8080/",
          "height": 72
        },
        "id": "MKEyB0hE4f7q",
        "outputId": "5b2e3cde-9d4a-4da7-e462-ccf8b43a5a96"
      },
      "source": [
        "from google.colab import files\n",
        "uploaded = files.upload()"
      ],
      "execution_count": 48,
      "outputs": [
        {
          "output_type": "display_data",
          "data": {
            "text/html": [
              "\n",
              "     <input type=\"file\" id=\"files-0658f984-11b7-4108-a654-f33764566333\" name=\"files[]\" multiple disabled\n",
              "        style=\"border:none\" />\n",
              "     <output id=\"result-0658f984-11b7-4108-a654-f33764566333\">\n",
              "      Upload widget is only available when the cell has been executed in the\n",
              "      current browser session. Please rerun this cell to enable.\n",
              "      </output>\n",
              "      <script src=\"/nbextensions/google.colab/files.js\"></script> "
            ],
            "text/plain": [
              "<IPython.core.display.HTML object>"
            ]
          },
          "metadata": {}
        },
        {
          "output_type": "stream",
          "name": "stdout",
          "text": [
            "Saving charity_data.csv to charity_data (1).csv\n"
          ]
        }
      ]
    },
    {
      "cell_type": "code",
      "metadata": {
        "colab": {
          "base_uri": "https://localhost:8080/",
          "height": 204
        },
        "id": "21kRfveu5cM1",
        "outputId": "7184a51e-b668-4fff-e92d-a4b007dda7b2"
      },
      "source": [
        "# Import our dependencies\n",
        "from sklearn.model_selection import train_test_split\n",
        "from sklearn.preprocessing import StandardScaler\n",
        "import pandas as pd\n",
        "import tensorflow as tf\n",
        "import matplotlib.pyplot as plt\n",
        "\n",
        "#  Import and read the charity_data.csv.\n",
        "import pandas as pd \n",
        "# application_df = pd.read_csv(\"../Resources/charity_data.csv\")\n",
        "application_df = pd.read_csv('charity_data.csv')\n",
        "application_df.head()"
      ],
      "execution_count": 49,
      "outputs": [
        {
          "output_type": "execute_result",
          "data": {
            "text/html": [
              "<div>\n",
              "<style scoped>\n",
              "    .dataframe tbody tr th:only-of-type {\n",
              "        vertical-align: middle;\n",
              "    }\n",
              "\n",
              "    .dataframe tbody tr th {\n",
              "        vertical-align: top;\n",
              "    }\n",
              "\n",
              "    .dataframe thead th {\n",
              "        text-align: right;\n",
              "    }\n",
              "</style>\n",
              "<table border=\"1\" class=\"dataframe\">\n",
              "  <thead>\n",
              "    <tr style=\"text-align: right;\">\n",
              "      <th></th>\n",
              "      <th>EIN</th>\n",
              "      <th>NAME</th>\n",
              "      <th>APPLICATION_TYPE</th>\n",
              "      <th>AFFILIATION</th>\n",
              "      <th>CLASSIFICATION</th>\n",
              "      <th>USE_CASE</th>\n",
              "      <th>ORGANIZATION</th>\n",
              "      <th>STATUS</th>\n",
              "      <th>INCOME_AMT</th>\n",
              "      <th>SPECIAL_CONSIDERATIONS</th>\n",
              "      <th>ASK_AMT</th>\n",
              "      <th>IS_SUCCESSFUL</th>\n",
              "    </tr>\n",
              "  </thead>\n",
              "  <tbody>\n",
              "    <tr>\n",
              "      <th>0</th>\n",
              "      <td>10520599</td>\n",
              "      <td>BLUE KNIGHTS MOTORCYCLE CLUB</td>\n",
              "      <td>T10</td>\n",
              "      <td>Independent</td>\n",
              "      <td>C1000</td>\n",
              "      <td>ProductDev</td>\n",
              "      <td>Association</td>\n",
              "      <td>1</td>\n",
              "      <td>0</td>\n",
              "      <td>N</td>\n",
              "      <td>5000</td>\n",
              "      <td>1</td>\n",
              "    </tr>\n",
              "    <tr>\n",
              "      <th>1</th>\n",
              "      <td>10531628</td>\n",
              "      <td>AMERICAN CHESAPEAKE CLUB CHARITABLE TR</td>\n",
              "      <td>T3</td>\n",
              "      <td>Independent</td>\n",
              "      <td>C2000</td>\n",
              "      <td>Preservation</td>\n",
              "      <td>Co-operative</td>\n",
              "      <td>1</td>\n",
              "      <td>1-9999</td>\n",
              "      <td>N</td>\n",
              "      <td>108590</td>\n",
              "      <td>1</td>\n",
              "    </tr>\n",
              "    <tr>\n",
              "      <th>2</th>\n",
              "      <td>10547893</td>\n",
              "      <td>ST CLOUD PROFESSIONAL FIREFIGHTERS</td>\n",
              "      <td>T5</td>\n",
              "      <td>CompanySponsored</td>\n",
              "      <td>C3000</td>\n",
              "      <td>ProductDev</td>\n",
              "      <td>Association</td>\n",
              "      <td>1</td>\n",
              "      <td>0</td>\n",
              "      <td>N</td>\n",
              "      <td>5000</td>\n",
              "      <td>0</td>\n",
              "    </tr>\n",
              "    <tr>\n",
              "      <th>3</th>\n",
              "      <td>10553066</td>\n",
              "      <td>SOUTHSIDE ATHLETIC ASSOCIATION</td>\n",
              "      <td>T3</td>\n",
              "      <td>CompanySponsored</td>\n",
              "      <td>C2000</td>\n",
              "      <td>Preservation</td>\n",
              "      <td>Trust</td>\n",
              "      <td>1</td>\n",
              "      <td>10000-24999</td>\n",
              "      <td>N</td>\n",
              "      <td>6692</td>\n",
              "      <td>1</td>\n",
              "    </tr>\n",
              "    <tr>\n",
              "      <th>4</th>\n",
              "      <td>10556103</td>\n",
              "      <td>GENETIC RESEARCH INSTITUTE OF THE DESERT</td>\n",
              "      <td>T3</td>\n",
              "      <td>Independent</td>\n",
              "      <td>C1000</td>\n",
              "      <td>Heathcare</td>\n",
              "      <td>Trust</td>\n",
              "      <td>1</td>\n",
              "      <td>100000-499999</td>\n",
              "      <td>N</td>\n",
              "      <td>142590</td>\n",
              "      <td>1</td>\n",
              "    </tr>\n",
              "  </tbody>\n",
              "</table>\n",
              "</div>"
            ],
            "text/plain": [
              "        EIN                                      NAME  ... ASK_AMT IS_SUCCESSFUL\n",
              "0  10520599              BLUE KNIGHTS MOTORCYCLE CLUB  ...    5000             1\n",
              "1  10531628    AMERICAN CHESAPEAKE CLUB CHARITABLE TR  ...  108590             1\n",
              "2  10547893        ST CLOUD PROFESSIONAL FIREFIGHTERS  ...    5000             0\n",
              "3  10553066            SOUTHSIDE ATHLETIC ASSOCIATION  ...    6692             1\n",
              "4  10556103  GENETIC RESEARCH INSTITUTE OF THE DESERT  ...  142590             1\n",
              "\n",
              "[5 rows x 12 columns]"
            ]
          },
          "metadata": {},
          "execution_count": 49
        }
      ]
    },
    {
      "cell_type": "code",
      "metadata": {
        "colab": {
          "base_uri": "https://localhost:8080/"
        },
        "id": "5g3IfC8C56Rz",
        "outputId": "359b171f-2620-4260-c21c-2ba7b6b47252"
      },
      "source": [
        "application_df.shape"
      ],
      "execution_count": 50,
      "outputs": [
        {
          "output_type": "execute_result",
          "data": {
            "text/plain": [
              "(34299, 12)"
            ]
          },
          "metadata": {},
          "execution_count": 50
        }
      ]
    },
    {
      "cell_type": "code",
      "metadata": {
        "colab": {
          "base_uri": "https://localhost:8080/"
        },
        "id": "d7V6M_0P1jI3",
        "outputId": "df2cb040-51fa-418a-ac7d-79c76610c4a9"
      },
      "source": [
        "# Drop the non-beneficial ID columns, 'EIN' and 'NAME'.\n",
        "application_df = application_df.drop(columns=['EIN','NAME'],axis=1)\n",
        "application_df.shape"
      ],
      "execution_count": 51,
      "outputs": [
        {
          "output_type": "execute_result",
          "data": {
            "text/plain": [
              "(34299, 10)"
            ]
          },
          "metadata": {},
          "execution_count": 51
        }
      ]
    },
    {
      "cell_type": "code",
      "metadata": {
        "colab": {
          "base_uri": "https://localhost:8080/"
        },
        "id": "eeZqEnyq1jI4",
        "outputId": "03a21b7d-36ea-42b0-c485-7c49e6914fdd"
      },
      "source": [
        "# Determine the number of unique values in each column.\n",
        "application_df.nunique()"
      ],
      "execution_count": 52,
      "outputs": [
        {
          "output_type": "execute_result",
          "data": {
            "text/plain": [
              "APPLICATION_TYPE            17\n",
              "AFFILIATION                  6\n",
              "CLASSIFICATION              71\n",
              "USE_CASE                     5\n",
              "ORGANIZATION                 4\n",
              "STATUS                       2\n",
              "INCOME_AMT                   9\n",
              "SPECIAL_CONSIDERATIONS       2\n",
              "ASK_AMT                   8747\n",
              "IS_SUCCESSFUL                2\n",
              "dtype: int64"
            ]
          },
          "metadata": {},
          "execution_count": 52
        }
      ]
    },
    {
      "cell_type": "code",
      "metadata": {
        "colab": {
          "base_uri": "https://localhost:8080/"
        },
        "id": "4YpoUx021jI4",
        "outputId": "d671dbc6-06b1-45fa-c952-0e7465055382"
      },
      "source": [
        "# Look at APPLICATION_TYPE value counts for binning\n",
        "application_value = application_df.loc[:, 'APPLICATION_TYPE'].value_counts()\n",
        "application_value"
      ],
      "execution_count": 53,
      "outputs": [
        {
          "output_type": "execute_result",
          "data": {
            "text/plain": [
              "T3     27037\n",
              "T4      1542\n",
              "T6      1216\n",
              "T5      1173\n",
              "T19     1065\n",
              "T8       737\n",
              "T7       725\n",
              "T10      528\n",
              "T9       156\n",
              "T13       66\n",
              "T12       27\n",
              "T2        16\n",
              "T14        3\n",
              "T25        3\n",
              "T15        2\n",
              "T29        2\n",
              "T17        1\n",
              "Name: APPLICATION_TYPE, dtype: int64"
            ]
          },
          "metadata": {},
          "execution_count": 53
        }
      ]
    },
    {
      "cell_type": "code",
      "metadata": {
        "colab": {
          "base_uri": "https://localhost:8080/"
        },
        "id": "oGkzfpso1jI5",
        "outputId": "93678b2f-7d5b-4591-8591-7afe444f4e63"
      },
      "source": [
        "# Look at CLASSIFICATION value counts for binning\n",
        "classification_value = application_df.loc[:, 'CLASSIFICATION'].value_counts()\n",
        "classification_value"
      ],
      "execution_count": 54,
      "outputs": [
        {
          "output_type": "execute_result",
          "data": {
            "text/plain": [
              "C1000    17326\n",
              "C2000     6074\n",
              "C1200     4837\n",
              "C3000     1918\n",
              "C2100     1883\n",
              "         ...  \n",
              "C1732        1\n",
              "C4120        1\n",
              "C1370        1\n",
              "C2561        1\n",
              "C2500        1\n",
              "Name: CLASSIFICATION, Length: 71, dtype: int64"
            ]
          },
          "metadata": {},
          "execution_count": 54
        }
      ]
    },
    {
      "cell_type": "code",
      "metadata": {
        "colab": {
          "base_uri": "https://localhost:8080/"
        },
        "id": "kQvgVZ771jI5",
        "outputId": "0a2df460-6db0-4b57-bcbf-20b283517988"
      },
      "source": [
        "# Choose a cutoff value and create a list of application types to be replaced\n",
        "# use the variable name `application_types_to_replace`\n",
        "application_types_to_replace = list(application_value[application_value<200].index)\n",
        "\n",
        "# Replace in dataframe\n",
        "for app in application_types_to_replace:\n",
        "    application_df['APPLICATION_TYPE'] = application_df['APPLICATION_TYPE'].replace(app,\"Other\")\n",
        "\n",
        "# Check to make sure binning was successful\n",
        "application_df['APPLICATION_TYPE'].value_counts()"
      ],
      "execution_count": 55,
      "outputs": [
        {
          "output_type": "execute_result",
          "data": {
            "text/plain": [
              "T3       27037\n",
              "T4        1542\n",
              "T6        1216\n",
              "T5        1173\n",
              "T19       1065\n",
              "T8         737\n",
              "T7         725\n",
              "T10        528\n",
              "Other      276\n",
              "Name: APPLICATION_TYPE, dtype: int64"
            ]
          },
          "metadata": {},
          "execution_count": 55
        }
      ]
    },
    {
      "cell_type": "code",
      "metadata": {
        "colab": {
          "base_uri": "https://localhost:8080/",
          "height": 364
        },
        "id": "7OdwpsaX1jI6",
        "outputId": "04a512c7-351b-46ad-dbe6-3125106acbd5"
      },
      "source": [
        "# You may find it helpful to look at CLASSIFICATION value counts >1\n",
        "classification_value.plot(kind='density')"
      ],
      "execution_count": 56,
      "outputs": [
        {
          "output_type": "execute_result",
          "data": {
            "text/plain": [
              "<matplotlib.axes._subplots.AxesSubplot at 0x7f4fde175c90>"
            ]
          },
          "metadata": {},
          "execution_count": 56
        },
        {
          "output_type": "display_data",
          "data": {
            "image/png": "[encoded data removed]",
            "text/plain": [
              "<Figure size 576x396 with 1 Axes>"
            ]
          },
          "metadata": {}
        }
      ]
    },
    {
      "cell_type": "code",
      "metadata": {
        "id": "H7MuvQXo1jI7",
        "colab": {
          "base_uri": "https://localhost:8080/"
        },
        "outputId": "855a370e-f222-454c-c704-5b08694dfbf1"
      },
      "source": [
        "# Choose a cutoff value and create a list of classifications to be replaced\n",
        "# use the variable name `classifications_to_replace`\n",
        "classifications_to_replace = list(classification_value[classification_value<1000].index)\n",
        "\n",
        "# Replace in dataframe\n",
        "for cls in classifications_to_replace:\n",
        "    application_df['CLASSIFICATION'] = application_df['CLASSIFICATION'].replace(cls,\"Other\")\n",
        "    \n",
        "# Check to make sure binning was successful\n",
        "application_df['CLASSIFICATION'].value_counts()"
      ],
      "execution_count": 57,
      "outputs": [
        {
          "output_type": "execute_result",
          "data": {
            "text/plain": [
              "C1000    17326\n",
              "C2000     6074\n",
              "C1200     4837\n",
              "Other     2261\n",
              "C3000     1918\n",
              "C2100     1883\n",
              "Name: CLASSIFICATION, dtype: int64"
            ]
          },
          "metadata": {},
          "execution_count": 57
        }
      ]
    },
    {
      "cell_type": "code",
      "metadata": {
        "colab": {
          "base_uri": "https://localhost:8080/",
          "height": 419
        },
        "id": "1hsTTF7DNITV",
        "outputId": "42808f01-a6a0-457a-8583-ebb7f4b6ca0f"
      },
      "source": [
        "application_df"
      ],
      "execution_count": 58,
      "outputs": [
        {
          "output_type": "execute_result",
          "data": {
            "text/html": [
              "<div>\n",
              "<style scoped>\n",
              "    .dataframe tbody tr th:only-of-type {\n",
              "        vertical-align: middle;\n",
              "    }\n",
              "\n",
              "    .dataframe tbody tr th {\n",
              "        vertical-align: top;\n",
              "    }\n",
              "\n",
              "    .dataframe thead th {\n",
              "        text-align: right;\n",
              "    }\n",
              "</style>\n",
              "<table border=\"1\" class=\"dataframe\">\n",
              "  <thead>\n",
              "    <tr style=\"text-align: right;\">\n",
              "      <th></th>\n",
              "      <th>APPLICATION_TYPE</th>\n",
              "      <th>AFFILIATION</th>\n",
              "      <th>CLASSIFICATION</th>\n",
              "      <th>USE_CASE</th>\n",
              "      <th>ORGANIZATION</th>\n",
              "      <th>STATUS</th>\n",
              "      <th>INCOME_AMT</th>\n",
              "      <th>SPECIAL_CONSIDERATIONS</th>\n",
              "      <th>ASK_AMT</th>\n",
              "      <th>IS_SUCCESSFUL</th>\n",
              "    </tr>\n",
              "  </thead>\n",
              "  <tbody>\n",
              "    <tr>\n",
              "      <th>0</th>\n",
              "      <td>T10</td>\n",
              "      <td>Independent</td>\n",
              "      <td>C1000</td>\n",
              "      <td>ProductDev</td>\n",
              "      <td>Association</td>\n",
              "      <td>1</td>\n",
              "      <td>0</td>\n",
              "      <td>N</td>\n",
              "      <td>5000</td>\n",
              "      <td>1</td>\n",
              "    </tr>\n",
              "    <tr>\n",
              "      <th>1</th>\n",
              "      <td>T3</td>\n",
              "      <td>Independent</td>\n",
              "      <td>C2000</td>\n",
              "      <td>Preservation</td>\n",
              "      <td>Co-operative</td>\n",
              "      <td>1</td>\n",
              "      <td>1-9999</td>\n",
              "      <td>N</td>\n",
              "      <td>108590</td>\n",
              "      <td>1</td>\n",
              "    </tr>\n",
              "    <tr>\n",
              "      <th>2</th>\n",
              "      <td>T5</td>\n",
              "      <td>CompanySponsored</td>\n",
              "      <td>C3000</td>\n",
              "      <td>ProductDev</td>\n",
              "      <td>Association</td>\n",
              "      <td>1</td>\n",
              "      <td>0</td>\n",
              "      <td>N</td>\n",
              "      <td>5000</td>\n",
              "      <td>0</td>\n",
              "    </tr>\n",
              "    <tr>\n",
              "      <th>3</th>\n",
              "      <td>T3</td>\n",
              "      <td>CompanySponsored</td>\n",
              "      <td>C2000</td>\n",
              "      <td>Preservation</td>\n",
              "      <td>Trust</td>\n",
              "      <td>1</td>\n",
              "      <td>10000-24999</td>\n",
              "      <td>N</td>\n",
              "      <td>6692</td>\n",
              "      <td>1</td>\n",
              "    </tr>\n",
              "    <tr>\n",
              "      <th>4</th>\n",
              "      <td>T3</td>\n",
              "      <td>Independent</td>\n",
              "      <td>C1000</td>\n",
              "      <td>Heathcare</td>\n",
              "      <td>Trust</td>\n",
              "      <td>1</td>\n",
              "      <td>100000-499999</td>\n",
              "      <td>N</td>\n",
              "      <td>142590</td>\n",
              "      <td>1</td>\n",
              "    </tr>\n",
              "    <tr>\n",
              "      <th>...</th>\n",
              "      <td>...</td>\n",
              "      <td>...</td>\n",
              "      <td>...</td>\n",
              "      <td>...</td>\n",
              "      <td>...</td>\n",
              "      <td>...</td>\n",
              "      <td>...</td>\n",
              "      <td>...</td>\n",
              "      <td>...</td>\n",
              "      <td>...</td>\n",
              "    </tr>\n",
              "    <tr>\n",
              "      <th>34294</th>\n",
              "      <td>T4</td>\n",
              "      <td>Independent</td>\n",
              "      <td>C1000</td>\n",
              "      <td>ProductDev</td>\n",
              "      <td>Association</td>\n",
              "      <td>1</td>\n",
              "      <td>0</td>\n",
              "      <td>N</td>\n",
              "      <td>5000</td>\n",
              "      <td>0</td>\n",
              "    </tr>\n",
              "    <tr>\n",
              "      <th>34295</th>\n",
              "      <td>T4</td>\n",
              "      <td>CompanySponsored</td>\n",
              "      <td>C3000</td>\n",
              "      <td>ProductDev</td>\n",
              "      <td>Association</td>\n",
              "      <td>1</td>\n",
              "      <td>0</td>\n",
              "      <td>N</td>\n",
              "      <td>5000</td>\n",
              "      <td>0</td>\n",
              "    </tr>\n",
              "    <tr>\n",
              "      <th>34296</th>\n",
              "      <td>T3</td>\n",
              "      <td>CompanySponsored</td>\n",
              "      <td>C2000</td>\n",
              "      <td>Preservation</td>\n",
              "      <td>Association</td>\n",
              "      <td>1</td>\n",
              "      <td>0</td>\n",
              "      <td>N</td>\n",
              "      <td>5000</td>\n",
              "      <td>0</td>\n",
              "    </tr>\n",
              "    <tr>\n",
              "      <th>34297</th>\n",
              "      <td>T5</td>\n",
              "      <td>Independent</td>\n",
              "      <td>C3000</td>\n",
              "      <td>ProductDev</td>\n",
              "      <td>Association</td>\n",
              "      <td>1</td>\n",
              "      <td>0</td>\n",
              "      <td>N</td>\n",
              "      <td>5000</td>\n",
              "      <td>1</td>\n",
              "    </tr>\n",
              "    <tr>\n",
              "      <th>34298</th>\n",
              "      <td>T3</td>\n",
              "      <td>Independent</td>\n",
              "      <td>C1000</td>\n",
              "      <td>Preservation</td>\n",
              "      <td>Co-operative</td>\n",
              "      <td>1</td>\n",
              "      <td>1M-5M</td>\n",
              "      <td>N</td>\n",
              "      <td>36500179</td>\n",
              "      <td>0</td>\n",
              "    </tr>\n",
              "  </tbody>\n",
              "</table>\n",
              "<p>34299 rows × 10 columns</p>\n",
              "</div>"
            ],
            "text/plain": [
              "      APPLICATION_TYPE       AFFILIATION  ...   ASK_AMT IS_SUCCESSFUL\n",
              "0                  T10       Independent  ...      5000             1\n",
              "1                   T3       Independent  ...    108590             1\n",
              "2                   T5  CompanySponsored  ...      5000             0\n",
              "3                   T3  CompanySponsored  ...      6692             1\n",
              "4                   T3       Independent  ...    142590             1\n",
              "...                ...               ...  ...       ...           ...\n",
              "34294               T4       Independent  ...      5000             0\n",
              "34295               T4  CompanySponsored  ...      5000             0\n",
              "34296               T3  CompanySponsored  ...      5000             0\n",
              "34297               T5       Independent  ...      5000             1\n",
              "34298               T3       Independent  ...  36500179             0\n",
              "\n",
              "[34299 rows x 10 columns]"
            ]
          },
          "metadata": {},
          "execution_count": 58
        }
      ]
    },
    {
      "cell_type": "code",
      "metadata": {
        "id": "qgHZyWz81jI7",
        "colab": {
          "base_uri": "https://localhost:8080/",
          "height": 456
        },
        "outputId": "46f6df3f-3612-4a85-8064-df9768570c28"
      },
      "source": [
        "# Convert categorical data to numeric with `pd.get_dummies`\n",
        "application_df = pd.get_dummies(application_df, dtype=float)\n",
        "application_df"
      ],
      "execution_count": 59,
      "outputs": [
        {
          "output_type": "execute_result",
          "data": {
            "text/html": [
              "<div>\n",
              "<style scoped>\n",
              "    .dataframe tbody tr th:only-of-type {\n",
              "        vertical-align: middle;\n",
              "    }\n",
              "\n",
              "    .dataframe tbody tr th {\n",
              "        vertical-align: top;\n",
              "    }\n",
              "\n",
              "    .dataframe thead th {\n",
              "        text-align: right;\n",
              "    }\n",
              "</style>\n",
              "<table border=\"1\" class=\"dataframe\">\n",
              "  <thead>\n",
              "    <tr style=\"text-align: right;\">\n",
              "      <th></th>\n",
              "      <th>STATUS</th>\n",
              "      <th>ASK_AMT</th>\n",
              "      <th>IS_SUCCESSFUL</th>\n",
              "      <th>APPLICATION_TYPE_Other</th>\n",
              "      <th>APPLICATION_TYPE_T10</th>\n",
              "      <th>APPLICATION_TYPE_T19</th>\n",
              "      <th>APPLICATION_TYPE_T3</th>\n",
              "      <th>APPLICATION_TYPE_T4</th>\n",
              "      <th>APPLICATION_TYPE_T5</th>\n",
              "      <th>APPLICATION_TYPE_T6</th>\n",
              "      <th>APPLICATION_TYPE_T7</th>\n",
              "      <th>APPLICATION_TYPE_T8</th>\n",
              "      <th>AFFILIATION_CompanySponsored</th>\n",
              "      <th>AFFILIATION_Family/Parent</th>\n",
              "      <th>AFFILIATION_Independent</th>\n",
              "      <th>AFFILIATION_National</th>\n",
              "      <th>AFFILIATION_Other</th>\n",
              "      <th>AFFILIATION_Regional</th>\n",
              "      <th>CLASSIFICATION_C1000</th>\n",
              "      <th>CLASSIFICATION_C1200</th>\n",
              "      <th>CLASSIFICATION_C2000</th>\n",
              "      <th>CLASSIFICATION_C2100</th>\n",
              "      <th>CLASSIFICATION_C3000</th>\n",
              "      <th>CLASSIFICATION_Other</th>\n",
              "      <th>USE_CASE_CommunityServ</th>\n",
              "      <th>USE_CASE_Heathcare</th>\n",
              "      <th>USE_CASE_Other</th>\n",
              "      <th>USE_CASE_Preservation</th>\n",
              "      <th>USE_CASE_ProductDev</th>\n",
              "      <th>ORGANIZATION_Association</th>\n",
              "      <th>ORGANIZATION_Co-operative</th>\n",
              "      <th>ORGANIZATION_Corporation</th>\n",
              "      <th>ORGANIZATION_Trust</th>\n",
              "      <th>INCOME_AMT_0</th>\n",
              "      <th>INCOME_AMT_1-9999</th>\n",
              "      <th>INCOME_AMT_10000-24999</th>\n",
              "      <th>INCOME_AMT_100000-499999</th>\n",
              "      <th>INCOME_AMT_10M-50M</th>\n",
              "      <th>INCOME_AMT_1M-5M</th>\n",
              "      <th>INCOME_AMT_25000-99999</th>\n",
              "      <th>INCOME_AMT_50M+</th>\n",
              "      <th>INCOME_AMT_5M-10M</th>\n",
              "      <th>SPECIAL_CONSIDERATIONS_N</th>\n",
              "      <th>SPECIAL_CONSIDERATIONS_Y</th>\n",
              "    </tr>\n",
              "  </thead>\n",
              "  <tbody>\n",
              "    <tr>\n",
              "      <th>0</th>\n",
              "      <td>1</td>\n",
              "      <td>5000</td>\n",
              "      <td>1</td>\n",
              "      <td>0.0</td>\n",
              "      <td>1.0</td>\n",
              "      <td>0.0</td>\n",
              "      <td>0.0</td>\n",
              "      <td>0.0</td>\n",
              "      <td>0.0</td>\n",
              "      <td>0.0</td>\n",
              "      <td>0.0</td>\n",
              "      <td>0.0</td>\n",
              "      <td>0.0</td>\n",
              "      <td>0.0</td>\n",
              "      <td>1.0</td>\n",
              "      <td>0.0</td>\n",
              "      <td>0.0</td>\n",
              "      <td>0.0</td>\n",
              "      <td>1.0</td>\n",
              "      <td>0.0</td>\n",
              "      <td>0.0</td>\n",
              "      <td>0.0</td>\n",
              "      <td>0.0</td>\n",
              "      <td>0.0</td>\n",
              "      <td>0.0</td>\n",
              "      <td>0.0</td>\n",
              "      <td>0.0</td>\n",
              "      <td>0.0</td>\n",
              "      <td>1.0</td>\n",
              "      <td>1.0</td>\n",
              "      <td>0.0</td>\n",
              "      <td>0.0</td>\n",
              "      <td>0.0</td>\n",
              "      <td>1.0</td>\n",
              "      <td>0.0</td>\n",
              "      <td>0.0</td>\n",
              "      <td>0.0</td>\n",
              "      <td>0.0</td>\n",
              "      <td>0.0</td>\n",
              "      <td>0.0</td>\n",
              "      <td>0.0</td>\n",
              "      <td>0.0</td>\n",
              "      <td>1.0</td>\n",
              "      <td>0.0</td>\n",
              "    </tr>\n",
              "    <tr>\n",
              "      <th>1</th>\n",
              "      <td>1</td>\n",
              "      <td>108590</td>\n",
              "      <td>1</td>\n",
              "      <td>0.0</td>\n",
              "      <td>0.0</td>\n",
              "      <td>0.0</td>\n",
              "      <td>1.0</td>\n",
              "      <td>0.0</td>\n",
              "      <td>0.0</td>\n",
              "      <td>0.0</td>\n",
              "      <td>0.0</td>\n",
              "      <td>0.0</td>\n",
              "      <td>0.0</td>\n",
              "      <td>0.0</td>\n",
              "      <td>1.0</td>\n",
              "      <td>0.0</td>\n",
              "      <td>0.0</td>\n",
              "      <td>0.0</td>\n",
              "      <td>0.0</td>\n",
              "      <td>0.0</td>\n",
              "      <td>1.0</td>\n",
              "      <td>0.0</td>\n",
              "      <td>0.0</td>\n",
              "      <td>0.0</td>\n",
              "      <td>0.0</td>\n",
              "      <td>0.0</td>\n",
              "      <td>0.0</td>\n",
              "      <td>1.0</td>\n",
              "      <td>0.0</td>\n",
              "      <td>0.0</td>\n",
              "      <td>1.0</td>\n",
              "      <td>0.0</td>\n",
              "      <td>0.0</td>\n",
              "      <td>0.0</td>\n",
              "      <td>1.0</td>\n",
              "      <td>0.0</td>\n",
              "      <td>0.0</td>\n",
              "      <td>0.0</td>\n",
              "      <td>0.0</td>\n",
              "      <td>0.0</td>\n",
              "      <td>0.0</td>\n",
              "      <td>0.0</td>\n",
              "      <td>1.0</td>\n",
              "      <td>0.0</td>\n",
              "    </tr>\n",
              "    <tr>\n",
              "      <th>2</th>\n",
              "      <td>1</td>\n",
              "      <td>5000</td>\n",
              "      <td>0</td>\n",
              "      <td>0.0</td>\n",
              "      <td>0.0</td>\n",
              "      <td>0.0</td>\n",
              "      <td>0.0</td>\n",
              "      <td>0.0</td>\n",
              "      <td>1.0</td>\n",
              "      <td>0.0</td>\n",
              "      <td>0.0</td>\n",
              "      <td>0.0</td>\n",
              "      <td>1.0</td>\n",
              "      <td>0.0</td>\n",
              "      <td>0.0</td>\n",
              "      <td>0.0</td>\n",
              "      <td>0.0</td>\n",
              "      <td>0.0</td>\n",
              "      <td>0.0</td>\n",
              "      <td>0.0</td>\n",
              "      <td>0.0</td>\n",
              "      <td>0.0</td>\n",
              "      <td>1.0</td>\n",
              "      <td>0.0</td>\n",
              "      <td>0.0</td>\n",
              "      <td>0.0</td>\n",
              "      <td>0.0</td>\n",
              "      <td>0.0</td>\n",
              "      <td>1.0</td>\n",
              "      <td>1.0</td>\n",
              "      <td>0.0</td>\n",
              "      <td>0.0</td>\n",
              "      <td>0.0</td>\n",
              "      <td>1.0</td>\n",
              "      <td>0.0</td>\n",
              "      <td>0.0</td>\n",
              "      <td>0.0</td>\n",
              "      <td>0.0</td>\n",
              "      <td>0.0</td>\n",
              "      <td>0.0</td>\n",
              "      <td>0.0</td>\n",
              "      <td>0.0</td>\n",
              "      <td>1.0</td>\n",
              "      <td>0.0</td>\n",
              "    </tr>\n",
              "    <tr>\n",
              "      <th>3</th>\n",
              "      <td>1</td>\n",
              "      <td>6692</td>\n",
              "      <td>1</td>\n",
              "      <td>0.0</td>\n",
              "      <td>0.0</td>\n",
              "      <td>0.0</td>\n",
              "      <td>1.0</td>\n",
              "      <td>0.0</td>\n",
              "      <td>0.0</td>\n",
              "      <td>0.0</td>\n",
              "      <td>0.0</td>\n",
              "      <td>0.0</td>\n",
              "      <td>1.0</td>\n",
              "      <td>0.0</td>\n",
              "      <td>0.0</td>\n",
              "      <td>0.0</td>\n",
              "      <td>0.0</td>\n",
              "      <td>0.0</td>\n",
              "      <td>0.0</td>\n",
              "      <td>0.0</td>\n",
              "      <td>1.0</td>\n",
              "      <td>0.0</td>\n",
              "      <td>0.0</td>\n",
              "      <td>0.0</td>\n",
              "      <td>0.0</td>\n",
              "      <td>0.0</td>\n",
              "      <td>0.0</td>\n",
              "      <td>1.0</td>\n",
              "      <td>0.0</td>\n",
              "      <td>0.0</td>\n",
              "      <td>0.0</td>\n",
              "      <td>0.0</td>\n",
              "      <td>1.0</td>\n",
              "      <td>0.0</td>\n",
              "      <td>0.0</td>\n",
              "      <td>1.0</td>\n",
              "      <td>0.0</td>\n",
              "      <td>0.0</td>\n",
              "      <td>0.0</td>\n",
              "      <td>0.0</td>\n",
              "      <td>0.0</td>\n",
              "      <td>0.0</td>\n",
              "      <td>1.0</td>\n",
              "      <td>0.0</td>\n",
              "    </tr>\n",
              "    <tr>\n",
              "      <th>4</th>\n",
              "      <td>1</td>\n",
              "      <td>142590</td>\n",
              "      <td>1</td>\n",
              "      <td>0.0</td>\n",
              "      <td>0.0</td>\n",
              "      <td>0.0</td>\n",
              "      <td>1.0</td>\n",
              "      <td>0.0</td>\n",
              "      <td>0.0</td>\n",
              "      <td>0.0</td>\n",
              "      <td>0.0</td>\n",
              "      <td>0.0</td>\n",
              "      <td>0.0</td>\n",
              "      <td>0.0</td>\n",
              "      <td>1.0</td>\n",
              "      <td>0.0</td>\n",
              "      <td>0.0</td>\n",
              "      <td>0.0</td>\n",
              "      <td>1.0</td>\n",
              "      <td>0.0</td>\n",
              "      <td>0.0</td>\n",
              "      <td>0.0</td>\n",
              "      <td>0.0</td>\n",
              "      <td>0.0</td>\n",
              "      <td>0.0</td>\n",
              "      <td>1.0</td>\n",
              "      <td>0.0</td>\n",
              "      <td>0.0</td>\n",
              "      <td>0.0</td>\n",
              "      <td>0.0</td>\n",
              "      <td>0.0</td>\n",
              "      <td>0.0</td>\n",
              "      <td>1.0</td>\n",
              "      <td>0.0</td>\n",
              "      <td>0.0</td>\n",
              "      <td>0.0</td>\n",
              "      <td>1.0</td>\n",
              "      <td>0.0</td>\n",
              "      <td>0.0</td>\n",
              "      <td>0.0</td>\n",
              "      <td>0.0</td>\n",
              "      <td>0.0</td>\n",
              "      <td>1.0</td>\n",
              "      <td>0.0</td>\n",
              "    </tr>\n",
              "    <tr>\n",
              "      <th>...</th>\n",
              "      <td>...</td>\n",
              "      <td>...</td>\n",
              "      <td>...</td>\n",
              "      <td>...</td>\n",
              "      <td>...</td>\n",
              "      <td>...</td>\n",
              "      <td>...</td>\n",
              "      <td>...</td>\n",
              "      <td>...</td>\n",
              "      <td>...</td>\n",
              "      <td>...</td>\n",
              "      <td>...</td>\n",
              "      <td>...</td>\n",
              "      <td>...</td>\n",
              "      <td>...</td>\n",
              "      <td>...</td>\n",
              "      <td>...</td>\n",
              "      <td>...</td>\n",
              "      <td>...</td>\n",
              "      <td>...</td>\n",
              "      <td>...</td>\n",
              "      <td>...</td>\n",
              "      <td>...</td>\n",
              "      <td>...</td>\n",
              "      <td>...</td>\n",
              "      <td>...</td>\n",
              "      <td>...</td>\n",
              "      <td>...</td>\n",
              "      <td>...</td>\n",
              "      <td>...</td>\n",
              "      <td>...</td>\n",
              "      <td>...</td>\n",
              "      <td>...</td>\n",
              "      <td>...</td>\n",
              "      <td>...</td>\n",
              "      <td>...</td>\n",
              "      <td>...</td>\n",
              "      <td>...</td>\n",
              "      <td>...</td>\n",
              "      <td>...</td>\n",
              "      <td>...</td>\n",
              "      <td>...</td>\n",
              "      <td>...</td>\n",
              "      <td>...</td>\n",
              "    </tr>\n",
              "    <tr>\n",
              "      <th>34294</th>\n",
              "      <td>1</td>\n",
              "      <td>5000</td>\n",
              "      <td>0</td>\n",
              "      <td>0.0</td>\n",
              "      <td>0.0</td>\n",
              "      <td>0.0</td>\n",
              "      <td>0.0</td>\n",
              "      <td>1.0</td>\n",
              "      <td>0.0</td>\n",
              "      <td>0.0</td>\n",
              "      <td>0.0</td>\n",
              "      <td>0.0</td>\n",
              "      <td>0.0</td>\n",
              "      <td>0.0</td>\n",
              "      <td>1.0</td>\n",
              "      <td>0.0</td>\n",
              "      <td>0.0</td>\n",
              "      <td>0.0</td>\n",
              "      <td>1.0</td>\n",
              "      <td>0.0</td>\n",
              "      <td>0.0</td>\n",
              "      <td>0.0</td>\n",
              "      <td>0.0</td>\n",
              "      <td>0.0</td>\n",
              "      <td>0.0</td>\n",
              "      <td>0.0</td>\n",
              "      <td>0.0</td>\n",
              "      <td>0.0</td>\n",
              "      <td>1.0</td>\n",
              "      <td>1.0</td>\n",
              "      <td>0.0</td>\n",
              "      <td>0.0</td>\n",
              "      <td>0.0</td>\n",
              "      <td>1.0</td>\n",
              "      <td>0.0</td>\n",
              "      <td>0.0</td>\n",
              "      <td>0.0</td>\n",
              "      <td>0.0</td>\n",
              "      <td>0.0</td>\n",
              "      <td>0.0</td>\n",
              "      <td>0.0</td>\n",
              "      <td>0.0</td>\n",
              "      <td>1.0</td>\n",
              "      <td>0.0</td>\n",
              "    </tr>\n",
              "    <tr>\n",
              "      <th>34295</th>\n",
              "      <td>1</td>\n",
              "      <td>5000</td>\n",
              "      <td>0</td>\n",
              "      <td>0.0</td>\n",
              "      <td>0.0</td>\n",
              "      <td>0.0</td>\n",
              "      <td>0.0</td>\n",
              "      <td>1.0</td>\n",
              "      <td>0.0</td>\n",
              "      <td>0.0</td>\n",
              "      <td>0.0</td>\n",
              "      <td>0.0</td>\n",
              "      <td>1.0</td>\n",
              "      <td>0.0</td>\n",
              "      <td>0.0</td>\n",
              "      <td>0.0</td>\n",
              "      <td>0.0</td>\n",
              "      <td>0.0</td>\n",
              "      <td>0.0</td>\n",
              "      <td>0.0</td>\n",
              "      <td>0.0</td>\n",
              "      <td>0.0</td>\n",
              "      <td>1.0</td>\n",
              "      <td>0.0</td>\n",
              "      <td>0.0</td>\n",
              "      <td>0.0</td>\n",
              "      <td>0.0</td>\n",
              "      <td>0.0</td>\n",
              "      <td>1.0</td>\n",
              "      <td>1.0</td>\n",
              "      <td>0.0</td>\n",
              "      <td>0.0</td>\n",
              "      <td>0.0</td>\n",
              "      <td>1.0</td>\n",
              "      <td>0.0</td>\n",
              "      <td>0.0</td>\n",
              "      <td>0.0</td>\n",
              "      <td>0.0</td>\n",
              "      <td>0.0</td>\n",
              "      <td>0.0</td>\n",
              "      <td>0.0</td>\n",
              "      <td>0.0</td>\n",
              "      <td>1.0</td>\n",
              "      <td>0.0</td>\n",
              "    </tr>\n",
              "    <tr>\n",
              "      <th>34296</th>\n",
              "      <td>1</td>\n",
              "      <td>5000</td>\n",
              "      <td>0</td>\n",
              "      <td>0.0</td>\n",
              "      <td>0.0</td>\n",
              "      <td>0.0</td>\n",
              "      <td>1.0</td>\n",
              "      <td>0.0</td>\n",
              "      <td>0.0</td>\n",
              "      <td>0.0</td>\n",
              "      <td>0.0</td>\n",
              "      <td>0.0</td>\n",
              "      <td>1.0</td>\n",
              "      <td>0.0</td>\n",
              "      <td>0.0</td>\n",
              "      <td>0.0</td>\n",
              "      <td>0.0</td>\n",
              "      <td>0.0</td>\n",
              "      <td>0.0</td>\n",
              "      <td>0.0</td>\n",
              "      <td>1.0</td>\n",
              "      <td>0.0</td>\n",
              "      <td>0.0</td>\n",
              "      <td>0.0</td>\n",
              "      <td>0.0</td>\n",
              "      <td>0.0</td>\n",
              "      <td>0.0</td>\n",
              "      <td>1.0</td>\n",
              "      <td>0.0</td>\n",
              "      <td>1.0</td>\n",
              "      <td>0.0</td>\n",
              "      <td>0.0</td>\n",
              "      <td>0.0</td>\n",
              "      <td>1.0</td>\n",
              "      <td>0.0</td>\n",
              "      <td>0.0</td>\n",
              "      <td>0.0</td>\n",
              "      <td>0.0</td>\n",
              "      <td>0.0</td>\n",
              "      <td>0.0</td>\n",
              "      <td>0.0</td>\n",
              "      <td>0.0</td>\n",
              "      <td>1.0</td>\n",
              "      <td>0.0</td>\n",
              "    </tr>\n",
              "    <tr>\n",
              "      <th>34297</th>\n",
              "      <td>1</td>\n",
              "      <td>5000</td>\n",
              "      <td>1</td>\n",
              "      <td>0.0</td>\n",
              "      <td>0.0</td>\n",
              "      <td>0.0</td>\n",
              "      <td>0.0</td>\n",
              "      <td>0.0</td>\n",
              "      <td>1.0</td>\n",
              "      <td>0.0</td>\n",
              "      <td>0.0</td>\n",
              "      <td>0.0</td>\n",
              "      <td>0.0</td>\n",
              "      <td>0.0</td>\n",
              "      <td>1.0</td>\n",
              "      <td>0.0</td>\n",
              "      <td>0.0</td>\n",
              "      <td>0.0</td>\n",
              "      <td>0.0</td>\n",
              "      <td>0.0</td>\n",
              "      <td>0.0</td>\n",
              "      <td>0.0</td>\n",
              "      <td>1.0</td>\n",
              "      <td>0.0</td>\n",
              "      <td>0.0</td>\n",
              "      <td>0.0</td>\n",
              "      <td>0.0</td>\n",
              "      <td>0.0</td>\n",
              "      <td>1.0</td>\n",
              "      <td>1.0</td>\n",
              "      <td>0.0</td>\n",
              "      <td>0.0</td>\n",
              "      <td>0.0</td>\n",
              "      <td>1.0</td>\n",
              "      <td>0.0</td>\n",
              "      <td>0.0</td>\n",
              "      <td>0.0</td>\n",
              "      <td>0.0</td>\n",
              "      <td>0.0</td>\n",
              "      <td>0.0</td>\n",
              "      <td>0.0</td>\n",
              "      <td>0.0</td>\n",
              "      <td>1.0</td>\n",
              "      <td>0.0</td>\n",
              "    </tr>\n",
              "    <tr>\n",
              "      <th>34298</th>\n",
              "      <td>1</td>\n",
              "      <td>36500179</td>\n",
              "      <td>0</td>\n",
              "      <td>0.0</td>\n",
              "      <td>0.0</td>\n",
              "      <td>0.0</td>\n",
              "      <td>1.0</td>\n",
              "      <td>0.0</td>\n",
              "      <td>0.0</td>\n",
              "      <td>0.0</td>\n",
              "      <td>0.0</td>\n",
              "      <td>0.0</td>\n",
              "      <td>0.0</td>\n",
              "      <td>0.0</td>\n",
              "      <td>1.0</td>\n",
              "      <td>0.0</td>\n",
              "      <td>0.0</td>\n",
              "      <td>0.0</td>\n",
              "      <td>1.0</td>\n",
              "      <td>0.0</td>\n",
              "      <td>0.0</td>\n",
              "      <td>0.0</td>\n",
              "      <td>0.0</td>\n",
              "      <td>0.0</td>\n",
              "      <td>0.0</td>\n",
              "      <td>0.0</td>\n",
              "      <td>0.0</td>\n",
              "      <td>1.0</td>\n",
              "      <td>0.0</td>\n",
              "      <td>0.0</td>\n",
              "      <td>1.0</td>\n",
              "      <td>0.0</td>\n",
              "      <td>0.0</td>\n",
              "      <td>0.0</td>\n",
              "      <td>0.0</td>\n",
              "      <td>0.0</td>\n",
              "      <td>0.0</td>\n",
              "      <td>0.0</td>\n",
              "      <td>1.0</td>\n",
              "      <td>0.0</td>\n",
              "      <td>0.0</td>\n",
              "      <td>0.0</td>\n",
              "      <td>1.0</td>\n",
              "      <td>0.0</td>\n",
              "    </tr>\n",
              "  </tbody>\n",
              "</table>\n",
              "<p>34299 rows × 44 columns</p>\n",
              "</div>"
            ],
            "text/plain": [
              "       STATUS   ASK_AMT  ...  SPECIAL_CONSIDERATIONS_N  SPECIAL_CONSIDERATIONS_Y\n",
              "0           1      5000  ...                       1.0                       0.0\n",
              "1           1    108590  ...                       1.0                       0.0\n",
              "2           1      5000  ...                       1.0                       0.0\n",
              "3           1      6692  ...                       1.0                       0.0\n",
              "4           1    142590  ...                       1.0                       0.0\n",
              "...       ...       ...  ...                       ...                       ...\n",
              "34294       1      5000  ...                       1.0                       0.0\n",
              "34295       1      5000  ...                       1.0                       0.0\n",
              "34296       1      5000  ...                       1.0                       0.0\n",
              "34297       1      5000  ...                       1.0                       0.0\n",
              "34298       1  36500179  ...                       1.0                       0.0\n",
              "\n",
              "[34299 rows x 44 columns]"
            ]
          },
          "metadata": {},
          "execution_count": 59
        }
      ]
    },
    {
      "cell_type": "code",
      "metadata": {
        "colab": {
          "base_uri": "https://localhost:8080/"
        },
        "id": "hMZgRSa4tf5h",
        "outputId": "298e2afe-592d-4c67-8d00-179c2f0337e0"
      },
      "source": [
        "application_df.dtypes"
      ],
      "execution_count": 60,
      "outputs": [
        {
          "output_type": "execute_result",
          "data": {
            "text/plain": [
              "STATUS                            int64\n",
              "ASK_AMT                           int64\n",
              "IS_SUCCESSFUL                     int64\n",
              "APPLICATION_TYPE_Other          float64\n",
              "APPLICATION_TYPE_T10            float64\n",
              "APPLICATION_TYPE_T19            float64\n",
              "APPLICATION_TYPE_T3             float64\n",
              "APPLICATION_TYPE_T4             float64\n",
              "APPLICATION_TYPE_T5             float64\n",
              "APPLICATION_TYPE_T6             float64\n",
              "APPLICATION_TYPE_T7             float64\n",
              "APPLICATION_TYPE_T8             float64\n",
              "AFFILIATION_CompanySponsored    float64\n",
              "AFFILIATION_Family/Parent       float64\n",
              "AFFILIATION_Independent         float64\n",
              "AFFILIATION_National            float64\n",
              "AFFILIATION_Other               float64\n",
              "AFFILIATION_Regional            float64\n",
              "CLASSIFICATION_C1000            float64\n",
              "CLASSIFICATION_C1200            float64\n",
              "CLASSIFICATION_C2000            float64\n",
              "CLASSIFICATION_C2100            float64\n",
              "CLASSIFICATION_C3000            float64\n",
              "CLASSIFICATION_Other            float64\n",
              "USE_CASE_CommunityServ          float64\n",
              "USE_CASE_Heathcare              float64\n",
              "USE_CASE_Other                  float64\n",
              "USE_CASE_Preservation           float64\n",
              "USE_CASE_ProductDev             float64\n",
              "ORGANIZATION_Association        float64\n",
              "ORGANIZATION_Co-operative       float64\n",
              "ORGANIZATION_Corporation        float64\n",
              "ORGANIZATION_Trust              float64\n",
              "INCOME_AMT_0                    float64\n",
              "INCOME_AMT_1-9999               float64\n",
              "INCOME_AMT_10000-24999          float64\n",
              "INCOME_AMT_100000-499999        float64\n",
              "INCOME_AMT_10M-50M              float64\n",
              "INCOME_AMT_1M-5M                float64\n",
              "INCOME_AMT_25000-99999          float64\n",
              "INCOME_AMT_50M+                 float64\n",
              "INCOME_AMT_5M-10M               float64\n",
              "SPECIAL_CONSIDERATIONS_N        float64\n",
              "SPECIAL_CONSIDERATIONS_Y        float64\n",
              "dtype: object"
            ]
          },
          "metadata": {},
          "execution_count": 60
        }
      ]
    },
    {
      "cell_type": "code",
      "metadata": {
        "id": "saKVSK7u1jI8"
      },
      "source": [
        "# Split our preprocessed data into our features and target arrays\n",
        "y = application_df.IS_SUCCESSFUL.values\n",
        "X = application_df.drop('IS_SUCCESSFUL', axis=1).values\n",
        "\n",
        "# Split the preprocessed data into a training and\n",
        "# testing dataset\n",
        "X_train, X_test, y_train, y_test = train_test_split(X,y,random_state= 42)"
      ],
      "execution_count": 61,
      "outputs": []
    },
    {
      "cell_type": "code",
      "metadata": {
        "id": "CW9XH8z21jI8"
      },
      "source": [
        "# Create a StandardScaler instances\n",
        "scaler = StandardScaler()\n",
        "\n",
        "# Fit the StandardScaler\n",
        "X_scaler = scaler.fit(X_train)\n",
        "\n",
        "# Scale the data\n",
        "X_train_scaled = X_scaler.transform(X_train)\n",
        "X_test_scaled = X_scaler.transform(X_test)"
      ],
      "execution_count": 62,
      "outputs": []
    },
    {
      "cell_type": "code",
      "metadata": {
        "colab": {
          "base_uri": "https://localhost:8080/"
        },
        "id": "CXt0y8JGe6wG",
        "outputId": "1718369d-cea8-4bcc-8827-fa66b04b55f1"
      },
      "source": [
        "X_train.shape"
      ],
      "execution_count": 63,
      "outputs": [
        {
          "output_type": "execute_result",
          "data": {
            "text/plain": [
              "(25724, 43)"
            ]
          },
          "metadata": {},
          "execution_count": 63
        }
      ]
    },
    {
      "cell_type": "markdown",
      "metadata": {
        "id": "BXdoy6oa1jI8"
      },
      "source": [
        "## Compile, Train and Evaluate the Model"
      ]
    },
    {
      "cell_type": "markdown",
      "metadata": {
        "id": "8HozuEPbC4Eh"
      },
      "source": [
        "# Model Evaluation 1"
      ]
    },
    {
      "cell_type": "code",
      "metadata": {
        "id": "-Y4n0uD01jI9",
        "colab": {
          "base_uri": "https://localhost:8080/"
        },
        "outputId": "1b7f66e3-a537-4961-c3ae-0bfff65f58ff"
      },
      "source": [
        "# Define the model - deep neural net, i.e., the number of input features and hidden nodes for each layer.\n",
        "number_input_features = len( X_train_scaled[0])\n",
        "hidden_nodes_layer1=80\n",
        "hidden_nodes_layer2=30\n",
        "\n",
        "nn_model = tf.keras.models.Sequential()\n",
        "\n",
        "# First hidden layer\n",
        "nn_model.add(tf.keras.layers.Dense(units=hidden_nodes_layer1, input_dim=number_input_features, activation='relu'))\n",
        "\n",
        "# Second hidden layer\n",
        "nn_model.add(tf.keras.layers.Dense(units=hidden_nodes_layer2, activation='relu'))\n",
        "\n",
        "# Output layer\n",
        "nn_model.add(tf.keras.layers.Dense(units=1, activation='sigmoid'))\n",
        "\n",
        "# Check the structure of the model\n",
        "nn_model.summary()"
      ],
      "execution_count": 64,
      "outputs": [
        {
          "output_type": "stream",
          "name": "stdout",
          "text": [
            "Model: \"sequential_3\"\n",
            "_________________________________________________________________\n",
            "Layer (type)                 Output Shape              Param #   \n",
            "=================================================================\n",
            "dense_10 (Dense)             (None, 80)                3520      \n",
            "_________________________________________________________________\n",
            "dense_11 (Dense)             (None, 30)                2430      \n",
            "_________________________________________________________________\n",
            "dense_12 (Dense)             (None, 1)                 31        \n",
            "=================================================================\n",
            "Total params: 5,981\n",
            "Trainable params: 5,981\n",
            "Non-trainable params: 0\n",
            "_________________________________________________________________\n"
          ]
        }
      ]
    },
    {
      "cell_type": "code",
      "metadata": {
        "id": "biizZk3J1jI9"
      },
      "source": [
        "# Compile the model\n",
        "nn_model.compile(loss = 'binary_crossentropy', optimizer = 'adam', metrics=['accuracy', tf.keras.metrics.Recall()])"
      ],
      "execution_count": 65,
      "outputs": []
    },
    {
      "cell_type": "code",
      "metadata": {
        "id": "0h4pMQLZ1jI9",
        "colab": {
          "base_uri": "https://localhost:8080/"
        },
        "outputId": "788412ba-986b-4a82-a5d0-b3e1eaa25e73"
      },
      "source": [
        "fit_model = nn_model.fit(X_train_scaled,y_train,validation_split=0.15, epochs=100)"
      ],
      "execution_count": 66,
      "outputs": [
        {
          "output_type": "stream",
          "name": "stdout",
          "text": [
            "Epoch 1/100\n",
            "684/684 [==============================] - 2s 2ms/step - loss: 0.5731 - accuracy: 0.7178 - recall_3: 0.7755 - val_loss: 0.5570 - val_accuracy: 0.7339 - val_recall_3: 0.7481\n",
            "Epoch 2/100\n",
            "684/684 [==============================] - 1s 2ms/step - loss: 0.5583 - accuracy: 0.7275 - recall_3: 0.7804 - val_loss: 0.5475 - val_accuracy: 0.7339 - val_recall_3: 0.7606\n",
            "Epoch 3/100\n",
            "684/684 [==============================] - 1s 2ms/step - loss: 0.5549 - accuracy: 0.7279 - recall_3: 0.7784 - val_loss: 0.5456 - val_accuracy: 0.7334 - val_recall_3: 0.7670\n",
            "Epoch 4/100\n",
            "684/684 [==============================] - 1s 2ms/step - loss: 0.5524 - accuracy: 0.7292 - recall_3: 0.7884 - val_loss: 0.5490 - val_accuracy: 0.7341 - val_recall_3: 0.7606\n",
            "Epoch 5/100\n",
            "684/684 [==============================] - 1s 2ms/step - loss: 0.5506 - accuracy: 0.7305 - recall_3: 0.7885 - val_loss: 0.5470 - val_accuracy: 0.7336 - val_recall_3: 0.7885\n",
            "Epoch 6/100\n",
            "684/684 [==============================] - 2s 2ms/step - loss: 0.5493 - accuracy: 0.7300 - recall_3: 0.7882 - val_loss: 0.5466 - val_accuracy: 0.7359 - val_recall_3: 0.7392\n",
            "Epoch 7/100\n",
            "684/684 [==============================] - 1s 2ms/step - loss: 0.5484 - accuracy: 0.7305 - recall_3: 0.7883 - val_loss: 0.5472 - val_accuracy: 0.7339 - val_recall_3: 0.7641\n",
            "Epoch 8/100\n",
            "684/684 [==============================] - 1s 2ms/step - loss: 0.5475 - accuracy: 0.7323 - recall_3: 0.7917 - val_loss: 0.5467 - val_accuracy: 0.7334 - val_recall_3: 0.7417\n",
            "Epoch 9/100\n",
            "684/684 [==============================] - 1s 2ms/step - loss: 0.5470 - accuracy: 0.7318 - recall_3: 0.7872 - val_loss: 0.5481 - val_accuracy: 0.7352 - val_recall_3: 0.7636\n",
            "Epoch 10/100\n",
            "684/684 [==============================] - 2s 2ms/step - loss: 0.5473 - accuracy: 0.7315 - recall_3: 0.7901 - val_loss: 0.5460 - val_accuracy: 0.7349 - val_recall_3: 0.7705\n",
            "Epoch 11/100\n",
            "684/684 [==============================] - 1s 2ms/step - loss: 0.5463 - accuracy: 0.7324 - recall_3: 0.7907 - val_loss: 0.5478 - val_accuracy: 0.7318 - val_recall_3: 0.7601\n",
            "Epoch 12/100\n",
            "684/684 [==============================] - 1s 2ms/step - loss: 0.5462 - accuracy: 0.7328 - recall_3: 0.7931 - val_loss: 0.5499 - val_accuracy: 0.7357 - val_recall_3: 0.7571\n",
            "Epoch 13/100\n",
            "684/684 [==============================] - 2s 2ms/step - loss: 0.5454 - accuracy: 0.7332 - recall_3: 0.7898 - val_loss: 0.5452 - val_accuracy: 0.7318 - val_recall_3: 0.7616\n",
            "Epoch 14/100\n",
            "684/684 [==============================] - 2s 2ms/step - loss: 0.5452 - accuracy: 0.7340 - recall_3: 0.7932 - val_loss: 0.5447 - val_accuracy: 0.7341 - val_recall_3: 0.7680\n",
            "Epoch 15/100\n",
            "684/684 [==============================] - 1s 2ms/step - loss: 0.5453 - accuracy: 0.7334 - recall_3: 0.7939 - val_loss: 0.5462 - val_accuracy: 0.7375 - val_recall_3: 0.7745\n",
            "Epoch 16/100\n",
            "684/684 [==============================] - 2s 2ms/step - loss: 0.5448 - accuracy: 0.7341 - recall_3: 0.7900 - val_loss: 0.5448 - val_accuracy: 0.7339 - val_recall_3: 0.7740\n",
            "Epoch 17/100\n",
            "684/684 [==============================] - 2s 2ms/step - loss: 0.5443 - accuracy: 0.7340 - recall_3: 0.7952 - val_loss: 0.5453 - val_accuracy: 0.7352 - val_recall_3: 0.7621\n",
            "Epoch 18/100\n",
            "684/684 [==============================] - 2s 2ms/step - loss: 0.5441 - accuracy: 0.7340 - recall_3: 0.7979 - val_loss: 0.5491 - val_accuracy: 0.7334 - val_recall_3: 0.7486\n",
            "Epoch 19/100\n",
            "684/684 [==============================] - 2s 2ms/step - loss: 0.5436 - accuracy: 0.7346 - recall_3: 0.7955 - val_loss: 0.5491 - val_accuracy: 0.7346 - val_recall_3: 0.7661\n",
            "Epoch 20/100\n",
            "684/684 [==============================] - 2s 2ms/step - loss: 0.5434 - accuracy: 0.7356 - recall_3: 0.7958 - val_loss: 0.5448 - val_accuracy: 0.7352 - val_recall_3: 0.7611\n",
            "Epoch 21/100\n",
            "684/684 [==============================] - 2s 2ms/step - loss: 0.5436 - accuracy: 0.7342 - recall_3: 0.7971 - val_loss: 0.5501 - val_accuracy: 0.7339 - val_recall_3: 0.7666\n",
            "Epoch 22/100\n",
            "684/684 [==============================] - 2s 2ms/step - loss: 0.5432 - accuracy: 0.7364 - recall_3: 0.7960 - val_loss: 0.5452 - val_accuracy: 0.7365 - val_recall_3: 0.7546\n",
            "Epoch 23/100\n",
            "684/684 [==============================] - 2s 2ms/step - loss: 0.5428 - accuracy: 0.7354 - recall_3: 0.7957 - val_loss: 0.5489 - val_accuracy: 0.7354 - val_recall_3: 0.7626\n",
            "Epoch 24/100\n",
            "684/684 [==============================] - 2s 2ms/step - loss: 0.5429 - accuracy: 0.7366 - recall_3: 0.7987 - val_loss: 0.5466 - val_accuracy: 0.7346 - val_recall_3: 0.7730\n",
            "Epoch 25/100\n",
            "684/684 [==============================] - 2s 2ms/step - loss: 0.5425 - accuracy: 0.7356 - recall_3: 0.7909 - val_loss: 0.5465 - val_accuracy: 0.7354 - val_recall_3: 0.7755\n",
            "Epoch 26/100\n",
            "684/684 [==============================] - 2s 2ms/step - loss: 0.5420 - accuracy: 0.7366 - recall_3: 0.7945 - val_loss: 0.5469 - val_accuracy: 0.7349 - val_recall_3: 0.7880\n",
            "Epoch 27/100\n",
            "684/684 [==============================] - 2s 2ms/step - loss: 0.5418 - accuracy: 0.7355 - recall_3: 0.7930 - val_loss: 0.5452 - val_accuracy: 0.7346 - val_recall_3: 0.7775\n",
            "Epoch 28/100\n",
            "684/684 [==============================] - 2s 2ms/step - loss: 0.5419 - accuracy: 0.7371 - recall_3: 0.7979 - val_loss: 0.5481 - val_accuracy: 0.7331 - val_recall_3: 0.7511\n",
            "Epoch 29/100\n",
            "684/684 [==============================] - 2s 2ms/step - loss: 0.5411 - accuracy: 0.7364 - recall_3: 0.7943 - val_loss: 0.5459 - val_accuracy: 0.7334 - val_recall_3: 0.7626\n",
            "Epoch 30/100\n",
            "684/684 [==============================] - 2s 2ms/step - loss: 0.5411 - accuracy: 0.7366 - recall_3: 0.7948 - val_loss: 0.5472 - val_accuracy: 0.7357 - val_recall_3: 0.7675\n",
            "Epoch 31/100\n",
            "684/684 [==============================] - 2s 2ms/step - loss: 0.5407 - accuracy: 0.7367 - recall_3: 0.7937 - val_loss: 0.5459 - val_accuracy: 0.7346 - val_recall_3: 0.7690\n",
            "Epoch 32/100\n",
            "684/684 [==============================] - 2s 2ms/step - loss: 0.5403 - accuracy: 0.7369 - recall_3: 0.7943 - val_loss: 0.5475 - val_accuracy: 0.7346 - val_recall_3: 0.7536\n",
            "Epoch 33/100\n",
            "684/684 [==============================] - 2s 2ms/step - loss: 0.5412 - accuracy: 0.7366 - recall_3: 0.7919 - val_loss: 0.5449 - val_accuracy: 0.7349 - val_recall_3: 0.7621\n",
            "Epoch 34/100\n",
            "684/684 [==============================] - 2s 2ms/step - loss: 0.5407 - accuracy: 0.7378 - recall_3: 0.7946 - val_loss: 0.5471 - val_accuracy: 0.7326 - val_recall_3: 0.7561\n",
            "Epoch 35/100\n",
            "684/684 [==============================] - 2s 2ms/step - loss: 0.5406 - accuracy: 0.7373 - recall_3: 0.7927 - val_loss: 0.5459 - val_accuracy: 0.7354 - val_recall_3: 0.7661\n",
            "Epoch 36/100\n",
            "684/684 [==============================] - 2s 2ms/step - loss: 0.5403 - accuracy: 0.7377 - recall_3: 0.7936 - val_loss: 0.5453 - val_accuracy: 0.7372 - val_recall_3: 0.7745\n",
            "Epoch 37/100\n",
            "684/684 [==============================] - 2s 2ms/step - loss: 0.5395 - accuracy: 0.7375 - recall_3: 0.7925 - val_loss: 0.5471 - val_accuracy: 0.7354 - val_recall_3: 0.7785\n",
            "Epoch 38/100\n",
            "684/684 [==============================] - 2s 2ms/step - loss: 0.5403 - accuracy: 0.7368 - recall_3: 0.7959 - val_loss: 0.5472 - val_accuracy: 0.7359 - val_recall_3: 0.7651\n",
            "Epoch 39/100\n",
            "684/684 [==============================] - 2s 2ms/step - loss: 0.5392 - accuracy: 0.7378 - recall_3: 0.7923 - val_loss: 0.5468 - val_accuracy: 0.7362 - val_recall_3: 0.7835\n",
            "Epoch 40/100\n",
            "684/684 [==============================] - 1s 2ms/step - loss: 0.5400 - accuracy: 0.7379 - recall_3: 0.7961 - val_loss: 0.5458 - val_accuracy: 0.7359 - val_recall_3: 0.7735\n",
            "Epoch 41/100\n",
            "684/684 [==============================] - 2s 2ms/step - loss: 0.5392 - accuracy: 0.7383 - recall_3: 0.7982 - val_loss: 0.5457 - val_accuracy: 0.7344 - val_recall_3: 0.7661\n",
            "Epoch 42/100\n",
            "684/684 [==============================] - 2s 2ms/step - loss: 0.5392 - accuracy: 0.7378 - recall_3: 0.7938 - val_loss: 0.5466 - val_accuracy: 0.7334 - val_recall_3: 0.7641\n",
            "Epoch 43/100\n",
            "684/684 [==============================] - 2s 2ms/step - loss: 0.5391 - accuracy: 0.7383 - recall_3: 0.7952 - val_loss: 0.5470 - val_accuracy: 0.7326 - val_recall_3: 0.7705\n",
            "Epoch 44/100\n",
            "684/684 [==============================] - 1s 2ms/step - loss: 0.5393 - accuracy: 0.7375 - recall_3: 0.7931 - val_loss: 0.5478 - val_accuracy: 0.7341 - val_recall_3: 0.7656\n",
            "Epoch 45/100\n",
            "684/684 [==============================] - 2s 2ms/step - loss: 0.5390 - accuracy: 0.7380 - recall_3: 0.7897 - val_loss: 0.5467 - val_accuracy: 0.7362 - val_recall_3: 0.7750\n",
            "Epoch 46/100\n",
            "684/684 [==============================] - 2s 2ms/step - loss: 0.5392 - accuracy: 0.7375 - recall_3: 0.7957 - val_loss: 0.5457 - val_accuracy: 0.7349 - val_recall_3: 0.7735\n",
            "Epoch 47/100\n",
            "684/684 [==============================] - 2s 2ms/step - loss: 0.5379 - accuracy: 0.7394 - recall_3: 0.7972 - val_loss: 0.5490 - val_accuracy: 0.7359 - val_recall_3: 0.7680\n",
            "Epoch 48/100\n",
            "684/684 [==============================] - 2s 2ms/step - loss: 0.5390 - accuracy: 0.7369 - recall_3: 0.7933 - val_loss: 0.5466 - val_accuracy: 0.7349 - val_recall_3: 0.7611\n",
            "Epoch 49/100\n",
            "684/684 [==============================] - 2s 2ms/step - loss: 0.5383 - accuracy: 0.7381 - recall_3: 0.7938 - val_loss: 0.5478 - val_accuracy: 0.7336 - val_recall_3: 0.7596\n",
            "Epoch 50/100\n",
            "684/684 [==============================] - 2s 2ms/step - loss: 0.5378 - accuracy: 0.7375 - recall_3: 0.7959 - val_loss: 0.5481 - val_accuracy: 0.7354 - val_recall_3: 0.7720\n",
            "Epoch 51/100\n",
            "684/684 [==============================] - 2s 2ms/step - loss: 0.5384 - accuracy: 0.7384 - recall_3: 0.7960 - val_loss: 0.5460 - val_accuracy: 0.7339 - val_recall_3: 0.7606\n",
            "Epoch 52/100\n",
            "684/684 [==============================] - 2s 2ms/step - loss: 0.5383 - accuracy: 0.7383 - recall_3: 0.7908 - val_loss: 0.5473 - val_accuracy: 0.7346 - val_recall_3: 0.7596\n",
            "Epoch 53/100\n",
            "684/684 [==============================] - 2s 2ms/step - loss: 0.5382 - accuracy: 0.7385 - recall_3: 0.7941 - val_loss: 0.5441 - val_accuracy: 0.7357 - val_recall_3: 0.7666\n",
            "Epoch 54/100\n",
            "684/684 [==============================] - 1s 2ms/step - loss: 0.5374 - accuracy: 0.7383 - recall_3: 0.7948 - val_loss: 0.5478 - val_accuracy: 0.7354 - val_recall_3: 0.7611\n",
            "Epoch 55/100\n",
            "684/684 [==============================] - 1s 2ms/step - loss: 0.5373 - accuracy: 0.7397 - recall_3: 0.7937 - val_loss: 0.5474 - val_accuracy: 0.7349 - val_recall_3: 0.7656\n",
            "Epoch 56/100\n",
            "684/684 [==============================] - 1s 2ms/step - loss: 0.5378 - accuracy: 0.7386 - recall_3: 0.7961 - val_loss: 0.5457 - val_accuracy: 0.7354 - val_recall_3: 0.7526\n",
            "Epoch 57/100\n",
            "684/684 [==============================] - 1s 2ms/step - loss: 0.5374 - accuracy: 0.7389 - recall_3: 0.7937 - val_loss: 0.5481 - val_accuracy: 0.7354 - val_recall_3: 0.7506\n",
            "Epoch 58/100\n",
            "684/684 [==============================] - 1s 2ms/step - loss: 0.5367 - accuracy: 0.7398 - recall_3: 0.7945 - val_loss: 0.5509 - val_accuracy: 0.7380 - val_recall_3: 0.7715\n",
            "Epoch 59/100\n",
            "684/684 [==============================] - 2s 2ms/step - loss: 0.5378 - accuracy: 0.7389 - recall_3: 0.7947 - val_loss: 0.5471 - val_accuracy: 0.7365 - val_recall_3: 0.7725\n",
            "Epoch 60/100\n",
            "684/684 [==============================] - 2s 2ms/step - loss: 0.5372 - accuracy: 0.7385 - recall_3: 0.7950 - val_loss: 0.5503 - val_accuracy: 0.7331 - val_recall_3: 0.7621\n",
            "Epoch 61/100\n",
            "684/684 [==============================] - 2s 2ms/step - loss: 0.5371 - accuracy: 0.7389 - recall_3: 0.7943 - val_loss: 0.5466 - val_accuracy: 0.7344 - val_recall_3: 0.7685\n",
            "Epoch 62/100\n",
            "684/684 [==============================] - 1s 2ms/step - loss: 0.5370 - accuracy: 0.7391 - recall_3: 0.7973 - val_loss: 0.5469 - val_accuracy: 0.7339 - val_recall_3: 0.7646\n",
            "Epoch 63/100\n",
            "684/684 [==============================] - 1s 2ms/step - loss: 0.5370 - accuracy: 0.7390 - recall_3: 0.7945 - val_loss: 0.5463 - val_accuracy: 0.7346 - val_recall_3: 0.7710\n",
            "Epoch 64/100\n",
            "684/684 [==============================] - 1s 2ms/step - loss: 0.5369 - accuracy: 0.7384 - recall_3: 0.7951 - val_loss: 0.5488 - val_accuracy: 0.7362 - val_recall_3: 0.7710\n",
            "Epoch 65/100\n",
            "684/684 [==============================] - 2s 2ms/step - loss: 0.5367 - accuracy: 0.7391 - recall_3: 0.7954 - val_loss: 0.5479 - val_accuracy: 0.7362 - val_recall_3: 0.7656\n",
            "Epoch 66/100\n",
            "684/684 [==============================] - 1s 2ms/step - loss: 0.5368 - accuracy: 0.7390 - recall_3: 0.7925 - val_loss: 0.5497 - val_accuracy: 0.7349 - val_recall_3: 0.7646\n",
            "Epoch 67/100\n",
            "684/684 [==============================] - 2s 2ms/step - loss: 0.5364 - accuracy: 0.7383 - recall_3: 0.7958 - val_loss: 0.5498 - val_accuracy: 0.7354 - val_recall_3: 0.7641\n",
            "Epoch 68/100\n",
            "684/684 [==============================] - 1s 2ms/step - loss: 0.5366 - accuracy: 0.7390 - recall_3: 0.7908 - val_loss: 0.5504 - val_accuracy: 0.7349 - val_recall_3: 0.7651\n",
            "Epoch 69/100\n",
            "684/684 [==============================] - 2s 2ms/step - loss: 0.5364 - accuracy: 0.7394 - recall_3: 0.7929 - val_loss: 0.5479 - val_accuracy: 0.7362 - val_recall_3: 0.7661\n",
            "Epoch 70/100\n",
            "684/684 [==============================] - 2s 2ms/step - loss: 0.5365 - accuracy: 0.7388 - recall_3: 0.7905 - val_loss: 0.5486 - val_accuracy: 0.7367 - val_recall_3: 0.7675\n",
            "Epoch 71/100\n",
            "684/684 [==============================] - 1s 2ms/step - loss: 0.5365 - accuracy: 0.7396 - recall_3: 0.7943 - val_loss: 0.5494 - val_accuracy: 0.7344 - val_recall_3: 0.7670\n",
            "Epoch 72/100\n",
            "684/684 [==============================] - 2s 2ms/step - loss: 0.5366 - accuracy: 0.7388 - recall_3: 0.7951 - val_loss: 0.5487 - val_accuracy: 0.7349 - val_recall_3: 0.7511\n",
            "Epoch 73/100\n",
            "684/684 [==============================] - 2s 2ms/step - loss: 0.5359 - accuracy: 0.7393 - recall_3: 0.7929 - val_loss: 0.5514 - val_accuracy: 0.7346 - val_recall_3: 0.7621\n",
            "Epoch 74/100\n",
            "684/684 [==============================] - 2s 2ms/step - loss: 0.5361 - accuracy: 0.7389 - recall_3: 0.7927 - val_loss: 0.5512 - val_accuracy: 0.7349 - val_recall_3: 0.7606\n",
            "Epoch 75/100\n",
            "684/684 [==============================] - 2s 2ms/step - loss: 0.5361 - accuracy: 0.7397 - recall_3: 0.7906 - val_loss: 0.5499 - val_accuracy: 0.7344 - val_recall_3: 0.7675\n",
            "Epoch 76/100\n",
            "684/684 [==============================] - 2s 2ms/step - loss: 0.5358 - accuracy: 0.7391 - recall_3: 0.7965 - val_loss: 0.5513 - val_accuracy: 0.7334 - val_recall_3: 0.7631\n",
            "Epoch 77/100\n",
            "684/684 [==============================] - 2s 2ms/step - loss: 0.5359 - accuracy: 0.7399 - recall_3: 0.7947 - val_loss: 0.5497 - val_accuracy: 0.7359 - val_recall_3: 0.7666\n",
            "Epoch 78/100\n",
            "684/684 [==============================] - 2s 2ms/step - loss: 0.5362 - accuracy: 0.7385 - recall_3: 0.7924 - val_loss: 0.5509 - val_accuracy: 0.7352 - val_recall_3: 0.7695\n",
            "Epoch 79/100\n",
            "684/684 [==============================] - 2s 2ms/step - loss: 0.5362 - accuracy: 0.7386 - recall_3: 0.7933 - val_loss: 0.5506 - val_accuracy: 0.7344 - val_recall_3: 0.7631\n",
            "Epoch 80/100\n",
            "684/684 [==============================] - 2s 2ms/step - loss: 0.5355 - accuracy: 0.7396 - recall_3: 0.7953 - val_loss: 0.5521 - val_accuracy: 0.7365 - val_recall_3: 0.7740\n",
            "Epoch 81/100\n",
            "684/684 [==============================] - 2s 2ms/step - loss: 0.5359 - accuracy: 0.7398 - recall_3: 0.7967 - val_loss: 0.5495 - val_accuracy: 0.7346 - val_recall_3: 0.7516\n",
            "Epoch 82/100\n",
            "684/684 [==============================] - 2s 2ms/step - loss: 0.5355 - accuracy: 0.7394 - recall_3: 0.7906 - val_loss: 0.5508 - val_accuracy: 0.7362 - val_recall_3: 0.7675\n",
            "Epoch 83/100\n",
            "684/684 [==============================] - 1s 2ms/step - loss: 0.5356 - accuracy: 0.7395 - recall_3: 0.7965 - val_loss: 0.5528 - val_accuracy: 0.7354 - val_recall_3: 0.7581\n",
            "Epoch 84/100\n",
            "684/684 [==============================] - 2s 2ms/step - loss: 0.5355 - accuracy: 0.7399 - recall_3: 0.7942 - val_loss: 0.5536 - val_accuracy: 0.7344 - val_recall_3: 0.7551\n",
            "Epoch 85/100\n",
            "684/684 [==============================] - 2s 2ms/step - loss: 0.5350 - accuracy: 0.7405 - recall_3: 0.7952 - val_loss: 0.5511 - val_accuracy: 0.7334 - val_recall_3: 0.7631\n",
            "Epoch 86/100\n",
            "684/684 [==============================] - 2s 2ms/step - loss: 0.5355 - accuracy: 0.7395 - recall_3: 0.7944 - val_loss: 0.5498 - val_accuracy: 0.7336 - val_recall_3: 0.7651\n",
            "Epoch 87/100\n",
            "684/684 [==============================] - 1s 2ms/step - loss: 0.5355 - accuracy: 0.7398 - recall_3: 0.7955 - val_loss: 0.5502 - val_accuracy: 0.7352 - val_recall_3: 0.7646\n",
            "Epoch 88/100\n",
            "684/684 [==============================] - 1s 2ms/step - loss: 0.5352 - accuracy: 0.7392 - recall_3: 0.7935 - val_loss: 0.5509 - val_accuracy: 0.7359 - val_recall_3: 0.7700\n",
            "Epoch 89/100\n",
            "684/684 [==============================] - 2s 2ms/step - loss: 0.5355 - accuracy: 0.7400 - recall_3: 0.7959 - val_loss: 0.5501 - val_accuracy: 0.7349 - val_recall_3: 0.7656\n",
            "Epoch 90/100\n",
            "684/684 [==============================] - 2s 2ms/step - loss: 0.5348 - accuracy: 0.7401 - recall_3: 0.7948 - val_loss: 0.5518 - val_accuracy: 0.7354 - val_recall_3: 0.7700\n",
            "Epoch 91/100\n",
            "684/684 [==============================] - 2s 2ms/step - loss: 0.5351 - accuracy: 0.7390 - recall_3: 0.7944 - val_loss: 0.5504 - val_accuracy: 0.7344 - val_recall_3: 0.7675\n",
            "Epoch 92/100\n",
            "684/684 [==============================] - 2s 2ms/step - loss: 0.5354 - accuracy: 0.7398 - recall_3: 0.7967 - val_loss: 0.5497 - val_accuracy: 0.7346 - val_recall_3: 0.7646\n",
            "Epoch 93/100\n",
            "684/684 [==============================] - 2s 2ms/step - loss: 0.5350 - accuracy: 0.7402 - recall_3: 0.7952 - val_loss: 0.5529 - val_accuracy: 0.7326 - val_recall_3: 0.7586\n",
            "Epoch 94/100\n",
            "684/684 [==============================] - 2s 2ms/step - loss: 0.5347 - accuracy: 0.7394 - recall_3: 0.7951 - val_loss: 0.5537 - val_accuracy: 0.7341 - val_recall_3: 0.7631\n",
            "Epoch 95/100\n",
            "684/684 [==============================] - 2s 2ms/step - loss: 0.5351 - accuracy: 0.7397 - recall_3: 0.7955 - val_loss: 0.5501 - val_accuracy: 0.7362 - val_recall_3: 0.7690\n",
            "Epoch 96/100\n",
            "684/684 [==============================] - 2s 2ms/step - loss: 0.5352 - accuracy: 0.7404 - recall_3: 0.7973 - val_loss: 0.5519 - val_accuracy: 0.7344 - val_recall_3: 0.7661\n",
            "Epoch 97/100\n",
            "684/684 [==============================] - 2s 2ms/step - loss: 0.5347 - accuracy: 0.7406 - recall_3: 0.7953 - val_loss: 0.5541 - val_accuracy: 0.7336 - val_recall_3: 0.7641\n",
            "Epoch 98/100\n",
            "684/684 [==============================] - 2s 2ms/step - loss: 0.5347 - accuracy: 0.7399 - recall_3: 0.7959 - val_loss: 0.5527 - val_accuracy: 0.7334 - val_recall_3: 0.7631\n",
            "Epoch 99/100\n",
            "684/684 [==============================] - 2s 2ms/step - loss: 0.5347 - accuracy: 0.7398 - recall_3: 0.7946 - val_loss: 0.5523 - val_accuracy: 0.7354 - val_recall_3: 0.7631\n",
            "Epoch 100/100\n",
            "684/684 [==============================] - 2s 2ms/step - loss: 0.5345 - accuracy: 0.7399 - recall_3: 0.7974 - val_loss: 0.5530 - val_accuracy: 0.7336 - val_recall_3: 0.7646\n"
          ]
        }
      ]
    },
    {
      "cell_type": "code",
      "metadata": {
        "id": "k8fYkswE1jI-",
        "colab": {
          "base_uri": "https://localhost:8080/"
        },
        "outputId": "5f78dc9f-8d6f-4928-c56c-25dc614676fc"
      },
      "source": [
        "# Evaluate the model using the test data\n",
        "model_loss, model_accuracy, model_Recall= nn_model.evaluate(X_test_scaled,y_test,verbose=2)\n",
        "print(f\"Loss: {model_loss}, Accuracy: {model_accuracy}\")"
      ],
      "execution_count": 67,
      "outputs": [
        {
          "output_type": "stream",
          "name": "stdout",
          "text": [
            "268/268 - 0s - loss: 0.5653 - accuracy: 0.7291 - recall_3: 0.7826\n",
            "Loss: 0.5652697682380676, Accuracy: 0.7290962338447571\n"
          ]
        }
      ]
    },
    {
      "cell_type": "code",
      "metadata": {
        "colab": {
          "base_uri": "https://localhost:8080/",
          "height": 404
        },
        "id": "FmNCIX7iqXi-",
        "outputId": "dd854487-6d30-4adb-a0bf-d404c4bd86c4"
      },
      "source": [
        "# Model Accuracy Graph\n",
        "plt.style.use('seaborn')\n",
        "plt.title('Accuracy \\n',fontsize=20)\n",
        "plt.plot(fit_model.history['accuracy'], 'tomato', label='Training Accuracy')\n",
        "plt.plot(fit_model.history['val_accuracy'], 'turquoise',label='Validation Accuracy')\n",
        "plt.xlabel('Number of Epochs')\n",
        "plt.ylabel('Loss')\n",
        "plt.legend()\n",
        "plt.show()"
      ],
      "execution_count": 75,
      "outputs": [
        {
          "output_type": "display_data",
          "data": {
            "image/png": "[encoded data removed]",
            "text/plain": [
              "<Figure size 576x396 with 1 Axes>"
            ]
          },
          "metadata": {}
        }
      ]
    },
    {
      "cell_type": "code",
      "metadata": {
        "colab": {
          "base_uri": "https://localhost:8080/",
          "height": 404
        },
        "id": "0yjZKbH6rhBW",
        "outputId": "629a7bf6-d59a-4f9d-ca0b-93d2081aea10"
      },
      "source": [
        "# Model Loss Graph\n",
        "plt.style.use('seaborn')\n",
        "plt.title('Loss \\n',fontsize=20)\n",
        "plt.plot(fit_model.history['loss'], 'orchid', label='Training Loss')\n",
        "plt.plot(fit_model.history['val_loss'],'royalblue', label='Validation Loss')\n",
        "plt.xlabel('Number of Epochs')\n",
        "plt.ylabel('Loss')\n",
        "plt.legend()\n",
        "plt.show()"
      ],
      "execution_count": 76,
      "outputs": [
        {
          "output_type": "display_data",
          "data": {
            "image/png": "[encoded data removed]",
            "text/plain": [
              "<Figure size 576x396 with 1 Axes>"
            ]
          },
          "metadata": {}
        }
      ]
    },
    {
      "cell_type": "code",
      "metadata": {
        "id": "E9vmvJXJ1jI-",
        "colab": {
          "base_uri": "https://localhost:8080/",
          "height": 17
        },
        "outputId": "2273662d-99ab-4d5d-a585-ca99a0ff09fc"
      },
      "source": [
        "# Export our model to HDF5 file\n",
        "from google.colab import files\n",
        "\n",
        "nn_model.save('/content/Alphabet_Soup_model1.h5')\n",
        "files.download('/content/Alphabet_Soup_model1.h5')"
      ],
      "execution_count": 70,
      "outputs": [
        {
          "output_type": "display_data",
          "data": {
            "application/javascript": [
              "\n",
              "    async function download(id, filename, size) {\n",
              "      if (!google.colab.kernel.accessAllowed) {\n",
              "        return;\n",
              "      }\n",
              "      const div = document.createElement('div');\n",
              "      const label = document.createElement('label');\n",
              "      label.textContent = `Downloading \"${filename}\": `;\n",
              "      div.appendChild(label);\n",
              "      const progress = document.createElement('progress');\n",
              "      progress.max = size;\n",
              "      div.appendChild(progress);\n",
              "      document.body.appendChild(div);\n",
              "\n",
              "      const buffers = [];\n",
              "      let downloaded = 0;\n",
              "\n",
              "      const channel = await google.colab.kernel.comms.open(id);\n",
              "      // Send a message to notify the kernel that we're ready.\n",
              "      channel.send({})\n",
              "\n",
              "      for await (const message of channel.messages) {\n",
              "        // Send a message to notify the kernel that we're ready.\n",
              "        channel.send({})\n",
              "        if (message.buffers) {\n",
              "          for (const buffer of message.buffers) {\n",
              "            buffers.push(buffer);\n",
              "            downloaded += buffer.byteLength;\n",
              "            progress.value = downloaded;\n",
              "          }\n",
              "        }\n",
              "      }\n",
              "      const blob = new Blob(buffers, {type: 'application/binary'});\n",
              "      const a = document.createElement('a');\n",
              "      a.href = window.URL.createObjectURL(blob);\n",
              "      a.download = filename;\n",
              "      div.appendChild(a);\n",
              "      a.click();\n",
              "      div.remove();\n",
              "    }\n",
              "  "
            ],
            "text/plain": [
              "<IPython.core.display.Javascript object>"
            ]
          },
          "metadata": {}
        },
        {
          "output_type": "display_data",
          "data": {
            "application/javascript": [
              "download(\"download_6b33d88a-a5f7-4fd6-b2e7-8ea63a1bfaf6\", \"Alphabet_Soup_model1.h5\", 103352)"
            ],
            "text/plain": [
              "<IPython.core.display.Javascript object>"
            ]
          },
          "metadata": {}
        }
      ]
    },
    {
      "cell_type": "markdown",
      "metadata": {
        "id": "It0pLk1aDD_K"
      },
      "source": [
        "# Model Evaluation 2"
      ]
    },
    {
      "cell_type": "code",
      "metadata": {
        "id": "yIqz_wAEDFo9",
        "colab": {
          "base_uri": "https://localhost:8080/"
        },
        "outputId": "7181e8d3-1575-4f7b-b4d9-82af4d38db6f"
      },
      "source": [
        "# Define the model - deep neural net, i.e., the number of input features and hidden nodes for each layer.\n",
        "number_input_features = len( X_train_scaled[0])\n",
        "hidden_nodes_layer1=1450\n",
        "hidden_nodes_layer2=80\n",
        "\n",
        "nn_model = tf.keras.models.Sequential()\n",
        "\n",
        "# First hidden layer\n",
        "nn_model.add(tf.keras.layers.Dense(units=hidden_nodes_layer1, input_dim=number_input_features, activation='relu'))\n",
        "\n",
        "# Second hidden layer\n",
        "nn_model.add(tf.keras.layers.Dense(units=hidden_nodes_layer2, activation='relu'))\n",
        "\n",
        "# Output layer\n",
        "nn_model.add(tf.keras.layers.Dense(units=1, activation='sigmoid'))\n",
        "\n",
        "# Check the structure of the model\n",
        "nn_model.summary()"
      ],
      "execution_count": 77,
      "outputs": [
        {
          "output_type": "stream",
          "name": "stdout",
          "text": [
            "Model: \"sequential_4\"\n",
            "_________________________________________________________________\n",
            "Layer (type)                 Output Shape              Param #   \n",
            "=================================================================\n",
            "dense_13 (Dense)             (None, 1450)              63800     \n",
            "_________________________________________________________________\n",
            "dense_14 (Dense)             (None, 80)                116080    \n",
            "_________________________________________________________________\n",
            "dense_15 (Dense)             (None, 1)                 81        \n",
            "=================================================================\n",
            "Total params: 179,961\n",
            "Trainable params: 179,961\n",
            "Non-trainable params: 0\n",
            "_________________________________________________________________\n"
          ]
        }
      ]
    },
    {
      "cell_type": "code",
      "metadata": {
        "id": "M9zqjrf8DRDm"
      },
      "source": [
        "# Compile the model\n",
        "nn_model.compile(loss = 'binary_crossentropy', optimizer = 'adam', metrics=['accuracy', tf.keras.metrics.Recall()])"
      ],
      "execution_count": 78,
      "outputs": []
    },
    {
      "cell_type": "code",
      "metadata": {
        "id": "tIC2jHSoDRnj",
        "colab": {
          "base_uri": "https://localhost:8080/"
        },
        "outputId": "e12ea7d1-33bb-4ec0-bf3f-c32814a47c58"
      },
      "source": [
        "fit_model = nn_model.fit(X_train_scaled,y_train,validation_split=0.15, epochs=100)"
      ],
      "execution_count": 79,
      "outputs": [
        {
          "output_type": "stream",
          "name": "stdout",
          "text": [
            "Epoch 1/100\n",
            "684/684 [==============================] - 4s 5ms/step - loss: 0.5695 - accuracy: 0.7194 - recall_4: 0.7871 - val_loss: 0.5520 - val_accuracy: 0.7344 - val_recall_4: 0.7566\n",
            "Epoch 2/100\n",
            "684/684 [==============================] - 3s 5ms/step - loss: 0.5581 - accuracy: 0.7273 - recall_4: 0.7824 - val_loss: 0.5494 - val_accuracy: 0.7357 - val_recall_4: 0.7566\n",
            "Epoch 3/100\n",
            "684/684 [==============================] - 3s 5ms/step - loss: 0.5548 - accuracy: 0.7285 - recall_4: 0.7780 - val_loss: 0.5519 - val_accuracy: 0.7372 - val_recall_4: 0.7581\n",
            "Epoch 4/100\n",
            "684/684 [==============================] - 3s 4ms/step - loss: 0.5530 - accuracy: 0.7310 - recall_4: 0.7883 - val_loss: 0.5521 - val_accuracy: 0.7359 - val_recall_4: 0.7805\n",
            "Epoch 5/100\n",
            "684/684 [==============================] - 3s 5ms/step - loss: 0.5518 - accuracy: 0.7309 - recall_4: 0.7932 - val_loss: 0.5495 - val_accuracy: 0.7344 - val_recall_4: 0.7785\n",
            "Epoch 6/100\n",
            "684/684 [==============================] - 3s 5ms/step - loss: 0.5505 - accuracy: 0.7308 - recall_4: 0.7871 - val_loss: 0.5473 - val_accuracy: 0.7339 - val_recall_4: 0.7561\n",
            "Epoch 7/100\n",
            "684/684 [==============================] - 3s 5ms/step - loss: 0.5502 - accuracy: 0.7317 - recall_4: 0.7890 - val_loss: 0.5445 - val_accuracy: 0.7354 - val_recall_4: 0.7710\n",
            "Epoch 8/100\n",
            "684/684 [==============================] - 3s 5ms/step - loss: 0.5489 - accuracy: 0.7325 - recall_4: 0.7905 - val_loss: 0.5447 - val_accuracy: 0.7370 - val_recall_4: 0.7651\n",
            "Epoch 9/100\n",
            "684/684 [==============================] - 4s 5ms/step - loss: 0.5480 - accuracy: 0.7322 - recall_4: 0.7976 - val_loss: 0.5468 - val_accuracy: 0.7375 - val_recall_4: 0.7870\n",
            "Epoch 10/100\n",
            "684/684 [==============================] - 4s 5ms/step - loss: 0.5476 - accuracy: 0.7322 - recall_4: 0.8020 - val_loss: 0.5452 - val_accuracy: 0.7346 - val_recall_4: 0.7775\n",
            "Epoch 11/100\n",
            "684/684 [==============================] - 3s 5ms/step - loss: 0.5467 - accuracy: 0.7335 - recall_4: 0.8036 - val_loss: 0.5467 - val_accuracy: 0.7359 - val_recall_4: 0.7820\n",
            "Epoch 12/100\n",
            "684/684 [==============================] - 3s 5ms/step - loss: 0.5464 - accuracy: 0.7339 - recall_4: 0.8061 - val_loss: 0.5459 - val_accuracy: 0.7391 - val_recall_4: 0.7715\n",
            "Epoch 13/100\n",
            "684/684 [==============================] - 4s 5ms/step - loss: 0.5456 - accuracy: 0.7342 - recall_4: 0.8034 - val_loss: 0.5454 - val_accuracy: 0.7357 - val_recall_4: 0.7820\n",
            "Epoch 14/100\n",
            "684/684 [==============================] - 3s 4ms/step - loss: 0.5451 - accuracy: 0.7343 - recall_4: 0.7994 - val_loss: 0.5467 - val_accuracy: 0.7352 - val_recall_4: 0.7641\n",
            "Epoch 15/100\n",
            "684/684 [==============================] - 3s 4ms/step - loss: 0.5457 - accuracy: 0.7337 - recall_4: 0.8028 - val_loss: 0.5457 - val_accuracy: 0.7388 - val_recall_4: 0.7865\n",
            "Epoch 16/100\n",
            "684/684 [==============================] - 3s 5ms/step - loss: 0.5445 - accuracy: 0.7342 - recall_4: 0.8044 - val_loss: 0.5434 - val_accuracy: 0.7362 - val_recall_4: 0.7850\n",
            "Epoch 17/100\n",
            "684/684 [==============================] - 3s 5ms/step - loss: 0.5443 - accuracy: 0.7343 - recall_4: 0.8040 - val_loss: 0.5456 - val_accuracy: 0.7349 - val_recall_4: 0.7750\n",
            "Epoch 18/100\n",
            "684/684 [==============================] - 3s 5ms/step - loss: 0.5444 - accuracy: 0.7345 - recall_4: 0.8046 - val_loss: 0.5439 - val_accuracy: 0.7383 - val_recall_4: 0.7889\n",
            "Epoch 19/100\n",
            "684/684 [==============================] - 3s 5ms/step - loss: 0.5435 - accuracy: 0.7353 - recall_4: 0.8069 - val_loss: 0.5449 - val_accuracy: 0.7378 - val_recall_4: 0.7845\n",
            "Epoch 20/100\n",
            "684/684 [==============================] - 3s 5ms/step - loss: 0.5434 - accuracy: 0.7346 - recall_4: 0.8090 - val_loss: 0.5434 - val_accuracy: 0.7367 - val_recall_4: 0.7899\n",
            "Epoch 21/100\n",
            "684/684 [==============================] - 3s 4ms/step - loss: 0.5427 - accuracy: 0.7348 - recall_4: 0.8076 - val_loss: 0.5458 - val_accuracy: 0.7378 - val_recall_4: 0.7949\n",
            "Epoch 22/100\n",
            "684/684 [==============================] - 3s 4ms/step - loss: 0.5428 - accuracy: 0.7355 - recall_4: 0.8091 - val_loss: 0.5444 - val_accuracy: 0.7372 - val_recall_4: 0.7880\n",
            "Epoch 23/100\n",
            "684/684 [==============================] - 3s 5ms/step - loss: 0.5424 - accuracy: 0.7351 - recall_4: 0.8069 - val_loss: 0.5435 - val_accuracy: 0.7378 - val_recall_4: 0.7880\n",
            "Epoch 24/100\n",
            "684/684 [==============================] - 3s 5ms/step - loss: 0.5419 - accuracy: 0.7360 - recall_4: 0.8038 - val_loss: 0.5487 - val_accuracy: 0.7359 - val_recall_4: 0.7865\n",
            "Epoch 25/100\n",
            "684/684 [==============================] - 3s 5ms/step - loss: 0.5421 - accuracy: 0.7351 - recall_4: 0.8105 - val_loss: 0.5468 - val_accuracy: 0.7391 - val_recall_4: 0.7919\n",
            "Epoch 26/100\n",
            "684/684 [==============================] - 3s 5ms/step - loss: 0.5420 - accuracy: 0.7360 - recall_4: 0.8106 - val_loss: 0.5449 - val_accuracy: 0.7380 - val_recall_4: 0.7795\n",
            "Epoch 27/100\n",
            "684/684 [==============================] - 3s 5ms/step - loss: 0.5424 - accuracy: 0.7355 - recall_4: 0.8124 - val_loss: 0.5437 - val_accuracy: 0.7375 - val_recall_4: 0.7835\n",
            "Epoch 28/100\n",
            "684/684 [==============================] - 3s 4ms/step - loss: 0.5416 - accuracy: 0.7364 - recall_4: 0.8048 - val_loss: 0.5412 - val_accuracy: 0.7385 - val_recall_4: 0.7885\n",
            "Epoch 29/100\n",
            "684/684 [==============================] - 3s 4ms/step - loss: 0.5419 - accuracy: 0.7354 - recall_4: 0.8093 - val_loss: 0.5452 - val_accuracy: 0.7375 - val_recall_4: 0.7885\n",
            "Epoch 30/100\n",
            "684/684 [==============================] - 3s 5ms/step - loss: 0.5414 - accuracy: 0.7366 - recall_4: 0.8079 - val_loss: 0.5466 - val_accuracy: 0.7378 - val_recall_4: 0.7909\n",
            "Epoch 31/100\n",
            "684/684 [==============================] - 3s 5ms/step - loss: 0.5412 - accuracy: 0.7357 - recall_4: 0.8085 - val_loss: 0.5442 - val_accuracy: 0.7378 - val_recall_4: 0.7865\n",
            "Epoch 32/100\n",
            "684/684 [==============================] - 3s 5ms/step - loss: 0.5415 - accuracy: 0.7361 - recall_4: 0.8066 - val_loss: 0.5435 - val_accuracy: 0.7406 - val_recall_4: 0.7919\n",
            "Epoch 33/100\n",
            "684/684 [==============================] - 4s 5ms/step - loss: 0.5412 - accuracy: 0.7351 - recall_4: 0.8069 - val_loss: 0.5446 - val_accuracy: 0.7385 - val_recall_4: 0.7855\n",
            "Epoch 34/100\n",
            "684/684 [==============================] - 3s 5ms/step - loss: 0.5403 - accuracy: 0.7359 - recall_4: 0.8085 - val_loss: 0.5475 - val_accuracy: 0.7385 - val_recall_4: 0.7825\n",
            "Epoch 35/100\n",
            "684/684 [==============================] - 3s 4ms/step - loss: 0.5405 - accuracy: 0.7358 - recall_4: 0.8104 - val_loss: 0.5479 - val_accuracy: 0.7378 - val_recall_4: 0.7850\n",
            "Epoch 36/100\n",
            "684/684 [==============================] - 3s 5ms/step - loss: 0.5409 - accuracy: 0.7360 - recall_4: 0.8055 - val_loss: 0.5442 - val_accuracy: 0.7380 - val_recall_4: 0.7889\n",
            "Epoch 37/100\n",
            "684/684 [==============================] - 3s 5ms/step - loss: 0.5397 - accuracy: 0.7364 - recall_4: 0.8040 - val_loss: 0.5483 - val_accuracy: 0.7372 - val_recall_4: 0.7780\n",
            "Epoch 38/100\n",
            "684/684 [==============================] - 3s 5ms/step - loss: 0.5399 - accuracy: 0.7365 - recall_4: 0.8017 - val_loss: 0.5443 - val_accuracy: 0.7391 - val_recall_4: 0.7989\n",
            "Epoch 39/100\n",
            "684/684 [==============================] - 3s 5ms/step - loss: 0.5406 - accuracy: 0.7364 - recall_4: 0.8064 - val_loss: 0.5464 - val_accuracy: 0.7346 - val_recall_4: 0.7775\n",
            "Epoch 40/100\n",
            "684/684 [==============================] - 3s 5ms/step - loss: 0.5397 - accuracy: 0.7373 - recall_4: 0.8035 - val_loss: 0.5478 - val_accuracy: 0.7370 - val_recall_4: 0.7725\n",
            "Epoch 41/100\n",
            "684/684 [==============================] - 3s 5ms/step - loss: 0.5405 - accuracy: 0.7365 - recall_4: 0.8016 - val_loss: 0.5459 - val_accuracy: 0.7388 - val_recall_4: 0.7830\n",
            "Epoch 42/100\n",
            "684/684 [==============================] - 3s 5ms/step - loss: 0.5405 - accuracy: 0.7364 - recall_4: 0.8099 - val_loss: 0.5476 - val_accuracy: 0.7370 - val_recall_4: 0.7825\n",
            "Epoch 43/100\n",
            "684/684 [==============================] - 3s 5ms/step - loss: 0.5391 - accuracy: 0.7360 - recall_4: 0.8101 - val_loss: 0.5464 - val_accuracy: 0.7378 - val_recall_4: 0.7865\n",
            "Epoch 44/100\n",
            "684/684 [==============================] - 3s 5ms/step - loss: 0.5401 - accuracy: 0.7363 - recall_4: 0.8100 - val_loss: 0.5445 - val_accuracy: 0.7375 - val_recall_4: 0.7835\n",
            "Epoch 45/100\n",
            "684/684 [==============================] - 3s 5ms/step - loss: 0.5388 - accuracy: 0.7362 - recall_4: 0.8109 - val_loss: 0.5482 - val_accuracy: 0.7367 - val_recall_4: 0.7899\n",
            "Epoch 46/100\n",
            "684/684 [==============================] - 3s 5ms/step - loss: 0.5397 - accuracy: 0.7367 - recall_4: 0.8070 - val_loss: 0.5498 - val_accuracy: 0.7375 - val_recall_4: 0.7870\n",
            "Epoch 47/100\n",
            "684/684 [==============================] - 3s 5ms/step - loss: 0.5390 - accuracy: 0.7366 - recall_4: 0.8093 - val_loss: 0.5493 - val_accuracy: 0.7393 - val_recall_4: 0.7885\n",
            "Epoch 48/100\n",
            "684/684 [==============================] - 3s 5ms/step - loss: 0.5480 - accuracy: 0.7362 - recall_4: 0.8105 - val_loss: 0.5445 - val_accuracy: 0.7383 - val_recall_4: 0.7830\n",
            "Epoch 49/100\n",
            "684/684 [==============================] - 3s 5ms/step - loss: 0.5441 - accuracy: 0.7370 - recall_4: 0.8059 - val_loss: 0.5471 - val_accuracy: 0.7393 - val_recall_4: 0.7939\n",
            "Epoch 50/100\n",
            "684/684 [==============================] - 3s 5ms/step - loss: 0.5393 - accuracy: 0.7372 - recall_4: 0.8103 - val_loss: 0.5457 - val_accuracy: 0.7380 - val_recall_4: 0.7860\n",
            "Epoch 51/100\n",
            "684/684 [==============================] - 3s 5ms/step - loss: 0.5385 - accuracy: 0.7366 - recall_4: 0.8116 - val_loss: 0.5456 - val_accuracy: 0.7370 - val_recall_4: 0.7885\n",
            "Epoch 52/100\n",
            "684/684 [==============================] - 3s 5ms/step - loss: 0.5380 - accuracy: 0.7373 - recall_4: 0.8106 - val_loss: 0.5465 - val_accuracy: 0.7385 - val_recall_4: 0.7845\n",
            "Epoch 53/100\n",
            "684/684 [==============================] - 3s 5ms/step - loss: 0.5381 - accuracy: 0.7368 - recall_4: 0.8064 - val_loss: 0.5492 - val_accuracy: 0.7380 - val_recall_4: 0.7785\n",
            "Epoch 54/100\n",
            "684/684 [==============================] - 3s 4ms/step - loss: 0.5383 - accuracy: 0.7365 - recall_4: 0.8090 - val_loss: 0.5467 - val_accuracy: 0.7380 - val_recall_4: 0.7820\n",
            "Epoch 55/100\n",
            "684/684 [==============================] - 3s 4ms/step - loss: 0.5385 - accuracy: 0.7370 - recall_4: 0.8082 - val_loss: 0.5454 - val_accuracy: 0.7380 - val_recall_4: 0.7894\n",
            "Epoch 56/100\n",
            "684/684 [==============================] - 3s 4ms/step - loss: 0.5382 - accuracy: 0.7369 - recall_4: 0.8111 - val_loss: 0.5480 - val_accuracy: 0.7380 - val_recall_4: 0.7899\n",
            "Epoch 57/100\n",
            "684/684 [==============================] - 3s 5ms/step - loss: 0.5392 - accuracy: 0.7376 - recall_4: 0.8105 - val_loss: 0.5488 - val_accuracy: 0.7370 - val_recall_4: 0.7860\n",
            "Epoch 58/100\n",
            "684/684 [==============================] - 3s 5ms/step - loss: 0.5390 - accuracy: 0.7368 - recall_4: 0.8105 - val_loss: 0.5512 - val_accuracy: 0.7367 - val_recall_4: 0.7865\n",
            "Epoch 59/100\n",
            "684/684 [==============================] - 3s 5ms/step - loss: 0.5378 - accuracy: 0.7371 - recall_4: 0.8127 - val_loss: 0.5482 - val_accuracy: 0.7367 - val_recall_4: 0.7855\n",
            "Epoch 60/100\n",
            "684/684 [==============================] - 3s 5ms/step - loss: 0.5374 - accuracy: 0.7370 - recall_4: 0.8137 - val_loss: 0.5518 - val_accuracy: 0.7365 - val_recall_4: 0.7845\n",
            "Epoch 61/100\n",
            "684/684 [==============================] - 4s 5ms/step - loss: 0.5374 - accuracy: 0.7373 - recall_4: 0.8104 - val_loss: 0.5502 - val_accuracy: 0.7362 - val_recall_4: 0.7840\n",
            "Epoch 62/100\n",
            "684/684 [==============================] - 3s 5ms/step - loss: 0.5372 - accuracy: 0.7373 - recall_4: 0.8118 - val_loss: 0.5515 - val_accuracy: 0.7362 - val_recall_4: 0.7870\n",
            "Epoch 63/100\n",
            "684/684 [==============================] - 3s 5ms/step - loss: 0.5374 - accuracy: 0.7376 - recall_4: 0.8111 - val_loss: 0.5475 - val_accuracy: 0.7365 - val_recall_4: 0.7865\n",
            "Epoch 64/100\n",
            "684/684 [==============================] - 3s 5ms/step - loss: 0.5369 - accuracy: 0.7373 - recall_4: 0.8110 - val_loss: 0.5476 - val_accuracy: 0.7354 - val_recall_4: 0.7865\n",
            "Epoch 65/100\n",
            "684/684 [==============================] - 3s 5ms/step - loss: 0.5379 - accuracy: 0.7372 - recall_4: 0.8121 - val_loss: 0.5491 - val_accuracy: 0.7370 - val_recall_4: 0.7795\n",
            "Epoch 66/100\n",
            "684/684 [==============================] - 3s 5ms/step - loss: 0.5372 - accuracy: 0.7378 - recall_4: 0.8120 - val_loss: 0.5520 - val_accuracy: 0.7375 - val_recall_4: 0.7810\n",
            "Epoch 67/100\n",
            "684/684 [==============================] - 4s 5ms/step - loss: 0.5368 - accuracy: 0.7371 - recall_4: 0.8119 - val_loss: 0.5530 - val_accuracy: 0.7365 - val_recall_4: 0.7855\n",
            "Epoch 68/100\n",
            "684/684 [==============================] - 3s 5ms/step - loss: 0.5369 - accuracy: 0.7376 - recall_4: 0.8100 - val_loss: 0.5509 - val_accuracy: 0.7359 - val_recall_4: 0.7865\n",
            "Epoch 69/100\n",
            "684/684 [==============================] - 4s 5ms/step - loss: 0.5367 - accuracy: 0.7382 - recall_4: 0.8047 - val_loss: 0.5492 - val_accuracy: 0.7372 - val_recall_4: 0.7760\n",
            "Epoch 70/100\n",
            "684/684 [==============================] - 3s 5ms/step - loss: 0.5363 - accuracy: 0.7375 - recall_4: 0.8081 - val_loss: 0.5513 - val_accuracy: 0.7354 - val_recall_4: 0.7820\n",
            "Epoch 71/100\n",
            "684/684 [==============================] - 3s 5ms/step - loss: 0.5381 - accuracy: 0.7377 - recall_4: 0.8051 - val_loss: 0.5478 - val_accuracy: 0.7391 - val_recall_4: 0.7904\n",
            "Epoch 72/100\n",
            "684/684 [==============================] - 3s 5ms/step - loss: 0.5371 - accuracy: 0.7371 - recall_4: 0.8127 - val_loss: 0.5545 - val_accuracy: 0.7365 - val_recall_4: 0.7865\n",
            "Epoch 73/100\n",
            "684/684 [==============================] - 4s 5ms/step - loss: 0.5367 - accuracy: 0.7378 - recall_4: 0.8119 - val_loss: 0.5472 - val_accuracy: 0.7359 - val_recall_4: 0.7845\n",
            "Epoch 74/100\n",
            "684/684 [==============================] - 3s 5ms/step - loss: 0.5367 - accuracy: 0.7370 - recall_4: 0.8053 - val_loss: 0.5500 - val_accuracy: 0.7385 - val_recall_4: 0.7860\n",
            "Epoch 75/100\n",
            "684/684 [==============================] - 3s 5ms/step - loss: 0.5380 - accuracy: 0.7377 - recall_4: 0.8111 - val_loss: 0.5525 - val_accuracy: 0.7359 - val_recall_4: 0.7865\n",
            "Epoch 76/100\n",
            "684/684 [==============================] - 3s 5ms/step - loss: 0.5360 - accuracy: 0.7372 - recall_4: 0.8099 - val_loss: 0.5566 - val_accuracy: 0.7367 - val_recall_4: 0.7855\n",
            "Epoch 77/100\n",
            "684/684 [==============================] - 4s 5ms/step - loss: 0.5361 - accuracy: 0.7378 - recall_4: 0.8140 - val_loss: 0.5532 - val_accuracy: 0.7375 - val_recall_4: 0.7855\n",
            "Epoch 78/100\n",
            "684/684 [==============================] - 3s 5ms/step - loss: 0.5355 - accuracy: 0.7379 - recall_4: 0.8131 - val_loss: 0.5498 - val_accuracy: 0.7378 - val_recall_4: 0.7865\n",
            "Epoch 79/100\n",
            "684/684 [==============================] - 3s 5ms/step - loss: 0.5359 - accuracy: 0.7383 - recall_4: 0.8128 - val_loss: 0.5499 - val_accuracy: 0.7375 - val_recall_4: 0.7735\n",
            "Epoch 80/100\n",
            "684/684 [==============================] - 3s 5ms/step - loss: 0.5350 - accuracy: 0.7372 - recall_4: 0.8096 - val_loss: 0.5559 - val_accuracy: 0.7383 - val_recall_4: 0.7850\n",
            "Epoch 81/100\n",
            "684/684 [==============================] - 3s 5ms/step - loss: 0.5356 - accuracy: 0.7375 - recall_4: 0.8114 - val_loss: 0.5543 - val_accuracy: 0.7362 - val_recall_4: 0.7835\n",
            "Epoch 82/100\n",
            "684/684 [==============================] - 4s 5ms/step - loss: 0.5357 - accuracy: 0.7379 - recall_4: 0.8110 - val_loss: 0.5522 - val_accuracy: 0.7372 - val_recall_4: 0.7835\n",
            "Epoch 83/100\n",
            "684/684 [==============================] - 3s 5ms/step - loss: 0.5355 - accuracy: 0.7382 - recall_4: 0.8100 - val_loss: 0.5558 - val_accuracy: 0.7359 - val_recall_4: 0.7870\n",
            "Epoch 84/100\n",
            "684/684 [==============================] - 3s 5ms/step - loss: 0.5365 - accuracy: 0.7372 - recall_4: 0.8102 - val_loss: 0.5519 - val_accuracy: 0.7367 - val_recall_4: 0.7825\n",
            "Epoch 85/100\n",
            "684/684 [==============================] - 4s 5ms/step - loss: 0.5353 - accuracy: 0.7378 - recall_4: 0.8119 - val_loss: 0.5924 - val_accuracy: 0.7380 - val_recall_4: 0.7810\n",
            "Epoch 86/100\n",
            "684/684 [==============================] - 3s 5ms/step - loss: 0.5496 - accuracy: 0.7377 - recall_4: 0.8096 - val_loss: 0.5669 - val_accuracy: 0.7354 - val_recall_4: 0.7780\n",
            "Epoch 87/100\n",
            "684/684 [==============================] - 3s 5ms/step - loss: 0.5351 - accuracy: 0.7378 - recall_4: 0.8081 - val_loss: 0.5543 - val_accuracy: 0.7367 - val_recall_4: 0.7840\n",
            "Epoch 88/100\n",
            "684/684 [==============================] - 3s 5ms/step - loss: 0.5359 - accuracy: 0.7384 - recall_4: 0.8081 - val_loss: 0.5521 - val_accuracy: 0.7367 - val_recall_4: 0.7790\n",
            "Epoch 89/100\n",
            "684/684 [==============================] - 3s 5ms/step - loss: 0.5357 - accuracy: 0.7374 - recall_4: 0.8112 - val_loss: 0.5547 - val_accuracy: 0.7370 - val_recall_4: 0.7805\n",
            "Epoch 90/100\n",
            "684/684 [==============================] - 3s 4ms/step - loss: 0.5350 - accuracy: 0.7378 - recall_4: 0.8097 - val_loss: 0.5538 - val_accuracy: 0.7372 - val_recall_4: 0.7870\n",
            "Epoch 91/100\n",
            "684/684 [==============================] - 3s 5ms/step - loss: 0.5354 - accuracy: 0.7377 - recall_4: 0.8120 - val_loss: 0.5584 - val_accuracy: 0.7378 - val_recall_4: 0.7875\n",
            "Epoch 92/100\n",
            "684/684 [==============================] - 4s 5ms/step - loss: 0.5358 - accuracy: 0.7380 - recall_4: 0.8130 - val_loss: 0.5585 - val_accuracy: 0.7380 - val_recall_4: 0.7870\n",
            "Epoch 93/100\n",
            "684/684 [==============================] - 4s 5ms/step - loss: 0.5355 - accuracy: 0.7380 - recall_4: 0.8126 - val_loss: 0.5502 - val_accuracy: 0.7385 - val_recall_4: 0.7855\n",
            "Epoch 94/100\n",
            "684/684 [==============================] - 3s 5ms/step - loss: 0.5348 - accuracy: 0.7377 - recall_4: 0.8122 - val_loss: 0.5548 - val_accuracy: 0.7380 - val_recall_4: 0.7870\n",
            "Epoch 95/100\n",
            "684/684 [==============================] - 4s 5ms/step - loss: 0.5350 - accuracy: 0.7381 - recall_4: 0.8131 - val_loss: 0.5586 - val_accuracy: 0.7362 - val_recall_4: 0.7855\n",
            "Epoch 96/100\n",
            "684/684 [==============================] - 3s 5ms/step - loss: 0.5365 - accuracy: 0.7377 - recall_4: 0.8136 - val_loss: 0.5515 - val_accuracy: 0.7375 - val_recall_4: 0.7865\n",
            "Epoch 97/100\n",
            "684/684 [==============================] - 4s 5ms/step - loss: 0.5402 - accuracy: 0.7375 - recall_4: 0.8137 - val_loss: 0.5620 - val_accuracy: 0.7367 - val_recall_4: 0.7845\n",
            "Epoch 98/100\n",
            "684/684 [==============================] - 3s 5ms/step - loss: 0.5347 - accuracy: 0.7376 - recall_4: 0.8142 - val_loss: 0.5554 - val_accuracy: 0.7372 - val_recall_4: 0.7790\n",
            "Epoch 99/100\n",
            "684/684 [==============================] - 3s 5ms/step - loss: 0.5342 - accuracy: 0.7380 - recall_4: 0.8108 - val_loss: 0.5599 - val_accuracy: 0.7362 - val_recall_4: 0.7889\n",
            "Epoch 100/100\n",
            "684/684 [==============================] - 3s 4ms/step - loss: 0.5362 - accuracy: 0.7374 - recall_4: 0.8143 - val_loss: 0.5579 - val_accuracy: 0.7380 - val_recall_4: 0.7845\n"
          ]
        }
      ]
    },
    {
      "cell_type": "code",
      "metadata": {
        "id": "ASt0xBh9DVYZ",
        "colab": {
          "base_uri": "https://localhost:8080/"
        },
        "outputId": "22795912-c9c8-43f7-a5d3-31c6afd68565"
      },
      "source": [
        "# Evaluate the model using the test data\n",
        "model_loss, model_accuracy, model_Recall= nn_model.evaluate(X_test_scaled,y_test,verbose=2)\n",
        "print(f\"Loss: {model_loss}, Accuracy: {model_accuracy}\")"
      ],
      "execution_count": 80,
      "outputs": [
        {
          "output_type": "stream",
          "name": "stdout",
          "text": [
            "268/268 - 0s - loss: 0.5760 - accuracy: 0.7318 - recall_4: 0.8021\n",
            "Loss: 0.575981616973877, Accuracy: 0.7317784428596497\n"
          ]
        }
      ]
    },
    {
      "cell_type": "code",
      "metadata": {
        "colab": {
          "base_uri": "https://localhost:8080/",
          "height": 404
        },
        "id": "fVZwcsPvsC0O",
        "outputId": "c6b003d4-2141-48d8-cafa-31ac53ba0cae"
      },
      "source": [
        "# Model Accuracy Graph\n",
        "plt.style.use('seaborn')\n",
        "plt.title('Accuracy \\n',fontsize=20)\n",
        "plt.plot(fit_model.history['accuracy'], 'tomato', label='Training Accuracy')\n",
        "plt.plot(fit_model.history['val_accuracy'], 'turquoise',label='Validation Accuracy')\n",
        "plt.xlabel('Number of Epochs')\n",
        "plt.ylabel('Loss')\n",
        "plt.legend()\n",
        "plt.show()"
      ],
      "execution_count": 83,
      "outputs": [
        {
          "output_type": "display_data",
          "data": {
            "image/png": "[encoded data removed]",
            "text/plain": [
              "<Figure size 576x396 with 1 Axes>"
            ]
          },
          "metadata": {}
        }
      ]
    },
    {
      "cell_type": "code",
      "metadata": {
        "colab": {
          "base_uri": "https://localhost:8080/",
          "height": 404
        },
        "id": "88zMXnfysDIU",
        "outputId": "7948e8c4-53d6-47ae-f6ff-2307c7992ec5"
      },
      "source": [
        "# Model Loss Graph\n",
        "plt.style.use('seaborn')\n",
        "plt.title('Loss \\n',fontsize=20)\n",
        "plt.plot(fit_model.history['loss'], 'orchid', label='Training Loss')\n",
        "plt.plot(fit_model.history['val_loss'],'royalblue', label='Validation Loss')\n",
        "plt.xlabel('Number of Epochs')\n",
        "plt.ylabel('Loss')\n",
        "plt.legend()\n",
        "plt.show()"
      ],
      "execution_count": 84,
      "outputs": [
        {
          "output_type": "display_data",
          "data": {
            "image/png": "[encoded data removed]",
            "text/plain": [
              "<Figure size 576x396 with 1 Axes>"
            ]
          },
          "metadata": {}
        }
      ]
    },
    {
      "cell_type": "code",
      "metadata": {
        "colab": {
          "base_uri": "https://localhost:8080/",
          "height": 17
        },
        "id": "xfhvaC3wsNpW",
        "outputId": "f16e7ab2-b328-44af-e346-0f2beee52275"
      },
      "source": [
        "# Export our model to HDF5 file\n",
        "from google.colab import files\n",
        "\n",
        "nn_model.save('/content/Alphabet_Soup_model2.h5')\n",
        "files.download('/content/Alphabet_Soup_model2.h5')"
      ],
      "execution_count": null,
      "outputs": [
        {
          "output_type": "display_data",
          "data": {
            "application/javascript": [
              "\n",
              "    async function download(id, filename, size) {\n",
              "      if (!google.colab.kernel.accessAllowed) {\n",
              "        return;\n",
              "      }\n",
              "      const div = document.createElement('div');\n",
              "      const label = document.createElement('label');\n",
              "      label.textContent = `Downloading \"${filename}\": `;\n",
              "      div.appendChild(label);\n",
              "      const progress = document.createElement('progress');\n",
              "      progress.max = size;\n",
              "      div.appendChild(progress);\n",
              "      document.body.appendChild(div);\n",
              "\n",
              "      const buffers = [];\n",
              "      let downloaded = 0;\n",
              "\n",
              "      const channel = await google.colab.kernel.comms.open(id);\n",
              "      // Send a message to notify the kernel that we're ready.\n",
              "      channel.send({})\n",
              "\n",
              "      for await (const message of channel.messages) {\n",
              "        // Send a message to notify the kernel that we're ready.\n",
              "        channel.send({})\n",
              "        if (message.buffers) {\n",
              "          for (const buffer of message.buffers) {\n",
              "            buffers.push(buffer);\n",
              "            downloaded += buffer.byteLength;\n",
              "            progress.value = downloaded;\n",
              "          }\n",
              "        }\n",
              "      }\n",
              "      const blob = new Blob(buffers, {type: 'application/binary'});\n",
              "      const a = document.createElement('a');\n",
              "      a.href = window.URL.createObjectURL(blob);\n",
              "      a.download = filename;\n",
              "      div.appendChild(a);\n",
              "      a.click();\n",
              "      div.remove();\n",
              "    }\n",
              "  "
            ],
            "text/plain": [
              "<IPython.core.display.Javascript object>"
            ]
          },
          "metadata": {}
        },
        {
          "output_type": "display_data",
          "data": {
            "application/javascript": [
              "download(\"download_e51b26fe-e0bf-4a78-8378-6710b036a4bd\", \"Alphabet_Soup_model2.h5\", 2190896)"
            ],
            "text/plain": [
              "<IPython.core.display.Javascript object>"
            ]
          },
          "metadata": {}
        }
      ]
    },
    {
      "cell_type": "markdown",
      "metadata": {
        "id": "Q3Qz-crSHTHM"
      },
      "source": [
        "# Model Evaluation 3"
      ]
    },
    {
      "cell_type": "code",
      "metadata": {
        "id": "yQ2MHXVTDb2a",
        "colab": {
          "base_uri": "https://localhost:8080/"
        },
        "outputId": "e21c6ac4-d0e3-4a08-f464-98c804313f2d"
      },
      "source": [
        "# Define the model - deep neural net, i.e., the number of input features and hidden nodes for each layer.\n",
        "number_input_features = len( X_train_scaled[0])\n",
        "hidden_nodes_layer1=3\n",
        "hidden_nodes_layer2=15\n",
        "hidden_nodes_layer3=3\n",
        "\n",
        "nn_model = tf.keras.models.Sequential()\n",
        "\n",
        "# First hidden layer\n",
        "nn_model.add(tf.keras.layers.Dense(units=hidden_nodes_layer1, input_dim=number_input_features, activation='relu'))\n",
        "\n",
        "# Second hidden layer\n",
        "nn_model.add(tf.keras.layers.Dense(units=hidden_nodes_layer2, activation='relu'))\n",
        "\n",
        "# Third hidden layer\n",
        "nn_model.add(tf.keras.layers.Dense(units=hidden_nodes_layer3, activation='relu'))\n",
        "\n",
        "# Output layer\n",
        "nn_model.add(tf.keras.layers.Dense(units=1, activation='sigmoid'))\n",
        "\n",
        "# Check the structure of the model\n",
        "nn_model.summary()"
      ],
      "execution_count": 85,
      "outputs": [
        {
          "output_type": "stream",
          "name": "stdout",
          "text": [
            "Model: \"sequential_5\"\n",
            "_________________________________________________________________\n",
            "Layer (type)                 Output Shape              Param #   \n",
            "=================================================================\n",
            "dense_16 (Dense)             (None, 3)                 132       \n",
            "_________________________________________________________________\n",
            "dense_17 (Dense)             (None, 15)                60        \n",
            "_________________________________________________________________\n",
            "dense_18 (Dense)             (None, 3)                 48        \n",
            "_________________________________________________________________\n",
            "dense_19 (Dense)             (None, 1)                 4         \n",
            "=================================================================\n",
            "Total params: 244\n",
            "Trainable params: 244\n",
            "Non-trainable params: 0\n",
            "_________________________________________________________________\n"
          ]
        }
      ]
    },
    {
      "cell_type": "code",
      "metadata": {
        "id": "3dhAy5ZRHZ-A"
      },
      "source": [
        "# Compile the model\n",
        "nn_model.compile(loss = 'binary_crossentropy', optimizer = 'adam', metrics=['accuracy', tf.keras.metrics.Recall()])"
      ],
      "execution_count": 86,
      "outputs": []
    },
    {
      "cell_type": "code",
      "metadata": {
        "id": "vwok5whqHtaI",
        "colab": {
          "base_uri": "https://localhost:8080/"
        },
        "outputId": "fbeda453-d5d7-482d-ae5e-652f6ae4303b"
      },
      "source": [
        "fit_model = nn_model.fit( X_train_scaled,y_train,validation_split=0.15,epochs=100)"
      ],
      "execution_count": 87,
      "outputs": [
        {
          "output_type": "stream",
          "name": "stdout",
          "text": [
            "Epoch 1/100\n",
            "684/684 [==============================] - 2s 2ms/step - loss: 0.6441 - accuracy: 0.6804 - recall_5: 0.7185 - val_loss: 0.5935 - val_accuracy: 0.7269 - val_recall_5: 0.7710\n",
            "Epoch 2/100\n",
            "684/684 [==============================] - 1s 2ms/step - loss: 0.5882 - accuracy: 0.7188 - recall_5: 0.7939 - val_loss: 0.5734 - val_accuracy: 0.7315 - val_recall_5: 0.7899\n",
            "Epoch 3/100\n",
            "684/684 [==============================] - 1s 2ms/step - loss: 0.5774 - accuracy: 0.7215 - recall_5: 0.8056 - val_loss: 0.5683 - val_accuracy: 0.7318 - val_recall_5: 0.7899\n",
            "Epoch 4/100\n",
            "684/684 [==============================] - 1s 2ms/step - loss: 0.5737 - accuracy: 0.7225 - recall_5: 0.8075 - val_loss: 0.5664 - val_accuracy: 0.7318 - val_recall_5: 0.7894\n",
            "Epoch 5/100\n",
            "684/684 [==============================] - 1s 2ms/step - loss: 0.5709 - accuracy: 0.7235 - recall_5: 0.8006 - val_loss: 0.5643 - val_accuracy: 0.7300 - val_recall_5: 0.7959\n",
            "Epoch 6/100\n",
            "684/684 [==============================] - 1s 2ms/step - loss: 0.5688 - accuracy: 0.7247 - recall_5: 0.7930 - val_loss: 0.5609 - val_accuracy: 0.7344 - val_recall_5: 0.7740\n",
            "Epoch 7/100\n",
            "684/684 [==============================] - 2s 2ms/step - loss: 0.5676 - accuracy: 0.7265 - recall_5: 0.7894 - val_loss: 0.5606 - val_accuracy: 0.7344 - val_recall_5: 0.7735\n",
            "Epoch 8/100\n",
            "684/684 [==============================] - 1s 2ms/step - loss: 0.5672 - accuracy: 0.7270 - recall_5: 0.7897 - val_loss: 0.5604 - val_accuracy: 0.7346 - val_recall_5: 0.7730\n",
            "Epoch 9/100\n",
            "684/684 [==============================] - 1s 2ms/step - loss: 0.5667 - accuracy: 0.7269 - recall_5: 0.7913 - val_loss: 0.5602 - val_accuracy: 0.7354 - val_recall_5: 0.7735\n",
            "Epoch 10/100\n",
            "684/684 [==============================] - 1s 2ms/step - loss: 0.5667 - accuracy: 0.7271 - recall_5: 0.7884 - val_loss: 0.5599 - val_accuracy: 0.7352 - val_recall_5: 0.7750\n",
            "Epoch 11/100\n",
            "684/684 [==============================] - 1s 2ms/step - loss: 0.5664 - accuracy: 0.7272 - recall_5: 0.7910 - val_loss: 0.5598 - val_accuracy: 0.7334 - val_recall_5: 0.7730\n",
            "Epoch 12/100\n",
            "684/684 [==============================] - 1s 2ms/step - loss: 0.5659 - accuracy: 0.7277 - recall_5: 0.7936 - val_loss: 0.5606 - val_accuracy: 0.7341 - val_recall_5: 0.7770\n",
            "Epoch 13/100\n",
            "684/684 [==============================] - 1s 2ms/step - loss: 0.5657 - accuracy: 0.7276 - recall_5: 0.7920 - val_loss: 0.5604 - val_accuracy: 0.7344 - val_recall_5: 0.7765\n",
            "Epoch 14/100\n",
            "684/684 [==============================] - 1s 2ms/step - loss: 0.5654 - accuracy: 0.7280 - recall_5: 0.7971 - val_loss: 0.5605 - val_accuracy: 0.7336 - val_recall_5: 0.7750\n",
            "Epoch 15/100\n",
            "684/684 [==============================] - 1s 2ms/step - loss: 0.5653 - accuracy: 0.7278 - recall_5: 0.7934 - val_loss: 0.5605 - val_accuracy: 0.7339 - val_recall_5: 0.7790\n",
            "Epoch 16/100\n",
            "684/684 [==============================] - 2s 2ms/step - loss: 0.5653 - accuracy: 0.7274 - recall_5: 0.7943 - val_loss: 0.5611 - val_accuracy: 0.7334 - val_recall_5: 0.7800\n",
            "Epoch 17/100\n",
            "684/684 [==============================] - 1s 2ms/step - loss: 0.5650 - accuracy: 0.7277 - recall_5: 0.7960 - val_loss: 0.5597 - val_accuracy: 0.7344 - val_recall_5: 0.7800\n",
            "Epoch 18/100\n",
            "684/684 [==============================] - 2s 2ms/step - loss: 0.5647 - accuracy: 0.7276 - recall_5: 0.7952 - val_loss: 0.5596 - val_accuracy: 0.7339 - val_recall_5: 0.7775\n",
            "Epoch 19/100\n",
            "684/684 [==============================] - 1s 2ms/step - loss: 0.5643 - accuracy: 0.7280 - recall_5: 0.7932 - val_loss: 0.5601 - val_accuracy: 0.7339 - val_recall_5: 0.7785\n",
            "Epoch 20/100\n",
            "684/684 [==============================] - 1s 2ms/step - loss: 0.5638 - accuracy: 0.7280 - recall_5: 0.7950 - val_loss: 0.5605 - val_accuracy: 0.7328 - val_recall_5: 0.7740\n",
            "Epoch 21/100\n",
            "684/684 [==============================] - 1s 2ms/step - loss: 0.5637 - accuracy: 0.7277 - recall_5: 0.7948 - val_loss: 0.5613 - val_accuracy: 0.7331 - val_recall_5: 0.7909\n",
            "Epoch 22/100\n",
            "684/684 [==============================] - 1s 2ms/step - loss: 0.5632 - accuracy: 0.7283 - recall_5: 0.7956 - val_loss: 0.5609 - val_accuracy: 0.7334 - val_recall_5: 0.7780\n",
            "Epoch 23/100\n",
            "684/684 [==============================] - 1s 2ms/step - loss: 0.5631 - accuracy: 0.7277 - recall_5: 0.7928 - val_loss: 0.5597 - val_accuracy: 0.7336 - val_recall_5: 0.7780\n",
            "Epoch 24/100\n",
            "684/684 [==============================] - 1s 2ms/step - loss: 0.5626 - accuracy: 0.7277 - recall_5: 0.7946 - val_loss: 0.5597 - val_accuracy: 0.7321 - val_recall_5: 0.7715\n",
            "Epoch 25/100\n",
            "684/684 [==============================] - 1s 2ms/step - loss: 0.5620 - accuracy: 0.7292 - recall_5: 0.7903 - val_loss: 0.5588 - val_accuracy: 0.7336 - val_recall_5: 0.7735\n",
            "Epoch 26/100\n",
            "684/684 [==============================] - 1s 2ms/step - loss: 0.5617 - accuracy: 0.7285 - recall_5: 0.7906 - val_loss: 0.5593 - val_accuracy: 0.7323 - val_recall_5: 0.7725\n",
            "Epoch 27/100\n",
            "684/684 [==============================] - 1s 2ms/step - loss: 0.5615 - accuracy: 0.7290 - recall_5: 0.7931 - val_loss: 0.5582 - val_accuracy: 0.7331 - val_recall_5: 0.7735\n",
            "Epoch 28/100\n",
            "684/684 [==============================] - 1s 2ms/step - loss: 0.5615 - accuracy: 0.7284 - recall_5: 0.7903 - val_loss: 0.5587 - val_accuracy: 0.7336 - val_recall_5: 0.7730\n",
            "Epoch 29/100\n",
            "684/684 [==============================] - 1s 2ms/step - loss: 0.5611 - accuracy: 0.7294 - recall_5: 0.7942 - val_loss: 0.5592 - val_accuracy: 0.7336 - val_recall_5: 0.7745\n",
            "Epoch 30/100\n",
            "684/684 [==============================] - 1s 2ms/step - loss: 0.5610 - accuracy: 0.7287 - recall_5: 0.7903 - val_loss: 0.5593 - val_accuracy: 0.7328 - val_recall_5: 0.7725\n",
            "Epoch 31/100\n",
            "684/684 [==============================] - 2s 2ms/step - loss: 0.5607 - accuracy: 0.7292 - recall_5: 0.7912 - val_loss: 0.5577 - val_accuracy: 0.7323 - val_recall_5: 0.7770\n",
            "Epoch 32/100\n",
            "684/684 [==============================] - 1s 2ms/step - loss: 0.5599 - accuracy: 0.7293 - recall_5: 0.7949 - val_loss: 0.5573 - val_accuracy: 0.7336 - val_recall_5: 0.7680\n",
            "Epoch 33/100\n",
            "684/684 [==============================] - 1s 2ms/step - loss: 0.5596 - accuracy: 0.7289 - recall_5: 0.7889 - val_loss: 0.5573 - val_accuracy: 0.7328 - val_recall_5: 0.7800\n",
            "Epoch 34/100\n",
            "684/684 [==============================] - 1s 2ms/step - loss: 0.5598 - accuracy: 0.7295 - recall_5: 0.7905 - val_loss: 0.5569 - val_accuracy: 0.7334 - val_recall_5: 0.7855\n",
            "Epoch 35/100\n",
            "684/684 [==============================] - 1s 2ms/step - loss: 0.5598 - accuracy: 0.7292 - recall_5: 0.7902 - val_loss: 0.5563 - val_accuracy: 0.7334 - val_recall_5: 0.7710\n",
            "Epoch 36/100\n",
            "684/684 [==============================] - 1s 2ms/step - loss: 0.5595 - accuracy: 0.7289 - recall_5: 0.7904 - val_loss: 0.5566 - val_accuracy: 0.7334 - val_recall_5: 0.7670\n",
            "Epoch 37/100\n",
            "684/684 [==============================] - 1s 2ms/step - loss: 0.5592 - accuracy: 0.7293 - recall_5: 0.7870 - val_loss: 0.5572 - val_accuracy: 0.7326 - val_recall_5: 0.7720\n",
            "Epoch 38/100\n",
            "684/684 [==============================] - 1s 2ms/step - loss: 0.5586 - accuracy: 0.7296 - recall_5: 0.7881 - val_loss: 0.5558 - val_accuracy: 0.7331 - val_recall_5: 0.7700\n",
            "Epoch 39/100\n",
            "684/684 [==============================] - 1s 2ms/step - loss: 0.5585 - accuracy: 0.7292 - recall_5: 0.7876 - val_loss: 0.5562 - val_accuracy: 0.7334 - val_recall_5: 0.7661\n",
            "Epoch 40/100\n",
            "684/684 [==============================] - 1s 2ms/step - loss: 0.5583 - accuracy: 0.7293 - recall_5: 0.7868 - val_loss: 0.5558 - val_accuracy: 0.7341 - val_recall_5: 0.7651\n",
            "Epoch 41/100\n",
            "684/684 [==============================] - 1s 2ms/step - loss: 0.5581 - accuracy: 0.7289 - recall_5: 0.7872 - val_loss: 0.5554 - val_accuracy: 0.7336 - val_recall_5: 0.7531\n",
            "Epoch 42/100\n",
            "684/684 [==============================] - 1s 2ms/step - loss: 0.5579 - accuracy: 0.7294 - recall_5: 0.7853 - val_loss: 0.5555 - val_accuracy: 0.7344 - val_recall_5: 0.7760\n",
            "Epoch 43/100\n",
            "684/684 [==============================] - 1s 2ms/step - loss: 0.5572 - accuracy: 0.7293 - recall_5: 0.7866 - val_loss: 0.5555 - val_accuracy: 0.7339 - val_recall_5: 0.7810\n",
            "Epoch 44/100\n",
            "684/684 [==============================] - 1s 2ms/step - loss: 0.5568 - accuracy: 0.7292 - recall_5: 0.7837 - val_loss: 0.5546 - val_accuracy: 0.7328 - val_recall_5: 0.7750\n",
            "Epoch 45/100\n",
            "684/684 [==============================] - 2s 2ms/step - loss: 0.5562 - accuracy: 0.7290 - recall_5: 0.7877 - val_loss: 0.5532 - val_accuracy: 0.7328 - val_recall_5: 0.7646\n",
            "Epoch 46/100\n",
            "684/684 [==============================] - 2s 2ms/step - loss: 0.5563 - accuracy: 0.7287 - recall_5: 0.7871 - val_loss: 0.5531 - val_accuracy: 0.7328 - val_recall_5: 0.7621\n",
            "Epoch 47/100\n",
            "684/684 [==============================] - 1s 2ms/step - loss: 0.5561 - accuracy: 0.7296 - recall_5: 0.7860 - val_loss: 0.5541 - val_accuracy: 0.7331 - val_recall_5: 0.7670\n",
            "Epoch 48/100\n",
            "684/684 [==============================] - 1s 2ms/step - loss: 0.5561 - accuracy: 0.7303 - recall_5: 0.7907 - val_loss: 0.5540 - val_accuracy: 0.7339 - val_recall_5: 0.7750\n",
            "Epoch 49/100\n",
            "684/684 [==============================] - 1s 2ms/step - loss: 0.5560 - accuracy: 0.7301 - recall_5: 0.7878 - val_loss: 0.5541 - val_accuracy: 0.7339 - val_recall_5: 0.7695\n",
            "Epoch 50/100\n",
            "684/684 [==============================] - 2s 2ms/step - loss: 0.5564 - accuracy: 0.7297 - recall_5: 0.7871 - val_loss: 0.5531 - val_accuracy: 0.7331 - val_recall_5: 0.7661\n",
            "Epoch 51/100\n",
            "684/684 [==============================] - 1s 2ms/step - loss: 0.5562 - accuracy: 0.7293 - recall_5: 0.7864 - val_loss: 0.5530 - val_accuracy: 0.7346 - val_recall_5: 0.7675\n",
            "Epoch 52/100\n",
            "684/684 [==============================] - 1s 2ms/step - loss: 0.5559 - accuracy: 0.7296 - recall_5: 0.7889 - val_loss: 0.5528 - val_accuracy: 0.7331 - val_recall_5: 0.7735\n",
            "Epoch 53/100\n",
            "684/684 [==============================] - 1s 2ms/step - loss: 0.5559 - accuracy: 0.7304 - recall_5: 0.7913 - val_loss: 0.5532 - val_accuracy: 0.7326 - val_recall_5: 0.7675\n",
            "Epoch 54/100\n",
            "684/684 [==============================] - 1s 2ms/step - loss: 0.5558 - accuracy: 0.7311 - recall_5: 0.7890 - val_loss: 0.5531 - val_accuracy: 0.7339 - val_recall_5: 0.7596\n",
            "Epoch 55/100\n",
            "684/684 [==============================] - 1s 2ms/step - loss: 0.5555 - accuracy: 0.7292 - recall_5: 0.7859 - val_loss: 0.5538 - val_accuracy: 0.7339 - val_recall_5: 0.7611\n",
            "Epoch 56/100\n",
            "684/684 [==============================] - 1s 2ms/step - loss: 0.5555 - accuracy: 0.7295 - recall_5: 0.7877 - val_loss: 0.5535 - val_accuracy: 0.7321 - val_recall_5: 0.7800\n",
            "Epoch 57/100\n",
            "684/684 [==============================] - 1s 2ms/step - loss: 0.5553 - accuracy: 0.7302 - recall_5: 0.7872 - val_loss: 0.5533 - val_accuracy: 0.7336 - val_recall_5: 0.7616\n",
            "Epoch 58/100\n",
            "684/684 [==============================] - 1s 2ms/step - loss: 0.5558 - accuracy: 0.7312 - recall_5: 0.7883 - val_loss: 0.5537 - val_accuracy: 0.7344 - val_recall_5: 0.7675\n",
            "Epoch 59/100\n",
            "684/684 [==============================] - 1s 2ms/step - loss: 0.5553 - accuracy: 0.7308 - recall_5: 0.7913 - val_loss: 0.5524 - val_accuracy: 0.7339 - val_recall_5: 0.7695\n",
            "Epoch 60/100\n",
            "684/684 [==============================] - 1s 2ms/step - loss: 0.5556 - accuracy: 0.7293 - recall_5: 0.7906 - val_loss: 0.5527 - val_accuracy: 0.7334 - val_recall_5: 0.7651\n",
            "Epoch 61/100\n",
            "684/684 [==============================] - 1s 2ms/step - loss: 0.5552 - accuracy: 0.7305 - recall_5: 0.7871 - val_loss: 0.5524 - val_accuracy: 0.7339 - val_recall_5: 0.7685\n",
            "Epoch 62/100\n",
            "684/684 [==============================] - 1s 2ms/step - loss: 0.5554 - accuracy: 0.7292 - recall_5: 0.7842 - val_loss: 0.5538 - val_accuracy: 0.7334 - val_recall_5: 0.7596\n",
            "Epoch 63/100\n",
            "684/684 [==============================] - 1s 2ms/step - loss: 0.5552 - accuracy: 0.7311 - recall_5: 0.7865 - val_loss: 0.5528 - val_accuracy: 0.7344 - val_recall_5: 0.7735\n",
            "Epoch 64/100\n",
            "684/684 [==============================] - 1s 2ms/step - loss: 0.5553 - accuracy: 0.7296 - recall_5: 0.7866 - val_loss: 0.5525 - val_accuracy: 0.7336 - val_recall_5: 0.7700\n",
            "Epoch 65/100\n",
            "684/684 [==============================] - 1s 2ms/step - loss: 0.5555 - accuracy: 0.7305 - recall_5: 0.7855 - val_loss: 0.5539 - val_accuracy: 0.7326 - val_recall_5: 0.7621\n",
            "Epoch 66/100\n",
            "684/684 [==============================] - 1s 2ms/step - loss: 0.5549 - accuracy: 0.7311 - recall_5: 0.7875 - val_loss: 0.5533 - val_accuracy: 0.7328 - val_recall_5: 0.7949\n",
            "Epoch 67/100\n",
            "684/684 [==============================] - 1s 2ms/step - loss: 0.5552 - accuracy: 0.7316 - recall_5: 0.7897 - val_loss: 0.5536 - val_accuracy: 0.7331 - val_recall_5: 0.7656\n",
            "Epoch 68/100\n",
            "684/684 [==============================] - 1s 2ms/step - loss: 0.5552 - accuracy: 0.7310 - recall_5: 0.7872 - val_loss: 0.5520 - val_accuracy: 0.7341 - val_recall_5: 0.7710\n",
            "Epoch 69/100\n",
            "684/684 [==============================] - 1s 2ms/step - loss: 0.5551 - accuracy: 0.7297 - recall_5: 0.7855 - val_loss: 0.5539 - val_accuracy: 0.7346 - val_recall_5: 0.7631\n",
            "Epoch 70/100\n",
            "684/684 [==============================] - 1s 2ms/step - loss: 0.5552 - accuracy: 0.7306 - recall_5: 0.7865 - val_loss: 0.5540 - val_accuracy: 0.7344 - val_recall_5: 0.7760\n",
            "Epoch 71/100\n",
            "684/684 [==============================] - 1s 2ms/step - loss: 0.5550 - accuracy: 0.7299 - recall_5: 0.7880 - val_loss: 0.5528 - val_accuracy: 0.7349 - val_recall_5: 0.7755\n",
            "Epoch 72/100\n",
            "684/684 [==============================] - 1s 2ms/step - loss: 0.5551 - accuracy: 0.7302 - recall_5: 0.7881 - val_loss: 0.5522 - val_accuracy: 0.7339 - val_recall_5: 0.7666\n",
            "Epoch 73/100\n",
            "684/684 [==============================] - 1s 2ms/step - loss: 0.5548 - accuracy: 0.7300 - recall_5: 0.7856 - val_loss: 0.5522 - val_accuracy: 0.7334 - val_recall_5: 0.7591\n",
            "Epoch 74/100\n",
            "684/684 [==============================] - 2s 2ms/step - loss: 0.5547 - accuracy: 0.7303 - recall_5: 0.7889 - val_loss: 0.5521 - val_accuracy: 0.7331 - val_recall_5: 0.7621\n",
            "Epoch 75/100\n",
            "684/684 [==============================] - 2s 2ms/step - loss: 0.5549 - accuracy: 0.7304 - recall_5: 0.7859 - val_loss: 0.5525 - val_accuracy: 0.7326 - val_recall_5: 0.7646\n",
            "Epoch 76/100\n",
            "684/684 [==============================] - 1s 2ms/step - loss: 0.5548 - accuracy: 0.7295 - recall_5: 0.7855 - val_loss: 0.5535 - val_accuracy: 0.7354 - val_recall_5: 0.7700\n",
            "Epoch 77/100\n",
            "684/684 [==============================] - 1s 2ms/step - loss: 0.5550 - accuracy: 0.7303 - recall_5: 0.7884 - val_loss: 0.5530 - val_accuracy: 0.7321 - val_recall_5: 0.7621\n",
            "Epoch 78/100\n",
            "684/684 [==============================] - 1s 2ms/step - loss: 0.5551 - accuracy: 0.7302 - recall_5: 0.7875 - val_loss: 0.5531 - val_accuracy: 0.7341 - val_recall_5: 0.7785\n",
            "Epoch 79/100\n",
            "684/684 [==============================] - 1s 2ms/step - loss: 0.5548 - accuracy: 0.7302 - recall_5: 0.7889 - val_loss: 0.5532 - val_accuracy: 0.7344 - val_recall_5: 0.7899\n",
            "Epoch 80/100\n",
            "684/684 [==============================] - 1s 2ms/step - loss: 0.5549 - accuracy: 0.7303 - recall_5: 0.7924 - val_loss: 0.5556 - val_accuracy: 0.7341 - val_recall_5: 0.7456\n",
            "Epoch 81/100\n",
            "684/684 [==============================] - 1s 2ms/step - loss: 0.5549 - accuracy: 0.7303 - recall_5: 0.7884 - val_loss: 0.5531 - val_accuracy: 0.7344 - val_recall_5: 0.7775\n",
            "Epoch 82/100\n",
            "684/684 [==============================] - 1s 2ms/step - loss: 0.5548 - accuracy: 0.7305 - recall_5: 0.7885 - val_loss: 0.5530 - val_accuracy: 0.7359 - val_recall_5: 0.7845\n",
            "Epoch 83/100\n",
            "684/684 [==============================] - 2s 2ms/step - loss: 0.5552 - accuracy: 0.7300 - recall_5: 0.7907 - val_loss: 0.5534 - val_accuracy: 0.7349 - val_recall_5: 0.7690\n",
            "Epoch 84/100\n",
            "684/684 [==============================] - 1s 2ms/step - loss: 0.5550 - accuracy: 0.7298 - recall_5: 0.7901 - val_loss: 0.5530 - val_accuracy: 0.7349 - val_recall_5: 0.7656\n",
            "Epoch 85/100\n",
            "684/684 [==============================] - 1s 2ms/step - loss: 0.5550 - accuracy: 0.7297 - recall_5: 0.7848 - val_loss: 0.5533 - val_accuracy: 0.7346 - val_recall_5: 0.7894\n",
            "Epoch 86/100\n",
            "684/684 [==============================] - 2s 2ms/step - loss: 0.5550 - accuracy: 0.7309 - recall_5: 0.7920 - val_loss: 0.5534 - val_accuracy: 0.7367 - val_recall_5: 0.7695\n",
            "Epoch 87/100\n",
            "684/684 [==============================] - 1s 2ms/step - loss: 0.5551 - accuracy: 0.7296 - recall_5: 0.7910 - val_loss: 0.5528 - val_accuracy: 0.7362 - val_recall_5: 0.7750\n",
            "Epoch 88/100\n",
            "684/684 [==============================] - 1s 2ms/step - loss: 0.5549 - accuracy: 0.7308 - recall_5: 0.7896 - val_loss: 0.5529 - val_accuracy: 0.7344 - val_recall_5: 0.7680\n",
            "Epoch 89/100\n",
            "684/684 [==============================] - 1s 2ms/step - loss: 0.5550 - accuracy: 0.7300 - recall_5: 0.7901 - val_loss: 0.5528 - val_accuracy: 0.7346 - val_recall_5: 0.7720\n",
            "Epoch 90/100\n",
            "684/684 [==============================] - 1s 2ms/step - loss: 0.5548 - accuracy: 0.7312 - recall_5: 0.7909 - val_loss: 0.5531 - val_accuracy: 0.7352 - val_recall_5: 0.7755\n",
            "Epoch 91/100\n",
            "684/684 [==============================] - 1s 2ms/step - loss: 0.5548 - accuracy: 0.7309 - recall_5: 0.7911 - val_loss: 0.5524 - val_accuracy: 0.7352 - val_recall_5: 0.7695\n",
            "Epoch 92/100\n",
            "684/684 [==============================] - 2s 2ms/step - loss: 0.5549 - accuracy: 0.7302 - recall_5: 0.7906 - val_loss: 0.5537 - val_accuracy: 0.7349 - val_recall_5: 0.7626\n",
            "Epoch 93/100\n",
            "684/684 [==============================] - 1s 2ms/step - loss: 0.5549 - accuracy: 0.7307 - recall_5: 0.7901 - val_loss: 0.5527 - val_accuracy: 0.7362 - val_recall_5: 0.7800\n",
            "Epoch 94/100\n",
            "684/684 [==============================] - 1s 2ms/step - loss: 0.5547 - accuracy: 0.7299 - recall_5: 0.7917 - val_loss: 0.5533 - val_accuracy: 0.7362 - val_recall_5: 0.7700\n",
            "Epoch 95/100\n",
            "684/684 [==============================] - 1s 2ms/step - loss: 0.5548 - accuracy: 0.7304 - recall_5: 0.7897 - val_loss: 0.5560 - val_accuracy: 0.7341 - val_recall_5: 0.7377\n",
            "Epoch 96/100\n",
            "684/684 [==============================] - 1s 2ms/step - loss: 0.5553 - accuracy: 0.7295 - recall_5: 0.7910 - val_loss: 0.5533 - val_accuracy: 0.7354 - val_recall_5: 0.7631\n",
            "Epoch 97/100\n",
            "684/684 [==============================] - 1s 2ms/step - loss: 0.5547 - accuracy: 0.7309 - recall_5: 0.7913 - val_loss: 0.5525 - val_accuracy: 0.7349 - val_recall_5: 0.7636\n",
            "Epoch 98/100\n",
            "684/684 [==============================] - 2s 2ms/step - loss: 0.5546 - accuracy: 0.7300 - recall_5: 0.7893 - val_loss: 0.5539 - val_accuracy: 0.7344 - val_recall_5: 0.7745\n",
            "Epoch 99/100\n",
            "684/684 [==============================] - 1s 2ms/step - loss: 0.5546 - accuracy: 0.7301 - recall_5: 0.7907 - val_loss: 0.5567 - val_accuracy: 0.7339 - val_recall_5: 0.7720\n",
            "Epoch 100/100\n",
            "684/684 [==============================] - 2s 2ms/step - loss: 0.5548 - accuracy: 0.7300 - recall_5: 0.7925 - val_loss: 0.5524 - val_accuracy: 0.7365 - val_recall_5: 0.7675\n"
          ]
        }
      ]
    },
    {
      "cell_type": "code",
      "metadata": {
        "id": "uAeEUdrHHgtT",
        "colab": {
          "base_uri": "https://localhost:8080/"
        },
        "outputId": "442902ba-c26a-44fa-bbed-dbe77c3cde12"
      },
      "source": [
        "# Evaluate the model using the test data\n",
        "model_loss, model_accuracy, model_Recall= nn_model.evaluate(X_test_scaled,y_test,verbose=2)\n",
        "print(f\"Loss: {model_loss}, Accuracy: {model_accuracy}\")"
      ],
      "execution_count": 88,
      "outputs": [
        {
          "output_type": "stream",
          "name": "stdout",
          "text": [
            "268/268 - 0s - loss: 0.5613 - accuracy: 0.7255 - recall_5: 0.7732\n",
            "Loss: 0.5612754821777344, Accuracy: 0.7254810333251953\n"
          ]
        }
      ]
    },
    {
      "cell_type": "code",
      "metadata": {
        "id": "xRzY-NApz_YR",
        "colab": {
          "base_uri": "https://localhost:8080/",
          "height": 404
        },
        "outputId": "c81cffa3-019a-4662-df60-4a831bbd3418"
      },
      "source": [
        "# Model Accuracy Graph\n",
        "plt.style.use('seaborn')\n",
        "plt.title('Accuracy \\n',fontsize=20)\n",
        "plt.plot(fit_model.history['accuracy'], 'tomato', label='Training Accuracy')\n",
        "plt.plot(fit_model.history['val_accuracy'], 'turquoise',label='Validation Accuracy')\n",
        "plt.xlabel('Number of Epochs')\n",
        "plt.ylabel('Loss')\n",
        "plt.legend()\n",
        "plt.show()"
      ],
      "execution_count": 92,
      "outputs": [
        {
          "output_type": "display_data",
          "data": {
            "image/png": "[encoded data removed]",
            "text/plain": [
              "<Figure size 576x396 with 1 Axes>"
            ]
          },
          "metadata": {}
        }
      ]
    },
    {
      "cell_type": "code",
      "metadata": {
        "id": "_CzZU5Ju32Fq",
        "colab": {
          "base_uri": "https://localhost:8080/",
          "height": 404
        },
        "outputId": "76be5792-4c08-46cf-838b-813b3942040a"
      },
      "source": [
        "# Model Loss Graph\n",
        "plt.style.use('seaborn')\n",
        "plt.title('Loss \\n',fontsize=20)\n",
        "plt.plot(fit_model.history['loss'], 'orchid', label='Training Loss')\n",
        "plt.plot(fit_model.history['val_loss'],'royalblue', label='Validation Loss')\n",
        "plt.xlabel('Number of Epochs')\n",
        "plt.ylabel('Loss')\n",
        "plt.legend()\n",
        "plt.show()"
      ],
      "execution_count": 93,
      "outputs": [
        {
          "output_type": "display_data",
          "data": {
            "image/png": "[encoded data removed]",
            "text/plain": [
              "<Figure size 576x396 with 1 Axes>"
            ]
          },
          "metadata": {}
        }
      ]
    },
    {
      "cell_type": "code",
      "metadata": {
        "id": "vfXTiRXfHvPf",
        "colab": {
          "base_uri": "https://localhost:8080/",
          "height": 17
        },
        "outputId": "526c6345-9e70-4ddf-d6e3-d21e459467ec"
      },
      "source": [
        "# Export our model to HDF5 file\n",
        "from google.colab import files\n",
        "\n",
        "nn_model.save('/content/Alphabet_Soup_model3.h5')\n",
        "files.download('/content/Alphabet_Soup_model3.h5')"
      ],
      "execution_count": null,
      "outputs": [
        {
          "output_type": "display_data",
          "data": {
            "application/javascript": [
              "\n",
              "    async function download(id, filename, size) {\n",
              "      if (!google.colab.kernel.accessAllowed) {\n",
              "        return;\n",
              "      }\n",
              "      const div = document.createElement('div');\n",
              "      const label = document.createElement('label');\n",
              "      label.textContent = `Downloading \"${filename}\": `;\n",
              "      div.appendChild(label);\n",
              "      const progress = document.createElement('progress');\n",
              "      progress.max = size;\n",
              "      div.appendChild(progress);\n",
              "      document.body.appendChild(div);\n",
              "\n",
              "      const buffers = [];\n",
              "      let downloaded = 0;\n",
              "\n",
              "      const channel = await google.colab.kernel.comms.open(id);\n",
              "      // Send a message to notify the kernel that we're ready.\n",
              "      channel.send({})\n",
              "\n",
              "      for await (const message of channel.messages) {\n",
              "        // Send a message to notify the kernel that we're ready.\n",
              "        channel.send({})\n",
              "        if (message.buffers) {\n",
              "          for (const buffer of message.buffers) {\n",
              "            buffers.push(buffer);\n",
              "            downloaded += buffer.byteLength;\n",
              "            progress.value = downloaded;\n",
              "          }\n",
              "        }\n",
              "      }\n",
              "      const blob = new Blob(buffers, {type: 'application/binary'});\n",
              "      const a = document.createElement('a');\n",
              "      a.href = window.URL.createObjectURL(blob);\n",
              "      a.download = filename;\n",
              "      div.appendChild(a);\n",
              "      a.click();\n",
              "      div.remove();\n",
              "    }\n",
              "  "
            ],
            "text/plain": [
              "<IPython.core.display.Javascript object>"
            ]
          },
          "metadata": {}
        },
        {
          "output_type": "display_data",
          "data": {
            "application/javascript": [
              "download(\"download_a6aa1b5d-65e3-40d6-ac8d-426c1ee64ed8\", \"Alphabet_Soup_model3.h5\", 41624)"
            ],
            "text/plain": [
              "<IPython.core.display.Javascript object>"
            ]
          },
          "metadata": {}
        }
      ]
    }
  ]
}