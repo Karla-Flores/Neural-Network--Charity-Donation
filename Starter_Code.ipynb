{
  "nbformat": 4,
  "nbformat_minor": 0,
  "metadata": {
    "kernelspec": {
      "display_name": "Python 3",
      "language": "python",
      "name": "python3"
    },
    "language_info": {
      "codemirror_mode": {
        "name": "ipython",
        "version": 3
      },
      "file_extension": ".py",
      "mimetype": "text/x-python",
      "name": "python",
      "nbconvert_exporter": "python",
      "pygments_lexer": "ipython3",
      "version": "3.7.6"
    },
    "colab": {
      "name": "Copy of Copy of Copy of Starter_Code.ipynb",
      "provenance": [],
      "include_colab_link": true
    }
  },
  "cells": [
    {
      "cell_type": "markdown",
      "metadata": {
        "id": "view-in-github",
        "colab_type": "text"
      },
      "source": [
        "<a href=\"https://colab.research.google.com/github/Karla-Flores/Neural-Network--Charity-Donation/blob/main/Starter_Code.ipynb\" target=\"_parent\"><img src=\"https://colab.research.google.com/assets/colab-badge.svg\" alt=\"Open In Colab\"/></a>"
      ]
    },
    {
      "cell_type": "markdown",
      "metadata": {
        "id": "Lwo5h_UH1jIy"
      },
      "source": [
        "## Preprocessing"
      ]
    },
    {
      "cell_type": "code",
      "metadata": {
        "colab": {
          "resources": {
            "http://localhost:8080/nbextensions/google.colab/files.js": {
              "data": "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",
              "ok": true,
              "headers": [
                [
                  "content-type",
                  "application/javascript"
                ]
              ],
              "status": 200,
              "status_text": ""
            }
          },
          "base_uri": "https://localhost:8080/",
          "height": 72
        },
        "id": "MKEyB0hE4f7q",
        "outputId": "63b10737-5506-457c-bb53-eb1230c107c7"
      },
      "source": [
        "from google.colab import files\n",
        "uploaded = files.upload()"
      ],
      "execution_count": 1,
      "outputs": [
        {
          "output_type": "display_data",
          "data": {
            "text/html": [
              "\n",
              "     <input type=\"file\" id=\"files-867096c4-b5c2-4f94-ac52-8fd6d13c82d3\" name=\"files[]\" multiple disabled\n",
              "        style=\"border:none\" />\n",
              "     <output id=\"result-867096c4-b5c2-4f94-ac52-8fd6d13c82d3\">\n",
              "      Upload widget is only available when the cell has been executed in the\n",
              "      current browser session. Please rerun this cell to enable.\n",
              "      </output>\n",
              "      <script src=\"/nbextensions/google.colab/files.js\"></script> "
            ],
            "text/plain": [
              "<IPython.core.display.HTML object>"
            ]
          },
          "metadata": {}
        },
        {
          "output_type": "stream",
          "name": "stdout",
          "text": [
            "Saving charity_data.csv to charity_data.csv\n"
          ]
        }
      ]
    },
    {
      "cell_type": "code",
      "metadata": {
        "colab": {
          "base_uri": "https://localhost:8080/",
          "height": 204
        },
        "id": "21kRfveu5cM1",
        "outputId": "2512702d-7dd6-41ee-f5a6-76d2336c3c04"
      },
      "source": [
        "# Import our dependencies\n",
        "from sklearn.model_selection import train_test_split\n",
        "from sklearn.preprocessing import StandardScaler\n",
        "import pandas as pd\n",
        "import tensorflow as tf\n",
        "import matplotlib.pyplot as plt\n",
        "\n",
        "#  Import and read the charity_data.csv.\n",
        "import pandas as pd \n",
        "# application_df = pd.read_csv(\"../Resources/charity_data.csv\")\n",
        "application_df = pd.read_csv('charity_data.csv')\n",
        "application_df.head()"
      ],
      "execution_count": 2,
      "outputs": [
        {
          "output_type": "execute_result",
          "data": {
            "text/html": [
              "<div>\n",
              "<style scoped>\n",
              "    .dataframe tbody tr th:only-of-type {\n",
              "        vertical-align: middle;\n",
              "    }\n",
              "\n",
              "    .dataframe tbody tr th {\n",
              "        vertical-align: top;\n",
              "    }\n",
              "\n",
              "    .dataframe thead th {\n",
              "        text-align: right;\n",
              "    }\n",
              "</style>\n",
              "<table border=\"1\" class=\"dataframe\">\n",
              "  <thead>\n",
              "    <tr style=\"text-align: right;\">\n",
              "      <th></th>\n",
              "      <th>EIN</th>\n",
              "      <th>NAME</th>\n",
              "      <th>APPLICATION_TYPE</th>\n",
              "      <th>AFFILIATION</th>\n",
              "      <th>CLASSIFICATION</th>\n",
              "      <th>USE_CASE</th>\n",
              "      <th>ORGANIZATION</th>\n",
              "      <th>STATUS</th>\n",
              "      <th>INCOME_AMT</th>\n",
              "      <th>SPECIAL_CONSIDERATIONS</th>\n",
              "      <th>ASK_AMT</th>\n",
              "      <th>IS_SUCCESSFUL</th>\n",
              "    </tr>\n",
              "  </thead>\n",
              "  <tbody>\n",
              "    <tr>\n",
              "      <th>0</th>\n",
              "      <td>10520599</td>\n",
              "      <td>BLUE KNIGHTS MOTORCYCLE CLUB</td>\n",
              "      <td>T10</td>\n",
              "      <td>Independent</td>\n",
              "      <td>C1000</td>\n",
              "      <td>ProductDev</td>\n",
              "      <td>Association</td>\n",
              "      <td>1</td>\n",
              "      <td>0</td>\n",
              "      <td>N</td>\n",
              "      <td>5000</td>\n",
              "      <td>1</td>\n",
              "    </tr>\n",
              "    <tr>\n",
              "      <th>1</th>\n",
              "      <td>10531628</td>\n",
              "      <td>AMERICAN CHESAPEAKE CLUB CHARITABLE TR</td>\n",
              "      <td>T3</td>\n",
              "      <td>Independent</td>\n",
              "      <td>C2000</td>\n",
              "      <td>Preservation</td>\n",
              "      <td>Co-operative</td>\n",
              "      <td>1</td>\n",
              "      <td>1-9999</td>\n",
              "      <td>N</td>\n",
              "      <td>108590</td>\n",
              "      <td>1</td>\n",
              "    </tr>\n",
              "    <tr>\n",
              "      <th>2</th>\n",
              "      <td>10547893</td>\n",
              "      <td>ST CLOUD PROFESSIONAL FIREFIGHTERS</td>\n",
              "      <td>T5</td>\n",
              "      <td>CompanySponsored</td>\n",
              "      <td>C3000</td>\n",
              "      <td>ProductDev</td>\n",
              "      <td>Association</td>\n",
              "      <td>1</td>\n",
              "      <td>0</td>\n",
              "      <td>N</td>\n",
              "      <td>5000</td>\n",
              "      <td>0</td>\n",
              "    </tr>\n",
              "    <tr>\n",
              "      <th>3</th>\n",
              "      <td>10553066</td>\n",
              "      <td>SOUTHSIDE ATHLETIC ASSOCIATION</td>\n",
              "      <td>T3</td>\n",
              "      <td>CompanySponsored</td>\n",
              "      <td>C2000</td>\n",
              "      <td>Preservation</td>\n",
              "      <td>Trust</td>\n",
              "      <td>1</td>\n",
              "      <td>10000-24999</td>\n",
              "      <td>N</td>\n",
              "      <td>6692</td>\n",
              "      <td>1</td>\n",
              "    </tr>\n",
              "    <tr>\n",
              "      <th>4</th>\n",
              "      <td>10556103</td>\n",
              "      <td>GENETIC RESEARCH INSTITUTE OF THE DESERT</td>\n",
              "      <td>T3</td>\n",
              "      <td>Independent</td>\n",
              "      <td>C1000</td>\n",
              "      <td>Heathcare</td>\n",
              "      <td>Trust</td>\n",
              "      <td>1</td>\n",
              "      <td>100000-499999</td>\n",
              "      <td>N</td>\n",
              "      <td>142590</td>\n",
              "      <td>1</td>\n",
              "    </tr>\n",
              "  </tbody>\n",
              "</table>\n",
              "</div>"
            ],
            "text/plain": [
              "        EIN                                      NAME  ... ASK_AMT IS_SUCCESSFUL\n",
              "0  10520599              BLUE KNIGHTS MOTORCYCLE CLUB  ...    5000             1\n",
              "1  10531628    AMERICAN CHESAPEAKE CLUB CHARITABLE TR  ...  108590             1\n",
              "2  10547893        ST CLOUD PROFESSIONAL FIREFIGHTERS  ...    5000             0\n",
              "3  10553066            SOUTHSIDE ATHLETIC ASSOCIATION  ...    6692             1\n",
              "4  10556103  GENETIC RESEARCH INSTITUTE OF THE DESERT  ...  142590             1\n",
              "\n",
              "[5 rows x 12 columns]"
            ]
          },
          "metadata": {},
          "execution_count": 2
        }
      ]
    },
    {
      "cell_type": "code",
      "metadata": {
        "colab": {
          "base_uri": "https://localhost:8080/"
        },
        "id": "5g3IfC8C56Rz",
        "outputId": "bed95df6-4146-4294-b6cd-76fe403e4c6a"
      },
      "source": [
        "application_df.shape"
      ],
      "execution_count": 3,
      "outputs": [
        {
          "output_type": "execute_result",
          "data": {
            "text/plain": [
              "(34299, 12)"
            ]
          },
          "metadata": {},
          "execution_count": 3
        }
      ]
    },
    {
      "cell_type": "code",
      "metadata": {
        "colab": {
          "base_uri": "https://localhost:8080/"
        },
        "id": "d7V6M_0P1jI3",
        "outputId": "6d2c392b-fdc7-475a-cb9c-6486943a2ab1"
      },
      "source": [
        "# Drop the non-beneficial ID columns, 'EIN' and 'NAME'.\n",
        "application_df = application_df.drop(columns=['EIN','NAME'],axis=1)\n",
        "application_df.shape"
      ],
      "execution_count": 4,
      "outputs": [
        {
          "output_type": "execute_result",
          "data": {
            "text/plain": [
              "(34299, 10)"
            ]
          },
          "metadata": {},
          "execution_count": 4
        }
      ]
    },
    {
      "cell_type": "code",
      "metadata": {
        "colab": {
          "base_uri": "https://localhost:8080/"
        },
        "id": "eeZqEnyq1jI4",
        "outputId": "37f97e78-ad5c-48ee-ed81-4fcc48d8db16"
      },
      "source": [
        "# Determine the number of unique values in each column.\n",
        "application_df.nunique()"
      ],
      "execution_count": 5,
      "outputs": [
        {
          "output_type": "execute_result",
          "data": {
            "text/plain": [
              "APPLICATION_TYPE            17\n",
              "AFFILIATION                  6\n",
              "CLASSIFICATION              71\n",
              "USE_CASE                     5\n",
              "ORGANIZATION                 4\n",
              "STATUS                       2\n",
              "INCOME_AMT                   9\n",
              "SPECIAL_CONSIDERATIONS       2\n",
              "ASK_AMT                   8747\n",
              "IS_SUCCESSFUL                2\n",
              "dtype: int64"
            ]
          },
          "metadata": {},
          "execution_count": 5
        }
      ]
    },
    {
      "cell_type": "code",
      "metadata": {
        "colab": {
          "base_uri": "https://localhost:8080/"
        },
        "id": "4YpoUx021jI4",
        "outputId": "3b19f203-fcf7-49ef-ccff-658e512fabe5"
      },
      "source": [
        "# Look at APPLICATION_TYPE value counts for binning\n",
        "application_value = application_df.loc[:, 'APPLICATION_TYPE'].value_counts()\n",
        "application_value"
      ],
      "execution_count": 6,
      "outputs": [
        {
          "output_type": "execute_result",
          "data": {
            "text/plain": [
              "T3     27037\n",
              "T4      1542\n",
              "T6      1216\n",
              "T5      1173\n",
              "T19     1065\n",
              "T8       737\n",
              "T7       725\n",
              "T10      528\n",
              "T9       156\n",
              "T13       66\n",
              "T12       27\n",
              "T2        16\n",
              "T14        3\n",
              "T25        3\n",
              "T15        2\n",
              "T29        2\n",
              "T17        1\n",
              "Name: APPLICATION_TYPE, dtype: int64"
            ]
          },
          "metadata": {},
          "execution_count": 6
        }
      ]
    },
    {
      "cell_type": "code",
      "metadata": {
        "colab": {
          "base_uri": "https://localhost:8080/"
        },
        "id": "oGkzfpso1jI5",
        "outputId": "acb86212-b756-4da5-815e-6e73da624ecf"
      },
      "source": [
        "# Look at CLASSIFICATION value counts for binning\n",
        "classification_value = application_df.loc[:, 'CLASSIFICATION'].value_counts()\n",
        "classification_value"
      ],
      "execution_count": 7,
      "outputs": [
        {
          "output_type": "execute_result",
          "data": {
            "text/plain": [
              "C1000    17326\n",
              "C2000     6074\n",
              "C1200     4837\n",
              "C3000     1918\n",
              "C2100     1883\n",
              "         ...  \n",
              "C1732        1\n",
              "C4120        1\n",
              "C1370        1\n",
              "C2561        1\n",
              "C2500        1\n",
              "Name: CLASSIFICATION, Length: 71, dtype: int64"
            ]
          },
          "metadata": {},
          "execution_count": 7
        }
      ]
    },
    {
      "cell_type": "code",
      "metadata": {
        "colab": {
          "base_uri": "https://localhost:8080/"
        },
        "id": "kQvgVZ771jI5",
        "outputId": "7ba78e96-7b50-4301-e159-79316401c5e1"
      },
      "source": [
        "# Choose a cutoff value and create a list of application types to be replaced\n",
        "# use the variable name `application_types_to_replace`\n",
        "application_types_to_replace = list(application_value[application_value<200].index)\n",
        "\n",
        "# Replace in dataframe\n",
        "for app in application_types_to_replace:\n",
        "    application_df['APPLICATION_TYPE'] = application_df['APPLICATION_TYPE'].replace(app,\"Other\")\n",
        "\n",
        "# Check to make sure binning was successful\n",
        "application_df['APPLICATION_TYPE'].value_counts()"
      ],
      "execution_count": 8,
      "outputs": [
        {
          "output_type": "execute_result",
          "data": {
            "text/plain": [
              "T3       27037\n",
              "T4        1542\n",
              "T6        1216\n",
              "T5        1173\n",
              "T19       1065\n",
              "T8         737\n",
              "T7         725\n",
              "T10        528\n",
              "Other      276\n",
              "Name: APPLICATION_TYPE, dtype: int64"
            ]
          },
          "metadata": {},
          "execution_count": 8
        }
      ]
    },
    {
      "cell_type": "code",
      "metadata": {
        "colab": {
          "base_uri": "https://localhost:8080/",
          "height": 283
        },
        "id": "7OdwpsaX1jI6",
        "outputId": "cddf05c8-7eb0-49e4-c5da-9acc70fc9602"
      },
      "source": [
        "# You may find it helpful to look at CLASSIFICATION value counts >1\n",
        "classification_value.plot(kind='density')"
      ],
      "execution_count": 9,
      "outputs": [
        {
          "output_type": "execute_result",
          "data": {
            "text/plain": [
              "<matplotlib.axes._subplots.AxesSubplot at 0x7f4fe9829f50>"
            ]
          },
          "metadata": {},
          "execution_count": 9
        },
        {
          "output_type": "display_data",
          "data": {
            "image/png": "[encoded data removed]",
            "text/plain": [
              "<Figure size 432x288 with 1 Axes>"
            ]
          },
          "metadata": {
            "needs_background": "light"
          }
        }
      ]
    },
    {
      "cell_type": "code",
      "metadata": {
        "id": "H7MuvQXo1jI7",
        "colab": {
          "base_uri": "https://localhost:8080/"
        },
        "outputId": "a910977d-4e55-4748-d626-90faea4f57f8"
      },
      "source": [
        "# Choose a cutoff value and create a list of classifications to be replaced\n",
        "# use the variable name `classifications_to_replace`\n",
        "classifications_to_replace = list(classification_value[classification_value<1000].index)\n",
        "\n",
        "# Replace in dataframe\n",
        "for cls in classifications_to_replace:\n",
        "    application_df['CLASSIFICATION'] = application_df['CLASSIFICATION'].replace(cls,\"Other\")\n",
        "    \n",
        "# Check to make sure binning was successful\n",
        "application_df['CLASSIFICATION'].value_counts()"
      ],
      "execution_count": 10,
      "outputs": [
        {
          "output_type": "execute_result",
          "data": {
            "text/plain": [
              "C1000    17326\n",
              "C2000     6074\n",
              "C1200     4837\n",
              "Other     2261\n",
              "C3000     1918\n",
              "C2100     1883\n",
              "Name: CLASSIFICATION, dtype: int64"
            ]
          },
          "metadata": {},
          "execution_count": 10
        }
      ]
    },
    {
      "cell_type": "code",
      "metadata": {
        "colab": {
          "base_uri": "https://localhost:8080/",
          "height": 419
        },
        "id": "1hsTTF7DNITV",
        "outputId": "08ea938d-a04e-4a4e-ba1d-04354c618c41"
      },
      "source": [
        "application_df"
      ],
      "execution_count": 11,
      "outputs": [
        {
          "output_type": "execute_result",
          "data": {
            "text/html": [
              "<div>\n",
              "<style scoped>\n",
              "    .dataframe tbody tr th:only-of-type {\n",
              "        vertical-align: middle;\n",
              "    }\n",
              "\n",
              "    .dataframe tbody tr th {\n",
              "        vertical-align: top;\n",
              "    }\n",
              "\n",
              "    .dataframe thead th {\n",
              "        text-align: right;\n",
              "    }\n",
              "</style>\n",
              "<table border=\"1\" class=\"dataframe\">\n",
              "  <thead>\n",
              "    <tr style=\"text-align: right;\">\n",
              "      <th></th>\n",
              "      <th>APPLICATION_TYPE</th>\n",
              "      <th>AFFILIATION</th>\n",
              "      <th>CLASSIFICATION</th>\n",
              "      <th>USE_CASE</th>\n",
              "      <th>ORGANIZATION</th>\n",
              "      <th>STATUS</th>\n",
              "      <th>INCOME_AMT</th>\n",
              "      <th>SPECIAL_CONSIDERATIONS</th>\n",
              "      <th>ASK_AMT</th>\n",
              "      <th>IS_SUCCESSFUL</th>\n",
              "    </tr>\n",
              "  </thead>\n",
              "  <tbody>\n",
              "    <tr>\n",
              "      <th>0</th>\n",
              "      <td>T10</td>\n",
              "      <td>Independent</td>\n",
              "      <td>C1000</td>\n",
              "      <td>ProductDev</td>\n",
              "      <td>Association</td>\n",
              "      <td>1</td>\n",
              "      <td>0</td>\n",
              "      <td>N</td>\n",
              "      <td>5000</td>\n",
              "      <td>1</td>\n",
              "    </tr>\n",
              "    <tr>\n",
              "      <th>1</th>\n",
              "      <td>T3</td>\n",
              "      <td>Independent</td>\n",
              "      <td>C2000</td>\n",
              "      <td>Preservation</td>\n",
              "      <td>Co-operative</td>\n",
              "      <td>1</td>\n",
              "      <td>1-9999</td>\n",
              "      <td>N</td>\n",
              "      <td>108590</td>\n",
              "      <td>1</td>\n",
              "    </tr>\n",
              "    <tr>\n",
              "      <th>2</th>\n",
              "      <td>T5</td>\n",
              "      <td>CompanySponsored</td>\n",
              "      <td>C3000</td>\n",
              "      <td>ProductDev</td>\n",
              "      <td>Association</td>\n",
              "      <td>1</td>\n",
              "      <td>0</td>\n",
              "      <td>N</td>\n",
              "      <td>5000</td>\n",
              "      <td>0</td>\n",
              "    </tr>\n",
              "    <tr>\n",
              "      <th>3</th>\n",
              "      <td>T3</td>\n",
              "      <td>CompanySponsored</td>\n",
              "      <td>C2000</td>\n",
              "      <td>Preservation</td>\n",
              "      <td>Trust</td>\n",
              "      <td>1</td>\n",
              "      <td>10000-24999</td>\n",
              "      <td>N</td>\n",
              "      <td>6692</td>\n",
              "      <td>1</td>\n",
              "    </tr>\n",
              "    <tr>\n",
              "      <th>4</th>\n",
              "      <td>T3</td>\n",
              "      <td>Independent</td>\n",
              "      <td>C1000</td>\n",
              "      <td>Heathcare</td>\n",
              "      <td>Trust</td>\n",
              "      <td>1</td>\n",
              "      <td>100000-499999</td>\n",
              "      <td>N</td>\n",
              "      <td>142590</td>\n",
              "      <td>1</td>\n",
              "    </tr>\n",
              "    <tr>\n",
              "      <th>...</th>\n",
              "      <td>...</td>\n",
              "      <td>...</td>\n",
              "      <td>...</td>\n",
              "      <td>...</td>\n",
              "      <td>...</td>\n",
              "      <td>...</td>\n",
              "      <td>...</td>\n",
              "      <td>...</td>\n",
              "      <td>...</td>\n",
              "      <td>...</td>\n",
              "    </tr>\n",
              "    <tr>\n",
              "      <th>34294</th>\n",
              "      <td>T4</td>\n",
              "      <td>Independent</td>\n",
              "      <td>C1000</td>\n",
              "      <td>ProductDev</td>\n",
              "      <td>Association</td>\n",
              "      <td>1</td>\n",
              "      <td>0</td>\n",
              "      <td>N</td>\n",
              "      <td>5000</td>\n",
              "      <td>0</td>\n",
              "    </tr>\n",
              "    <tr>\n",
              "      <th>34295</th>\n",
              "      <td>T4</td>\n",
              "      <td>CompanySponsored</td>\n",
              "      <td>C3000</td>\n",
              "      <td>ProductDev</td>\n",
              "      <td>Association</td>\n",
              "      <td>1</td>\n",
              "      <td>0</td>\n",
              "      <td>N</td>\n",
              "      <td>5000</td>\n",
              "      <td>0</td>\n",
              "    </tr>\n",
              "    <tr>\n",
              "      <th>34296</th>\n",
              "      <td>T3</td>\n",
              "      <td>CompanySponsored</td>\n",
              "      <td>C2000</td>\n",
              "      <td>Preservation</td>\n",
              "      <td>Association</td>\n",
              "      <td>1</td>\n",
              "      <td>0</td>\n",
              "      <td>N</td>\n",
              "      <td>5000</td>\n",
              "      <td>0</td>\n",
              "    </tr>\n",
              "    <tr>\n",
              "      <th>34297</th>\n",
              "      <td>T5</td>\n",
              "      <td>Independent</td>\n",
              "      <td>C3000</td>\n",
              "      <td>ProductDev</td>\n",
              "      <td>Association</td>\n",
              "      <td>1</td>\n",
              "      <td>0</td>\n",
              "      <td>N</td>\n",
              "      <td>5000</td>\n",
              "      <td>1</td>\n",
              "    </tr>\n",
              "    <tr>\n",
              "      <th>34298</th>\n",
              "      <td>T3</td>\n",
              "      <td>Independent</td>\n",
              "      <td>C1000</td>\n",
              "      <td>Preservation</td>\n",
              "      <td>Co-operative</td>\n",
              "      <td>1</td>\n",
              "      <td>1M-5M</td>\n",
              "      <td>N</td>\n",
              "      <td>36500179</td>\n",
              "      <td>0</td>\n",
              "    </tr>\n",
              "  </tbody>\n",
              "</table>\n",
              "<p>34299 rows × 10 columns</p>\n",
              "</div>"
            ],
            "text/plain": [
              "      APPLICATION_TYPE       AFFILIATION  ...   ASK_AMT IS_SUCCESSFUL\n",
              "0                  T10       Independent  ...      5000             1\n",
              "1                   T3       Independent  ...    108590             1\n",
              "2                   T5  CompanySponsored  ...      5000             0\n",
              "3                   T3  CompanySponsored  ...      6692             1\n",
              "4                   T3       Independent  ...    142590             1\n",
              "...                ...               ...  ...       ...           ...\n",
              "34294               T4       Independent  ...      5000             0\n",
              "34295               T4  CompanySponsored  ...      5000             0\n",
              "34296               T3  CompanySponsored  ...      5000             0\n",
              "34297               T5       Independent  ...      5000             1\n",
              "34298               T3       Independent  ...  36500179             0\n",
              "\n",
              "[34299 rows x 10 columns]"
            ]
          },
          "metadata": {},
          "execution_count": 11
        }
      ]
    },
    {
      "cell_type": "code",
      "metadata": {
        "id": "qgHZyWz81jI7",
        "colab": {
          "base_uri": "https://localhost:8080/",
          "height": 456
        },
        "outputId": "a1758b01-3eae-45a6-8515-5fcde3bd43a7"
      },
      "source": [
        "# Convert categorical data to numeric with `pd.get_dummies`\n",
        "application_df = pd.get_dummies(application_df, dtype=float)\n",
        "application_df"
      ],
      "execution_count": 12,
      "outputs": [
        {
          "output_type": "execute_result",
          "data": {
            "text/html": [
              "<div>\n",
              "<style scoped>\n",
              "    .dataframe tbody tr th:only-of-type {\n",
              "        vertical-align: middle;\n",
              "    }\n",
              "\n",
              "    .dataframe tbody tr th {\n",
              "        vertical-align: top;\n",
              "    }\n",
              "\n",
              "    .dataframe thead th {\n",
              "        text-align: right;\n",
              "    }\n",
              "</style>\n",
              "<table border=\"1\" class=\"dataframe\">\n",
              "  <thead>\n",
              "    <tr style=\"text-align: right;\">\n",
              "      <th></th>\n",
              "      <th>STATUS</th>\n",
              "      <th>ASK_AMT</th>\n",
              "      <th>IS_SUCCESSFUL</th>\n",
              "      <th>APPLICATION_TYPE_Other</th>\n",
              "      <th>APPLICATION_TYPE_T10</th>\n",
              "      <th>APPLICATION_TYPE_T19</th>\n",
              "      <th>APPLICATION_TYPE_T3</th>\n",
              "      <th>APPLICATION_TYPE_T4</th>\n",
              "      <th>APPLICATION_TYPE_T5</th>\n",
              "      <th>APPLICATION_TYPE_T6</th>\n",
              "      <th>APPLICATION_TYPE_T7</th>\n",
              "      <th>APPLICATION_TYPE_T8</th>\n",
              "      <th>AFFILIATION_CompanySponsored</th>\n",
              "      <th>AFFILIATION_Family/Parent</th>\n",
              "      <th>AFFILIATION_Independent</th>\n",
              "      <th>AFFILIATION_National</th>\n",
              "      <th>AFFILIATION_Other</th>\n",
              "      <th>AFFILIATION_Regional</th>\n",
              "      <th>CLASSIFICATION_C1000</th>\n",
              "      <th>CLASSIFICATION_C1200</th>\n",
              "      <th>CLASSIFICATION_C2000</th>\n",
              "      <th>CLASSIFICATION_C2100</th>\n",
              "      <th>CLASSIFICATION_C3000</th>\n",
              "      <th>CLASSIFICATION_Other</th>\n",
              "      <th>USE_CASE_CommunityServ</th>\n",
              "      <th>USE_CASE_Heathcare</th>\n",
              "      <th>USE_CASE_Other</th>\n",
              "      <th>USE_CASE_Preservation</th>\n",
              "      <th>USE_CASE_ProductDev</th>\n",
              "      <th>ORGANIZATION_Association</th>\n",
              "      <th>ORGANIZATION_Co-operative</th>\n",
              "      <th>ORGANIZATION_Corporation</th>\n",
              "      <th>ORGANIZATION_Trust</th>\n",
              "      <th>INCOME_AMT_0</th>\n",
              "      <th>INCOME_AMT_1-9999</th>\n",
              "      <th>INCOME_AMT_10000-24999</th>\n",
              "      <th>INCOME_AMT_100000-499999</th>\n",
              "      <th>INCOME_AMT_10M-50M</th>\n",
              "      <th>INCOME_AMT_1M-5M</th>\n",
              "      <th>INCOME_AMT_25000-99999</th>\n",
              "      <th>INCOME_AMT_50M+</th>\n",
              "      <th>INCOME_AMT_5M-10M</th>\n",
              "      <th>SPECIAL_CONSIDERATIONS_N</th>\n",
              "      <th>SPECIAL_CONSIDERATIONS_Y</th>\n",
              "    </tr>\n",
              "  </thead>\n",
              "  <tbody>\n",
              "    <tr>\n",
              "      <th>0</th>\n",
              "      <td>1</td>\n",
              "      <td>5000</td>\n",
              "      <td>1</td>\n",
              "      <td>0.0</td>\n",
              "      <td>1.0</td>\n",
              "      <td>0.0</td>\n",
              "      <td>0.0</td>\n",
              "      <td>0.0</td>\n",
              "      <td>0.0</td>\n",
              "      <td>0.0</td>\n",
              "      <td>0.0</td>\n",
              "      <td>0.0</td>\n",
              "      <td>0.0</td>\n",
              "      <td>0.0</td>\n",
              "      <td>1.0</td>\n",
              "      <td>0.0</td>\n",
              "      <td>0.0</td>\n",
              "      <td>0.0</td>\n",
              "      <td>1.0</td>\n",
              "      <td>0.0</td>\n",
              "      <td>0.0</td>\n",
              "      <td>0.0</td>\n",
              "      <td>0.0</td>\n",
              "      <td>0.0</td>\n",
              "      <td>0.0</td>\n",
              "      <td>0.0</td>\n",
              "      <td>0.0</td>\n",
              "      <td>0.0</td>\n",
              "      <td>1.0</td>\n",
              "      <td>1.0</td>\n",
              "      <td>0.0</td>\n",
              "      <td>0.0</td>\n",
              "      <td>0.0</td>\n",
              "      <td>1.0</td>\n",
              "      <td>0.0</td>\n",
              "      <td>0.0</td>\n",
              "      <td>0.0</td>\n",
              "      <td>0.0</td>\n",
              "      <td>0.0</td>\n",
              "      <td>0.0</td>\n",
              "      <td>0.0</td>\n",
              "      <td>0.0</td>\n",
              "      <td>1.0</td>\n",
              "      <td>0.0</td>\n",
              "    </tr>\n",
              "    <tr>\n",
              "      <th>1</th>\n",
              "      <td>1</td>\n",
              "      <td>108590</td>\n",
              "      <td>1</td>\n",
              "      <td>0.0</td>\n",
              "      <td>0.0</td>\n",
              "      <td>0.0</td>\n",
              "      <td>1.0</td>\n",
              "      <td>0.0</td>\n",
              "      <td>0.0</td>\n",
              "      <td>0.0</td>\n",
              "      <td>0.0</td>\n",
              "      <td>0.0</td>\n",
              "      <td>0.0</td>\n",
              "      <td>0.0</td>\n",
              "      <td>1.0</td>\n",
              "      <td>0.0</td>\n",
              "      <td>0.0</td>\n",
              "      <td>0.0</td>\n",
              "      <td>0.0</td>\n",
              "      <td>0.0</td>\n",
              "      <td>1.0</td>\n",
              "      <td>0.0</td>\n",
              "      <td>0.0</td>\n",
              "      <td>0.0</td>\n",
              "      <td>0.0</td>\n",
              "      <td>0.0</td>\n",
              "      <td>0.0</td>\n",
              "      <td>1.0</td>\n",
              "      <td>0.0</td>\n",
              "      <td>0.0</td>\n",
              "      <td>1.0</td>\n",
              "      <td>0.0</td>\n",
              "      <td>0.0</td>\n",
              "      <td>0.0</td>\n",
              "      <td>1.0</td>\n",
              "      <td>0.0</td>\n",
              "      <td>0.0</td>\n",
              "      <td>0.0</td>\n",
              "      <td>0.0</td>\n",
              "      <td>0.0</td>\n",
              "      <td>0.0</td>\n",
              "      <td>0.0</td>\n",
              "      <td>1.0</td>\n",
              "      <td>0.0</td>\n",
              "    </tr>\n",
              "    <tr>\n",
              "      <th>2</th>\n",
              "      <td>1</td>\n",
              "      <td>5000</td>\n",
              "      <td>0</td>\n",
              "      <td>0.0</td>\n",
              "      <td>0.0</td>\n",
              "      <td>0.0</td>\n",
              "      <td>0.0</td>\n",
              "      <td>0.0</td>\n",
              "      <td>1.0</td>\n",
              "      <td>0.0</td>\n",
              "      <td>0.0</td>\n",
              "      <td>0.0</td>\n",
              "      <td>1.0</td>\n",
              "      <td>0.0</td>\n",
              "      <td>0.0</td>\n",
              "      <td>0.0</td>\n",
              "      <td>0.0</td>\n",
              "      <td>0.0</td>\n",
              "      <td>0.0</td>\n",
              "      <td>0.0</td>\n",
              "      <td>0.0</td>\n",
              "      <td>0.0</td>\n",
              "      <td>1.0</td>\n",
              "      <td>0.0</td>\n",
              "      <td>0.0</td>\n",
              "      <td>0.0</td>\n",
              "      <td>0.0</td>\n",
              "      <td>0.0</td>\n",
              "      <td>1.0</td>\n",
              "      <td>1.0</td>\n",
              "      <td>0.0</td>\n",
              "      <td>0.0</td>\n",
              "      <td>0.0</td>\n",
              "      <td>1.0</td>\n",
              "      <td>0.0</td>\n",
              "      <td>0.0</td>\n",
              "      <td>0.0</td>\n",
              "      <td>0.0</td>\n",
              "      <td>0.0</td>\n",
              "      <td>0.0</td>\n",
              "      <td>0.0</td>\n",
              "      <td>0.0</td>\n",
              "      <td>1.0</td>\n",
              "      <td>0.0</td>\n",
              "    </tr>\n",
              "    <tr>\n",
              "      <th>3</th>\n",
              "      <td>1</td>\n",
              "      <td>6692</td>\n",
              "      <td>1</td>\n",
              "      <td>0.0</td>\n",
              "      <td>0.0</td>\n",
              "      <td>0.0</td>\n",
              "      <td>1.0</td>\n",
              "      <td>0.0</td>\n",
              "      <td>0.0</td>\n",
              "      <td>0.0</td>\n",
              "      <td>0.0</td>\n",
              "      <td>0.0</td>\n",
              "      <td>1.0</td>\n",
              "      <td>0.0</td>\n",
              "      <td>0.0</td>\n",
              "      <td>0.0</td>\n",
              "      <td>0.0</td>\n",
              "      <td>0.0</td>\n",
              "      <td>0.0</td>\n",
              "      <td>0.0</td>\n",
              "      <td>1.0</td>\n",
              "      <td>0.0</td>\n",
              "      <td>0.0</td>\n",
              "      <td>0.0</td>\n",
              "      <td>0.0</td>\n",
              "      <td>0.0</td>\n",
              "      <td>0.0</td>\n",
              "      <td>1.0</td>\n",
              "      <td>0.0</td>\n",
              "      <td>0.0</td>\n",
              "      <td>0.0</td>\n",
              "      <td>0.0</td>\n",
              "      <td>1.0</td>\n",
              "      <td>0.0</td>\n",
              "      <td>0.0</td>\n",
              "      <td>1.0</td>\n",
              "      <td>0.0</td>\n",
              "      <td>0.0</td>\n",
              "      <td>0.0</td>\n",
              "      <td>0.0</td>\n",
              "      <td>0.0</td>\n",
              "      <td>0.0</td>\n",
              "      <td>1.0</td>\n",
              "      <td>0.0</td>\n",
              "    </tr>\n",
              "    <tr>\n",
              "      <th>4</th>\n",
              "      <td>1</td>\n",
              "      <td>142590</td>\n",
              "      <td>1</td>\n",
              "      <td>0.0</td>\n",
              "      <td>0.0</td>\n",
              "      <td>0.0</td>\n",
              "      <td>1.0</td>\n",
              "      <td>0.0</td>\n",
              "      <td>0.0</td>\n",
              "      <td>0.0</td>\n",
              "      <td>0.0</td>\n",
              "      <td>0.0</td>\n",
              "      <td>0.0</td>\n",
              "      <td>0.0</td>\n",
              "      <td>1.0</td>\n",
              "      <td>0.0</td>\n",
              "      <td>0.0</td>\n",
              "      <td>0.0</td>\n",
              "      <td>1.0</td>\n",
              "      <td>0.0</td>\n",
              "      <td>0.0</td>\n",
              "      <td>0.0</td>\n",
              "      <td>0.0</td>\n",
              "      <td>0.0</td>\n",
              "      <td>0.0</td>\n",
              "      <td>1.0</td>\n",
              "      <td>0.0</td>\n",
              "      <td>0.0</td>\n",
              "      <td>0.0</td>\n",
              "      <td>0.0</td>\n",
              "      <td>0.0</td>\n",
              "      <td>0.0</td>\n",
              "      <td>1.0</td>\n",
              "      <td>0.0</td>\n",
              "      <td>0.0</td>\n",
              "      <td>0.0</td>\n",
              "      <td>1.0</td>\n",
              "      <td>0.0</td>\n",
              "      <td>0.0</td>\n",
              "      <td>0.0</td>\n",
              "      <td>0.0</td>\n",
              "      <td>0.0</td>\n",
              "      <td>1.0</td>\n",
              "      <td>0.0</td>\n",
              "    </tr>\n",
              "    <tr>\n",
              "      <th>...</th>\n",
              "      <td>...</td>\n",
              "      <td>...</td>\n",
              "      <td>...</td>\n",
              "      <td>...</td>\n",
              "      <td>...</td>\n",
              "      <td>...</td>\n",
              "      <td>...</td>\n",
              "      <td>...</td>\n",
              "      <td>...</td>\n",
              "      <td>...</td>\n",
              "      <td>...</td>\n",
              "      <td>...</td>\n",
              "      <td>...</td>\n",
              "      <td>...</td>\n",
              "      <td>...</td>\n",
              "      <td>...</td>\n",
              "      <td>...</td>\n",
              "      <td>...</td>\n",
              "      <td>...</td>\n",
              "      <td>...</td>\n",
              "      <td>...</td>\n",
              "      <td>...</td>\n",
              "      <td>...</td>\n",
              "      <td>...</td>\n",
              "      <td>...</td>\n",
              "      <td>...</td>\n",
              "      <td>...</td>\n",
              "      <td>...</td>\n",
              "      <td>...</td>\n",
              "      <td>...</td>\n",
              "      <td>...</td>\n",
              "      <td>...</td>\n",
              "      <td>...</td>\n",
              "      <td>...</td>\n",
              "      <td>...</td>\n",
              "      <td>...</td>\n",
              "      <td>...</td>\n",
              "      <td>...</td>\n",
              "      <td>...</td>\n",
              "      <td>...</td>\n",
              "      <td>...</td>\n",
              "      <td>...</td>\n",
              "      <td>...</td>\n",
              "      <td>...</td>\n",
              "    </tr>\n",
              "    <tr>\n",
              "      <th>34294</th>\n",
              "      <td>1</td>\n",
              "      <td>5000</td>\n",
              "      <td>0</td>\n",
              "      <td>0.0</td>\n",
              "      <td>0.0</td>\n",
              "      <td>0.0</td>\n",
              "      <td>0.0</td>\n",
              "      <td>1.0</td>\n",
              "      <td>0.0</td>\n",
              "      <td>0.0</td>\n",
              "      <td>0.0</td>\n",
              "      <td>0.0</td>\n",
              "      <td>0.0</td>\n",
              "      <td>0.0</td>\n",
              "      <td>1.0</td>\n",
              "      <td>0.0</td>\n",
              "      <td>0.0</td>\n",
              "      <td>0.0</td>\n",
              "      <td>1.0</td>\n",
              "      <td>0.0</td>\n",
              "      <td>0.0</td>\n",
              "      <td>0.0</td>\n",
              "      <td>0.0</td>\n",
              "      <td>0.0</td>\n",
              "      <td>0.0</td>\n",
              "      <td>0.0</td>\n",
              "      <td>0.0</td>\n",
              "      <td>0.0</td>\n",
              "      <td>1.0</td>\n",
              "      <td>1.0</td>\n",
              "      <td>0.0</td>\n",
              "      <td>0.0</td>\n",
              "      <td>0.0</td>\n",
              "      <td>1.0</td>\n",
              "      <td>0.0</td>\n",
              "      <td>0.0</td>\n",
              "      <td>0.0</td>\n",
              "      <td>0.0</td>\n",
              "      <td>0.0</td>\n",
              "      <td>0.0</td>\n",
              "      <td>0.0</td>\n",
              "      <td>0.0</td>\n",
              "      <td>1.0</td>\n",
              "      <td>0.0</td>\n",
              "    </tr>\n",
              "    <tr>\n",
              "      <th>34295</th>\n",
              "      <td>1</td>\n",
              "      <td>5000</td>\n",
              "      <td>0</td>\n",
              "      <td>0.0</td>\n",
              "      <td>0.0</td>\n",
              "      <td>0.0</td>\n",
              "      <td>0.0</td>\n",
              "      <td>1.0</td>\n",
              "      <td>0.0</td>\n",
              "      <td>0.0</td>\n",
              "      <td>0.0</td>\n",
              "      <td>0.0</td>\n",
              "      <td>1.0</td>\n",
              "      <td>0.0</td>\n",
              "      <td>0.0</td>\n",
              "      <td>0.0</td>\n",
              "      <td>0.0</td>\n",
              "      <td>0.0</td>\n",
              "      <td>0.0</td>\n",
              "      <td>0.0</td>\n",
              "      <td>0.0</td>\n",
              "      <td>0.0</td>\n",
              "      <td>1.0</td>\n",
              "      <td>0.0</td>\n",
              "      <td>0.0</td>\n",
              "      <td>0.0</td>\n",
              "      <td>0.0</td>\n",
              "      <td>0.0</td>\n",
              "      <td>1.0</td>\n",
              "      <td>1.0</td>\n",
              "      <td>0.0</td>\n",
              "      <td>0.0</td>\n",
              "      <td>0.0</td>\n",
              "      <td>1.0</td>\n",
              "      <td>0.0</td>\n",
              "      <td>0.0</td>\n",
              "      <td>0.0</td>\n",
              "      <td>0.0</td>\n",
              "      <td>0.0</td>\n",
              "      <td>0.0</td>\n",
              "      <td>0.0</td>\n",
              "      <td>0.0</td>\n",
              "      <td>1.0</td>\n",
              "      <td>0.0</td>\n",
              "    </tr>\n",
              "    <tr>\n",
              "      <th>34296</th>\n",
              "      <td>1</td>\n",
              "      <td>5000</td>\n",
              "      <td>0</td>\n",
              "      <td>0.0</td>\n",
              "      <td>0.0</td>\n",
              "      <td>0.0</td>\n",
              "      <td>1.0</td>\n",
              "      <td>0.0</td>\n",
              "      <td>0.0</td>\n",
              "      <td>0.0</td>\n",
              "      <td>0.0</td>\n",
              "      <td>0.0</td>\n",
              "      <td>1.0</td>\n",
              "      <td>0.0</td>\n",
              "      <td>0.0</td>\n",
              "      <td>0.0</td>\n",
              "      <td>0.0</td>\n",
              "      <td>0.0</td>\n",
              "      <td>0.0</td>\n",
              "      <td>0.0</td>\n",
              "      <td>1.0</td>\n",
              "      <td>0.0</td>\n",
              "      <td>0.0</td>\n",
              "      <td>0.0</td>\n",
              "      <td>0.0</td>\n",
              "      <td>0.0</td>\n",
              "      <td>0.0</td>\n",
              "      <td>1.0</td>\n",
              "      <td>0.0</td>\n",
              "      <td>1.0</td>\n",
              "      <td>0.0</td>\n",
              "      <td>0.0</td>\n",
              "      <td>0.0</td>\n",
              "      <td>1.0</td>\n",
              "      <td>0.0</td>\n",
              "      <td>0.0</td>\n",
              "      <td>0.0</td>\n",
              "      <td>0.0</td>\n",
              "      <td>0.0</td>\n",
              "      <td>0.0</td>\n",
              "      <td>0.0</td>\n",
              "      <td>0.0</td>\n",
              "      <td>1.0</td>\n",
              "      <td>0.0</td>\n",
              "    </tr>\n",
              "    <tr>\n",
              "      <th>34297</th>\n",
              "      <td>1</td>\n",
              "      <td>5000</td>\n",
              "      <td>1</td>\n",
              "      <td>0.0</td>\n",
              "      <td>0.0</td>\n",
              "      <td>0.0</td>\n",
              "      <td>0.0</td>\n",
              "      <td>0.0</td>\n",
              "      <td>1.0</td>\n",
              "      <td>0.0</td>\n",
              "      <td>0.0</td>\n",
              "      <td>0.0</td>\n",
              "      <td>0.0</td>\n",
              "      <td>0.0</td>\n",
              "      <td>1.0</td>\n",
              "      <td>0.0</td>\n",
              "      <td>0.0</td>\n",
              "      <td>0.0</td>\n",
              "      <td>0.0</td>\n",
              "      <td>0.0</td>\n",
              "      <td>0.0</td>\n",
              "      <td>0.0</td>\n",
              "      <td>1.0</td>\n",
              "      <td>0.0</td>\n",
              "      <td>0.0</td>\n",
              "      <td>0.0</td>\n",
              "      <td>0.0</td>\n",
              "      <td>0.0</td>\n",
              "      <td>1.0</td>\n",
              "      <td>1.0</td>\n",
              "      <td>0.0</td>\n",
              "      <td>0.0</td>\n",
              "      <td>0.0</td>\n",
              "      <td>1.0</td>\n",
              "      <td>0.0</td>\n",
              "      <td>0.0</td>\n",
              "      <td>0.0</td>\n",
              "      <td>0.0</td>\n",
              "      <td>0.0</td>\n",
              "      <td>0.0</td>\n",
              "      <td>0.0</td>\n",
              "      <td>0.0</td>\n",
              "      <td>1.0</td>\n",
              "      <td>0.0</td>\n",
              "    </tr>\n",
              "    <tr>\n",
              "      <th>34298</th>\n",
              "      <td>1</td>\n",
              "      <td>36500179</td>\n",
              "      <td>0</td>\n",
              "      <td>0.0</td>\n",
              "      <td>0.0</td>\n",
              "      <td>0.0</td>\n",
              "      <td>1.0</td>\n",
              "      <td>0.0</td>\n",
              "      <td>0.0</td>\n",
              "      <td>0.0</td>\n",
              "      <td>0.0</td>\n",
              "      <td>0.0</td>\n",
              "      <td>0.0</td>\n",
              "      <td>0.0</td>\n",
              "      <td>1.0</td>\n",
              "      <td>0.0</td>\n",
              "      <td>0.0</td>\n",
              "      <td>0.0</td>\n",
              "      <td>1.0</td>\n",
              "      <td>0.0</td>\n",
              "      <td>0.0</td>\n",
              "      <td>0.0</td>\n",
              "      <td>0.0</td>\n",
              "      <td>0.0</td>\n",
              "      <td>0.0</td>\n",
              "      <td>0.0</td>\n",
              "      <td>0.0</td>\n",
              "      <td>1.0</td>\n",
              "      <td>0.0</td>\n",
              "      <td>0.0</td>\n",
              "      <td>1.0</td>\n",
              "      <td>0.0</td>\n",
              "      <td>0.0</td>\n",
              "      <td>0.0</td>\n",
              "      <td>0.0</td>\n",
              "      <td>0.0</td>\n",
              "      <td>0.0</td>\n",
              "      <td>0.0</td>\n",
              "      <td>1.0</td>\n",
              "      <td>0.0</td>\n",
              "      <td>0.0</td>\n",
              "      <td>0.0</td>\n",
              "      <td>1.0</td>\n",
              "      <td>0.0</td>\n",
              "    </tr>\n",
              "  </tbody>\n",
              "</table>\n",
              "<p>34299 rows × 44 columns</p>\n",
              "</div>"
            ],
            "text/plain": [
              "       STATUS   ASK_AMT  ...  SPECIAL_CONSIDERATIONS_N  SPECIAL_CONSIDERATIONS_Y\n",
              "0           1      5000  ...                       1.0                       0.0\n",
              "1           1    108590  ...                       1.0                       0.0\n",
              "2           1      5000  ...                       1.0                       0.0\n",
              "3           1      6692  ...                       1.0                       0.0\n",
              "4           1    142590  ...                       1.0                       0.0\n",
              "...       ...       ...  ...                       ...                       ...\n",
              "34294       1      5000  ...                       1.0                       0.0\n",
              "34295       1      5000  ...                       1.0                       0.0\n",
              "34296       1      5000  ...                       1.0                       0.0\n",
              "34297       1      5000  ...                       1.0                       0.0\n",
              "34298       1  36500179  ...                       1.0                       0.0\n",
              "\n",
              "[34299 rows x 44 columns]"
            ]
          },
          "metadata": {},
          "execution_count": 12
        }
      ]
    },
    {
      "cell_type": "code",
      "metadata": {
        "colab": {
          "base_uri": "https://localhost:8080/"
        },
        "id": "hMZgRSa4tf5h",
        "outputId": "e0338590-7f2d-4bcd-8fc8-76c5be25d0f0"
      },
      "source": [
        "application_df.dtypes"
      ],
      "execution_count": 13,
      "outputs": [
        {
          "output_type": "execute_result",
          "data": {
            "text/plain": [
              "STATUS                            int64\n",
              "ASK_AMT                           int64\n",
              "IS_SUCCESSFUL                     int64\n",
              "APPLICATION_TYPE_Other          float64\n",
              "APPLICATION_TYPE_T10            float64\n",
              "APPLICATION_TYPE_T19            float64\n",
              "APPLICATION_TYPE_T3             float64\n",
              "APPLICATION_TYPE_T4             float64\n",
              "APPLICATION_TYPE_T5             float64\n",
              "APPLICATION_TYPE_T6             float64\n",
              "APPLICATION_TYPE_T7             float64\n",
              "APPLICATION_TYPE_T8             float64\n",
              "AFFILIATION_CompanySponsored    float64\n",
              "AFFILIATION_Family/Parent       float64\n",
              "AFFILIATION_Independent         float64\n",
              "AFFILIATION_National            float64\n",
              "AFFILIATION_Other               float64\n",
              "AFFILIATION_Regional            float64\n",
              "CLASSIFICATION_C1000            float64\n",
              "CLASSIFICATION_C1200            float64\n",
              "CLASSIFICATION_C2000            float64\n",
              "CLASSIFICATION_C2100            float64\n",
              "CLASSIFICATION_C3000            float64\n",
              "CLASSIFICATION_Other            float64\n",
              "USE_CASE_CommunityServ          float64\n",
              "USE_CASE_Heathcare              float64\n",
              "USE_CASE_Other                  float64\n",
              "USE_CASE_Preservation           float64\n",
              "USE_CASE_ProductDev             float64\n",
              "ORGANIZATION_Association        float64\n",
              "ORGANIZATION_Co-operative       float64\n",
              "ORGANIZATION_Corporation        float64\n",
              "ORGANIZATION_Trust              float64\n",
              "INCOME_AMT_0                    float64\n",
              "INCOME_AMT_1-9999               float64\n",
              "INCOME_AMT_10000-24999          float64\n",
              "INCOME_AMT_100000-499999        float64\n",
              "INCOME_AMT_10M-50M              float64\n",
              "INCOME_AMT_1M-5M                float64\n",
              "INCOME_AMT_25000-99999          float64\n",
              "INCOME_AMT_50M+                 float64\n",
              "INCOME_AMT_5M-10M               float64\n",
              "SPECIAL_CONSIDERATIONS_N        float64\n",
              "SPECIAL_CONSIDERATIONS_Y        float64\n",
              "dtype: object"
            ]
          },
          "metadata": {},
          "execution_count": 13
        }
      ]
    },
    {
      "cell_type": "code",
      "metadata": {
        "id": "saKVSK7u1jI8"
      },
      "source": [
        "# Split our preprocessed data into our features and target arrays\n",
        "y = application_df.IS_SUCCESSFUL.values\n",
        "X = application_df.drop('IS_SUCCESSFUL', axis=1).values\n",
        "\n",
        "# Split the preprocessed data into a training and\n",
        "# testing dataset\n",
        "X_train, X_test, y_train, y_test = train_test_split(X,y,random_state= 42)"
      ],
      "execution_count": 14,
      "outputs": []
    },
    {
      "cell_type": "code",
      "metadata": {
        "id": "CW9XH8z21jI8"
      },
      "source": [
        "# Create a StandardScaler instances\n",
        "scaler = StandardScaler()\n",
        "\n",
        "# Fit the StandardScaler\n",
        "X_scaler = scaler.fit(X_train)\n",
        "\n",
        "# Scale the data\n",
        "X_train_scaled = X_scaler.transform(X_train)\n",
        "X_test_scaled = X_scaler.transform(X_test)"
      ],
      "execution_count": 15,
      "outputs": []
    },
    {
      "cell_type": "code",
      "metadata": {
        "colab": {
          "base_uri": "https://localhost:8080/"
        },
        "id": "CXt0y8JGe6wG",
        "outputId": "c19afccc-8b2e-4214-e9de-29463a125dca"
      },
      "source": [
        "X_train.shape"
      ],
      "execution_count": 16,
      "outputs": [
        {
          "output_type": "execute_result",
          "data": {
            "text/plain": [
              "(25724, 43)"
            ]
          },
          "metadata": {},
          "execution_count": 16
        }
      ]
    },
    {
      "cell_type": "markdown",
      "metadata": {
        "id": "BXdoy6oa1jI8"
      },
      "source": [
        "## Compile, Train and Evaluate the Model"
      ]
    },
    {
      "cell_type": "markdown",
      "metadata": {
        "id": "8HozuEPbC4Eh"
      },
      "source": [
        "# Model Evaluation 1"
      ]
    },
    {
      "cell_type": "code",
      "metadata": {
        "id": "-Y4n0uD01jI9",
        "colab": {
          "base_uri": "https://localhost:8080/"
        },
        "outputId": "1bd8f401-4e17-4d66-fd65-6d629499935d"
      },
      "source": [
        "# Define the model - deep neural net, i.e., the number of input features and hidden nodes for each layer.\n",
        "number_input_features = len( X_train_scaled[0])\n",
        "hidden_nodes_layer1=80\n",
        "hidden_nodes_layer2=30\n",
        "\n",
        "nn_model = tf.keras.models.Sequential()\n",
        "\n",
        "# First hidden layer\n",
        "nn_model.add(tf.keras.layers.Dense(units=hidden_nodes_layer1, input_dim=number_input_features, activation='relu'))\n",
        "\n",
        "# Second hidden layer\n",
        "nn_model.add(tf.keras.layers.Dense(units=hidden_nodes_layer2, activation='relu'))\n",
        "\n",
        "# Output layer\n",
        "nn_model.add(tf.keras.layers.Dense(units=1, activation='sigmoid'))\n",
        "\n",
        "# Check the structure of the model\n",
        "nn_model.summary()"
      ],
      "execution_count": 17,
      "outputs": [
        {
          "output_type": "stream",
          "name": "stdout",
          "text": [
            "Model: \"sequential\"\n",
            "_________________________________________________________________\n",
            "Layer (type)                 Output Shape              Param #   \n",
            "=================================================================\n",
            "dense (Dense)                (None, 80)                3520      \n",
            "_________________________________________________________________\n",
            "dense_1 (Dense)              (None, 30)                2430      \n",
            "_________________________________________________________________\n",
            "dense_2 (Dense)              (None, 1)                 31        \n",
            "=================================================================\n",
            "Total params: 5,981\n",
            "Trainable params: 5,981\n",
            "Non-trainable params: 0\n",
            "_________________________________________________________________\n"
          ]
        }
      ]
    },
    {
      "cell_type": "code",
      "metadata": {
        "id": "biizZk3J1jI9"
      },
      "source": [
        "# Compile the model\n",
        "nn_model.compile(loss = 'binary_crossentropy', optimizer = 'adam', metrics=['accuracy', tf.keras.metrics.Recall()])"
      ],
      "execution_count": 18,
      "outputs": []
    },
    {
      "cell_type": "code",
      "metadata": {
        "id": "0h4pMQLZ1jI9",
        "colab": {
          "base_uri": "https://localhost:8080/"
        },
        "outputId": "32cdbe7f-a566-45b2-bc2e-4e926dad3e95"
      },
      "source": [
        "fit_model = nn_model.fit(X_train_scaled,y_train,validation_split=0.15, epochs=100)"
      ],
      "execution_count": 19,
      "outputs": [
        {
          "output_type": "stream",
          "name": "stdout",
          "text": [
            "Epoch 1/100\n",
            "684/684 [==============================] - 3s 3ms/step - loss: 0.5769 - accuracy: 0.7186 - recall: 0.7642 - val_loss: 0.5519 - val_accuracy: 0.7357 - val_recall: 0.7690\n",
            "Epoch 2/100\n",
            "684/684 [==============================] - 1s 2ms/step - loss: 0.5576 - accuracy: 0.7279 - recall: 0.7787 - val_loss: 0.5477 - val_accuracy: 0.7357 - val_recall: 0.7601\n",
            "Epoch 3/100\n",
            "684/684 [==============================] - 1s 2ms/step - loss: 0.5542 - accuracy: 0.7302 - recall: 0.7883 - val_loss: 0.5483 - val_accuracy: 0.7362 - val_recall: 0.7705\n",
            "Epoch 4/100\n",
            "684/684 [==============================] - 1s 2ms/step - loss: 0.5520 - accuracy: 0.7305 - recall: 0.7873 - val_loss: 0.5491 - val_accuracy: 0.7346 - val_recall: 0.7675\n",
            "Epoch 5/100\n",
            "684/684 [==============================] - 1s 2ms/step - loss: 0.5513 - accuracy: 0.7306 - recall: 0.7903 - val_loss: 0.5480 - val_accuracy: 0.7352 - val_recall: 0.7636\n",
            "Epoch 6/100\n",
            "684/684 [==============================] - 1s 2ms/step - loss: 0.5499 - accuracy: 0.7303 - recall: 0.7879 - val_loss: 0.5465 - val_accuracy: 0.7318 - val_recall: 0.7646\n",
            "Epoch 7/100\n",
            "684/684 [==============================] - 1s 2ms/step - loss: 0.5487 - accuracy: 0.7311 - recall: 0.7921 - val_loss: 0.5468 - val_accuracy: 0.7354 - val_recall: 0.7894\n",
            "Epoch 8/100\n",
            "684/684 [==============================] - 1s 2ms/step - loss: 0.5491 - accuracy: 0.7305 - recall: 0.7855 - val_loss: 0.5474 - val_accuracy: 0.7341 - val_recall: 0.7506\n",
            "Epoch 9/100\n",
            "684/684 [==============================] - 1s 2ms/step - loss: 0.5476 - accuracy: 0.7324 - recall: 0.7877 - val_loss: 0.5450 - val_accuracy: 0.7318 - val_recall: 0.7606\n",
            "Epoch 10/100\n",
            "684/684 [==============================] - 1s 2ms/step - loss: 0.5472 - accuracy: 0.7334 - recall: 0.7864 - val_loss: 0.5453 - val_accuracy: 0.7370 - val_recall: 0.7616\n",
            "Epoch 11/100\n",
            "684/684 [==============================] - 1s 2ms/step - loss: 0.5467 - accuracy: 0.7328 - recall: 0.7932 - val_loss: 0.5458 - val_accuracy: 0.7328 - val_recall: 0.7571\n",
            "Epoch 12/100\n",
            "684/684 [==============================] - 1s 2ms/step - loss: 0.5460 - accuracy: 0.7334 - recall: 0.7944 - val_loss: 0.5452 - val_accuracy: 0.7370 - val_recall: 0.7785\n",
            "Epoch 13/100\n",
            "684/684 [==============================] - 1s 2ms/step - loss: 0.5462 - accuracy: 0.7322 - recall: 0.7929 - val_loss: 0.5436 - val_accuracy: 0.7341 - val_recall: 0.7651\n",
            "Epoch 14/100\n",
            "684/684 [==============================] - 1s 2ms/step - loss: 0.5458 - accuracy: 0.7329 - recall: 0.7919 - val_loss: 0.5437 - val_accuracy: 0.7334 - val_recall: 0.7626\n",
            "Epoch 15/100\n",
            "684/684 [==============================] - 1s 2ms/step - loss: 0.5451 - accuracy: 0.7332 - recall: 0.7947 - val_loss: 0.5436 - val_accuracy: 0.7365 - val_recall: 0.7755\n",
            "Epoch 16/100\n",
            "684/684 [==============================] - 1s 2ms/step - loss: 0.5455 - accuracy: 0.7333 - recall: 0.7919 - val_loss: 0.5444 - val_accuracy: 0.7359 - val_recall: 0.7825\n",
            "Epoch 17/100\n",
            "684/684 [==============================] - 1s 2ms/step - loss: 0.5450 - accuracy: 0.7340 - recall: 0.7914 - val_loss: 0.5438 - val_accuracy: 0.7365 - val_recall: 0.7775\n",
            "Epoch 18/100\n",
            "684/684 [==============================] - 1s 2ms/step - loss: 0.5443 - accuracy: 0.7354 - recall: 0.7987 - val_loss: 0.5466 - val_accuracy: 0.7334 - val_recall: 0.7476\n",
            "Epoch 19/100\n",
            "684/684 [==============================] - 1s 2ms/step - loss: 0.5438 - accuracy: 0.7337 - recall: 0.7945 - val_loss: 0.5447 - val_accuracy: 0.7357 - val_recall: 0.7720\n",
            "Epoch 20/100\n",
            "684/684 [==============================] - 1s 2ms/step - loss: 0.5441 - accuracy: 0.7336 - recall: 0.7970 - val_loss: 0.5435 - val_accuracy: 0.7344 - val_recall: 0.7690\n",
            "Epoch 21/100\n",
            "684/684 [==============================] - 1s 2ms/step - loss: 0.5438 - accuracy: 0.7348 - recall: 0.8023 - val_loss: 0.5424 - val_accuracy: 0.7352 - val_recall: 0.7725\n",
            "Epoch 22/100\n",
            "684/684 [==============================] - 1s 2ms/step - loss: 0.5435 - accuracy: 0.7346 - recall: 0.7931 - val_loss: 0.5423 - val_accuracy: 0.7352 - val_recall: 0.7601\n",
            "Epoch 23/100\n",
            "684/684 [==============================] - 1s 2ms/step - loss: 0.5429 - accuracy: 0.7346 - recall: 0.7959 - val_loss: 0.5464 - val_accuracy: 0.7328 - val_recall: 0.7422\n",
            "Epoch 24/100\n",
            "684/684 [==============================] - 1s 2ms/step - loss: 0.5431 - accuracy: 0.7344 - recall: 0.7892 - val_loss: 0.5432 - val_accuracy: 0.7354 - val_recall: 0.7651\n",
            "Epoch 25/100\n",
            "684/684 [==============================] - 1s 2ms/step - loss: 0.5428 - accuracy: 0.7352 - recall: 0.7896 - val_loss: 0.5426 - val_accuracy: 0.7341 - val_recall: 0.7675\n",
            "Epoch 26/100\n",
            "684/684 [==============================] - 1s 2ms/step - loss: 0.5427 - accuracy: 0.7353 - recall: 0.7943 - val_loss: 0.5437 - val_accuracy: 0.7370 - val_recall: 0.7631\n",
            "Epoch 27/100\n",
            "684/684 [==============================] - 1s 2ms/step - loss: 0.5418 - accuracy: 0.7353 - recall: 0.7918 - val_loss: 0.5455 - val_accuracy: 0.7336 - val_recall: 0.7571\n",
            "Epoch 28/100\n",
            "684/684 [==============================] - 1s 2ms/step - loss: 0.5418 - accuracy: 0.7357 - recall: 0.7934 - val_loss: 0.5437 - val_accuracy: 0.7367 - val_recall: 0.7646\n",
            "Epoch 29/100\n",
            "684/684 [==============================] - 1s 2ms/step - loss: 0.5416 - accuracy: 0.7355 - recall: 0.7896 - val_loss: 0.5448 - val_accuracy: 0.7346 - val_recall: 0.7581\n",
            "Epoch 30/100\n",
            "684/684 [==============================] - 1s 2ms/step - loss: 0.5417 - accuracy: 0.7353 - recall: 0.7904 - val_loss: 0.5427 - val_accuracy: 0.7344 - val_recall: 0.7651\n",
            "Epoch 31/100\n",
            "684/684 [==============================] - 1s 2ms/step - loss: 0.5412 - accuracy: 0.7361 - recall: 0.7931 - val_loss: 0.5444 - val_accuracy: 0.7328 - val_recall: 0.7392\n",
            "Epoch 32/100\n",
            "684/684 [==============================] - 1s 2ms/step - loss: 0.5415 - accuracy: 0.7358 - recall: 0.7919 - val_loss: 0.5443 - val_accuracy: 0.7362 - val_recall: 0.7491\n",
            "Epoch 33/100\n",
            "684/684 [==============================] - 1s 2ms/step - loss: 0.5410 - accuracy: 0.7367 - recall: 0.7922 - val_loss: 0.5446 - val_accuracy: 0.7354 - val_recall: 0.7606\n",
            "Epoch 34/100\n",
            "684/684 [==============================] - 1s 2ms/step - loss: 0.5410 - accuracy: 0.7341 - recall: 0.7925 - val_loss: 0.5430 - val_accuracy: 0.7367 - val_recall: 0.7685\n",
            "Epoch 35/100\n",
            "684/684 [==============================] - 1s 2ms/step - loss: 0.5410 - accuracy: 0.7362 - recall: 0.7931 - val_loss: 0.5442 - val_accuracy: 0.7352 - val_recall: 0.7616\n",
            "Epoch 36/100\n",
            "684/684 [==============================] - 1s 2ms/step - loss: 0.5402 - accuracy: 0.7357 - recall: 0.7913 - val_loss: 0.5420 - val_accuracy: 0.7357 - val_recall: 0.7656\n",
            "Epoch 37/100\n",
            "684/684 [==============================] - 1s 2ms/step - loss: 0.5400 - accuracy: 0.7364 - recall: 0.7934 - val_loss: 0.5449 - val_accuracy: 0.7370 - val_recall: 0.7680\n",
            "Epoch 38/100\n",
            "684/684 [==============================] - 1s 2ms/step - loss: 0.5402 - accuracy: 0.7367 - recall: 0.7958 - val_loss: 0.5445 - val_accuracy: 0.7346 - val_recall: 0.7606\n",
            "Epoch 39/100\n",
            "684/684 [==============================] - 1s 2ms/step - loss: 0.5401 - accuracy: 0.7374 - recall: 0.8010 - val_loss: 0.5452 - val_accuracy: 0.7323 - val_recall: 0.7710\n",
            "Epoch 40/100\n",
            "684/684 [==============================] - 1s 2ms/step - loss: 0.5402 - accuracy: 0.7371 - recall: 0.7983 - val_loss: 0.5431 - val_accuracy: 0.7354 - val_recall: 0.7745\n",
            "Epoch 41/100\n",
            "684/684 [==============================] - 1s 2ms/step - loss: 0.5395 - accuracy: 0.7368 - recall: 0.7961 - val_loss: 0.5435 - val_accuracy: 0.7352 - val_recall: 0.7670\n",
            "Epoch 42/100\n",
            "684/684 [==============================] - 1s 2ms/step - loss: 0.5397 - accuracy: 0.7368 - recall: 0.7985 - val_loss: 0.5439 - val_accuracy: 0.7391 - val_recall: 0.7820\n",
            "Epoch 43/100\n",
            "684/684 [==============================] - 1s 2ms/step - loss: 0.5393 - accuracy: 0.7360 - recall: 0.7967 - val_loss: 0.5435 - val_accuracy: 0.7367 - val_recall: 0.7904\n",
            "Epoch 44/100\n",
            "684/684 [==============================] - 1s 2ms/step - loss: 0.5398 - accuracy: 0.7366 - recall: 0.8024 - val_loss: 0.5428 - val_accuracy: 0.7359 - val_recall: 0.7755\n",
            "Epoch 45/100\n",
            "684/684 [==============================] - 1s 2ms/step - loss: 0.5386 - accuracy: 0.7357 - recall: 0.7977 - val_loss: 0.5436 - val_accuracy: 0.7357 - val_recall: 0.7929\n",
            "Epoch 46/100\n",
            "684/684 [==============================] - 1s 2ms/step - loss: 0.5388 - accuracy: 0.7375 - recall: 0.8045 - val_loss: 0.5451 - val_accuracy: 0.7305 - val_recall: 0.7885\n",
            "Epoch 47/100\n",
            "684/684 [==============================] - 1s 2ms/step - loss: 0.5387 - accuracy: 0.7367 - recall: 0.8065 - val_loss: 0.5447 - val_accuracy: 0.7321 - val_recall: 0.7934\n",
            "Epoch 48/100\n",
            "684/684 [==============================] - 1s 2ms/step - loss: 0.5390 - accuracy: 0.7367 - recall: 0.8060 - val_loss: 0.5466 - val_accuracy: 0.7331 - val_recall: 0.7626\n",
            "Epoch 49/100\n",
            "684/684 [==============================] - 1s 2ms/step - loss: 0.5389 - accuracy: 0.7374 - recall: 0.7988 - val_loss: 0.5445 - val_accuracy: 0.7357 - val_recall: 0.7760\n",
            "Epoch 50/100\n",
            "684/684 [==============================] - 1s 2ms/step - loss: 0.5385 - accuracy: 0.7367 - recall: 0.8020 - val_loss: 0.5452 - val_accuracy: 0.7365 - val_recall: 0.7800\n",
            "Epoch 51/100\n",
            "684/684 [==============================] - 1s 2ms/step - loss: 0.5385 - accuracy: 0.7371 - recall: 0.7996 - val_loss: 0.5469 - val_accuracy: 0.7359 - val_recall: 0.7740\n",
            "Epoch 52/100\n",
            "684/684 [==============================] - 1s 2ms/step - loss: 0.5386 - accuracy: 0.7377 - recall: 0.8039 - val_loss: 0.5457 - val_accuracy: 0.7365 - val_recall: 0.7800\n",
            "Epoch 53/100\n",
            "684/684 [==============================] - 1s 2ms/step - loss: 0.5385 - accuracy: 0.7372 - recall: 0.8009 - val_loss: 0.5463 - val_accuracy: 0.7349 - val_recall: 0.7760\n",
            "Epoch 54/100\n",
            "684/684 [==============================] - 1s 2ms/step - loss: 0.5383 - accuracy: 0.7374 - recall: 0.8064 - val_loss: 0.5442 - val_accuracy: 0.7354 - val_recall: 0.7720\n",
            "Epoch 55/100\n",
            "684/684 [==============================] - 1s 2ms/step - loss: 0.5380 - accuracy: 0.7373 - recall: 0.8009 - val_loss: 0.5471 - val_accuracy: 0.7349 - val_recall: 0.7770\n",
            "Epoch 56/100\n",
            "684/684 [==============================] - 1s 2ms/step - loss: 0.5382 - accuracy: 0.7372 - recall: 0.8032 - val_loss: 0.5457 - val_accuracy: 0.7359 - val_recall: 0.7705\n",
            "Epoch 57/100\n",
            "684/684 [==============================] - 1s 2ms/step - loss: 0.5382 - accuracy: 0.7372 - recall: 0.7993 - val_loss: 0.5448 - val_accuracy: 0.7334 - val_recall: 0.7670\n",
            "Epoch 58/100\n",
            "684/684 [==============================] - 1s 2ms/step - loss: 0.5380 - accuracy: 0.7374 - recall: 0.8015 - val_loss: 0.5432 - val_accuracy: 0.7354 - val_recall: 0.7830\n",
            "Epoch 59/100\n",
            "684/684 [==============================] - 1s 2ms/step - loss: 0.5376 - accuracy: 0.7376 - recall: 0.8104 - val_loss: 0.5460 - val_accuracy: 0.7362 - val_recall: 0.7740\n",
            "Epoch 60/100\n",
            "684/684 [==============================] - 1s 2ms/step - loss: 0.5377 - accuracy: 0.7374 - recall: 0.8044 - val_loss: 0.5464 - val_accuracy: 0.7365 - val_recall: 0.7740\n",
            "Epoch 61/100\n",
            "684/684 [==============================] - 1s 2ms/step - loss: 0.5376 - accuracy: 0.7372 - recall: 0.8038 - val_loss: 0.5428 - val_accuracy: 0.7359 - val_recall: 0.7775\n",
            "Epoch 62/100\n",
            "684/684 [==============================] - 1s 2ms/step - loss: 0.5374 - accuracy: 0.7362 - recall: 0.8051 - val_loss: 0.5449 - val_accuracy: 0.7362 - val_recall: 0.7740\n",
            "Epoch 63/100\n",
            "684/684 [==============================] - 1s 2ms/step - loss: 0.5373 - accuracy: 0.7378 - recall: 0.8049 - val_loss: 0.5450 - val_accuracy: 0.7365 - val_recall: 0.7820\n",
            "Epoch 64/100\n",
            "684/684 [==============================] - 1s 2ms/step - loss: 0.5376 - accuracy: 0.7383 - recall: 0.8061 - val_loss: 0.5451 - val_accuracy: 0.7365 - val_recall: 0.7700\n",
            "Epoch 65/100\n",
            "684/684 [==============================] - 1s 2ms/step - loss: 0.5374 - accuracy: 0.7362 - recall: 0.8032 - val_loss: 0.5461 - val_accuracy: 0.7346 - val_recall: 0.7705\n",
            "Epoch 66/100\n",
            "684/684 [==============================] - 1s 2ms/step - loss: 0.5371 - accuracy: 0.7386 - recall: 0.8120 - val_loss: 0.5469 - val_accuracy: 0.7328 - val_recall: 0.7636\n",
            "Epoch 67/100\n",
            "684/684 [==============================] - 1s 2ms/step - loss: 0.5366 - accuracy: 0.7378 - recall: 0.8052 - val_loss: 0.5480 - val_accuracy: 0.7357 - val_recall: 0.7705\n",
            "Epoch 68/100\n",
            "684/684 [==============================] - 1s 2ms/step - loss: 0.5365 - accuracy: 0.7381 - recall: 0.8048 - val_loss: 0.5482 - val_accuracy: 0.7357 - val_recall: 0.7670\n",
            "Epoch 69/100\n",
            "684/684 [==============================] - 1s 2ms/step - loss: 0.5372 - accuracy: 0.7377 - recall: 0.8046 - val_loss: 0.5475 - val_accuracy: 0.7346 - val_recall: 0.7735\n",
            "Epoch 70/100\n",
            "684/684 [==============================] - 1s 2ms/step - loss: 0.5369 - accuracy: 0.7379 - recall: 0.8053 - val_loss: 0.5474 - val_accuracy: 0.7362 - val_recall: 0.7710\n",
            "Epoch 71/100\n",
            "684/684 [==============================] - 1s 2ms/step - loss: 0.5359 - accuracy: 0.7382 - recall: 0.8053 - val_loss: 0.5479 - val_accuracy: 0.7336 - val_recall: 0.7656\n",
            "Epoch 72/100\n",
            "684/684 [==============================] - 1s 2ms/step - loss: 0.5364 - accuracy: 0.7389 - recall: 0.8005 - val_loss: 0.5461 - val_accuracy: 0.7362 - val_recall: 0.7710\n",
            "Epoch 73/100\n",
            "684/684 [==============================] - 1s 2ms/step - loss: 0.5363 - accuracy: 0.7378 - recall: 0.8024 - val_loss: 0.5481 - val_accuracy: 0.7346 - val_recall: 0.7745\n",
            "Epoch 74/100\n",
            "684/684 [==============================] - 1s 2ms/step - loss: 0.5369 - accuracy: 0.7384 - recall: 0.8031 - val_loss: 0.5476 - val_accuracy: 0.7344 - val_recall: 0.7705\n",
            "Epoch 75/100\n",
            "684/684 [==============================] - 1s 2ms/step - loss: 0.5361 - accuracy: 0.7392 - recall: 0.8037 - val_loss: 0.5482 - val_accuracy: 0.7354 - val_recall: 0.7735\n",
            "Epoch 76/100\n",
            "684/684 [==============================] - 1s 2ms/step - loss: 0.5362 - accuracy: 0.7380 - recall: 0.8023 - val_loss: 0.5471 - val_accuracy: 0.7341 - val_recall: 0.7651\n",
            "Epoch 77/100\n",
            "684/684 [==============================] - 1s 2ms/step - loss: 0.5360 - accuracy: 0.7382 - recall: 0.8037 - val_loss: 0.5474 - val_accuracy: 0.7362 - val_recall: 0.7770\n",
            "Epoch 78/100\n",
            "684/684 [==============================] - 1s 2ms/step - loss: 0.5362 - accuracy: 0.7384 - recall: 0.8035 - val_loss: 0.5454 - val_accuracy: 0.7352 - val_recall: 0.7730\n",
            "Epoch 79/100\n",
            "684/684 [==============================] - 1s 2ms/step - loss: 0.5360 - accuracy: 0.7390 - recall: 0.8031 - val_loss: 0.5480 - val_accuracy: 0.7357 - val_recall: 0.7755\n",
            "Epoch 80/100\n",
            "684/684 [==============================] - 1s 2ms/step - loss: 0.5361 - accuracy: 0.7384 - recall: 0.8027 - val_loss: 0.5472 - val_accuracy: 0.7349 - val_recall: 0.7730\n",
            "Epoch 81/100\n",
            "684/684 [==============================] - 1s 2ms/step - loss: 0.5359 - accuracy: 0.7381 - recall: 0.8027 - val_loss: 0.5501 - val_accuracy: 0.7344 - val_recall: 0.7725\n",
            "Epoch 82/100\n",
            "684/684 [==============================] - 1s 2ms/step - loss: 0.5362 - accuracy: 0.7399 - recall: 0.8009 - val_loss: 0.5467 - val_accuracy: 0.7359 - val_recall: 0.7805\n",
            "Epoch 83/100\n",
            "684/684 [==============================] - 1s 2ms/step - loss: 0.5358 - accuracy: 0.7377 - recall: 0.8056 - val_loss: 0.5457 - val_accuracy: 0.7365 - val_recall: 0.7720\n",
            "Epoch 84/100\n",
            "684/684 [==============================] - 1s 2ms/step - loss: 0.5355 - accuracy: 0.7387 - recall: 0.8055 - val_loss: 0.5478 - val_accuracy: 0.7365 - val_recall: 0.7720\n",
            "Epoch 85/100\n",
            "684/684 [==============================] - 1s 2ms/step - loss: 0.5360 - accuracy: 0.7384 - recall: 0.8032 - val_loss: 0.5459 - val_accuracy: 0.7367 - val_recall: 0.7740\n",
            "Epoch 86/100\n",
            "684/684 [==============================] - 1s 2ms/step - loss: 0.5357 - accuracy: 0.7383 - recall: 0.8029 - val_loss: 0.5475 - val_accuracy: 0.7344 - val_recall: 0.7680\n",
            "Epoch 87/100\n",
            "684/684 [==============================] - 1s 2ms/step - loss: 0.5355 - accuracy: 0.7385 - recall: 0.8009 - val_loss: 0.5543 - val_accuracy: 0.7372 - val_recall: 0.7636\n",
            "Epoch 88/100\n",
            "684/684 [==============================] - 1s 2ms/step - loss: 0.5356 - accuracy: 0.7389 - recall: 0.8025 - val_loss: 0.5470 - val_accuracy: 0.7346 - val_recall: 0.7785\n",
            "Epoch 89/100\n",
            "684/684 [==============================] - 1s 2ms/step - loss: 0.5354 - accuracy: 0.7390 - recall: 0.8053 - val_loss: 0.5490 - val_accuracy: 0.7344 - val_recall: 0.7646\n",
            "Epoch 90/100\n",
            "684/684 [==============================] - 1s 2ms/step - loss: 0.5351 - accuracy: 0.7389 - recall: 0.8052 - val_loss: 0.5486 - val_accuracy: 0.7354 - val_recall: 0.7775\n",
            "Epoch 91/100\n",
            "684/684 [==============================] - 1s 2ms/step - loss: 0.5348 - accuracy: 0.7399 - recall: 0.8001 - val_loss: 0.5496 - val_accuracy: 0.7334 - val_recall: 0.7606\n",
            "Epoch 92/100\n",
            "684/684 [==============================] - 1s 2ms/step - loss: 0.5354 - accuracy: 0.7393 - recall: 0.8024 - val_loss: 0.5488 - val_accuracy: 0.7341 - val_recall: 0.7685\n",
            "Epoch 93/100\n",
            "684/684 [==============================] - 1s 2ms/step - loss: 0.5353 - accuracy: 0.7387 - recall: 0.7984 - val_loss: 0.5544 - val_accuracy: 0.7334 - val_recall: 0.7690\n",
            "Epoch 94/100\n",
            "684/684 [==============================] - 1s 2ms/step - loss: 0.5356 - accuracy: 0.7390 - recall: 0.8011 - val_loss: 0.5478 - val_accuracy: 0.7365 - val_recall: 0.7745\n",
            "Epoch 95/100\n",
            "684/684 [==============================] - 1s 2ms/step - loss: 0.5350 - accuracy: 0.7403 - recall: 0.8011 - val_loss: 0.5502 - val_accuracy: 0.7352 - val_recall: 0.7730\n",
            "Epoch 96/100\n",
            "684/684 [==============================] - 1s 2ms/step - loss: 0.5351 - accuracy: 0.7383 - recall: 0.7997 - val_loss: 0.5494 - val_accuracy: 0.7352 - val_recall: 0.7710\n",
            "Epoch 97/100\n",
            "684/684 [==============================] - 1s 2ms/step - loss: 0.5348 - accuracy: 0.7393 - recall: 0.8027 - val_loss: 0.5523 - val_accuracy: 0.7328 - val_recall: 0.7795\n",
            "Epoch 98/100\n",
            "684/684 [==============================] - 1s 2ms/step - loss: 0.5350 - accuracy: 0.7390 - recall: 0.8045 - val_loss: 0.5509 - val_accuracy: 0.7357 - val_recall: 0.7725\n",
            "Epoch 99/100\n",
            "684/684 [==============================] - 1s 2ms/step - loss: 0.5350 - accuracy: 0.7387 - recall: 0.8035 - val_loss: 0.5495 - val_accuracy: 0.7352 - val_recall: 0.7666\n",
            "Epoch 100/100\n",
            "684/684 [==============================] - 2s 2ms/step - loss: 0.5345 - accuracy: 0.7393 - recall: 0.8022 - val_loss: 0.5505 - val_accuracy: 0.7370 - val_recall: 0.7820\n"
          ]
        }
      ]
    },
    {
      "cell_type": "code",
      "metadata": {
        "id": "k8fYkswE1jI-",
        "colab": {
          "base_uri": "https://localhost:8080/"
        },
        "outputId": "be64c389-d56e-415d-c362-e6650455b711"
      },
      "source": [
        "# Evaluate the model using the test data\n",
        "model_loss, model_accuracy, model_Recall= nn_model.evaluate(X_test_scaled,y_test,verbose=2)\n",
        "print(f\"Loss: {model_loss}, Accuracy: {model_accuracy}\")"
      ],
      "execution_count": 20,
      "outputs": [
        {
          "output_type": "stream",
          "name": "stdout",
          "text": [
            "268/268 - 0s - loss: 0.5655 - accuracy: 0.7303 - recall: 0.7981\n",
            "Loss: 0.5654760599136353, Accuracy: 0.7302623987197876\n"
          ]
        }
      ]
    },
    {
      "cell_type": "code",
      "metadata": {
        "colab": {
          "base_uri": "https://localhost:8080/",
          "height": 376
        },
        "id": "FmNCIX7iqXi-",
        "outputId": "a250a0b2-30e4-4d42-ff3f-2f2394bce720"
      },
      "source": [
        "# Model Accuracy Graph\n",
        "plt.style.use('seaborn')\n",
        "plt.title('Accuracy')\n",
        "plt.plot(fit_model.history['accuracy'], 'tomato', label='Training Accuracy')\n",
        "plt.plot(fit_model.history['val_accuracy'], 'turquoise',label='Validation Accuracy')\n",
        "plt.xlabel('Number of Epochs')\n",
        "plt.ylabel('Loss')\n",
        "plt.legend()\n",
        "plt.show()"
      ],
      "execution_count": 26,
      "outputs": [
        {
          "output_type": "display_data",
          "data": {
            "image/png": "[encoded data removed]",
            "text/plain": [
              "<Figure size 576x396 with 1 Axes>"
            ]
          },
          "metadata": {}
        }
      ]
    },
    {
      "cell_type": "code",
      "metadata": {
        "colab": {
          "base_uri": "https://localhost:8080/",
          "height": 376
        },
        "id": "0yjZKbH6rhBW",
        "outputId": "7c0a0a4c-8339-456b-ea80-4798923ef3ab"
      },
      "source": [
        "# Model Loss Graph\n",
        "plt.style.use('seaborn')\n",
        "plt.title('Loss')\n",
        "plt.plot(fit_model.history['loss'], 'orchid', label='Training Loss')\n",
        "plt.plot(fit_model.history['val_loss'],'royalblue', label='Validation Loss')\n",
        "plt.xlabel('Number of Epochs')\n",
        "plt.ylabel('Loss')\n",
        "plt.legend()\n",
        "plt.show()"
      ],
      "execution_count": 32,
      "outputs": [
        {
          "output_type": "display_data",
          "data": {
            "image/png": "[encoded data removed]",
            "text/plain": [
              "<Figure size 576x396 with 1 Axes>"
            ]
          },
          "metadata": {}
        }
      ]
    },
    {
      "cell_type": "code",
      "metadata": {
        "id": "E9vmvJXJ1jI-",
        "colab": {
          "base_uri": "https://localhost:8080/",
          "height": 17
        },
        "outputId": "21384ea0-8487-4705-cfa3-1d0b6e76b49f"
      },
      "source": [
        "# Export our model to HDF5 file\n",
        "from google.colab import files\n",
        "\n",
        "nn_model.save('/content/Alphabet_Soup_model1.h5')\n",
        "files.download('/content/Alphabet_Soup_model1.h5')"
      ],
      "execution_count": 33,
      "outputs": [
        {
          "output_type": "display_data",
          "data": {
            "application/javascript": [
              "\n",
              "    async function download(id, filename, size) {\n",
              "      if (!google.colab.kernel.accessAllowed) {\n",
              "        return;\n",
              "      }\n",
              "      const div = document.createElement('div');\n",
              "      const label = document.createElement('label');\n",
              "      label.textContent = `Downloading \"${filename}\": `;\n",
              "      div.appendChild(label);\n",
              "      const progress = document.createElement('progress');\n",
              "      progress.max = size;\n",
              "      div.appendChild(progress);\n",
              "      document.body.appendChild(div);\n",
              "\n",
              "      const buffers = [];\n",
              "      let downloaded = 0;\n",
              "\n",
              "      const channel = await google.colab.kernel.comms.open(id);\n",
              "      // Send a message to notify the kernel that we're ready.\n",
              "      channel.send({})\n",
              "\n",
              "      for await (const message of channel.messages) {\n",
              "        // Send a message to notify the kernel that we're ready.\n",
              "        channel.send({})\n",
              "        if (message.buffers) {\n",
              "          for (const buffer of message.buffers) {\n",
              "            buffers.push(buffer);\n",
              "            downloaded += buffer.byteLength;\n",
              "            progress.value = downloaded;\n",
              "          }\n",
              "        }\n",
              "      }\n",
              "      const blob = new Blob(buffers, {type: 'application/binary'});\n",
              "      const a = document.createElement('a');\n",
              "      a.href = window.URL.createObjectURL(blob);\n",
              "      a.download = filename;\n",
              "      div.appendChild(a);\n",
              "      a.click();\n",
              "      div.remove();\n",
              "    }\n",
              "  "
            ],
            "text/plain": [
              "<IPython.core.display.Javascript object>"
            ]
          },
          "metadata": {}
        },
        {
          "output_type": "display_data",
          "data": {
            "application/javascript": [
              "download(\"download_046c6b45-e6bf-4fb5-a38e-d83c0d82d833\", \"Alphabet_Soup_model1.h5\", 103352)"
            ],
            "text/plain": [
              "<IPython.core.display.Javascript object>"
            ]
          },
          "metadata": {}
        }
      ]
    },
    {
      "cell_type": "markdown",
      "metadata": {
        "id": "It0pLk1aDD_K"
      },
      "source": [
        "# Model Evaluation 2"
      ]
    },
    {
      "cell_type": "code",
      "metadata": {
        "id": "yIqz_wAEDFo9",
        "colab": {
          "base_uri": "https://localhost:8080/"
        },
        "outputId": "ef14742e-357e-476e-dfe9-cae1f190ba7b"
      },
      "source": [
        "# Define the model - deep neural net, i.e., the number of input features and hidden nodes for each layer.\n",
        "number_input_features = len( X_train_scaled[0])\n",
        "hidden_nodes_layer1=1450\n",
        "hidden_nodes_layer2=80\n",
        "\n",
        "nn_model = tf.keras.models.Sequential()\n",
        "\n",
        "# First hidden layer\n",
        "nn_model.add(tf.keras.layers.Dense(units=hidden_nodes_layer1, input_dim=number_input_features, activation='relu'))\n",
        "\n",
        "# Second hidden layer\n",
        "nn_model.add(tf.keras.layers.Dense(units=hidden_nodes_layer2, activation='relu'))\n",
        "\n",
        "# Output layer\n",
        "nn_model.add(tf.keras.layers.Dense(units=1, activation='sigmoid'))\n",
        "\n",
        "# Check the structure of the model\n",
        "nn_model.summary()"
      ],
      "execution_count": 34,
      "outputs": [
        {
          "output_type": "stream",
          "name": "stdout",
          "text": [
            "Model: \"sequential_1\"\n",
            "_________________________________________________________________\n",
            "Layer (type)                 Output Shape              Param #   \n",
            "=================================================================\n",
            "dense_3 (Dense)              (None, 1450)              63800     \n",
            "_________________________________________________________________\n",
            "dense_4 (Dense)              (None, 80)                116080    \n",
            "_________________________________________________________________\n",
            "dense_5 (Dense)              (None, 1)                 81        \n",
            "=================================================================\n",
            "Total params: 179,961\n",
            "Trainable params: 179,961\n",
            "Non-trainable params: 0\n",
            "_________________________________________________________________\n"
          ]
        }
      ]
    },
    {
      "cell_type": "code",
      "metadata": {
        "id": "M9zqjrf8DRDm"
      },
      "source": [
        "# Compile the model\n",
        "nn_model.compile(loss = 'binary_crossentropy', optimizer = 'adam', metrics=['accuracy', tf.keras.metrics.Recall()])"
      ],
      "execution_count": 35,
      "outputs": []
    },
    {
      "cell_type": "code",
      "metadata": {
        "id": "tIC2jHSoDRnj",
        "colab": {
          "base_uri": "https://localhost:8080/"
        },
        "outputId": "469ce3e1-09db-4490-838d-8f09d7d4c752"
      },
      "source": [
        "fit_model = nn_model.fit(X_train_scaled,y_train,validation_split=0.15, epochs=100)"
      ],
      "execution_count": 36,
      "outputs": [
        {
          "output_type": "stream",
          "name": "stdout",
          "text": [
            "Epoch 1/100\n",
            "684/684 [==============================] - 4s 5ms/step - loss: 0.5674 - accuracy: 0.7221 - recall_1: 0.7832 - val_loss: 0.5550 - val_accuracy: 0.7359 - val_recall_1: 0.7700\n",
            "Epoch 2/100\n",
            "684/684 [==============================] - 3s 4ms/step - loss: 0.5590 - accuracy: 0.7296 - recall_1: 0.7866 - val_loss: 0.5613 - val_accuracy: 0.7284 - val_recall_1: 0.7785\n",
            "Epoch 3/100\n",
            "684/684 [==============================] - 3s 5ms/step - loss: 0.5539 - accuracy: 0.7307 - recall_1: 0.7907 - val_loss: 0.5480 - val_accuracy: 0.7344 - val_recall_1: 0.7596\n",
            "Epoch 4/100\n",
            "684/684 [==============================] - 3s 4ms/step - loss: 0.5533 - accuracy: 0.7312 - recall_1: 0.7892 - val_loss: 0.5555 - val_accuracy: 0.7328 - val_recall_1: 0.7675\n",
            "Epoch 5/100\n",
            "684/684 [==============================] - 3s 4ms/step - loss: 0.5521 - accuracy: 0.7307 - recall_1: 0.7952 - val_loss: 0.5469 - val_accuracy: 0.7359 - val_recall_1: 0.7924\n",
            "Epoch 6/100\n",
            "684/684 [==============================] - 3s 5ms/step - loss: 0.5506 - accuracy: 0.7318 - recall_1: 0.7993 - val_loss: 0.5490 - val_accuracy: 0.7344 - val_recall_1: 0.7536\n",
            "Epoch 7/100\n",
            "684/684 [==============================] - 3s 5ms/step - loss: 0.5489 - accuracy: 0.7303 - recall_1: 0.7999 - val_loss: 0.5475 - val_accuracy: 0.7370 - val_recall_1: 0.7825\n",
            "Epoch 8/100\n",
            "684/684 [==============================] - 3s 4ms/step - loss: 0.5491 - accuracy: 0.7312 - recall_1: 0.8012 - val_loss: 0.5465 - val_accuracy: 0.7352 - val_recall_1: 0.7810\n",
            "Epoch 9/100\n",
            "684/684 [==============================] - 3s 4ms/step - loss: 0.5483 - accuracy: 0.7324 - recall_1: 0.8013 - val_loss: 0.5485 - val_accuracy: 0.7367 - val_recall_1: 0.7855\n",
            "Epoch 10/100\n",
            "684/684 [==============================] - 3s 4ms/step - loss: 0.5485 - accuracy: 0.7319 - recall_1: 0.8027 - val_loss: 0.5456 - val_accuracy: 0.7365 - val_recall_1: 0.7546\n",
            "Epoch 11/100\n",
            "684/684 [==============================] - 3s 4ms/step - loss: 0.5474 - accuracy: 0.7332 - recall_1: 0.7985 - val_loss: 0.5439 - val_accuracy: 0.7370 - val_recall_1: 0.7855\n",
            "Epoch 12/100\n",
            "684/684 [==============================] - 3s 5ms/step - loss: 0.5470 - accuracy: 0.7333 - recall_1: 0.8021 - val_loss: 0.5468 - val_accuracy: 0.7365 - val_recall_1: 0.7795\n",
            "Epoch 13/100\n",
            "684/684 [==============================] - 3s 4ms/step - loss: 0.5457 - accuracy: 0.7345 - recall_1: 0.8022 - val_loss: 0.5499 - val_accuracy: 0.7359 - val_recall_1: 0.7685\n",
            "Epoch 14/100\n",
            "684/684 [==============================] - 3s 4ms/step - loss: 0.5458 - accuracy: 0.7337 - recall_1: 0.8018 - val_loss: 0.5450 - val_accuracy: 0.7362 - val_recall_1: 0.7880\n",
            "Epoch 15/100\n",
            "684/684 [==============================] - 3s 4ms/step - loss: 0.5455 - accuracy: 0.7341 - recall_1: 0.8048 - val_loss: 0.5426 - val_accuracy: 0.7354 - val_recall_1: 0.7805\n",
            "Epoch 16/100\n",
            "684/684 [==============================] - 3s 5ms/step - loss: 0.5446 - accuracy: 0.7346 - recall_1: 0.8055 - val_loss: 0.5441 - val_accuracy: 0.7352 - val_recall_1: 0.7700\n",
            "Epoch 17/100\n",
            "684/684 [==============================] - 3s 4ms/step - loss: 0.5452 - accuracy: 0.7340 - recall_1: 0.8026 - val_loss: 0.5425 - val_accuracy: 0.7349 - val_recall_1: 0.7805\n",
            "Epoch 18/100\n",
            "684/684 [==============================] - 3s 4ms/step - loss: 0.5446 - accuracy: 0.7334 - recall_1: 0.8045 - val_loss: 0.5468 - val_accuracy: 0.7365 - val_recall_1: 0.7835\n",
            "Epoch 19/100\n",
            "684/684 [==============================] - 3s 5ms/step - loss: 0.5441 - accuracy: 0.7351 - recall_1: 0.8060 - val_loss: 0.5460 - val_accuracy: 0.7359 - val_recall_1: 0.7860\n",
            "Epoch 20/100\n",
            "684/684 [==============================] - 3s 5ms/step - loss: 0.5436 - accuracy: 0.7336 - recall_1: 0.8081 - val_loss: 0.5430 - val_accuracy: 0.7354 - val_recall_1: 0.7815\n",
            "Epoch 21/100\n",
            "684/684 [==============================] - 3s 4ms/step - loss: 0.5435 - accuracy: 0.7346 - recall_1: 0.8043 - val_loss: 0.5441 - val_accuracy: 0.7370 - val_recall_1: 0.7924\n",
            "Epoch 22/100\n",
            "684/684 [==============================] - 3s 5ms/step - loss: 0.5430 - accuracy: 0.7356 - recall_1: 0.8087 - val_loss: 0.5516 - val_accuracy: 0.7357 - val_recall_1: 0.7865\n",
            "Epoch 23/100\n",
            "684/684 [==============================] - 3s 4ms/step - loss: 0.5426 - accuracy: 0.7354 - recall_1: 0.8077 - val_loss: 0.5469 - val_accuracy: 0.7344 - val_recall_1: 0.7770\n",
            "Epoch 24/100\n",
            "684/684 [==============================] - 3s 4ms/step - loss: 0.5421 - accuracy: 0.7357 - recall_1: 0.8057 - val_loss: 0.5528 - val_accuracy: 0.7367 - val_recall_1: 0.7755\n",
            "Epoch 25/100\n",
            "684/684 [==============================] - 3s 5ms/step - loss: 0.5425 - accuracy: 0.7355 - recall_1: 0.8016 - val_loss: 0.5470 - val_accuracy: 0.7365 - val_recall_1: 0.7865\n",
            "Epoch 26/100\n",
            "684/684 [==============================] - 3s 5ms/step - loss: 0.5421 - accuracy: 0.7353 - recall_1: 0.8081 - val_loss: 0.5482 - val_accuracy: 0.7354 - val_recall_1: 0.7805\n",
            "Epoch 27/100\n",
            "684/684 [==============================] - 3s 4ms/step - loss: 0.5420 - accuracy: 0.7350 - recall_1: 0.8072 - val_loss: 0.5503 - val_accuracy: 0.7370 - val_recall_1: 0.7795\n",
            "Epoch 28/100\n",
            "684/684 [==============================] - 3s 4ms/step - loss: 0.5427 - accuracy: 0.7358 - recall_1: 0.8080 - val_loss: 0.5479 - val_accuracy: 0.7354 - val_recall_1: 0.7835\n",
            "Epoch 29/100\n",
            "684/684 [==============================] - 3s 5ms/step - loss: 0.5419 - accuracy: 0.7367 - recall_1: 0.8123 - val_loss: 0.5483 - val_accuracy: 0.7346 - val_recall_1: 0.7840\n",
            "Epoch 30/100\n",
            "684/684 [==============================] - 3s 4ms/step - loss: 0.5411 - accuracy: 0.7365 - recall_1: 0.8082 - val_loss: 0.5456 - val_accuracy: 0.7372 - val_recall_1: 0.7830\n",
            "Epoch 31/100\n",
            "684/684 [==============================] - 3s 4ms/step - loss: 0.5411 - accuracy: 0.7357 - recall_1: 0.8101 - val_loss: 0.5466 - val_accuracy: 0.7391 - val_recall_1: 0.7899\n",
            "Epoch 32/100\n",
            "684/684 [==============================] - 3s 4ms/step - loss: 0.5414 - accuracy: 0.7361 - recall_1: 0.8106 - val_loss: 0.5452 - val_accuracy: 0.7367 - val_recall_1: 0.7899\n",
            "Epoch 33/100\n",
            "684/684 [==============================] - 3s 4ms/step - loss: 0.5404 - accuracy: 0.7375 - recall_1: 0.8087 - val_loss: 0.5463 - val_accuracy: 0.7375 - val_recall_1: 0.7830\n",
            "Epoch 34/100\n",
            "684/684 [==============================] - 3s 5ms/step - loss: 0.5407 - accuracy: 0.7351 - recall_1: 0.8026 - val_loss: 0.5463 - val_accuracy: 0.7411 - val_recall_1: 0.7730\n",
            "Epoch 35/100\n",
            "684/684 [==============================] - 3s 5ms/step - loss: 0.5404 - accuracy: 0.7359 - recall_1: 0.8086 - val_loss: 0.5492 - val_accuracy: 0.7354 - val_recall_1: 0.7899\n",
            "Epoch 36/100\n",
            "684/684 [==============================] - 3s 5ms/step - loss: 0.5401 - accuracy: 0.7362 - recall_1: 0.8132 - val_loss: 0.5481 - val_accuracy: 0.7391 - val_recall_1: 0.7929\n",
            "Epoch 37/100\n",
            "684/684 [==============================] - 3s 4ms/step - loss: 0.5413 - accuracy: 0.7359 - recall_1: 0.8056 - val_loss: 0.5453 - val_accuracy: 0.7380 - val_recall_1: 0.7929\n",
            "Epoch 38/100\n",
            "684/684 [==============================] - 3s 4ms/step - loss: 0.5410 - accuracy: 0.7359 - recall_1: 0.8047 - val_loss: 0.5443 - val_accuracy: 0.7362 - val_recall_1: 0.7865\n",
            "Epoch 39/100\n",
            "684/684 [==============================] - 3s 4ms/step - loss: 0.5399 - accuracy: 0.7364 - recall_1: 0.8049 - val_loss: 0.5477 - val_accuracy: 0.7385 - val_recall_1: 0.7710\n",
            "Epoch 40/100\n",
            "684/684 [==============================] - 3s 5ms/step - loss: 0.5404 - accuracy: 0.7357 - recall_1: 0.8067 - val_loss: 0.5459 - val_accuracy: 0.7380 - val_recall_1: 0.7840\n",
            "Epoch 41/100\n",
            "684/684 [==============================] - 3s 4ms/step - loss: 0.5407 - accuracy: 0.7366 - recall_1: 0.8044 - val_loss: 0.5466 - val_accuracy: 0.7383 - val_recall_1: 0.7899\n",
            "Epoch 42/100\n",
            "684/684 [==============================] - 3s 4ms/step - loss: 0.5398 - accuracy: 0.7374 - recall_1: 0.8083 - val_loss: 0.5497 - val_accuracy: 0.7344 - val_recall_1: 0.7710\n",
            "Epoch 43/100\n",
            "684/684 [==============================] - 3s 4ms/step - loss: 0.5398 - accuracy: 0.7367 - recall_1: 0.8039 - val_loss: 0.5466 - val_accuracy: 0.7385 - val_recall_1: 0.7845\n",
            "Epoch 44/100\n",
            "684/684 [==============================] - 3s 5ms/step - loss: 0.5393 - accuracy: 0.7374 - recall_1: 0.8043 - val_loss: 0.5485 - val_accuracy: 0.7380 - val_recall_1: 0.7899\n",
            "Epoch 45/100\n",
            "684/684 [==============================] - 3s 4ms/step - loss: 0.5400 - accuracy: 0.7372 - recall_1: 0.8035 - val_loss: 0.5492 - val_accuracy: 0.7362 - val_recall_1: 0.7755\n",
            "Epoch 46/100\n",
            "684/684 [==============================] - 3s 5ms/step - loss: 0.5403 - accuracy: 0.7365 - recall_1: 0.8155 - val_loss: 0.5460 - val_accuracy: 0.7378 - val_recall_1: 0.7800\n",
            "Epoch 47/100\n",
            "684/684 [==============================] - 3s 4ms/step - loss: 0.5407 - accuracy: 0.7375 - recall_1: 0.8051 - val_loss: 0.5493 - val_accuracy: 0.7372 - val_recall_1: 0.7805\n",
            "Epoch 48/100\n",
            "684/684 [==============================] - 3s 4ms/step - loss: 0.5394 - accuracy: 0.7371 - recall_1: 0.8087 - val_loss: 0.5476 - val_accuracy: 0.7367 - val_recall_1: 0.7790\n",
            "Epoch 49/100\n",
            "684/684 [==============================] - 3s 4ms/step - loss: 0.5389 - accuracy: 0.7368 - recall_1: 0.8069 - val_loss: 0.5485 - val_accuracy: 0.7362 - val_recall_1: 0.7730\n",
            "Epoch 50/100\n",
            "684/684 [==============================] - 3s 5ms/step - loss: 0.5394 - accuracy: 0.7378 - recall_1: 0.8027 - val_loss: 0.5462 - val_accuracy: 0.7378 - val_recall_1: 0.7830\n",
            "Epoch 51/100\n",
            "684/684 [==============================] - 3s 5ms/step - loss: 0.5385 - accuracy: 0.7383 - recall_1: 0.8060 - val_loss: 0.5529 - val_accuracy: 0.7362 - val_recall_1: 0.7730\n",
            "Epoch 52/100\n",
            "684/684 [==============================] - 3s 5ms/step - loss: 0.5393 - accuracy: 0.7375 - recall_1: 0.8041 - val_loss: 0.5467 - val_accuracy: 0.7375 - val_recall_1: 0.7780\n",
            "Epoch 53/100\n",
            "684/684 [==============================] - 3s 5ms/step - loss: 0.5384 - accuracy: 0.7372 - recall_1: 0.8043 - val_loss: 0.5493 - val_accuracy: 0.7375 - val_recall_1: 0.7765\n",
            "Epoch 54/100\n",
            "684/684 [==============================] - 3s 4ms/step - loss: 0.5384 - accuracy: 0.7375 - recall_1: 0.8039 - val_loss: 0.5453 - val_accuracy: 0.7385 - val_recall_1: 0.7840\n",
            "Epoch 55/100\n",
            "684/684 [==============================] - 3s 4ms/step - loss: 0.5384 - accuracy: 0.7370 - recall_1: 0.8056 - val_loss: 0.5501 - val_accuracy: 0.7367 - val_recall_1: 0.7805\n",
            "Epoch 56/100\n",
            "684/684 [==============================] - 3s 5ms/step - loss: 0.5382 - accuracy: 0.7383 - recall_1: 0.8030 - val_loss: 0.5504 - val_accuracy: 0.7372 - val_recall_1: 0.7790\n",
            "Epoch 57/100\n",
            "684/684 [==============================] - 3s 4ms/step - loss: 0.5454 - accuracy: 0.7377 - recall_1: 0.8003 - val_loss: 0.5732 - val_accuracy: 0.7383 - val_recall_1: 0.7810\n",
            "Epoch 58/100\n",
            "684/684 [==============================] - 3s 4ms/step - loss: 0.5413 - accuracy: 0.7383 - recall_1: 0.8047 - val_loss: 0.5556 - val_accuracy: 0.7362 - val_recall_1: 0.7790\n",
            "Epoch 59/100\n",
            "684/684 [==============================] - 3s 4ms/step - loss: 0.5376 - accuracy: 0.7377 - recall_1: 0.8050 - val_loss: 0.5493 - val_accuracy: 0.7378 - val_recall_1: 0.7805\n",
            "Epoch 60/100\n",
            "684/684 [==============================] - 3s 5ms/step - loss: 0.5374 - accuracy: 0.7381 - recall_1: 0.8085 - val_loss: 0.5542 - val_accuracy: 0.7359 - val_recall_1: 0.7730\n",
            "Epoch 61/100\n",
            "684/684 [==============================] - 3s 4ms/step - loss: 0.5376 - accuracy: 0.7373 - recall_1: 0.8048 - val_loss: 0.5524 - val_accuracy: 0.7388 - val_recall_1: 0.7889\n",
            "Epoch 62/100\n",
            "684/684 [==============================] - 3s 5ms/step - loss: 0.5373 - accuracy: 0.7380 - recall_1: 0.8071 - val_loss: 0.5510 - val_accuracy: 0.7391 - val_recall_1: 0.7865\n",
            "Epoch 63/100\n",
            "684/684 [==============================] - 3s 5ms/step - loss: 0.5376 - accuracy: 0.7382 - recall_1: 0.8072 - val_loss: 0.5548 - val_accuracy: 0.7375 - val_recall_1: 0.7790\n",
            "Epoch 64/100\n",
            "684/684 [==============================] - 3s 5ms/step - loss: 0.5387 - accuracy: 0.7374 - recall_1: 0.8034 - val_loss: 0.5503 - val_accuracy: 0.7367 - val_recall_1: 0.7790\n",
            "Epoch 65/100\n",
            "684/684 [==============================] - 3s 5ms/step - loss: 0.5416 - accuracy: 0.7378 - recall_1: 0.8058 - val_loss: 0.5514 - val_accuracy: 0.7378 - val_recall_1: 0.7780\n",
            "Epoch 66/100\n",
            "684/684 [==============================] - 3s 4ms/step - loss: 0.5369 - accuracy: 0.7381 - recall_1: 0.8069 - val_loss: 0.5504 - val_accuracy: 0.7385 - val_recall_1: 0.7780\n",
            "Epoch 67/100\n",
            "684/684 [==============================] - 3s 5ms/step - loss: 0.5368 - accuracy: 0.7373 - recall_1: 0.8063 - val_loss: 0.5504 - val_accuracy: 0.7388 - val_recall_1: 0.7820\n",
            "Epoch 68/100\n",
            "684/684 [==============================] - 3s 4ms/step - loss: 0.5372 - accuracy: 0.7372 - recall_1: 0.8092 - val_loss: 0.5493 - val_accuracy: 0.7385 - val_recall_1: 0.7790\n",
            "Epoch 69/100\n",
            "684/684 [==============================] - 3s 5ms/step - loss: 0.5365 - accuracy: 0.7382 - recall_1: 0.8060 - val_loss: 0.5518 - val_accuracy: 0.7380 - val_recall_1: 0.7840\n",
            "Epoch 70/100\n",
            "684/684 [==============================] - 3s 5ms/step - loss: 0.5368 - accuracy: 0.7362 - recall_1: 0.8094 - val_loss: 0.5640 - val_accuracy: 0.7375 - val_recall_1: 0.7860\n",
            "Epoch 71/100\n",
            "684/684 [==============================] - 3s 5ms/step - loss: 0.5406 - accuracy: 0.7367 - recall_1: 0.8064 - val_loss: 0.5599 - val_accuracy: 0.7372 - val_recall_1: 0.7780\n",
            "Epoch 72/100\n",
            "684/684 [==============================] - 3s 5ms/step - loss: 0.5378 - accuracy: 0.7373 - recall_1: 0.8104 - val_loss: 0.5468 - val_accuracy: 0.7380 - val_recall_1: 0.7899\n",
            "Epoch 73/100\n",
            "684/684 [==============================] - 3s 4ms/step - loss: 0.5374 - accuracy: 0.7369 - recall_1: 0.8138 - val_loss: 0.5486 - val_accuracy: 0.7391 - val_recall_1: 0.7944\n",
            "Epoch 74/100\n",
            "684/684 [==============================] - 3s 5ms/step - loss: 0.5367 - accuracy: 0.7379 - recall_1: 0.8159 - val_loss: 0.5503 - val_accuracy: 0.7372 - val_recall_1: 0.7934\n",
            "Epoch 75/100\n",
            "684/684 [==============================] - 3s 5ms/step - loss: 0.5365 - accuracy: 0.7376 - recall_1: 0.8157 - val_loss: 0.5554 - val_accuracy: 0.7383 - val_recall_1: 0.7974\n",
            "Epoch 76/100\n",
            "684/684 [==============================] - 3s 5ms/step - loss: 0.5369 - accuracy: 0.7370 - recall_1: 0.8175 - val_loss: 0.5507 - val_accuracy: 0.7378 - val_recall_1: 0.7919\n",
            "Epoch 77/100\n",
            "684/684 [==============================] - 3s 5ms/step - loss: 0.5368 - accuracy: 0.7369 - recall_1: 0.8145 - val_loss: 0.5535 - val_accuracy: 0.7388 - val_recall_1: 0.7944\n",
            "Epoch 78/100\n",
            "684/684 [==============================] - 3s 4ms/step - loss: 0.5372 - accuracy: 0.7369 - recall_1: 0.8184 - val_loss: 0.5495 - val_accuracy: 0.7391 - val_recall_1: 0.7919\n",
            "Epoch 79/100\n",
            "684/684 [==============================] - 3s 5ms/step - loss: 0.5361 - accuracy: 0.7373 - recall_1: 0.8179 - val_loss: 0.5519 - val_accuracy: 0.7383 - val_recall_1: 0.7944\n",
            "Epoch 80/100\n",
            "684/684 [==============================] - 3s 5ms/step - loss: 0.5371 - accuracy: 0.7377 - recall_1: 0.8185 - val_loss: 0.5544 - val_accuracy: 0.7372 - val_recall_1: 0.7924\n",
            "Epoch 81/100\n",
            "684/684 [==============================] - 3s 5ms/step - loss: 0.5371 - accuracy: 0.7368 - recall_1: 0.8121 - val_loss: 0.5514 - val_accuracy: 0.7380 - val_recall_1: 0.7944\n",
            "Epoch 82/100\n",
            "684/684 [==============================] - 3s 5ms/step - loss: 0.5405 - accuracy: 0.7380 - recall_1: 0.8147 - val_loss: 0.5545 - val_accuracy: 0.7372 - val_recall_1: 0.7855\n",
            "Epoch 83/100\n",
            "684/684 [==============================] - 3s 5ms/step - loss: 0.5363 - accuracy: 0.7372 - recall_1: 0.8119 - val_loss: 0.5516 - val_accuracy: 0.7385 - val_recall_1: 0.7959\n",
            "Epoch 84/100\n",
            "684/684 [==============================] - 3s 5ms/step - loss: 0.5363 - accuracy: 0.7374 - recall_1: 0.8123 - val_loss: 0.5533 - val_accuracy: 0.7393 - val_recall_1: 0.7929\n",
            "Epoch 85/100\n",
            "684/684 [==============================] - 3s 5ms/step - loss: 0.5364 - accuracy: 0.7376 - recall_1: 0.8103 - val_loss: 0.5571 - val_accuracy: 0.7372 - val_recall_1: 0.7730\n",
            "Epoch 86/100\n",
            "684/684 [==============================] - 3s 5ms/step - loss: 0.5358 - accuracy: 0.7378 - recall_1: 0.8123 - val_loss: 0.5523 - val_accuracy: 0.7380 - val_recall_1: 0.7850\n",
            "Epoch 87/100\n",
            "684/684 [==============================] - 3s 5ms/step - loss: 0.5363 - accuracy: 0.7374 - recall_1: 0.8154 - val_loss: 0.5558 - val_accuracy: 0.7362 - val_recall_1: 0.7934\n",
            "Epoch 88/100\n",
            "684/684 [==============================] - 3s 5ms/step - loss: 0.5360 - accuracy: 0.7370 - recall_1: 0.8163 - val_loss: 0.5522 - val_accuracy: 0.7385 - val_recall_1: 0.7924\n",
            "Epoch 89/100\n",
            "684/684 [==============================] - 3s 5ms/step - loss: 0.5362 - accuracy: 0.7369 - recall_1: 0.8140 - val_loss: 0.5541 - val_accuracy: 0.7380 - val_recall_1: 0.7909\n",
            "Epoch 90/100\n",
            "684/684 [==============================] - 3s 4ms/step - loss: 0.5356 - accuracy: 0.7382 - recall_1: 0.8168 - val_loss: 0.5606 - val_accuracy: 0.7383 - val_recall_1: 0.7919\n",
            "Epoch 91/100\n",
            "684/684 [==============================] - 3s 5ms/step - loss: 0.5363 - accuracy: 0.7376 - recall_1: 0.8159 - val_loss: 0.5605 - val_accuracy: 0.7372 - val_recall_1: 0.7909\n",
            "Epoch 92/100\n",
            "684/684 [==============================] - 3s 5ms/step - loss: 0.5396 - accuracy: 0.7379 - recall_1: 0.8147 - val_loss: 0.5779 - val_accuracy: 0.7380 - val_recall_1: 0.7959\n",
            "Epoch 93/100\n",
            "684/684 [==============================] - 3s 4ms/step - loss: 0.5384 - accuracy: 0.7376 - recall_1: 0.8171 - val_loss: 0.5534 - val_accuracy: 0.7357 - val_recall_1: 0.7885\n",
            "Epoch 94/100\n",
            "684/684 [==============================] - 3s 5ms/step - loss: 0.5364 - accuracy: 0.7372 - recall_1: 0.8163 - val_loss: 0.5541 - val_accuracy: 0.7375 - val_recall_1: 0.7949\n",
            "Epoch 95/100\n",
            "684/684 [==============================] - 3s 5ms/step - loss: 0.5357 - accuracy: 0.7368 - recall_1: 0.8163 - val_loss: 0.5545 - val_accuracy: 0.7378 - val_recall_1: 0.7929\n",
            "Epoch 96/100\n",
            "684/684 [==============================] - 3s 5ms/step - loss: 0.5353 - accuracy: 0.7372 - recall_1: 0.8175 - val_loss: 0.5556 - val_accuracy: 0.7396 - val_recall_1: 0.7954\n",
            "Epoch 97/100\n",
            "684/684 [==============================] - 3s 5ms/step - loss: 0.5351 - accuracy: 0.7371 - recall_1: 0.8159 - val_loss: 0.5714 - val_accuracy: 0.7372 - val_recall_1: 0.7934\n",
            "Epoch 98/100\n",
            "684/684 [==============================] - 3s 5ms/step - loss: 0.5364 - accuracy: 0.7378 - recall_1: 0.8147 - val_loss: 0.5569 - val_accuracy: 0.7380 - val_recall_1: 0.7939\n",
            "Epoch 99/100\n",
            "684/684 [==============================] - 3s 5ms/step - loss: 0.5348 - accuracy: 0.7379 - recall_1: 0.8111 - val_loss: 0.5546 - val_accuracy: 0.7378 - val_recall_1: 0.7959\n",
            "Epoch 100/100\n",
            "684/684 [==============================] - 3s 5ms/step - loss: 0.5350 - accuracy: 0.7389 - recall_1: 0.8173 - val_loss: 0.5556 - val_accuracy: 0.7375 - val_recall_1: 0.7904\n"
          ]
        }
      ]
    },
    {
      "cell_type": "code",
      "metadata": {
        "id": "ASt0xBh9DVYZ",
        "colab": {
          "base_uri": "https://localhost:8080/"
        },
        "outputId": "4d3d9339-3f84-4a48-cb4d-5c56b1c6fd1f"
      },
      "source": [
        "# Evaluate the model using the test data\n",
        "model_loss, model_accuracy, model_Recall= nn_model.evaluate(X_test_scaled,y_test,verbose=2)\n",
        "print(f\"Loss: {model_loss}, Accuracy: {model_accuracy}\")"
      ],
      "execution_count": 37,
      "outputs": [
        {
          "output_type": "stream",
          "name": "stdout",
          "text": [
            "268/268 - 0s - loss: 0.5722 - accuracy: 0.7293 - recall_1: 0.8014\n",
            "Loss: 0.5721665620803833, Accuracy: 0.7293294668197632\n"
          ]
        }
      ]
    },
    {
      "cell_type": "code",
      "metadata": {
        "colab": {
          "base_uri": "https://localhost:8080/",
          "height": 376
        },
        "id": "fVZwcsPvsC0O",
        "outputId": "0fc3faed-b3eb-4144-bfd1-58655b7006df"
      },
      "source": [
        "# Model Accuracy Graph\n",
        "plt.style.use('seaborn')\n",
        "plt.title('Accuracy')\n",
        "plt.plot(fit_model.history['accuracy'], 'tomato', label='Training Accuracy')\n",
        "plt.plot(fit_model.history['val_accuracy'], 'turquoise',label='Validation Accuracy')\n",
        "plt.xlabel('Number of Epochs')\n",
        "plt.ylabel('Loss')\n",
        "plt.legend()\n",
        "plt.show()"
      ],
      "execution_count": 38,
      "outputs": [
        {
          "output_type": "display_data",
          "data": {
            "image/png": "[encoded data removed]",
            "text/plain": [
              "<Figure size 576x396 with 1 Axes>"
            ]
          },
          "metadata": {}
        }
      ]
    },
    {
      "cell_type": "code",
      "metadata": {
        "colab": {
          "base_uri": "https://localhost:8080/",
          "height": 376
        },
        "id": "88zMXnfysDIU",
        "outputId": "003965aa-0a21-47b0-ee80-139a62cff50e"
      },
      "source": [
        "# Model Loss Graph\n",
        "plt.style.use('seaborn')\n",
        "plt.title('Loss')\n",
        "plt.plot(fit_model.history['loss'], 'orchid', label='Training Loss')\n",
        "plt.plot(fit_model.history['val_loss'],'royalblue', label='Validation Loss')\n",
        "plt.xlabel('Number of Epochs')\n",
        "plt.ylabel('Loss')\n",
        "plt.legend()\n",
        "plt.show()"
      ],
      "execution_count": 39,
      "outputs": [
        {
          "output_type": "display_data",
          "data": {
            "image/png": "[encoded data removed]",
            "text/plain": [
              "<Figure size 576x396 with 1 Axes>"
            ]
          },
          "metadata": {}
        }
      ]
    },
    {
      "cell_type": "code",
      "metadata": {
        "colab": {
          "base_uri": "https://localhost:8080/",
          "height": 17
        },
        "id": "xfhvaC3wsNpW",
        "outputId": "f16e7ab2-b328-44af-e346-0f2beee52275"
      },
      "source": [
        "# Export our model to HDF5 file\n",
        "from google.colab import files\n",
        "\n",
        "nn_model.save('/content/Alphabet_Soup_model2.h5')\n",
        "files.download('/content/Alphabet_Soup_model2.h5')"
      ],
      "execution_count": 40,
      "outputs": [
        {
          "output_type": "display_data",
          "data": {
            "application/javascript": [
              "\n",
              "    async function download(id, filename, size) {\n",
              "      if (!google.colab.kernel.accessAllowed) {\n",
              "        return;\n",
              "      }\n",
              "      const div = document.createElement('div');\n",
              "      const label = document.createElement('label');\n",
              "      label.textContent = `Downloading \"${filename}\": `;\n",
              "      div.appendChild(label);\n",
              "      const progress = document.createElement('progress');\n",
              "      progress.max = size;\n",
              "      div.appendChild(progress);\n",
              "      document.body.appendChild(div);\n",
              "\n",
              "      const buffers = [];\n",
              "      let downloaded = 0;\n",
              "\n",
              "      const channel = await google.colab.kernel.comms.open(id);\n",
              "      // Send a message to notify the kernel that we're ready.\n",
              "      channel.send({})\n",
              "\n",
              "      for await (const message of channel.messages) {\n",
              "        // Send a message to notify the kernel that we're ready.\n",
              "        channel.send({})\n",
              "        if (message.buffers) {\n",
              "          for (const buffer of message.buffers) {\n",
              "            buffers.push(buffer);\n",
              "            downloaded += buffer.byteLength;\n",
              "            progress.value = downloaded;\n",
              "          }\n",
              "        }\n",
              "      }\n",
              "      const blob = new Blob(buffers, {type: 'application/binary'});\n",
              "      const a = document.createElement('a');\n",
              "      a.href = window.URL.createObjectURL(blob);\n",
              "      a.download = filename;\n",
              "      div.appendChild(a);\n",
              "      a.click();\n",
              "      div.remove();\n",
              "    }\n",
              "  "
            ],
            "text/plain": [
              "<IPython.core.display.Javascript object>"
            ]
          },
          "metadata": {}
        },
        {
          "output_type": "display_data",
          "data": {
            "application/javascript": [
              "download(\"download_e51b26fe-e0bf-4a78-8378-6710b036a4bd\", \"Alphabet_Soup_model2.h5\", 2190896)"
            ],
            "text/plain": [
              "<IPython.core.display.Javascript object>"
            ]
          },
          "metadata": {}
        }
      ]
    },
    {
      "cell_type": "markdown",
      "metadata": {
        "id": "Q3Qz-crSHTHM"
      },
      "source": [
        "# Model Evaluation 3"
      ]
    },
    {
      "cell_type": "code",
      "metadata": {
        "id": "yQ2MHXVTDb2a",
        "colab": {
          "base_uri": "https://localhost:8080/"
        },
        "outputId": "0c75c6b6-ba6f-4b0d-f3d2-0eb44bdf1a10"
      },
      "source": [
        "# Define the model - deep neural net, i.e., the number of input features and hidden nodes for each layer.\n",
        "number_input_features = len( X_train_scaled[0])\n",
        "hidden_nodes_layer1=3\n",
        "hidden_nodes_layer2=15\n",
        "hidden_nodes_layer3=3\n",
        "\n",
        "nn_model = tf.keras.models.Sequential()\n",
        "\n",
        "# First hidden layer\n",
        "nn_model.add(tf.keras.layers.Dense(units=hidden_nodes_layer1, input_dim=number_input_features, activation='relu'))\n",
        "\n",
        "# Second hidden layer\n",
        "nn_model.add(tf.keras.layers.Dense(units=hidden_nodes_layer2, activation='relu'))\n",
        "\n",
        "# Third hidden layer\n",
        "nn_model.add(tf.keras.layers.Dense(units=hidden_nodes_layer3, activation='relu'))\n",
        "\n",
        "# Output layer\n",
        "nn_model.add(tf.keras.layers.Dense(units=1, activation='sigmoid'))\n",
        "\n",
        "# Check the structure of the model\n",
        "nn_model.summary()"
      ],
      "execution_count": 41,
      "outputs": [
        {
          "output_type": "stream",
          "name": "stdout",
          "text": [
            "Model: \"sequential_2\"\n",
            "_________________________________________________________________\n",
            "Layer (type)                 Output Shape              Param #   \n",
            "=================================================================\n",
            "dense_6 (Dense)              (None, 3)                 132       \n",
            "_________________________________________________________________\n",
            "dense_7 (Dense)              (None, 15)                60        \n",
            "_________________________________________________________________\n",
            "dense_8 (Dense)              (None, 3)                 48        \n",
            "_________________________________________________________________\n",
            "dense_9 (Dense)              (None, 1)                 4         \n",
            "=================================================================\n",
            "Total params: 244\n",
            "Trainable params: 244\n",
            "Non-trainable params: 0\n",
            "_________________________________________________________________\n"
          ]
        }
      ]
    },
    {
      "cell_type": "code",
      "metadata": {
        "id": "3dhAy5ZRHZ-A"
      },
      "source": [
        "# Compile the model\n",
        "nn_model.compile(loss = 'binary_crossentropy', optimizer = 'adam', metrics=['accuracy', tf.keras.metrics.Recall()])"
      ],
      "execution_count": 42,
      "outputs": []
    },
    {
      "cell_type": "code",
      "metadata": {
        "id": "vwok5whqHtaI",
        "colab": {
          "base_uri": "https://localhost:8080/"
        },
        "outputId": "07797e24-f110-4042-ffe0-c08077a74a96"
      },
      "source": [
        "fit_model = nn_model.fit( X_train_scaled,y_train,validation_split=0.15,epochs=100)"
      ],
      "execution_count": 43,
      "outputs": [
        {
          "output_type": "stream",
          "name": "stdout",
          "text": [
            "Epoch 1/100\n",
            "684/684 [==============================] - 2s 2ms/step - loss: 0.6520 - accuracy: 0.6438 - recall_2: 0.6784 - val_loss: 0.5891 - val_accuracy: 0.7023 - val_recall_2: 0.7954\n",
            "Epoch 2/100\n",
            "684/684 [==============================] - 1s 2ms/step - loss: 0.5856 - accuracy: 0.7074 - recall_2: 0.7930 - val_loss: 0.5619 - val_accuracy: 0.7315 - val_recall_2: 0.7949\n",
            "Epoch 3/100\n",
            "684/684 [==============================] - 1s 2ms/step - loss: 0.5726 - accuracy: 0.7140 - recall_2: 0.7963 - val_loss: 0.5571 - val_accuracy: 0.7336 - val_recall_2: 0.7899\n",
            "Epoch 4/100\n",
            "684/684 [==============================] - 1s 2ms/step - loss: 0.5683 - accuracy: 0.7167 - recall_2: 0.7975 - val_loss: 0.5548 - val_accuracy: 0.7336 - val_recall_2: 0.7904\n",
            "Epoch 5/100\n",
            "684/684 [==============================] - 1s 2ms/step - loss: 0.5659 - accuracy: 0.7170 - recall_2: 0.7980 - val_loss: 0.5553 - val_accuracy: 0.7308 - val_recall_2: 0.7830\n",
            "Epoch 6/100\n",
            "684/684 [==============================] - 1s 2ms/step - loss: 0.5651 - accuracy: 0.7179 - recall_2: 0.7991 - val_loss: 0.5551 - val_accuracy: 0.7326 - val_recall_2: 0.7880\n",
            "Epoch 7/100\n",
            "684/684 [==============================] - 1s 2ms/step - loss: 0.5641 - accuracy: 0.7185 - recall_2: 0.8015 - val_loss: 0.5552 - val_accuracy: 0.7305 - val_recall_2: 0.7860\n",
            "Epoch 8/100\n",
            "684/684 [==============================] - 1s 2ms/step - loss: 0.5632 - accuracy: 0.7197 - recall_2: 0.8038 - val_loss: 0.5547 - val_accuracy: 0.7305 - val_recall_2: 0.7885\n",
            "Epoch 9/100\n",
            "684/684 [==============================] - 1s 2ms/step - loss: 0.5631 - accuracy: 0.7193 - recall_2: 0.8038 - val_loss: 0.5534 - val_accuracy: 0.7323 - val_recall_2: 0.7889\n",
            "Epoch 10/100\n",
            "684/684 [==============================] - 1s 2ms/step - loss: 0.5624 - accuracy: 0.7204 - recall_2: 0.8057 - val_loss: 0.5534 - val_accuracy: 0.7341 - val_recall_2: 0.7924\n",
            "Epoch 11/100\n",
            "684/684 [==============================] - 1s 2ms/step - loss: 0.5621 - accuracy: 0.7198 - recall_2: 0.8032 - val_loss: 0.5531 - val_accuracy: 0.7346 - val_recall_2: 0.7959\n",
            "Epoch 12/100\n",
            "684/684 [==============================] - 1s 2ms/step - loss: 0.5620 - accuracy: 0.7202 - recall_2: 0.8076 - val_loss: 0.5527 - val_accuracy: 0.7331 - val_recall_2: 0.7939\n",
            "Epoch 13/100\n",
            "684/684 [==============================] - 1s 2ms/step - loss: 0.5612 - accuracy: 0.7205 - recall_2: 0.8053 - val_loss: 0.5532 - val_accuracy: 0.7331 - val_recall_2: 0.7929\n",
            "Epoch 14/100\n",
            "684/684 [==============================] - 1s 2ms/step - loss: 0.5610 - accuracy: 0.7204 - recall_2: 0.8066 - val_loss: 0.5523 - val_accuracy: 0.7328 - val_recall_2: 0.7825\n",
            "Epoch 15/100\n",
            "684/684 [==============================] - 1s 2ms/step - loss: 0.5610 - accuracy: 0.7201 - recall_2: 0.8048 - val_loss: 0.5506 - val_accuracy: 0.7339 - val_recall_2: 0.7840\n",
            "Epoch 16/100\n",
            "684/684 [==============================] - 1s 2ms/step - loss: 0.5606 - accuracy: 0.7204 - recall_2: 0.8056 - val_loss: 0.5511 - val_accuracy: 0.7341 - val_recall_2: 0.7860\n",
            "Epoch 17/100\n",
            "684/684 [==============================] - 1s 2ms/step - loss: 0.5603 - accuracy: 0.7202 - recall_2: 0.8028 - val_loss: 0.5529 - val_accuracy: 0.7339 - val_recall_2: 0.7964\n",
            "Epoch 18/100\n",
            "684/684 [==============================] - 1s 2ms/step - loss: 0.5601 - accuracy: 0.7207 - recall_2: 0.8076 - val_loss: 0.5523 - val_accuracy: 0.7344 - val_recall_2: 0.7855\n",
            "Epoch 19/100\n",
            "684/684 [==============================] - 1s 2ms/step - loss: 0.5597 - accuracy: 0.7206 - recall_2: 0.8043 - val_loss: 0.5511 - val_accuracy: 0.7321 - val_recall_2: 0.7875\n",
            "Epoch 20/100\n",
            "684/684 [==============================] - 1s 2ms/step - loss: 0.5598 - accuracy: 0.7215 - recall_2: 0.8039 - val_loss: 0.5541 - val_accuracy: 0.7313 - val_recall_2: 0.8118\n",
            "Epoch 21/100\n",
            "684/684 [==============================] - 1s 2ms/step - loss: 0.5595 - accuracy: 0.7214 - recall_2: 0.8093 - val_loss: 0.5521 - val_accuracy: 0.7276 - val_recall_2: 0.8104\n",
            "Epoch 22/100\n",
            "684/684 [==============================] - 1s 2ms/step - loss: 0.5593 - accuracy: 0.7203 - recall_2: 0.8033 - val_loss: 0.5510 - val_accuracy: 0.7334 - val_recall_2: 0.7959\n",
            "Epoch 23/100\n",
            "684/684 [==============================] - 1s 2ms/step - loss: 0.5595 - accuracy: 0.7209 - recall_2: 0.8063 - val_loss: 0.5519 - val_accuracy: 0.7334 - val_recall_2: 0.7865\n",
            "Epoch 24/100\n",
            "684/684 [==============================] - 1s 2ms/step - loss: 0.5591 - accuracy: 0.7204 - recall_2: 0.8062 - val_loss: 0.5519 - val_accuracy: 0.7334 - val_recall_2: 0.7889\n",
            "Epoch 25/100\n",
            "684/684 [==============================] - 1s 2ms/step - loss: 0.5589 - accuracy: 0.7206 - recall_2: 0.8033 - val_loss: 0.5525 - val_accuracy: 0.7331 - val_recall_2: 0.7899\n",
            "Epoch 26/100\n",
            "684/684 [==============================] - 1s 2ms/step - loss: 0.5589 - accuracy: 0.7206 - recall_2: 0.8070 - val_loss: 0.5519 - val_accuracy: 0.7323 - val_recall_2: 0.7865\n",
            "Epoch 27/100\n",
            "684/684 [==============================] - 1s 2ms/step - loss: 0.5588 - accuracy: 0.7208 - recall_2: 0.8048 - val_loss: 0.5520 - val_accuracy: 0.7318 - val_recall_2: 0.7875\n",
            "Epoch 28/100\n",
            "684/684 [==============================] - 1s 2ms/step - loss: 0.5585 - accuracy: 0.7207 - recall_2: 0.8055 - val_loss: 0.5551 - val_accuracy: 0.7313 - val_recall_2: 0.7894\n",
            "Epoch 29/100\n",
            "684/684 [==============================] - 1s 2ms/step - loss: 0.5584 - accuracy: 0.7213 - recall_2: 0.8072 - val_loss: 0.5531 - val_accuracy: 0.7310 - val_recall_2: 0.8104\n",
            "Epoch 30/100\n",
            "684/684 [==============================] - 1s 2ms/step - loss: 0.5586 - accuracy: 0.7208 - recall_2: 0.8057 - val_loss: 0.5508 - val_accuracy: 0.7331 - val_recall_2: 0.7914\n",
            "Epoch 31/100\n",
            "684/684 [==============================] - 1s 2ms/step - loss: 0.5586 - accuracy: 0.7212 - recall_2: 0.8060 - val_loss: 0.5506 - val_accuracy: 0.7346 - val_recall_2: 0.7909\n",
            "Epoch 32/100\n",
            "684/684 [==============================] - 1s 2ms/step - loss: 0.5588 - accuracy: 0.7208 - recall_2: 0.8054 - val_loss: 0.5513 - val_accuracy: 0.7334 - val_recall_2: 0.7894\n",
            "Epoch 33/100\n",
            "684/684 [==============================] - 1s 2ms/step - loss: 0.5584 - accuracy: 0.7212 - recall_2: 0.8084 - val_loss: 0.5526 - val_accuracy: 0.7313 - val_recall_2: 0.8094\n",
            "Epoch 34/100\n",
            "684/684 [==============================] - 1s 2ms/step - loss: 0.5586 - accuracy: 0.7205 - recall_2: 0.8061 - val_loss: 0.5539 - val_accuracy: 0.7308 - val_recall_2: 0.8034\n",
            "Epoch 35/100\n",
            "684/684 [==============================] - 1s 2ms/step - loss: 0.5586 - accuracy: 0.7206 - recall_2: 0.8064 - val_loss: 0.5520 - val_accuracy: 0.7331 - val_recall_2: 0.7899\n",
            "Epoch 36/100\n",
            "684/684 [==============================] - 1s 2ms/step - loss: 0.5583 - accuracy: 0.7207 - recall_2: 0.8068 - val_loss: 0.5519 - val_accuracy: 0.7315 - val_recall_2: 0.8029\n",
            "Epoch 37/100\n",
            "684/684 [==============================] - 1s 2ms/step - loss: 0.5584 - accuracy: 0.7209 - recall_2: 0.8107 - val_loss: 0.5541 - val_accuracy: 0.7334 - val_recall_2: 0.7875\n",
            "Epoch 38/100\n",
            "684/684 [==============================] - 1s 2ms/step - loss: 0.5581 - accuracy: 0.7214 - recall_2: 0.8092 - val_loss: 0.5521 - val_accuracy: 0.7336 - val_recall_2: 0.7870\n",
            "Epoch 39/100\n",
            "684/684 [==============================] - 1s 2ms/step - loss: 0.5581 - accuracy: 0.7207 - recall_2: 0.8090 - val_loss: 0.5531 - val_accuracy: 0.7334 - val_recall_2: 0.7870\n",
            "Epoch 40/100\n",
            "684/684 [==============================] - 1s 2ms/step - loss: 0.5585 - accuracy: 0.7210 - recall_2: 0.8080 - val_loss: 0.5525 - val_accuracy: 0.7334 - val_recall_2: 0.7904\n",
            "Epoch 41/100\n",
            "684/684 [==============================] - 1s 2ms/step - loss: 0.5581 - accuracy: 0.7217 - recall_2: 0.8077 - val_loss: 0.5545 - val_accuracy: 0.7289 - val_recall_2: 0.8178\n",
            "Epoch 42/100\n",
            "684/684 [==============================] - 1s 2ms/step - loss: 0.5582 - accuracy: 0.7208 - recall_2: 0.8110 - val_loss: 0.5521 - val_accuracy: 0.7328 - val_recall_2: 0.7904\n",
            "Epoch 43/100\n",
            "684/684 [==============================] - 1s 2ms/step - loss: 0.5579 - accuracy: 0.7211 - recall_2: 0.8117 - val_loss: 0.5530 - val_accuracy: 0.7295 - val_recall_2: 0.8148\n",
            "Epoch 44/100\n",
            "684/684 [==============================] - 1s 2ms/step - loss: 0.5582 - accuracy: 0.7218 - recall_2: 0.8105 - val_loss: 0.5518 - val_accuracy: 0.7331 - val_recall_2: 0.7904\n",
            "Epoch 45/100\n",
            "684/684 [==============================] - 1s 2ms/step - loss: 0.5580 - accuracy: 0.7211 - recall_2: 0.8040 - val_loss: 0.5526 - val_accuracy: 0.7321 - val_recall_2: 0.7919\n",
            "Epoch 46/100\n",
            "684/684 [==============================] - 1s 2ms/step - loss: 0.5580 - accuracy: 0.7205 - recall_2: 0.8089 - val_loss: 0.5519 - val_accuracy: 0.7321 - val_recall_2: 0.7880\n",
            "Epoch 47/100\n",
            "684/684 [==============================] - 1s 2ms/step - loss: 0.5579 - accuracy: 0.7211 - recall_2: 0.8054 - val_loss: 0.5520 - val_accuracy: 0.7328 - val_recall_2: 0.7889\n",
            "Epoch 48/100\n",
            "684/684 [==============================] - 1s 2ms/step - loss: 0.5579 - accuracy: 0.7210 - recall_2: 0.8046 - val_loss: 0.5517 - val_accuracy: 0.7334 - val_recall_2: 0.7904\n",
            "Epoch 49/100\n",
            "684/684 [==============================] - 1s 2ms/step - loss: 0.5579 - accuracy: 0.7212 - recall_2: 0.8111 - val_loss: 0.5531 - val_accuracy: 0.7334 - val_recall_2: 0.7904\n",
            "Epoch 50/100\n",
            "684/684 [==============================] - 1s 2ms/step - loss: 0.5575 - accuracy: 0.7221 - recall_2: 0.8129 - val_loss: 0.5526 - val_accuracy: 0.7336 - val_recall_2: 0.7894\n",
            "Epoch 51/100\n",
            "684/684 [==============================] - 1s 2ms/step - loss: 0.5576 - accuracy: 0.7211 - recall_2: 0.8087 - val_loss: 0.5516 - val_accuracy: 0.7326 - val_recall_2: 0.7894\n",
            "Epoch 52/100\n",
            "684/684 [==============================] - 1s 2ms/step - loss: 0.5575 - accuracy: 0.7219 - recall_2: 0.8104 - val_loss: 0.5519 - val_accuracy: 0.7334 - val_recall_2: 0.7845\n",
            "Epoch 53/100\n",
            "684/684 [==============================] - 1s 2ms/step - loss: 0.5574 - accuracy: 0.7212 - recall_2: 0.8054 - val_loss: 0.5515 - val_accuracy: 0.7323 - val_recall_2: 0.7899\n",
            "Epoch 54/100\n",
            "684/684 [==============================] - 1s 2ms/step - loss: 0.5570 - accuracy: 0.7207 - recall_2: 0.8095 - val_loss: 0.5507 - val_accuracy: 0.7331 - val_recall_2: 0.7820\n",
            "Epoch 55/100\n",
            "684/684 [==============================] - 1s 2ms/step - loss: 0.5574 - accuracy: 0.7207 - recall_2: 0.8065 - val_loss: 0.5522 - val_accuracy: 0.7279 - val_recall_2: 0.8178\n",
            "Epoch 56/100\n",
            "684/684 [==============================] - 1s 2ms/step - loss: 0.5568 - accuracy: 0.7212 - recall_2: 0.8149 - val_loss: 0.5554 - val_accuracy: 0.7284 - val_recall_2: 0.8113\n",
            "Epoch 57/100\n",
            "684/684 [==============================] - 1s 2ms/step - loss: 0.5571 - accuracy: 0.7220 - recall_2: 0.8075 - val_loss: 0.5518 - val_accuracy: 0.7334 - val_recall_2: 0.7904\n",
            "Epoch 58/100\n",
            "684/684 [==============================] - 1s 2ms/step - loss: 0.5571 - accuracy: 0.7211 - recall_2: 0.8111 - val_loss: 0.5524 - val_accuracy: 0.7331 - val_recall_2: 0.7855\n",
            "Epoch 59/100\n",
            "684/684 [==============================] - 1s 2ms/step - loss: 0.5570 - accuracy: 0.7208 - recall_2: 0.8139 - val_loss: 0.5504 - val_accuracy: 0.7334 - val_recall_2: 0.7919\n",
            "Epoch 60/100\n",
            "684/684 [==============================] - 1s 2ms/step - loss: 0.5567 - accuracy: 0.7206 - recall_2: 0.8117 - val_loss: 0.5506 - val_accuracy: 0.7326 - val_recall_2: 0.7934\n",
            "Epoch 61/100\n",
            "684/684 [==============================] - 1s 2ms/step - loss: 0.5564 - accuracy: 0.7211 - recall_2: 0.8079 - val_loss: 0.5509 - val_accuracy: 0.7331 - val_recall_2: 0.7919\n",
            "Epoch 62/100\n",
            "684/684 [==============================] - 1s 2ms/step - loss: 0.5561 - accuracy: 0.7209 - recall_2: 0.8103 - val_loss: 0.5522 - val_accuracy: 0.7282 - val_recall_2: 0.8143\n",
            "Epoch 63/100\n",
            "684/684 [==============================] - 1s 2ms/step - loss: 0.5561 - accuracy: 0.7211 - recall_2: 0.8099 - val_loss: 0.5526 - val_accuracy: 0.7339 - val_recall_2: 0.7944\n",
            "Epoch 64/100\n",
            "684/684 [==============================] - 1s 2ms/step - loss: 0.5560 - accuracy: 0.7215 - recall_2: 0.8101 - val_loss: 0.5513 - val_accuracy: 0.7339 - val_recall_2: 0.7929\n",
            "Epoch 65/100\n",
            "684/684 [==============================] - 1s 2ms/step - loss: 0.5563 - accuracy: 0.7211 - recall_2: 0.8119 - val_loss: 0.5520 - val_accuracy: 0.7328 - val_recall_2: 0.7959\n",
            "Epoch 66/100\n",
            "684/684 [==============================] - 1s 2ms/step - loss: 0.5558 - accuracy: 0.7210 - recall_2: 0.8198 - val_loss: 0.5508 - val_accuracy: 0.7328 - val_recall_2: 0.7989\n",
            "Epoch 67/100\n",
            "684/684 [==============================] - 1s 2ms/step - loss: 0.5558 - accuracy: 0.7223 - recall_2: 0.8095 - val_loss: 0.5512 - val_accuracy: 0.7276 - val_recall_2: 0.8138\n",
            "Epoch 68/100\n",
            "684/684 [==============================] - 1s 2ms/step - loss: 0.5559 - accuracy: 0.7211 - recall_2: 0.8104 - val_loss: 0.5527 - val_accuracy: 0.7245 - val_recall_2: 0.8342\n",
            "Epoch 69/100\n",
            "684/684 [==============================] - 1s 2ms/step - loss: 0.5558 - accuracy: 0.7215 - recall_2: 0.8136 - val_loss: 0.5525 - val_accuracy: 0.7341 - val_recall_2: 0.7919\n",
            "Epoch 70/100\n",
            "684/684 [==============================] - 1s 2ms/step - loss: 0.5555 - accuracy: 0.7222 - recall_2: 0.8116 - val_loss: 0.5516 - val_accuracy: 0.7315 - val_recall_2: 0.7924\n",
            "Epoch 71/100\n",
            "684/684 [==============================] - 1s 2ms/step - loss: 0.5557 - accuracy: 0.7217 - recall_2: 0.8087 - val_loss: 0.5516 - val_accuracy: 0.7334 - val_recall_2: 0.7899\n",
            "Epoch 72/100\n",
            "684/684 [==============================] - 1s 2ms/step - loss: 0.5558 - accuracy: 0.7217 - recall_2: 0.8165 - val_loss: 0.5515 - val_accuracy: 0.7282 - val_recall_2: 0.8168\n",
            "Epoch 73/100\n",
            "684/684 [==============================] - 2s 2ms/step - loss: 0.5551 - accuracy: 0.7205 - recall_2: 0.8162 - val_loss: 0.5521 - val_accuracy: 0.7321 - val_recall_2: 0.7894\n",
            "Epoch 74/100\n",
            "684/684 [==============================] - 1s 2ms/step - loss: 0.5558 - accuracy: 0.7210 - recall_2: 0.8116 - val_loss: 0.5515 - val_accuracy: 0.7321 - val_recall_2: 0.7904\n",
            "Epoch 75/100\n",
            "684/684 [==============================] - 1s 2ms/step - loss: 0.5555 - accuracy: 0.7222 - recall_2: 0.8076 - val_loss: 0.5514 - val_accuracy: 0.7274 - val_recall_2: 0.8148\n",
            "Epoch 76/100\n",
            "684/684 [==============================] - 1s 2ms/step - loss: 0.5555 - accuracy: 0.7213 - recall_2: 0.8120 - val_loss: 0.5526 - val_accuracy: 0.7326 - val_recall_2: 0.7894\n",
            "Epoch 77/100\n",
            "684/684 [==============================] - 1s 2ms/step - loss: 0.5555 - accuracy: 0.7206 - recall_2: 0.8110 - val_loss: 0.5525 - val_accuracy: 0.7243 - val_recall_2: 0.8347\n",
            "Epoch 78/100\n",
            "684/684 [==============================] - 1s 2ms/step - loss: 0.5556 - accuracy: 0.7220 - recall_2: 0.8130 - val_loss: 0.5514 - val_accuracy: 0.7310 - val_recall_2: 0.8059\n",
            "Epoch 79/100\n",
            "684/684 [==============================] - 1s 2ms/step - loss: 0.5555 - accuracy: 0.7213 - recall_2: 0.8088 - val_loss: 0.5520 - val_accuracy: 0.7331 - val_recall_2: 0.7889\n",
            "Epoch 80/100\n",
            "684/684 [==============================] - 1s 2ms/step - loss: 0.5556 - accuracy: 0.7206 - recall_2: 0.8095 - val_loss: 0.5520 - val_accuracy: 0.7328 - val_recall_2: 0.7954\n",
            "Epoch 81/100\n",
            "684/684 [==============================] - 1s 2ms/step - loss: 0.5553 - accuracy: 0.7214 - recall_2: 0.8121 - val_loss: 0.5513 - val_accuracy: 0.7328 - val_recall_2: 0.7909\n",
            "Epoch 82/100\n",
            "684/684 [==============================] - 1s 2ms/step - loss: 0.5551 - accuracy: 0.7215 - recall_2: 0.8141 - val_loss: 0.5549 - val_accuracy: 0.7318 - val_recall_2: 0.7855\n",
            "Epoch 83/100\n",
            "684/684 [==============================] - 1s 2ms/step - loss: 0.5553 - accuracy: 0.7210 - recall_2: 0.8110 - val_loss: 0.5515 - val_accuracy: 0.7227 - val_recall_2: 0.8387\n",
            "Epoch 84/100\n",
            "684/684 [==============================] - 1s 2ms/step - loss: 0.5553 - accuracy: 0.7206 - recall_2: 0.8128 - val_loss: 0.5539 - val_accuracy: 0.7295 - val_recall_2: 0.7934\n",
            "Epoch 85/100\n",
            "684/684 [==============================] - 1s 2ms/step - loss: 0.5554 - accuracy: 0.7207 - recall_2: 0.8174 - val_loss: 0.5523 - val_accuracy: 0.7328 - val_recall_2: 0.7914\n",
            "Epoch 86/100\n",
            "684/684 [==============================] - 1s 2ms/step - loss: 0.5554 - accuracy: 0.7212 - recall_2: 0.8122 - val_loss: 0.5516 - val_accuracy: 0.7321 - val_recall_2: 0.7865\n",
            "Epoch 87/100\n",
            "684/684 [==============================] - 1s 2ms/step - loss: 0.5554 - accuracy: 0.7221 - recall_2: 0.8113 - val_loss: 0.5523 - val_accuracy: 0.7279 - val_recall_2: 0.8064\n",
            "Epoch 88/100\n",
            "684/684 [==============================] - 1s 2ms/step - loss: 0.5556 - accuracy: 0.7212 - recall_2: 0.8085 - val_loss: 0.5510 - val_accuracy: 0.7321 - val_recall_2: 0.7909\n",
            "Epoch 89/100\n",
            "684/684 [==============================] - 1s 2ms/step - loss: 0.5552 - accuracy: 0.7217 - recall_2: 0.8079 - val_loss: 0.5522 - val_accuracy: 0.7302 - val_recall_2: 0.7959\n",
            "Epoch 90/100\n",
            "684/684 [==============================] - 1s 2ms/step - loss: 0.5554 - accuracy: 0.7202 - recall_2: 0.8106 - val_loss: 0.5518 - val_accuracy: 0.7323 - val_recall_2: 0.7939\n",
            "Epoch 91/100\n",
            "684/684 [==============================] - 2s 2ms/step - loss: 0.5556 - accuracy: 0.7206 - recall_2: 0.8109 - val_loss: 0.5517 - val_accuracy: 0.7328 - val_recall_2: 0.7860\n",
            "Epoch 92/100\n",
            "684/684 [==============================] - 2s 2ms/step - loss: 0.5554 - accuracy: 0.7208 - recall_2: 0.8117 - val_loss: 0.5515 - val_accuracy: 0.7326 - val_recall_2: 0.7820\n",
            "Epoch 93/100\n",
            "684/684 [==============================] - 2s 2ms/step - loss: 0.5553 - accuracy: 0.7210 - recall_2: 0.8089 - val_loss: 0.5521 - val_accuracy: 0.7323 - val_recall_2: 0.7954\n",
            "Epoch 94/100\n",
            "684/684 [==============================] - 2s 2ms/step - loss: 0.5555 - accuracy: 0.7210 - recall_2: 0.8178 - val_loss: 0.5533 - val_accuracy: 0.7318 - val_recall_2: 0.7984\n",
            "Epoch 95/100\n",
            "684/684 [==============================] - 2s 2ms/step - loss: 0.5557 - accuracy: 0.7226 - recall_2: 0.8111 - val_loss: 0.5519 - val_accuracy: 0.7305 - val_recall_2: 0.7934\n",
            "Epoch 96/100\n",
            "684/684 [==============================] - 1s 2ms/step - loss: 0.5550 - accuracy: 0.7207 - recall_2: 0.8087 - val_loss: 0.5523 - val_accuracy: 0.7302 - val_recall_2: 0.7964\n",
            "Epoch 97/100\n",
            "684/684 [==============================] - 1s 2ms/step - loss: 0.5549 - accuracy: 0.7215 - recall_2: 0.8138 - val_loss: 0.5529 - val_accuracy: 0.7323 - val_recall_2: 0.7875\n",
            "Epoch 98/100\n",
            "684/684 [==============================] - 2s 2ms/step - loss: 0.5554 - accuracy: 0.7208 - recall_2: 0.8126 - val_loss: 0.5508 - val_accuracy: 0.7328 - val_recall_2: 0.7919\n",
            "Epoch 99/100\n",
            "684/684 [==============================] - 1s 2ms/step - loss: 0.5551 - accuracy: 0.7220 - recall_2: 0.8081 - val_loss: 0.5518 - val_accuracy: 0.7300 - val_recall_2: 0.7914\n",
            "Epoch 100/100\n",
            "684/684 [==============================] - 1s 2ms/step - loss: 0.5549 - accuracy: 0.7212 - recall_2: 0.8145 - val_loss: 0.5519 - val_accuracy: 0.7328 - val_recall_2: 0.7924\n"
          ]
        }
      ]
    },
    {
      "cell_type": "code",
      "metadata": {
        "id": "uAeEUdrHHgtT",
        "colab": {
          "base_uri": "https://localhost:8080/"
        },
        "outputId": "3bee0385-33b7-4de3-95b2-6215e2597ea3"
      },
      "source": [
        "# Evaluate the model using the test data\n",
        "model_loss, model_accuracy, model_Recall= nn_model.evaluate(X_test_scaled,y_test,verbose=2)\n",
        "print(f\"Loss: {model_loss}, Accuracy: {model_accuracy}\")"
      ],
      "execution_count": 44,
      "outputs": [
        {
          "output_type": "stream",
          "name": "stdout",
          "text": [
            "268/268 - 0s - loss: 0.5608 - accuracy: 0.7220 - recall_2: 0.8055\n",
            "Loss: 0.5608453154563904, Accuracy: 0.721982479095459\n"
          ]
        }
      ]
    },
    {
      "cell_type": "code",
      "metadata": {
        "id": "xRzY-NApz_YR",
        "colab": {
          "base_uri": "https://localhost:8080/",
          "height": 376
        },
        "outputId": "0d1fc572-f110-446c-9e2f-d209e09195b5"
      },
      "source": [
        "# Model Accuracy Graph\n",
        "plt.style.use('seaborn')\n",
        "plt.title('Accuracy')\n",
        "plt.plot(fit_model.history['accuracy'], 'tomato', label='Training Accuracy')\n",
        "plt.plot(fit_model.history['val_accuracy'], 'turquoise',label='Validation Accuracy')\n",
        "plt.xlabel('Number of Epochs')\n",
        "plt.ylabel('Loss')\n",
        "plt.legend()\n",
        "plt.show()"
      ],
      "execution_count": 45,
      "outputs": [
        {
          "output_type": "display_data",
          "data": {
            "image/png": "[encoded data removed]",
            "text/plain": [
              "<Figure size 576x396 with 1 Axes>"
            ]
          },
          "metadata": {}
        }
      ]
    },
    {
      "cell_type": "code",
      "metadata": {
        "id": "_CzZU5Ju32Fq",
        "colab": {
          "base_uri": "https://localhost:8080/",
          "height": 376
        },
        "outputId": "5987d4da-db42-46f4-8974-709de46ed8ae"
      },
      "source": [
        "# Model Loss Graph\n",
        "plt.style.use('seaborn')\n",
        "plt.title('Loss')\n",
        "plt.plot(fit_model.history['loss'], 'orchid', label='Training Loss')\n",
        "plt.plot(fit_model.history['val_loss'],'royalblue', label='Validation Loss')\n",
        "plt.xlabel('Number of Epochs')\n",
        "plt.ylabel('Loss')\n",
        "plt.legend()\n",
        "plt.show()"
      ],
      "execution_count": 46,
      "outputs": [
        {
          "output_type": "display_data",
          "data": {
            "image/png": "[encoded data removed]",
            "text/plain": [
              "<Figure size 576x396 with 1 Axes>"
            ]
          },
          "metadata": {}
        }
      ]
    },
    {
      "cell_type": "code",
      "metadata": {
        "id": "vfXTiRXfHvPf",
        "colab": {
          "base_uri": "https://localhost:8080/",
          "height": 17
        },
        "outputId": "526c6345-9e70-4ddf-d6e3-d21e459467ec"
      },
      "source": [
        "# Export our model to HDF5 file\n",
        "from google.colab import files\n",
        "\n",
        "nn_model.save('/content/Alphabet_Soup_model3.h5')\n",
        "files.download('/content/Alphabet_Soup_model3.h5')"
      ],
      "execution_count": 47,
      "outputs": [
        {
          "output_type": "display_data",
          "data": {
            "application/javascript": [
              "\n",
              "    async function download(id, filename, size) {\n",
              "      if (!google.colab.kernel.accessAllowed) {\n",
              "        return;\n",
              "      }\n",
              "      const div = document.createElement('div');\n",
              "      const label = document.createElement('label');\n",
              "      label.textContent = `Downloading \"${filename}\": `;\n",
              "      div.appendChild(label);\n",
              "      const progress = document.createElement('progress');\n",
              "      progress.max = size;\n",
              "      div.appendChild(progress);\n",
              "      document.body.appendChild(div);\n",
              "\n",
              "      const buffers = [];\n",
              "      let downloaded = 0;\n",
              "\n",
              "      const channel = await google.colab.kernel.comms.open(id);\n",
              "      // Send a message to notify the kernel that we're ready.\n",
              "      channel.send({})\n",
              "\n",
              "      for await (const message of channel.messages) {\n",
              "        // Send a message to notify the kernel that we're ready.\n",
              "        channel.send({})\n",
              "        if (message.buffers) {\n",
              "          for (const buffer of message.buffers) {\n",
              "            buffers.push(buffer);\n",
              "            downloaded += buffer.byteLength;\n",
              "            progress.value = downloaded;\n",
              "          }\n",
              "        }\n",
              "      }\n",
              "      const blob = new Blob(buffers, {type: 'application/binary'});\n",
              "      const a = document.createElement('a');\n",
              "      a.href = window.URL.createObjectURL(blob);\n",
              "      a.download = filename;\n",
              "      div.appendChild(a);\n",
              "      a.click();\n",
              "      div.remove();\n",
              "    }\n",
              "  "
            ],
            "text/plain": [
              "<IPython.core.display.Javascript object>"
            ]
          },
          "metadata": {}
        },
        {
          "output_type": "display_data",
          "data": {
            "application/javascript": [
              "download(\"download_a6aa1b5d-65e3-40d6-ac8d-426c1ee64ed8\", \"Alphabet_Soup_model3.h5\", 41624)"
            ],
            "text/plain": [
              "<IPython.core.display.Javascript object>"
            ]
          },
          "metadata": {}
        }
      ]
    }
  ]
}